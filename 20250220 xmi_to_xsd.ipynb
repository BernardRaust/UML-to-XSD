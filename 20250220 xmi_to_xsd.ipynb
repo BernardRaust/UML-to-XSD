{
 "cells": [
  {
   "cell_type": "markdown",
   "id": "f50f1bb1-40b5-4bb9-9528-cffe5fb01a5b",
   "metadata": {},
   "source": [
    "*This notebook contains code and explanation to create S5000F XSD from Enterprise Architect XMI download.*"
   ]
  },
  {
   "cell_type": "markdown",
   "id": "0d2ca226-06f4-479d-bf19-45dd76a228fc",
   "metadata": {},
   "source": [
    "# PREPARATION"
   ]
  },
  {
   "cell_type": "markdown",
   "id": "e0725254-12c9-45b0-bd10-f671ed60b72f",
   "metadata": {},
   "source": [
    "**01 – Notebooks links**"
   ]
  },
  {
   "cell_type": "markdown",
   "id": "6f285345-c4b3-440d-842e-97026408f4e2",
   "metadata": {},
   "source": [
    "<table align=\"left\">\n",
    "  <td>\n",
    "    <a href=\"https://colab.research.google.com/github/ageron/handson-ml3/blob/main/02_end_to_end_machine_learning_project.ipynb\" target=\"_parent\"><img src=\"https://colab.research.google.com/assets/colab-badge.svg\" alt=\"Open In Colab\"/></a>\n",
    "  </td>\n",
    "  <td>\n",
    "    <a target=\"_blank\" href=\"https://kaggle.com/kernels/welcome?src=https://github.com/ageron/handson-ml3/blob/main/02_end_to_end_machine_learning_project.ipynb\"><img src=\"https://kaggle.com/static/images/open-in-kaggle.svg\" /></a>\n",
    "  </td>\n",
    "</table>"
   ]
  },
  {
   "cell_type": "markdown",
   "id": "76f94999-3f2a-4944-91c0-d6f88c0fcbc0",
   "metadata": {},
   "source": [
    "**02 - Import libraries**"
   ]
  },
  {
   "cell_type": "code",
   "execution_count": 53,
   "id": "f74823b2-2f9c-4e03-9dcc-e71e93cb6f08",
   "metadata": {},
   "outputs": [],
   "source": [
    "import pandas as pd\n",
    "import numpy as np\n",
    "from lxml import etree\n",
    "from pathlib import Path"
   ]
  },
  {
   "cell_type": "markdown",
   "id": "f91ec4be-bc55-49b5-904e-45e7ac90ae72",
   "metadata": {
    "jp-MarkdownHeadingCollapsed": true
   },
   "source": [
    "**03 - Locate XMI and XSD files**"
   ]
  },
  {
   "cell_type": "code",
   "execution_count": null,
   "id": "f33a7054-b64f-4ca7-857a-3ddd6b61cdec",
   "metadata": {},
   "outputs": [],
   "source": [
    "# locate directories\n",
    "xmi = Path() / \"UML model\"            # directory containing XMI files downloaded from Entreprise Architect\n",
    "xsd = Path()/ \"S5000F_4-0\"            # directory containing S5000F XML Schema files\n",
    "res = Path() / \"Results\"              # directory containing generated XSD files\n",
    "# locate files\n",
    "cdm = xmi / \"SX002D_Data_model.xml\"\n",
    "s5f = xmi / \"S5000F_Data_model_75BR.xml\"\n",
    "isfDataset = xsd / \"s5000f_4-0_isfDataset.xsd\"\n",
    "validValues = xsd / \"s5000f_4-0_valid_values.xsd\"\n",
    "\n",
    "print(s5f)       # Check s5f relative filepath"
   ]
  },
  {
   "cell_type": "markdown",
   "id": "9e7b8544-fe24-41af-b2ae-ae233b61f9c9",
   "metadata": {},
   "source": [
    "**04 - Common functions**"
   ]
  },
  {
   "cell_type": "code",
   "execution_count": null,
   "id": "3e8026e4-4a9f-4e30-b25b-3f8ec0082ece",
   "metadata": {},
   "outputs": [],
   "source": [
    "def get_namespaces(xsd_path):\n",
    "    \"\"\"\n",
    "    Collect namespaces from an XSD file.\n",
    "    Args:      xsd_path (str):    Relative filepath of XML file to be processed.\n",
    "    Returns:   ns (dict):         A dictionary where keys are prefixes and values are namespace URIs.\n",
    "    \"\"\"\n",
    "    ns = {}\n",
    "    try:\n",
    "        tree = etree.parse(xsd_path)\n",
    "        root = tree.getroot()\n",
    "        ns = root.nsmap               \n",
    "    except etree.XMLSyntaxError as e:\n",
    "        print(f\"Error parsing XSD file: {e}\")\n",
    "    except FileNotFoundError:\n",
    "        print(f\"File not found: {xsd_path}\")\n",
    "    return ns"
   ]
  },
  {
   "cell_type": "markdown",
   "id": "9917d6b8-6600-467c-9f60-9f9201f35847",
   "metadata": {},
   "source": [
    "# XML Metadata Interchange (XMI)\n",
    "*UML data model is downloaded from Enterprise Architect using XML Metadata Interchange (XMI) version 2.1. This download is done from package:<ul><li><b>S-Series_SX002D_Data_model</b> (source identified as SX001G)<li><b>S_Series_S5000F</b> (source identified as S5000F)*"
   ]
  },
  {
   "cell_type": "markdown",
   "id": "9572f89e-31de-4fcd-ae89-a70bdf9e16bc",
   "metadata": {},
   "source": [
    "## Connectors\n",
    "Information about uml connector is located at xpath **/xmi:XMI/xmi:Extension/connectors/** in xmi files"
   ]
  },
  {
   "cell_type": "markdown",
   "id": "ed96e137-430b-4f37-80f1-cb415b5c514a",
   "metadata": {},
   "source": [
    "### Function xmi_connectors"
   ]
  },
  {
   "cell_type": "code",
   "execution_count": 5,
   "id": "abff1ca1-7681-4c5f-a45e-8a6f15f1c7bf",
   "metadata": {},
   "outputs": [],
   "source": [
    "def xmi_connectors(*files):\n",
    "    \"\"\"\n",
    "    Function which collects information about connectors from XMI files downloaded from Enterprise Architect:\n",
    "        conn_id        /xmi:XMI/xmi:Extension/connectors/connector/@xmi:idref\n",
    "        conn_type      /xmi:XMI/xmi:Extension/connectors/connector/properties/@ea_type\n",
    "        conn_direction /xmi:XMI/xmi:Extension/connectors/connector/properties/@direction\n",
    "        start_id       /xmi:XMI/xmi:Extension/connectors/connector/source/@xmi:idref\n",
    "        start_type     /xmi:XMI/xmi:Extension/connectors/connector/source/model/@type\n",
    "        start_name     /xmi:XMI/xmi:Extension/connectors/connector/source/model/@name\n",
    "        end_id         /xmi:XMI/xmi:Extension/connectors/connector/target/@xmi:idref\n",
    "        end_type       /xmi:XMI/xmi:Extension/connectors/connector/target/model/@type\n",
    "        end_name       /xmi:XMI/xmi:Extension/connectors/connector/target/model/@name      \n",
    "    Input:         list of XMI file to be analyzed\n",
    "    Output:        Dataframe df(conn_id, conn_type, conn_direction,\n",
    "                                start_id, start_type, start_name,\n",
    "                                end_id, end_type, end_name,\n",
    "                                source)\n",
    "\n",
    "                                /xmi:XMI/xmi:Extension/connectors/connector[1]/source/model/@type\n",
    "/xmi:XMI/xmi:Extension/connectors/connector[1]/source/model/@name\n",
    "    \"\"\"\n",
    "    if not files:\n",
    "        raise ValueError(\"At least one file must be provided.\")\n",
    "    \n",
    "    rows = []\n",
    "    for file in files:\n",
    "        source = Path(file.name).stem\n",
    "        ns = get_namespaces(file)  # Ensure get_namespaces is implemented correctly\n",
    "        xmi = '{' + ns['xmi'] + '}'\n",
    "\n",
    "        idref = xmi + 'idref'\n",
    "        type = xmi + 'type'\n",
    "\n",
    "        context = etree.iterparse(file, events=('end',), tag=('connector',))\n",
    "        \n",
    "        for event, elem in context:                               # Iterate over element closing tags\n",
    "            conn_id = elem.attrib.get(idref)\n",
    "            conn_name = elem.xpath('./properties',namespaces=ns)[0].get('ea_type')\n",
    "            conn_dir = elem.xpath('./properties',namespaces=ns)[0].get('direction')\n",
    "            start_id = elem.xpath('./source',namespaces=ns)[0].get(idref)\n",
    "            start_type = elem.xpath('./source/model',namespaces=ns)[0].get('type')\n",
    "            start_name = elem.xpath('./source/model',namespaces=ns)[0].get('name')\n",
    "            end_id = elem.xpath('./target',namespaces=ns)[0].get(idref)\n",
    "            end_type = elem.xpath('./target/model',namespaces=ns)[0].get('type')\n",
    "            end_name = elem.xpath('./target/model',namespaces=ns)[0].get('name')\n",
    "\n",
    "            \n",
    "            rows.append({'Conn_Identifier': conn_id,'Conn_Type': conn_name, 'Conn_Direction': conn_dir,\n",
    "                         'Start_Identifier': start_id, 'Start_Type': start_type, 'Start_Name': start_name,\n",
    "                         'End_Identifier': end_id, 'End_Type': end_type, 'End_Name': end_name,\n",
    "                         'source':source})\n",
    "            elem.clear()\n",
    "        \n",
    "\n",
    "        df = pd.DataFrame(rows,columns=['Conn_Identifier','Conn_Type', 'Conn_Direction',\n",
    "                                        'Start_Identifier', 'Start_Type', 'Start_Name',\n",
    "                                        'End_Identifier', 'End_Type', 'End_Name',\n",
    "                                        'source'])\n",
    "    return df"
   ]
  },
  {
   "cell_type": "markdown",
   "id": "fd4a011b-02fd-40a2-a07c-020ff8c62d95",
   "metadata": {},
   "source": [
    "### Collect information about uml connectors"
   ]
  },
  {
   "cell_type": "code",
   "execution_count": 6,
   "id": "619bed1a-e678-4108-9291-26434b91cce0",
   "metadata": {},
   "outputs": [],
   "source": [
    "s5f_connectors = xmi_connectors(s5f)\n",
    "cdm_connectors = xmi_connectors(cdm)\n",
    "all_connectors = xmi_connectors(s5f,cdm)\n",
    "\n",
    "s5f_connectors['Conn_Type'] = s5f_connectors['Conn_Type'].astype(str)\n",
    "\n",
    "# Save result in excel file Connectors.xlsx\n",
    "with pd.ExcelWriter(\"Connectors.xlsx\", engine=\"openpyxl\") as writer:\n",
    "    s5f_connectors.to_excel(writer, sheet_name=\"s5f\", index=False)\n",
    "    cdm_connectors.to_excel(writer, sheet_name=\"cdm\", index=False)\n",
    "    all_connectors.to_excel(writer, sheet_name=\"s5f & cdm\", index=False)\n"
   ]
  },
  {
   "cell_type": "markdown",
   "id": "cc1fba8f-16ae-48c6-b7fe-dc86da53c4d2",
   "metadata": {},
   "source": [
    "### Analyse collected information about uml connectors"
   ]
  },
  {
   "cell_type": "code",
   "execution_count": 7,
   "id": "0d19dd5b-5ebe-4a19-9ffd-c815dd9c9b92",
   "metadata": {
    "scrolled": true
   },
   "outputs": [
    {
     "data": {
      "text/html": [
       "<div>\n",
       "<style scoped>\n",
       "    .dataframe tbody tr th:only-of-type {\n",
       "        vertical-align: middle;\n",
       "    }\n",
       "\n",
       "    .dataframe tbody tr th {\n",
       "        vertical-align: top;\n",
       "    }\n",
       "\n",
       "    .dataframe thead th {\n",
       "        text-align: right;\n",
       "    }\n",
       "</style>\n",
       "<table border=\"1\" class=\"dataframe\">\n",
       "  <thead>\n",
       "    <tr style=\"text-align: right;\">\n",
       "      <th></th>\n",
       "      <th>S5F</th>\n",
       "      <th>CDM</th>\n",
       "      <th>All</th>\n",
       "    </tr>\n",
       "    <tr>\n",
       "      <th>Conn_Type</th>\n",
       "      <th></th>\n",
       "      <th></th>\n",
       "      <th></th>\n",
       "    </tr>\n",
       "  </thead>\n",
       "  <tbody>\n",
       "    <tr>\n",
       "      <th>Aggregation</th>\n",
       "      <td>8625</td>\n",
       "      <td>1762</td>\n",
       "      <td>10387</td>\n",
       "    </tr>\n",
       "    <tr>\n",
       "      <th>Realisation</th>\n",
       "      <td>572</td>\n",
       "      <td>1471</td>\n",
       "      <td>2043</td>\n",
       "    </tr>\n",
       "    <tr>\n",
       "      <th>Association</th>\n",
       "      <td>350</td>\n",
       "      <td>421</td>\n",
       "      <td>771</td>\n",
       "    </tr>\n",
       "    <tr>\n",
       "      <th>Generalization</th>\n",
       "      <td>201</td>\n",
       "      <td>281</td>\n",
       "      <td>482</td>\n",
       "    </tr>\n",
       "    <tr>\n",
       "      <th>NoteLink</th>\n",
       "      <td>6</td>\n",
       "      <td>7</td>\n",
       "      <td>13</td>\n",
       "    </tr>\n",
       "    <tr>\n",
       "      <th>Abstraction</th>\n",
       "      <td>1</td>\n",
       "      <td>1</td>\n",
       "      <td>2</td>\n",
       "    </tr>\n",
       "    <tr>\n",
       "      <th>Dependency</th>\n",
       "      <td>0</td>\n",
       "      <td>1</td>\n",
       "      <td>1</td>\n",
       "    </tr>\n",
       "  </tbody>\n",
       "</table>\n",
       "</div>"
      ],
      "text/plain": [
       "                 S5F   CDM    All\n",
       "Conn_Type                        \n",
       "Aggregation     8625  1762  10387\n",
       "Realisation      572  1471   2043\n",
       "Association      350   421    771\n",
       "Generalization   201   281    482\n",
       "NoteLink           6     7     13\n",
       "Abstraction        1     1      2\n",
       "Dependency         0     1      1"
      ]
     },
     "execution_count": 7,
     "metadata": {},
     "output_type": "execute_result"
    }
   ],
   "source": [
    "# Identify number of connectors by type\n",
    "s5f_connector_type = s5f_connectors.groupby(['Conn_Type']).size()\n",
    "cdm_connector_type = cdm_connectors.groupby(['Conn_Type']).size()\n",
    "all_connector_type = all_connectors.groupby(['Conn_Type']).size()\n",
    "\n",
    "# Combine into a dataframe\n",
    "connector_summary = pd.DataFrame({'S5F': s5f_connector_type,\n",
    "                                  'CDM': cdm_connector_type,\n",
    "                                  'All': all_connector_type}).fillna(0)  # Fill missing values with 0.0 not an integer !\n",
    "\n",
    "# Convert all columns to integers to remove 0.0 values and get an integer as counting result\n",
    "connector_summary = connector_summary.astype(int).sort_values(by=['All'],ascending=False)\n",
    "\n",
    "# Display the DataFrame\n",
    "connector_summary.head(10)"
   ]
  },
  {
   "cell_type": "markdown",
   "id": "721751b0-54a5-4a44-8670-f8f156a760ee",
   "metadata": {},
   "source": [
    "## Classes and Attributes"
   ]
  },
  {
   "cell_type": "markdown",
   "id": "61fa1cd7-3670-42ae-97aa-ed0e6e9b10ca",
   "metadata": {},
   "source": [
    "### Function xmi_classes_attributes"
   ]
  },
  {
   "cell_type": "code",
   "execution_count": 8,
   "id": "b44472ab-82b7-4116-8c65-f23919a1e696",
   "metadata": {},
   "outputs": [],
   "source": [
    "def xmi_classes_attributes(*files):\n",
    "    \"\"\"\n",
    "    Function to collect class and attribute information from XMI files.\n",
    "    Outputs a DataFrame with common columns: 'name', 'xmlName', 'documentation',\n",
    "    'identifier', 'stereotype', 'lower', and 'upper'.\n",
    "    \"\"\"\n",
    "    if not files:\n",
    "        raise ValueError(\"At least one file must be provided.\")\n",
    "    \n",
    "    rows = []\n",
    "    for file in files:\n",
    "        source = Path(file.name).stem\n",
    "        ns = get_namespaces(file)  # Ensure get_namespaces is implemented correctly\n",
    "        xmi = '{' + ns['xmi'] + '}'\n",
    "\n",
    "        context = etree.iterparse(file, events=('end',), tag=('element',))\n",
    "        type_attr = xmi + 'type'\n",
    "\n",
    "        for event, elem in context:\n",
    "            if elem.attrib.get(type_attr) == 'uml:Class':\n",
    "                # Collect class information\n",
    "                class_name = elem.attrib.get('name', '')\n",
    "                class_id = elem.attrib.get(f'{xmi}idref', '')\n",
    "                class_doc = elem.xpath('./properties/@documentation', namespaces=ns)\n",
    "                class_stereotype = elem.xpath('./properties/@stereotype', namespaces=ns)\n",
    "                class_xmlName = elem.xpath(\"./tags/tag[@name='xmlName']/@value\", namespaces=ns)\n",
    "                \n",
    "                rows.append({\n",
    "                    'name': class_name,\n",
    "                    'xmlName': class_xmlName[0] if class_xmlName else '',\n",
    "                    'documentation': class_doc[0] if class_doc else '',\n",
    "                    'identifier': class_id,\n",
    "                    'stereotype': class_stereotype[0] if class_stereotype else '',\n",
    "                    'lower': np.nan,\n",
    "                    'upper': np.nan,\n",
    "                    'class': np.nan,\n",
    "                    'source': source\n",
    "                })\n",
    "                \n",
    "                # Collect attribute information\n",
    "                attributes = elem.xpath(\".//attributes/attribute\", namespaces=ns)\n",
    "                for attr in attributes:\n",
    "                    att_id = attr.get(f'{xmi}idref', '')\n",
    "                    att_name = attr.get(\"name\", '')\n",
    "                    att_type = attr.xpath(\"./properties\", namespaces=ns)[0].get('type', '')\n",
    "                    att_stereotype = attr.xpath(\"./stereotype\", namespaces=ns)[0].get(\"stereotype\", '')\n",
    "                    att_low = attr.xpath(\"./bounds\", namespaces=ns)[0].get(\"lower\", '')\n",
    "                    att_up = attr.xpath(\"./bounds\", namespaces=ns)[0].get(\"upper\", '')\n",
    "                    att_doc = attr.xpath(\"./documentation\", namespaces=ns)[0].get(\"value\", '')\n",
    "                    att_xmlname = attr.xpath(\"./tags/tag[@name='xmlName' or @name='xmlname']\", namespaces=ns)\n",
    "                    \n",
    "                    rows.append({\n",
    "                        'name': att_name,\n",
    "                        'xmlName': att_xmlname[0].get(\"value\") if att_xmlname else 'MISSING',\n",
    "                        'documentation': att_doc,\n",
    "                        'identifier': att_id,\n",
    "                        'stereotype': att_stereotype,\n",
    "                        'class': class_name,\n",
    "                        'lower': att_low if att_low else np.nan,\n",
    "                        'upper': att_up if att_up else np.nan,\n",
    "                        'source': source\n",
    "                    })\n",
    "                \n",
    "                elem.clear()\n",
    "        \n",
    "    df = pd.DataFrame(rows, columns=['name', 'xmlName', 'documentation', 'identifier', 'stereotype', 'lower', 'upper', 'class','source'])\n",
    "    \n",
    "    return df"
   ]
  },
  {
   "cell_type": "markdown",
   "id": "b816b742-d524-4be6-b598-4ccef09f247b",
   "metadata": {},
   "source": [
    "### Collect information about uml classes and attributes"
   ]
  },
  {
   "cell_type": "code",
   "execution_count": 9,
   "id": "fc93fe45-468f-4635-a53d-2f2c002d9519",
   "metadata": {},
   "outputs": [],
   "source": [
    "s5f_class_attrib = xmi_classes_attributes(s5f)\n",
    "cdm_class_attrib = xmi_classes_attributes(cdm)\n",
    "all_class_attrib = xmi_classes_attributes(s5f,cdm)\n",
    "\n",
    "# Save result in excel file Classes_Attributes.xlsx\n",
    "with pd.ExcelWriter(\"Classes_Attributes.xlsx\", engine=\"openpyxl\") as writer:\n",
    "    s5f_class_attrib.to_excel(writer, sheet_name=\"s5f\", index=False)\n",
    "    cdm_class_attrib.to_excel(writer, sheet_name=\"cdm\", index=False)\n",
    "    all_class_attrib.to_excel(writer, sheet_name=\"s5f & cdm\", index=False)"
   ]
  },
  {
   "cell_type": "markdown",
   "id": "24dd84f7-1ef6-4b64-9c5c-48543c5991c6",
   "metadata": {},
   "source": [
    "### Analyse collected information about uml classes and attributes"
   ]
  },
  {
   "cell_type": "code",
   "execution_count": 10,
   "id": "5934887d-7dbb-4ba9-af9a-bcb964bfad13",
   "metadata": {
    "jupyter": {
     "source_hidden": true
    }
   },
   "outputs": [
    {
     "data": {
      "text/html": [
       "<div>\n",
       "<style scoped>\n",
       "    .dataframe tbody tr th:only-of-type {\n",
       "        vertical-align: middle;\n",
       "    }\n",
       "\n",
       "    .dataframe tbody tr th {\n",
       "        vertical-align: top;\n",
       "    }\n",
       "\n",
       "    .dataframe thead th {\n",
       "        text-align: right;\n",
       "    }\n",
       "</style>\n",
       "<table border=\"1\" class=\"dataframe\">\n",
       "  <thead>\n",
       "    <tr style=\"text-align: right;\">\n",
       "      <th></th>\n",
       "      <th>source</th>\n",
       "      <th>class_count</th>\n",
       "      <th>attribute_count</th>\n",
       "    </tr>\n",
       "  </thead>\n",
       "  <tbody>\n",
       "    <tr>\n",
       "      <th>0</th>\n",
       "      <td>S5000F_Data_model_75BR</td>\n",
       "      <td>419</td>\n",
       "      <td>662</td>\n",
       "    </tr>\n",
       "    <tr>\n",
       "      <th>1</th>\n",
       "      <td>SX002D_Data_model</td>\n",
       "      <td>380</td>\n",
       "      <td>773</td>\n",
       "    </tr>\n",
       "    <tr>\n",
       "      <th>2</th>\n",
       "      <td>Common Source</td>\n",
       "      <td>58</td>\n",
       "      <td>78</td>\n",
       "    </tr>\n",
       "    <tr>\n",
       "      <th>3</th>\n",
       "      <td>Total</td>\n",
       "      <td>799</td>\n",
       "      <td>1435</td>\n",
       "    </tr>\n",
       "  </tbody>\n",
       "</table>\n",
       "</div>"
      ],
      "text/plain": [
       "                   source  class_count  attribute_count\n",
       "0  S5000F_Data_model_75BR          419              662\n",
       "1       SX002D_Data_model          380              773\n",
       "2           Common Source           58               78\n",
       "3                   Total          799             1435"
      ]
     },
     "execution_count": 10,
     "metadata": {},
     "output_type": "execute_result"
    }
   ],
   "source": [
    "def count_classes_attributes(df):\n",
    "    # Count class occurrences per source\n",
    "    class_count = df[df['class'].isna()].groupby('source').size().reset_index(name='class_count')\n",
    "    \n",
    "    # Count attribute occurrences per source\n",
    "    attribute_count = df[df['class'].notna()].groupby('source').size().reset_index(name='attribute_count')\n",
    "    \n",
    "    # Merge both counts\n",
    "    result = class_count.merge(attribute_count, on='source', how='outer').fillna(0)\n",
    "    \n",
    "    # Convert counts to integers\n",
    "    result[['class_count', 'attribute_count']] = result[['class_count', 'attribute_count']].astype(int)\n",
    "\n",
    "    # Compute total occurrences\n",
    "    total_row = pd.DataFrame({'source': ['Total'], \n",
    "                              'class_count': [result['class_count'].sum()], \n",
    "                              'attribute_count': [result['attribute_count'].sum()]})\n",
    "    \n",
    "    # Find common class names (names where class is NaN and appear in multiple sources)\n",
    "    common_class_names = df[df['class'].isna()].groupby('name')['source'].nunique()\n",
    "    common_class_list = common_class_names[common_class_names > 1].index.tolist()  # List of common class names\n",
    "    common_class_count = len(common_class_list)\n",
    "\n",
    "    # Find common attribute names (names where class is NOT NaN and appear in multiple sources)\n",
    "    common_attribute_names = df[df['class'].notna()].groupby('name')['source'].nunique()\n",
    "    common_attribute_list = common_attribute_names[common_attribute_names > 1 ].index.tolist()  # List of common attribute names\n",
    "    common_attribute_count = len(common_attribute_list)\n",
    "\n",
    "    # Add common source row\n",
    "    common_row = pd.DataFrame({'source': ['Common Source'], \n",
    "                               'class_count': [common_class_count], \n",
    "                               'attribute_count': [common_attribute_count]})\n",
    "\n",
    "    # Append common source & total rows\n",
    "    result = pd.concat([result, common_row, total_row], ignore_index=True)\n",
    "\n",
    "    # Return the result and the lists of common names\n",
    "    return result, common_class_list, common_attribute_list\n",
    "\n",
    "# Call function\n",
    "result, common_class_names, common_attribute_names = count_classes_attributes(all_class_attrib)\n",
    "result.head()"
   ]
  },
  {
   "cell_type": "code",
   "execution_count": 11,
   "id": "e1f36562-dd6f-43af-8c73-8bc675f18888",
   "metadata": {},
   "outputs": [
    {
     "name": "stdout",
     "output_type": "stream",
     "text": [
      "Common Class Names: ['Action', 'BatchHardwarePart', 'Budget', 'ChangeRequest', 'ContainedMaterial', 'ContractClause', 'ContractClauseRelationship', 'CostBreakdown', 'CostBreakdownRelationship', 'CostBreakdownRevision', 'CostEntry', 'CostItem', 'CostItemRelationship', 'DocumentIssue', 'DocumentParty', 'ExportControlLicense', 'ExportControlLicenseItem', 'ExportControlParty', 'ExportControlRegulation', 'Facility', 'FacilityLocation', 'FacilityRelationship', 'Fleet', 'HardwarePartDefinition', 'Infrastructure', 'InfrastructureAvailable', 'InfrastructureNodeAtLocation', 'InfrastructureParty', 'InfrastructureRelationship', 'InfrastructureRevision', 'MaintenanceFacility', 'PartyAddress', 'PartyRelationship', 'Person', 'PersonCompetence', 'Product', 'ProductUsagePhase', 'ProductUsagePhaseRelationship', 'ProductVariant', 'ProjectRelationship', 'Report', 'ReportContext', 'ReportableActivity', 'SerializedHardwarePart', 'SerializedProductVariantInFleet', 'Service', 'ServiceLevelAgreementClause', 'ServiceRelationship', 'SoftwarePartAsReleased', 'SubstanceDefinition', 'TaskRevision', 'TypeOfPerson', 'Warehouse', 'WorkBreakdown', 'WorkBreakdownRelationship', 'WorkBreakdownRevision', 'WorkItem', 'WorkItemRelationship']\n",
      "Common Attribute Names: ['actionCloseDate', 'actionCreationDate', 'actionDescription', 'actionIdentifier', 'actionPriority', 'actionScheduledDate', 'changeRequestName', 'contractClauseDescription', 'contractClauseIdentifier', 'contractClauseRelationshipType', 'contractClauseValidityPeriod', 'costBreakdownDescription', 'costBreakdownIdentifier', 'costBreakdownName', 'costBreakdownRelationshipType', 'costBreakdownRevisionDate', 'costBreakdownRevisionIdentifier', 'costBreakdownRevisionRationale', 'costBreakdownRevisionStatus', 'costEntryDate', 'costEntryDescription', 'costEntryIdentifier', 'costEntryPeriod', 'costEntryType', 'costEntryValue', 'costItemDescription', 'costItemIdentifier', 'costItemRelationshipType', 'exportControlLicenseDescription', 'exportControlLicenseIdentifier', 'exportControlLicenseItemCategory', 'exportControlLicenseItemQuantity', 'exportControlLicenseItemidentifier', 'exportControlLicensePurpose', 'exportControlLicenseType', 'exportControlPartyClearanceCode', 'exportControlPartyClearanceDate', 'exportControlPartyClearanceLevel', 'exportControlPartyRole', 'facilityLocationIdentifier', 'facilityLocationPeriod', 'facilityRelationshipType', 'infrastructureAvailableRestriction', 'infrastructureAvailableType', 'infrastructureDescription', 'infrastructureName', 'infrastructurePartyRole', 'infrastructureRelationshipType', 'partyAddressType', 'partyRelationshipDescription', 'partyRelationshipType', 'personCompetenceAcquired', 'productUsagePhaseRelationshipType', 'projectRelationshipType', 'reportPeriod', 'reportableActivityIdentifier', 'reportableActivityPeriod', 'reportableActivityReportingDate', 'serviceRelationshipType', 'substanceDefinitionDescription', 'substanceDefinitionHazardousClass', 'substanceDefinitionPackingGroup', 'warehouseType', 'workBreakdownDescription', 'workBreakdownName', 'workBreakdownRelationshipType', 'workBreakdownRevisionDate', 'workBreakdownRevisionIdentifier', 'workBreakdownRevisionRationale', 'workBreakdownRevisionStatus', 'workItemDescription', 'workItemIdentifier', 'workItemPeriod', 'workItemRelationshipType', 'workItemStatus', 'workItemTimelineEvent', 'workItemTimelineLag', 'workItemType']\n"
     ]
    }
   ],
   "source": [
    "# Display common classes and attributes\n",
    "print(\"Common Class Names:\", common_class_names)\n",
    "print(\"Common Attribute Names:\", common_attribute_names)"
   ]
  },
  {
   "cell_type": "markdown",
   "id": "0636ec3e-b3b2-470f-9bdc-37d3baa378fa",
   "metadata": {},
   "source": [
    "## UML_Profile_003-00 and TheCustomProfile\n",
    "In **S5000F XMI** file, list of information defined in namespace **UML_Profile_003-00**"
   ]
  },
  {
   "cell_type": "markdown",
   "id": "f9bf1dbe-fdd4-4e90-b932-96c2a024662f",
   "metadata": {},
   "source": [
    "| Count | Stereotype                         | Base Element   | XMI Path |\n",
    "|-------|------------------------------------|---------------|----------|\n",
    "| 574   | UML_Profile_003-00:characteristic | base_Property | `/xmi:XMI/uml:Model/UML_Profile_003-00:characteristic/@base_Property` |\n",
    "| 167   | UML_Profile_003-00:class          | base_Class    | `/xmi:XMI/uml:Model/UML_Profile_003-00:class/@base_Class` |\n",
    "| 43    | UML_Profile_003-00:compositeKey   | base_Property | `/xmi:XMI/uml:Model/UML_Profile_003-00:compositeKey/@base_Property` |\n",
    "| 34    | UML_Profile_003-00:extend         | base_Interface| `/xmi:XMI/uml:Model/UML_Profile_003-00:extend/@base_Interface` |\n",
    "| 37    | UML_Profile_003-00:key            | base_Property | `/xmi:XMI/uml:Model/UML_Profile_003-00:key/@base_Property` |\n",
    "| 131   | UML_Profile_003-00:relationship   | base_Class    | `/xmi:XMI/uml:Model/UML_Profile_003-00:relationship/@base_Class` |\n",
    "| 12    | UML_Profile_003-00:relationshipKey| base_Property | `/xmi:XMI/uml:Model/UML_Profile_003-00:relationshipKey/@base_Property` |\n",
    "| 42    | UML_Profile_003-00:select         | base_Interface| `/xmi:XMI/uml:Model/UML_Profile_003-00:select/@base_Interface` |\n"
   ]
  },
  {
   "cell_type": "raw",
   "id": "b5f6aae8-5931-405f-ab56-8e3d0cc64870",
   "metadata": {},
   "source": [
    "TO BE DEVELOPPED \n",
    "def xmi_custom(*files):\n",
    "    \"\"\"\n",
    "    Function which collects information in namespaces 'ThecustomProfile' and 'UML_Profile_003-00'\n",
    "    about class in XMI files downloaded from Enterprise Architect:\n",
    "        class_id         /xmi:XMI/uml:Model/UML_Profile_003-00:class/@base_Class\n",
    "        class_xmlName    /xmi:XMI/uml:Model/thecustomprofile:xmlName[@base_Class='class_id']/@xmlName\n",
    "        class_uidPattern /xmi:XMI/uml:Model/thecustomprofile:uidPattern[@base_Class='class_id']/@uidPattern\n",
    "        class_ref        /xmi:XMI/uml:Model/thecustomprofile:ref/@ref\n",
    "\n",
    "\n",
    "        att_id          /xmi:XMI/uml:Model/UML_Profile_003-00:characteristic/@base_Property\n",
    "        att_xmlName     /xmi:XMI/uml:Model/thecustomprofile:xmlName[@base_Property='att_id']/@xmlName\n",
    "        att_validValue  /xmi:XMI/uml:Model/thecustomprofile:validValue[@base_Property='att_id']/@validValue\n",
    "\n",
    "        rel_id          /xmi:XMI/uml:Model/UML_Profile_003-00:relationship/@base_Class\n",
    "        rel_xmlName     /xmi:XMI/uml:Model/thecustomprofile:xmlName[@base_Class='rel_id']/@xmlName\n",
    "        rel_uidPattern  /xmi:XMI/uml:Model/thecustomprofile:uidPattern[@base_Class='rel_id']/@uidPattern\n",
    "        \n",
    "        \n",
    "     \n",
    "    Input:         list of XMI file to be analyzed\n",
    "    Output:        Dataframe df(conn_id, conn_type, conn_direction,\n",
    "                                start_id, start_type, start_name,\n",
    "                                end_id, end_type, end_name,\n",
    "                                source)\n",
    "\n",
    "                                /xmi:XMI/xmi:Extension/connectors/connector[1]/source/model/@type\n",
    "/xmi:XMI/xmi:Extension/connectors/connector[1]/source/model/@name\n",
    "    \"\"\"\n",
    "    if not files:\n",
    "        raise ValueError(\"At least one file must be provided.\")\n",
    "    \n",
    "    rows = []\n",
    "    for file in files:\n",
    "        source = Path(file.name).stem\n",
    "        ns = get_namespaces(file)  # Ensure get_namespaces is implemented correctly\n",
    "        xmi = '{' + ns['xmi'] + '}'\n",
    "\n",
    "        idref = xmi + 'idref'\n",
    "        type = xmi + 'type'\n",
    "\n",
    "        context = etree.iterparse(file, events=('end',), tag=('connector',))\n",
    "        \n",
    "        for event, elem in context:                               # Iterate over element closing tags\n",
    "            conn_id = elem.attrib.get(idref)\n",
    "            conn_name = elem.xpath('./properties',namespaces=ns)[0].get('ea_type')\n",
    "            conn_dir = elem.xpath('./properties',namespaces=ns)[0].get('direction')\n",
    "            start_id = elem.xpath('./source',namespaces=ns)[0].get(idref)\n",
    "            start_type = elem.xpath('./source/model',namespaces=ns)[0].get('type')\n",
    "            start_name = elem.xpath('./source/model',namespaces=ns)[0].get('name')\n",
    "            end_id = elem.xpath('./target',namespaces=ns)[0].get(idref)\n",
    "            end_type = elem.xpath('./target/model',namespaces=ns)[0].get('type')\n",
    "            end_name = elem.xpath('./target/model',namespaces=ns)[0].get('name')\n",
    "\n",
    "            \n",
    "            rows.append({'Conn_Identifier': conn_id,'Conn_Type': conn_name, 'Conn_Direction': conn_dir,\n",
    "                         'Start_Identifier': start_id, 'Start_Type': start_type, 'Start_Name': start_name,\n",
    "                         'End_Identifier': end_id, 'End_Type': end_type, 'End_Name': end_name,\n",
    "                         'source':source})\n",
    "            elem.clear()\n",
    "        \n",
    "\n",
    "        df = pd.DataFrame(rows,columns=['Conn_Identifier','Conn_Type', 'Conn_Direction',\n",
    "                                        'Start_Identifier', 'Start_Type', 'Start_Name',\n",
    "                                        'End_Identifier', 'End_Type', 'End_Name',\n",
    "                                        'source'])\n",
    "    return df"
   ]
  },
  {
   "cell_type": "markdown",
   "id": "6ae38962-fe5a-42c5-82e2-460ac6aed703",
   "metadata": {},
   "source": [
    "# S5000F XML Schema (XSD)\n",
    "*Structure of XSD S5000F is:<ol><li>UML MESSAGE<li>UML ATTRIBUTES<li>UML ATTRIBUTE GROUPS<li>UML CLASS REFERENCE UTILITY CLASSES<li>UML \\<\\<SELECT>> INTERFACE REFERENCE UTILITY CLASSES<li>UML \\<\\<EXTEND>> INTERFACE REFERENCE UTILITY CLASSES<li>UML SPECIALIZATION UTILITY CLASSES</li>*"
   ]
  },
  {
   "cell_type": "markdown",
   "id": "f8b3aa7b-fe5a-4004-8bb9-7172b6b5deb7",
   "metadata": {},
   "source": [
    "## Common functions"
   ]
  },
  {
   "cell_type": "markdown",
   "id": "505cea31-d17c-4020-8f53-21f4e325d306",
   "metadata": {},
   "source": [
    "### Function xsd_complexType"
   ]
  },
  {
   "cell_type": "code",
   "execution_count": 12,
   "id": "c246f966-7bb5-4830-9c8f-9989d1a81e6d",
   "metadata": {},
   "outputs": [],
   "source": [
    "def xsd_complexType(xml_file, start_comment, end_comment):\n",
    "    \"\"\"\n",
    "    Extracts the first-level children <complexType> of the root element between specific comments \n",
    "    in an XML file and returns their 'name' attributes in a DataFrame.\n",
    "    \n",
    "    Parameters:\n",
    "        xml_file (str):      Path to the XML file.\n",
    "        start_comment (str): Text of the starting comment.\n",
    "        end_comment (str):   Text of the ending comment.\n",
    "    \n",
    "    Returns:\n",
    "        df (pd.DataFrame):    A DataFrame containing the 'name' attributes of the matching elements.\n",
    "    \"\"\"\n",
    "    # Parse the XML file and get the root\n",
    "    tree = etree.parse(xml_file)\n",
    "    root = tree.getroot()\n",
    "\n",
    "    # Get xsd namespace prefix from the root\n",
    "    xsd_ns = root.nsmap.get(\"xsd\", \"http://www.w3.org/2001/XMLSchema\")\n",
    "\n",
    "    # Variables to track parsing state\n",
    "    inside_section = False\n",
    "    first_level_children = []\n",
    "\n",
    "    context = etree.iterparse(xml_file, events=(\"end\", \"comment\"), tag=[f\"{{{xsd_ns}}}complexType\"])\n",
    "    for event, elem in context:\n",
    "        if event == \"comment\":                                           # Check for the start or end comment\n",
    "            if elem.text.strip() == start_comment:        \n",
    "                inside_section = True\n",
    "                xsd_source = \" \".join(start_comment.split(' ')[1:-1])\n",
    "            elif elem.text.strip() == end_comment:\n",
    "                inside_section = False\n",
    "\n",
    "        elif event == \"end\" and inside_section:                          # triggered on closing element complexType\n",
    "            if elem.getparent().tag == root.tag:                         # check that current element is a direct child of root\n",
    "                first_level_children.append(elem.attrib.get('name'))\n",
    "                elem.clear()                                             # Clear to save memory for large files\n",
    "\n",
    "    # Create and return a DataFrame\n",
    "    df = pd.DataFrame(first_level_children, columns=['XSD Name'])\n",
    "    df['XSD Name'] = df['XSD Name'].str[0].str.upper()+df['XSD Name'].str[1:]  # set first letter to uppercase\n",
    "    \n",
    "    return df"
   ]
  },
  {
   "cell_type": "markdown",
   "id": "7af2a6e8-ee8d-4136-8d7d-cb87c0113c7a",
   "metadata": {
    "collapsed": true,
    "jupyter": {
     "outputs_hidden": true
    }
   },
   "source": [
    "### Function dataframe_compare"
   ]
  },
  {
   "cell_type": "code",
   "execution_count": 13,
   "id": "8cdd1a30-fca2-4e09-a30f-9306649e7362",
   "metadata": {
    "jupyter": {
     "source_hidden": true
    }
   },
   "outputs": [],
   "source": [
    "def dataframe_compare(df1, df2, column_name, df1_name=\"df1\", df2_name=\"df2\"):\n",
    "    \"\"\"\n",
    "    Compare two DataFrames based on a specified column.\n",
    "\n",
    "    Parameters:\n",
    "        df1 (pd.DataFrame): First DataFrame\n",
    "        df2 (pd.DataFrame): Second DataFrame\n",
    "        column_name (str): The column name on which to compare\n",
    "        df1_name (str): Name of the first DataFrame (default: \"df1\")\n",
    "        df2_name (str): Name of the second DataFrame (default: \"df2\")\n",
    "\n",
    "    Returns:\n",
    "        tuple: Two lists -\n",
    "               1. Values in df1 but not in df2\n",
    "               2. Values in df2 but not in df1\n",
    "    \"\"\"\n",
    "    indicator_col = \"_merge_indicator\"\n",
    "\n",
    "    # Find values in df1 but not in df2\n",
    "    dfa = df1.merge(df2, on=column_name, how=\"left\", indicator=indicator_col)\n",
    "    dfa = dfa[dfa[indicator_col] == \"left_only\"]\n",
    "    a = list(dfa[column_name])\n",
    "\n",
    "    # Find values in df2 but not in df1\n",
    "    dfb = df2.merge(df1, on=column_name, how=\"left\", indicator=indicator_col)\n",
    "    dfb = dfb[dfb[indicator_col] == \"left_only\"]\n",
    "    b = list(dfb[column_name])\n",
    "\n",
    "    # Display results with DataFrame names\n",
    "    print(f\"\\033[1m{len(a)} names in {df1_name} but not in {df2_name}:\\033[0m\\n\", a)\n",
    "    print(f\"\\n\\n\\033[1m{len(b)} names in {df2_name} but not in {df1_name}:\\033[0m\\n\", b)\n",
    "\n",
    "    return a, b"
   ]
  },
  {
   "cell_type": "markdown",
   "id": "97e502ab-f8a2-499c-b8a1-a75a1bff2598",
   "metadata": {},
   "source": [
    "## Collect all XSD first level complex_type"
   ]
  },
  {
   "cell_type": "code",
   "execution_count": 14,
   "id": "f7b3316f-f68a-438f-9d49-0044cf80c6a6",
   "metadata": {},
   "outputs": [
    {
     "data": {
      "text/html": [
       "<div>\n",
       "<style scoped>\n",
       "    .dataframe tbody tr th:only-of-type {\n",
       "        vertical-align: middle;\n",
       "    }\n",
       "\n",
       "    .dataframe tbody tr th {\n",
       "        vertical-align: top;\n",
       "    }\n",
       "\n",
       "    .dataframe thead th {\n",
       "        text-align: right;\n",
       "    }\n",
       "</style>\n",
       "<table border=\"1\" class=\"dataframe\">\n",
       "  <thead>\n",
       "    <tr style=\"text-align: right;\">\n",
       "      <th></th>\n",
       "      <th>xsd source</th>\n",
       "      <th>count</th>\n",
       "    </tr>\n",
       "  </thead>\n",
       "  <tbody>\n",
       "    <tr>\n",
       "      <th>0</th>\n",
       "      <td>uml attribute</td>\n",
       "      <td>1151</td>\n",
       "    </tr>\n",
       "    <tr>\n",
       "      <th>1</th>\n",
       "      <td>uml message</td>\n",
       "      <td>619</td>\n",
       "    </tr>\n",
       "    <tr>\n",
       "      <th>2</th>\n",
       "      <td>uml class reference</td>\n",
       "      <td>492</td>\n",
       "    </tr>\n",
       "    <tr>\n",
       "      <th>3</th>\n",
       "      <td>uml select interface reference</td>\n",
       "      <td>71</td>\n",
       "    </tr>\n",
       "    <tr>\n",
       "      <th>4</th>\n",
       "      <td>uml extend interface reference</td>\n",
       "      <td>62</td>\n",
       "    </tr>\n",
       "    <tr>\n",
       "      <th>5</th>\n",
       "      <td>uml attribute group</td>\n",
       "      <td>22</td>\n",
       "    </tr>\n",
       "    <tr>\n",
       "      <th>6</th>\n",
       "      <td>uml specialization utility</td>\n",
       "      <td>2</td>\n",
       "    </tr>\n",
       "  </tbody>\n",
       "</table>\n",
       "</div>"
      ],
      "text/plain": [
       "                       xsd source  count\n",
       "0                   uml attribute   1151\n",
       "1                     uml message    619\n",
       "2             uml class reference    492\n",
       "3  uml select interface reference     71\n",
       "4  uml extend interface reference     62\n",
       "5             uml attribute group     22\n",
       "6      uml specialization utility      2"
      ]
     },
     "execution_count": 14,
     "metadata": {},
     "output_type": "execute_result"
    }
   ],
   "source": [
    "# 1 UML Message from line 38 to line 25633\n",
    "start_comment = '========================================== UML MESSAGE ============================================'\n",
    "end_comment = '========================================== UML ATTRIBUTES =========================================='\n",
    "xsd_message = xsd_complexType(isfDataset, start_comment, end_comment)\n",
    "xsd_message['xsd source'] = \"uml message\"\n",
    "\n",
    "# 2 UML Attribute from line 25634 to line 54248\n",
    "start_comment = '========================================== UML ATTRIBUTES =========================================='\n",
    "end_comment = '======================================= UML ATTRIBUTE GROUPS ======================================='\n",
    "xsd_attribute = xsd_complexType(isfDataset, start_comment, end_comment)\n",
    "xsd_attribute['xsd source'] = \"uml attribute\"\n",
    "\n",
    "# 3 UML Attribute group from line 54249 to line 54641\n",
    "start_comment = '======================================= UML ATTRIBUTE GROUPS ======================================='\n",
    "end_comment = '=============================== UML CLASS REFERENCE UTILITY CLASSES ================================'\n",
    "xsd_attribute_group = xsd_complexType(isfDataset, start_comment, end_comment)\n",
    "xsd_attribute_group['xsd source'] = \"uml attribute group\"\n",
    "\n",
    "# 4 UML Class reference utility from line 54642 to line 68438\n",
    "start_comment = '=============================== UML CLASS REFERENCE UTILITY CLASSES ================================'\n",
    "end_comment = '======================== UML <<SELECT>> INTERFACE REFERENCE UTILITY CLASSES ========================'\n",
    "xsd_class_reference = xsd_complexType(isfDataset, start_comment, end_comment)\n",
    "xsd_class_reference['xsd source'] = \"uml class reference\"\n",
    "\n",
    "# 5 UML select interface reference utility classes from line 68439 to line 69889\n",
    "start_comment = '======================== UML <<SELECT>> INTERFACE REFERENCE UTILITY CLASSES ========================'\n",
    "end_comment = '======================== UML <<EXTEND>> INTERFACE REFERENCE UTILITY CLASSES ========================'\n",
    "xsd_select = xsd_complexType(isfDataset, start_comment, end_comment)\n",
    "xsd_select['xsd source'] = \"uml select interface reference\"\n",
    "\n",
    "# 6 UML Class reference utility from line 69890 to line 70879\n",
    "start_comment = \"======================== UML <<EXTEND>> INTERFACE REFERENCE UTILITY CLASSES ========================\"\n",
    "end_comment = \"============================== UML SPECIALIZATION UTILITY CLASSES ==================================\"\n",
    "xsd_extend = xsd_complexType(isfDataset, start_comment, end_comment)\n",
    "xsd_extend['xsd source'] = \"uml extend interface reference\"\n",
    "\n",
    "# 7 UML specialization utility classes from line 70879 to line 71565\n",
    "start_comment= \"============================== UML SPECIALIZATION UTILITY CLASSES ==================================\"\n",
    "end_comment =  \"===================================== BASE SCHEMA DEFINITIONS ======================================\"\n",
    "xsd_specialization = xsd_complexType(isfDataset, start_comment, end_comment)\n",
    "xsd_specialization['xsd source'] = \"uml specialization utility\"\n",
    "\n",
    "# Concatenate all these dataframes and store result in \"XSD_ComplexType.xlsx\"\n",
    "xsd = pd.concat([xsd_message,xsd_attribute,xsd_attribute_group,xsd_class_reference,xsd_select,xsd_extend,xsd_specialization],ignore_index=True)\n",
    "xsd.to_excel(\"XSD_ComplexType.xlsx\")\n",
    "\n",
    "# Display result\n",
    "xsd_group = xsd.groupby(['xsd source']).size().sort_values(ascending=False).reset_index(name='count')\n",
    "xsd_group.head(10)"
   ]
  },
  {
   "cell_type": "markdown",
   "id": "12c274b3-cbcd-4402-9e26-12ac9073b6ee",
   "metadata": {},
   "source": [
    "## Collect all XSD first level group"
   ]
  },
  {
   "cell_type": "code",
   "execution_count": 15,
   "id": "feedbfab-d776-4a51-8b78-c884409c9b74",
   "metadata": {},
   "outputs": [],
   "source": [
    "def xsd_group(xml_file):\n",
    "    \"\"\"\n",
    "    Extracts the first-level children <xsd:group> of the root element\n",
    "    \n",
    "    Parameters:\n",
    "        xml_file (str):      Path to the XML file.\n",
    "    \n",
    "    Returns:\n",
    "        df (pd.DataFrame):    A DataFrame containing the 'name' attributes of the xsd:group elements.\n",
    "    \"\"\"\n",
    "    # Parse the XML file and get the root\n",
    "    tree = etree.parse(xml_file)\n",
    "    root = tree.getroot()\n",
    "\n",
    "    # Get xsd namespace prefix from the root\n",
    "    #xsd_ns = root.nsmap.get(\"xsd\", \"http://www.w3.org/2001/XMLSchema\")\n",
    "\n",
    "    # Get xsd namespace prefix from the root\n",
    "    nsmap = root.nsmap\n",
    "    xsd_ns = nsmap.get(\"xsd\", \"http://www.w3.org/2001/XMLSchema\")\n",
    "    reverse_nsmap = {v: k for k, v in nsmap.items()}\n",
    "\n",
    "    def qname(tag):\n",
    "        \"\"\"Convert a tag with namespace URI to a tag with abbreviated namespace.\"\"\"\n",
    "        if tag.startswith('{'):\n",
    "            uri, name = tag[1:].split('}')\n",
    "            prefix = reverse_nsmap.get(uri, '')\n",
    "            return f\"{prefix}:{name}\" if prefix else name\n",
    "        return tag\n",
    "\n",
    "    first_level_group = []\n",
    "    context = etree.iterparse(xml_file, events=(\"end\",), tag=[f\"{{{xsd_ns}}}group\"])\n",
    "    for event, elem in context:\n",
    "        if elem.getparent().tag == root.tag:                         # check that current element is a direct child of root\n",
    "            group_name = elem.attrib.get('name')\n",
    "            children_tags = [qname(child.tag) for child in elem]\n",
    "            first_level_group.append((group_name, children_tags))\n",
    "        elem.clear()                                                 # Clear to save memory for large files\n",
    "\n",
    "    # Create and return a DataFrame\n",
    "    df = pd.DataFrame(first_level_group, columns=['XSD Group Name', 'Children Tags'])\n",
    "    df['XSD Group Name'] = df['XSD Group Name'].str.capitalize()     # set first letter to uppercase\n",
    "    return df"
   ]
  },
  {
   "cell_type": "code",
   "execution_count": 16,
   "id": "83ba7c0f-0b59-4f72-bc56-790c9564b22f",
   "metadata": {},
   "outputs": [
    {
     "data": {
      "text/html": [
       "<div>\n",
       "<style scoped>\n",
       "    .dataframe tbody tr th:only-of-type {\n",
       "        vertical-align: middle;\n",
       "    }\n",
       "\n",
       "    .dataframe tbody tr th {\n",
       "        vertical-align: top;\n",
       "    }\n",
       "\n",
       "    .dataframe thead th {\n",
       "        text-align: right;\n",
       "    }\n",
       "</style>\n",
       "<table border=\"1\" class=\"dataframe\">\n",
       "  <thead>\n",
       "    <tr style=\"text-align: right;\">\n",
       "      <th></th>\n",
       "      <th>XSD Group Name</th>\n",
       "      <th>Children Tags</th>\n",
       "    </tr>\n",
       "  </thead>\n",
       "  <tbody>\n",
       "    <tr>\n",
       "      <th>0</th>\n",
       "      <td>Messagecontentnonabstractclasses</td>\n",
       "      <td>[xsd:annotation, xsd:choice]</td>\n",
       "    </tr>\n",
       "    <tr>\n",
       "      <th>1</th>\n",
       "      <td>Projectspecificattributevalue</td>\n",
       "      <td>[xsd:annotation, xsd:choice]</td>\n",
       "    </tr>\n",
       "    <tr>\n",
       "      <th>2</th>\n",
       "      <td>Actionnonabstractclasses</td>\n",
       "      <td>[xsd:annotation, xsd:choice]</td>\n",
       "    </tr>\n",
       "    <tr>\n",
       "      <th>3</th>\n",
       "      <td>Analysisactivitynonabstractclasses</td>\n",
       "      <td>[xsd:annotation, xsd:choice]</td>\n",
       "    </tr>\n",
       "    <tr>\n",
       "      <th>4</th>\n",
       "      <td>Analysisactivityrevisionnonabstractclasses</td>\n",
       "      <td>[xsd:annotation, xsd:choice]</td>\n",
       "    </tr>\n",
       "    <tr>\n",
       "      <th>5</th>\n",
       "      <td>Areanonabstractclasses</td>\n",
       "      <td>[xsd:annotation, xsd:choice]</td>\n",
       "    </tr>\n",
       "    <tr>\n",
       "      <th>6</th>\n",
       "      <td>Breakdownelementnonabstractclasses</td>\n",
       "      <td>[xsd:annotation, xsd:choice]</td>\n",
       "    </tr>\n",
       "    <tr>\n",
       "      <th>7</th>\n",
       "      <td>Breakdownelementrevisionnonabstractclasses</td>\n",
       "      <td>[xsd:annotation, xsd:choice]</td>\n",
       "    </tr>\n",
       "    <tr>\n",
       "      <th>8</th>\n",
       "      <td>Breakdownelementusagerelationshipnonabstractcl...</td>\n",
       "      <td>[xsd:annotation, xsd:choice]</td>\n",
       "    </tr>\n",
       "    <tr>\n",
       "      <th>9</th>\n",
       "      <td>Capabilitynonabstractclasses</td>\n",
       "      <td>[xsd:annotation, xsd:choice]</td>\n",
       "    </tr>\n",
       "    <tr>\n",
       "      <th>10</th>\n",
       "      <td>Contractclausenonabstractclasses</td>\n",
       "      <td>[xsd:annotation, xsd:choice]</td>\n",
       "    </tr>\n",
       "    <tr>\n",
       "      <th>11</th>\n",
       "      <td>Datarequestnonabstractclasses</td>\n",
       "      <td>[xsd:annotation, xsd:choice]</td>\n",
       "    </tr>\n",
       "    <tr>\n",
       "      <th>12</th>\n",
       "      <td>Disposalrequirementnonabstractclasses</td>\n",
       "      <td>[xsd:annotation, xsd:choice]</td>\n",
       "    </tr>\n",
       "    <tr>\n",
       "      <th>13</th>\n",
       "      <td>Documentnonabstractclasses</td>\n",
       "      <td>[xsd:annotation, xsd:choice]</td>\n",
       "    </tr>\n",
       "    <tr>\n",
       "      <th>14</th>\n",
       "      <td>Documentissuenonabstractclasses</td>\n",
       "      <td>[xsd:annotation, xsd:choice]</td>\n",
       "    </tr>\n",
       "    <tr>\n",
       "      <th>15</th>\n",
       "      <td>Evaluationcriterianonabstractclasses</td>\n",
       "      <td>[xsd:annotation, xsd:choice]</td>\n",
       "    </tr>\n",
       "    <tr>\n",
       "      <th>16</th>\n",
       "      <td>Eventnonabstractclasses</td>\n",
       "      <td>[xsd:annotation, xsd:choice]</td>\n",
       "    </tr>\n",
       "    <tr>\n",
       "      <th>17</th>\n",
       "      <td>Facilitynonabstractclasses</td>\n",
       "      <td>[xsd:annotation, xsd:choice]</td>\n",
       "    </tr>\n",
       "    <tr>\n",
       "      <th>18</th>\n",
       "      <td>Faultsymptomnonabstractclasses</td>\n",
       "      <td>[xsd:annotation, xsd:choice]</td>\n",
       "    </tr>\n",
       "    <tr>\n",
       "      <th>19</th>\n",
       "      <td>Hardwarepartdefinitionnonabstractclasses</td>\n",
       "      <td>[xsd:annotation, xsd:choice]</td>\n",
       "    </tr>\n",
       "    <tr>\n",
       "      <th>20</th>\n",
       "      <td>Infrastructurenonabstractclasses</td>\n",
       "      <td>[xsd:annotation, xsd:choice]</td>\n",
       "    </tr>\n",
       "    <tr>\n",
       "      <th>21</th>\n",
       "      <td>Measurementpointnonabstractclasses</td>\n",
       "      <td>[xsd:annotation, xsd:choice]</td>\n",
       "    </tr>\n",
       "    <tr>\n",
       "      <th>22</th>\n",
       "      <td>Organizationnonabstractclasses</td>\n",
       "      <td>[xsd:annotation, xsd:choice]</td>\n",
       "    </tr>\n",
       "    <tr>\n",
       "      <th>23</th>\n",
       "      <td>Partdefinitionnonabstractclasses</td>\n",
       "      <td>[xsd:annotation, xsd:choice]</td>\n",
       "    </tr>\n",
       "    <tr>\n",
       "      <th>24</th>\n",
       "      <td>Personnonabstractclasses</td>\n",
       "      <td>[xsd:annotation, xsd:choice]</td>\n",
       "    </tr>\n",
       "    <tr>\n",
       "      <th>25</th>\n",
       "      <td>Policiesandregulationsnonabstractclasses</td>\n",
       "      <td>[xsd:annotation, xsd:choice]</td>\n",
       "    </tr>\n",
       "    <tr>\n",
       "      <th>26</th>\n",
       "      <td>Productusagephaserelationshipnonabstractclasses</td>\n",
       "      <td>[xsd:annotation, xsd:choice]</td>\n",
       "    </tr>\n",
       "    <tr>\n",
       "      <th>27</th>\n",
       "      <td>Reportableactivitynonabstractclasses</td>\n",
       "      <td>[xsd:annotation, xsd:choice]</td>\n",
       "    </tr>\n",
       "    <tr>\n",
       "      <th>28</th>\n",
       "      <td>Requirementnonabstractclasses</td>\n",
       "      <td>[xsd:annotation, xsd:choice]</td>\n",
       "    </tr>\n",
       "    <tr>\n",
       "      <th>29</th>\n",
       "      <td>Safetydocumentnonabstractclasses</td>\n",
       "      <td>[xsd:annotation, xsd:choice]</td>\n",
       "    </tr>\n",
       "    <tr>\n",
       "      <th>30</th>\n",
       "      <td>Sensortypenonabstractclasses</td>\n",
       "      <td>[xsd:annotation, xsd:choice]</td>\n",
       "    </tr>\n",
       "    <tr>\n",
       "      <th>31</th>\n",
       "      <td>Serializedhardwarepartnonabstractclasses</td>\n",
       "      <td>[xsd:annotation, xsd:choice]</td>\n",
       "    </tr>\n",
       "    <tr>\n",
       "      <th>32</th>\n",
       "      <td>Softwarepartasreleasednonabstractclasses</td>\n",
       "      <td>[xsd:annotation, xsd:choice]</td>\n",
       "    </tr>\n",
       "    <tr>\n",
       "      <th>33</th>\n",
       "      <td>Softwarepartdefinitionnonabstractclasses</td>\n",
       "      <td>[xsd:annotation, xsd:choice]</td>\n",
       "    </tr>\n",
       "    <tr>\n",
       "      <th>34</th>\n",
       "      <td>Subtasknonabstractclasses</td>\n",
       "      <td>[xsd:annotation, xsd:choice]</td>\n",
       "    </tr>\n",
       "    <tr>\n",
       "      <th>35</th>\n",
       "      <td>Tasknonabstractclasses</td>\n",
       "      <td>[xsd:annotation, xsd:choice]</td>\n",
       "    </tr>\n",
       "    <tr>\n",
       "      <th>36</th>\n",
       "      <td>Threedimensionalnonabstractclasses</td>\n",
       "      <td>[xsd:choice]</td>\n",
       "    </tr>\n",
       "    <tr>\n",
       "      <th>37</th>\n",
       "      <td>Taskusagenonabstractclasses</td>\n",
       "      <td>[xsd:annotation, xsd:choice]</td>\n",
       "    </tr>\n",
       "    <tr>\n",
       "      <th>38</th>\n",
       "      <td>Thresholddefinitionnonabstractclasses</td>\n",
       "      <td>[xsd:annotation, xsd:choice]</td>\n",
       "    </tr>\n",
       "    <tr>\n",
       "      <th>39</th>\n",
       "      <td>Timelimitnonabstractclasses</td>\n",
       "      <td>[xsd:annotation, xsd:choice]</td>\n",
       "    </tr>\n",
       "    <tr>\n",
       "      <th>40</th>\n",
       "      <td>Workitemnonabstractclasses</td>\n",
       "      <td>[xsd:annotation, xsd:choice]</td>\n",
       "    </tr>\n",
       "  </tbody>\n",
       "</table>\n",
       "</div>"
      ],
      "text/plain": [
       "                                       XSD Group Name  \\\n",
       "0                    Messagecontentnonabstractclasses   \n",
       "1                       Projectspecificattributevalue   \n",
       "2                            Actionnonabstractclasses   \n",
       "3                  Analysisactivitynonabstractclasses   \n",
       "4          Analysisactivityrevisionnonabstractclasses   \n",
       "5                              Areanonabstractclasses   \n",
       "6                  Breakdownelementnonabstractclasses   \n",
       "7          Breakdownelementrevisionnonabstractclasses   \n",
       "8   Breakdownelementusagerelationshipnonabstractcl...   \n",
       "9                        Capabilitynonabstractclasses   \n",
       "10                   Contractclausenonabstractclasses   \n",
       "11                      Datarequestnonabstractclasses   \n",
       "12              Disposalrequirementnonabstractclasses   \n",
       "13                         Documentnonabstractclasses   \n",
       "14                    Documentissuenonabstractclasses   \n",
       "15               Evaluationcriterianonabstractclasses   \n",
       "16                            Eventnonabstractclasses   \n",
       "17                         Facilitynonabstractclasses   \n",
       "18                     Faultsymptomnonabstractclasses   \n",
       "19           Hardwarepartdefinitionnonabstractclasses   \n",
       "20                   Infrastructurenonabstractclasses   \n",
       "21                 Measurementpointnonabstractclasses   \n",
       "22                     Organizationnonabstractclasses   \n",
       "23                   Partdefinitionnonabstractclasses   \n",
       "24                           Personnonabstractclasses   \n",
       "25           Policiesandregulationsnonabstractclasses   \n",
       "26    Productusagephaserelationshipnonabstractclasses   \n",
       "27               Reportableactivitynonabstractclasses   \n",
       "28                      Requirementnonabstractclasses   \n",
       "29                   Safetydocumentnonabstractclasses   \n",
       "30                       Sensortypenonabstractclasses   \n",
       "31           Serializedhardwarepartnonabstractclasses   \n",
       "32           Softwarepartasreleasednonabstractclasses   \n",
       "33           Softwarepartdefinitionnonabstractclasses   \n",
       "34                          Subtasknonabstractclasses   \n",
       "35                             Tasknonabstractclasses   \n",
       "36                 Threedimensionalnonabstractclasses   \n",
       "37                        Taskusagenonabstractclasses   \n",
       "38              Thresholddefinitionnonabstractclasses   \n",
       "39                        Timelimitnonabstractclasses   \n",
       "40                         Workitemnonabstractclasses   \n",
       "\n",
       "                   Children Tags  \n",
       "0   [xsd:annotation, xsd:choice]  \n",
       "1   [xsd:annotation, xsd:choice]  \n",
       "2   [xsd:annotation, xsd:choice]  \n",
       "3   [xsd:annotation, xsd:choice]  \n",
       "4   [xsd:annotation, xsd:choice]  \n",
       "5   [xsd:annotation, xsd:choice]  \n",
       "6   [xsd:annotation, xsd:choice]  \n",
       "7   [xsd:annotation, xsd:choice]  \n",
       "8   [xsd:annotation, xsd:choice]  \n",
       "9   [xsd:annotation, xsd:choice]  \n",
       "10  [xsd:annotation, xsd:choice]  \n",
       "11  [xsd:annotation, xsd:choice]  \n",
       "12  [xsd:annotation, xsd:choice]  \n",
       "13  [xsd:annotation, xsd:choice]  \n",
       "14  [xsd:annotation, xsd:choice]  \n",
       "15  [xsd:annotation, xsd:choice]  \n",
       "16  [xsd:annotation, xsd:choice]  \n",
       "17  [xsd:annotation, xsd:choice]  \n",
       "18  [xsd:annotation, xsd:choice]  \n",
       "19  [xsd:annotation, xsd:choice]  \n",
       "20  [xsd:annotation, xsd:choice]  \n",
       "21  [xsd:annotation, xsd:choice]  \n",
       "22  [xsd:annotation, xsd:choice]  \n",
       "23  [xsd:annotation, xsd:choice]  \n",
       "24  [xsd:annotation, xsd:choice]  \n",
       "25  [xsd:annotation, xsd:choice]  \n",
       "26  [xsd:annotation, xsd:choice]  \n",
       "27  [xsd:annotation, xsd:choice]  \n",
       "28  [xsd:annotation, xsd:choice]  \n",
       "29  [xsd:annotation, xsd:choice]  \n",
       "30  [xsd:annotation, xsd:choice]  \n",
       "31  [xsd:annotation, xsd:choice]  \n",
       "32  [xsd:annotation, xsd:choice]  \n",
       "33  [xsd:annotation, xsd:choice]  \n",
       "34  [xsd:annotation, xsd:choice]  \n",
       "35  [xsd:annotation, xsd:choice]  \n",
       "36                  [xsd:choice]  \n",
       "37  [xsd:annotation, xsd:choice]  \n",
       "38  [xsd:annotation, xsd:choice]  \n",
       "39  [xsd:annotation, xsd:choice]  \n",
       "40  [xsd:annotation, xsd:choice]  "
      ]
     },
     "execution_count": 16,
     "metadata": {},
     "output_type": "execute_result"
    }
   ],
   "source": [
    "group_df = xsd_group(isfDataset)\n",
    "group_df.head(len(group_df))"
   ]
  },
  {
   "cell_type": "markdown",
   "id": "4f5dfbc2-dd04-48a1-be37-abc6f48e0f95",
   "metadata": {},
   "source": [
    "*In S5000F XML Schema, element <b>\\<xsd:group\\></b> are<ul><li> named as <b>nonabstractclasses</b> </li><li>and their second child is always element <b>\\<xsd:choice\\></b>.*"
   ]
  },
  {
   "cell_type": "markdown",
   "id": "415e5531-dc86-44e8-9895-ebf76ec0367f",
   "metadata": {},
   "source": [
    "# Compare XMI and XSD"
   ]
  },
  {
   "attachments": {
    "4c33222a-720b-424a-ae83-4ca6d3049ea7.png": {
     "image/png": "[encoded data removed]"
    }
   },
   "cell_type": "markdown",
   "id": "4489a3e8-e85c-4442-991f-95c76c4973ff",
   "metadata": {},
   "source": [
    "*Class / Attributes not existing in S5F or CDM files*<br><br>\n",
    "![image.png](attachment:4c33222a-720b-424a-ae83-4ca6d3049ea7.png)"
   ]
  },
  {
   "cell_type": "markdown",
   "id": "b3172101-7390-4b61-8ed5-a80f2226e96c",
   "metadata": {},
   "source": [
    "*71 Attributes are defined in both S5F or CDM files*<br>\n",
    "*53 Classes are defined in both S5F and CDM files*<br><br>\n",
    "If class or attribute is defined in both XMI file, its definition in S5F file overlaps definition in CDM XMI file: for instance PersonCompetence \n",
    "\n"
   ]
  },
  {
   "cell_type": "markdown",
   "id": "d6aea585-0a26-4105-bd4b-428d8643e9e4",
   "metadata": {},
   "source": [
    "# CREATE S5000F XSD with data extracted from XMI"
   ]
  },
  {
   "cell_type": "markdown",
   "id": "f5ca56c5-11f4-4688-ae29-cb028d81eb15",
   "metadata": {},
   "source": [
    "## root element"
   ]
  },
  {
   "cell_type": "code",
   "execution_count": 17,
   "id": "934c354e-9a9f-4713-a322-4c420ab81a46",
   "metadata": {},
   "outputs": [],
   "source": [
    "root_str ='''\n",
    "<xsd:schema xmlns:xsd=\"http://www.w3.org/2001/XMLSchema\" xmlns:xsig=\"http://www.w3.org/2000/09/xmldsig#\" xmlns=\"http://www.asd-europe.org/s-series/s5000f\" xmlns:vc=\"http://www.w3.org/2007/XMLSchema-versioning\" xmlns:value=\"http://www.asd-europe.org/s-series/s5000f/validValues\" xmlns:unit=\"http://www.asd-europe.org/s-series/s5000f/validValues\" targetNamespace=\"http://www.asd-europe.org/s-series/s5000f\" version=\"004-00\" vc:minVersion=\"1.1\">\n",
    "\t<!-- ________________________________________________________________________________________________________________ -->\n",
    "\t<xsd:import namespace=\"http://www.w3.org/2000/09/xmldsig#\" schemaLocation=\"http://www.w3.org/TR/2008/REC-xmldsig-core-20080610/xmldsig-core-schema.xsd\"/>\n",
    "\t<!-- ________________________________________________________________________________________________________________ -->\n",
    "\t<xsd:annotation>\n",
    "\t\t<xsd:documentation>Specification: </xsd:documentation>\n",
    "\t\t<xsd:documentation>Issue number: 4.0</xsd:documentation>\n",
    "\t\t<xsd:documentation>Issue date: 2024-09-30</xsd:documentation>\n",
    "\t\t<xsd:documentation>Data model file: S5000F_4-0_Data_model_000-85.EAP</xsd:documentation>\n",
    "\t\t<xsd:documentation>XML schema release number: 004-00</xsd:documentation>\n",
    "\t\t<xsd:documentation>XML schema release date: 2024-09-30</xsd:documentation>\n",
    "\t\t<xsd:documentation>URL: http://www.s5000f.org</xsd:documentation>\n",
    "\t\t<xsd:documentation>Root element: isfDataset</xsd:documentation>\n",
    "\t\t<xsd:documentation>XSD generator version: DMEWG_GEN_2-0_002-43</xsd:documentation>\n",
    "\t\t<xsd:documentation>Copyright:\n",
    "   Copyright (c) 2016-2024 by AeroSpace, Security and Defence Industries Association of Europe (ASD).\n",
    "   \n",
    "   Limitations of Liability:\n",
    "   \n",
    "   1. This material is provided 'As Is' and neither ASD nor any person who has contributed to the creation, revision or maintenance of\n",
    "      the material makes any representations or warranties, express or implied, including but not limited to, warranties of\n",
    "      merchantability or fitness for any particular purpose.\n",
    "   2. Neither ASD nor any person who has contributed to the creation, revision or maintenance of this material shall be liable for any\n",
    "      direct, indirect, special or consequential damages or any other liability arising from any use of this material.\n",
    "   3. Revisions to this document may occur after its issuance. The user is responsible for determining if revisions to the material\n",
    "      contained in this document have occurred and are applicable.\n",
    "   \n",
    "  </xsd:documentation>\n",
    "\t</xsd:annotation>\n",
    "\t<!-- ________________________________________________________________________________________________________________ -->\n",
    "\t<xsd:import namespace=\"http://www.asd-europe.org/s-series/s5000f/validValues\" schemaLocation=\"s5000f_4-0_valid_values.xsd\"/>\n",
    "\t<!-- ________________________________________________________________________________________________________________ -->\n",
    "\t<xsd:include schemaLocation=\"s5000f_4-0_project_specific_exchanges.xsd\"/>\n",
    "\t<!-- ________________________________________________________________________________________________________________ -->\n",
    "\t<xsd:element name=\"isfDataset\" type=\"message\"/>\n",
    " </xsd:schema>\n",
    " '''"
   ]
  },
  {
   "cell_type": "code",
   "execution_count": 18,
   "id": "4e7e0349-fa01-4aac-81d0-15fa1ac226e3",
   "metadata": {},
   "outputs": [],
   "source": [
    "root = etree.fromstring(root_str)"
   ]
  },
  {
   "cell_type": "markdown",
   "id": "f7a7f059-e23e-42d1-9c56-318d511eb7a2",
   "metadata": {},
   "source": [
    "## Message"
   ]
  },
  {
   "cell_type": "markdown",
   "id": "af01a19b-b268-4cb1-ae62-4e4e8d3b939e",
   "metadata": {},
   "source": [
    "### UML \\<\\<Class\\>\\> classes "
   ]
  },
  {
   "cell_type": "markdown",
   "id": "171ad79a-ea39-4398-b8c4-16b3b3da8606",
   "metadata": {},
   "source": [
    "<ol><li>A &lt;complexType&gt; is created in the UML class model XML schema.</li>\n",
    "<li>This &lt;complexType&gt; is a child of the &lt;xsd:schema&gt; element.</li>\n",
    "<li>This &lt;complexType&gt; has an attribute name which contains the UML class model. Its first letter is lowercase.</li></ol>\n",
    "\n",
    "*Note: All UML class, interface and attribute names must be unique. So it is wise to check that there are no UML class name in the UML model.*\n",
    "\n",
    "<ol><li>The &lt;complexType&gt; contains &lt;xsd:annotation&gt;&lt;xsd:documentation&gt; and &lt;xsd:appinfo&gt;&lt;source&gt;.</li>>>"
   ]
  },
  {
   "cell_type": "markdown",
   "id": "0b1a2d37-b1c4-4b74-a9d4-78f9b0d04d5a",
   "metadata": {},
   "source": [
    "\n",
    "\n",
    "a 16)\n",
    "\tThe definition of the <complexType> must be an extension of either:\n",
    "•\tA <complexType> defined for the UML class in the uid patterns XML schema (refer to Para 8.5)\n",
    "•\tA <complexType> that represents a generalized UML class, if the UML class itself is a specialization of another UML class\n"
   ]
  },
  {
   "cell_type": "code",
   "execution_count": 19,
   "id": "f88de39d-c82c-4f8d-8f2c-885a780b2c4f",
   "metadata": {},
   "outputs": [],
   "source": [
    "s5f_class = s5f_class_attrib[s5f_class_attrib['stereotype'] .isin(['class', 'exchange'])]\n",
    "\n",
    "s5f_class = pd.concat([\n",
    "    s5f_class[s5f_class['xmlName'].str.startswith('uc')].sort_values(by='xmlName'),\n",
    "    s5f_class[~s5f_class['xmlName'].str.startswith('uc')].sort_values(by='name')\n",
    "])\n",
    "\n",
    "s5f_class.head()\n",
    "\n",
    "s5f_class.to_excel(\"s5f_class.xlsx\")"
   ]
  },
  {
   "cell_type": "code",
   "execution_count": 20,
   "id": "964e8799-b7b3-4199-8d2f-a1d5c97100b3",
   "metadata": {},
   "outputs": [],
   "source": [
    "# filter dataframe to keep only exchanges and classes\n",
    "s5f_class = s5f_class_attrib[s5f_class_attrib['stereotype'] .isin(['class', 'exchange'])]\n",
    "\n",
    "# order dataframe to align with xsd complexType order\n",
    "s5f_class = pd.concat([\n",
    "    s5f_class[s5f_class['xmlName'].str.startswith('uc')].sort_values(by='xmlName'),\n",
    "    s5f_class[~s5f_class['xmlName'].str.startswith('uc')].sort_values(by='name')\n",
    "])\n",
    "\n",
    "# Adjust dataframe name, documentation and source to feed complexType element\n",
    "s5f_class['Name'] = s5f_class['name'].astype(str).apply(lambda x: x[:1].lower() + x[1:] if x else x)\n",
    "s5f_class['documentation'] = s5f_class['documentation'].astype(str).apply(lambda x: x.replace('<<', '[').replace('>>', ']'))\n",
    "s5f_class['source'] = s5f_class['source'].astype(str).apply(lambda x: x.replace('_Data_model_75BR', ':'))+s5f_class['name']\n",
    "\n",
    "# Patch to remove duplicate rows (like Infrastructure and MaintenanceFacility)\n",
    "s5f_class = s5f_class.drop_duplicates(subset=\"Name\", keep=\"first\")\n",
    "\n",
    "# Store in excel file to review the result\n",
    "s5f_class.to_excel(\"Result.xlsx\")"
   ]
  },
  {
   "cell_type": "code",
   "execution_count": 21,
   "id": "fa4d55d1-14fd-4ebc-9a29-7f91672c7468",
   "metadata": {},
   "outputs": [
    {
     "data": {
      "text/html": [
       "<div>\n",
       "<style scoped>\n",
       "    .dataframe tbody tr th:only-of-type {\n",
       "        vertical-align: middle;\n",
       "    }\n",
       "\n",
       "    .dataframe tbody tr th {\n",
       "        vertical-align: top;\n",
       "    }\n",
       "\n",
       "    .dataframe thead th {\n",
       "        text-align: right;\n",
       "    }\n",
       "</style>\n",
       "<table border=\"1\" class=\"dataframe\">\n",
       "  <thead>\n",
       "    <tr style=\"text-align: right;\">\n",
       "      <th></th>\n",
       "      <th>name</th>\n",
       "      <th>xmlName</th>\n",
       "      <th>documentation</th>\n",
       "      <th>identifier</th>\n",
       "      <th>stereotype</th>\n",
       "      <th>lower</th>\n",
       "      <th>upper</th>\n",
       "      <th>class</th>\n",
       "      <th>source</th>\n",
       "      <th>Name</th>\n",
       "    </tr>\n",
       "  </thead>\n",
       "  <tbody>\n",
       "    <tr>\n",
       "      <th>995</th>\n",
       "      <td>InServiceDataFeedback</td>\n",
       "      <td>uc50000</td>\n",
       "      <td>InServiceDataFeedback is an [exchange] that re...</td>\n",
       "      <td>EAID_7DCA9B08_277E_4f57_82A6_E37206829643</td>\n",
       "      <td>exchange</td>\n",
       "      <td>NaN</td>\n",
       "      <td>NaN</td>\n",
       "      <td>NaN</td>\n",
       "      <td>S5000F:InServiceDataFeedback</td>\n",
       "      <td>inServiceDataFeedback</td>\n",
       "    </tr>\n",
       "    <tr>\n",
       "      <th>1001</th>\n",
       "      <td>MonitorEquipmentPerformance</td>\n",
       "      <td>uc50301</td>\n",
       "      <td>MonitorEquipmentPerformance is an [exchange] t...</td>\n",
       "      <td>EAID_2A4BBD19_F50F_42d6_9102_5293FAD785F9</td>\n",
       "      <td>exchange</td>\n",
       "      <td>NaN</td>\n",
       "      <td>NaN</td>\n",
       "      <td>NaN</td>\n",
       "      <td>S5000F:MonitorEquipmentPerformance</td>\n",
       "      <td>monitorEquipmentPerformance</td>\n",
       "    </tr>\n",
       "    <tr>\n",
       "      <th>996</th>\n",
       "      <td>InfluenceDesign</td>\n",
       "      <td>uc50302</td>\n",
       "      <td>InfluenceDesign is an [exchange] that represen...</td>\n",
       "      <td>EAID_7A18B51B_8139_4df1_94FC_786278895B85</td>\n",
       "      <td>exchange</td>\n",
       "      <td>NaN</td>\n",
       "      <td>NaN</td>\n",
       "      <td>NaN</td>\n",
       "      <td>S5000F:InfluenceDesign</td>\n",
       "      <td>influenceDesign</td>\n",
       "    </tr>\n",
       "    <tr>\n",
       "      <th>1067</th>\n",
       "      <td>ReportTrendsAndFailures</td>\n",
       "      <td>uc50303</td>\n",
       "      <td>ReportTrendsAndFailures is an [exchange] that ...</td>\n",
       "      <td>EAID_14E07D01_BD06_407b_B981_8C890E8D56A8</td>\n",
       "      <td>exchange</td>\n",
       "      <td>NaN</td>\n",
       "      <td>NaN</td>\n",
       "      <td>NaN</td>\n",
       "      <td>S5000F:ReportTrendsAndFailures</td>\n",
       "      <td>reportTrendsAndFailures</td>\n",
       "    </tr>\n",
       "    <tr>\n",
       "      <th>1030</th>\n",
       "      <td>ReportAvailability</td>\n",
       "      <td>uc50304</td>\n",
       "      <td>ReportAvailability is an [exchange] that repre...</td>\n",
       "      <td>EAID_BB0176F4_2AC8_4bc7_B6A7_1B044C2A25CC</td>\n",
       "      <td>exchange</td>\n",
       "      <td>NaN</td>\n",
       "      <td>NaN</td>\n",
       "      <td>NaN</td>\n",
       "      <td>S5000F:ReportAvailability</td>\n",
       "      <td>reportAvailability</td>\n",
       "    </tr>\n",
       "  </tbody>\n",
       "</table>\n",
       "</div>"
      ],
      "text/plain": [
       "                             name  xmlName  \\\n",
       "995         InServiceDataFeedback  uc50000   \n",
       "1001  MonitorEquipmentPerformance  uc50301   \n",
       "996               InfluenceDesign  uc50302   \n",
       "1067      ReportTrendsAndFailures  uc50303   \n",
       "1030           ReportAvailability  uc50304   \n",
       "\n",
       "                                          documentation  \\\n",
       "995   InServiceDataFeedback is an [exchange] that re...   \n",
       "1001  MonitorEquipmentPerformance is an [exchange] t...   \n",
       "996   InfluenceDesign is an [exchange] that represen...   \n",
       "1067  ReportTrendsAndFailures is an [exchange] that ...   \n",
       "1030  ReportAvailability is an [exchange] that repre...   \n",
       "\n",
       "                                     identifier stereotype lower upper class  \\\n",
       "995   EAID_7DCA9B08_277E_4f57_82A6_E37206829643   exchange   NaN   NaN   NaN   \n",
       "1001  EAID_2A4BBD19_F50F_42d6_9102_5293FAD785F9   exchange   NaN   NaN   NaN   \n",
       "996   EAID_7A18B51B_8139_4df1_94FC_786278895B85   exchange   NaN   NaN   NaN   \n",
       "1067  EAID_14E07D01_BD06_407b_B981_8C890E8D56A8   exchange   NaN   NaN   NaN   \n",
       "1030  EAID_BB0176F4_2AC8_4bc7_B6A7_1B044C2A25CC   exchange   NaN   NaN   NaN   \n",
       "\n",
       "                                  source                         Name  \n",
       "995         S5000F:InServiceDataFeedback        inServiceDataFeedback  \n",
       "1001  S5000F:MonitorEquipmentPerformance  monitorEquipmentPerformance  \n",
       "996               S5000F:InfluenceDesign              influenceDesign  \n",
       "1067      S5000F:ReportTrendsAndFailures      reportTrendsAndFailures  \n",
       "1030           S5000F:ReportAvailability           reportAvailability  "
      ]
     },
     "execution_count": 21,
     "metadata": {},
     "output_type": "execute_result"
    }
   ],
   "source": [
    "s5f_class.head()"
   ]
  },
  {
   "cell_type": "code",
   "execution_count": 22,
   "id": "0d3316a2-f11c-42b8-8f7a-45ee30b424ee",
   "metadata": {},
   "outputs": [],
   "source": [
    "df= s5f_class"
   ]
  },
  {
   "cell_type": "code",
   "execution_count": 23,
   "id": "16c5c186-0faa-4bf9-a239-bb633e50d1cf",
   "metadata": {},
   "outputs": [],
   "source": [
    "# XML Namespace\n",
    "XSD_NS = \"http://www.w3.org/2001/XMLSchema\"\n",
    "XSD = \"{%s}\" % XSD_NS  # Namespace format for lxml\n",
    "\n",
    "# Function to create XML for each row\n",
    "def create_complex_type_xml(name, documentation, source):\n",
    "    # Create comment starting line\n",
    "    \n",
    "    # Create complexType element\n",
    "    complex_type = etree.Element(f\"{XSD}complexType\", attrib={\"name\": name}, nsmap={\"xsd\": XSD_NS})\n",
    "\n",
    "    # Create and append annotation with documentation and source\n",
    "    annotation = etree.SubElement(complex_type, f\"{XSD}annotation\")\n",
    "    doc_element = etree.SubElement(annotation, f\"{XSD}documentation\")\n",
    "    doc_element.text = documentation  # Set the documentation text\n",
    "\n",
    "    appinfo = etree.SubElement(annotation, f\"{XSD}appinfo\")\n",
    "    source_element = etree.SubElement(appinfo, \"source\")\n",
    "    source_element.text = source  # Set the source text\n",
    "\n",
    "    # Empty sequence\n",
    "    etree.SubElement(complex_type, f\"{XSD}sequence\")\n",
    "\n",
    "    # Add attributes to complexType\n",
    "    uid_attr = etree.SubElement(complex_type, f\"{XSD}attribute\", name=\"uid\", use=\"optional\")\n",
    "    simple_type = etree.SubElement(uid_attr, f\"{XSD}simpleType\")\n",
    "    restriction = etree.SubElement(simple_type, f\"{XSD}restriction\", base=f\"xsd:ID\")\n",
    "    etree.SubElement(restriction, f\"{XSD}pattern\", value=\"\")    \n",
    "\n",
    "    etree.SubElement(complex_type, f\"{XSD}attribute\", name=\"uri\", type=f\"xsd:anyURI\", use=\"optional\")\n",
    "    etree.SubElement(complex_type, f\"{XSD}attribute\", name=\"crud\", type=\"crudCode\", default=\"I\")\n",
    "\n",
    "    return complex_type\n",
    "\n",
    "# Create the root XML element <xsd:schema>\n",
    "#root = etree.Element(f\"{XSD}schema\", nsmap={\"xsd\": XSD_NS})\n",
    "\n",
    "# Iterate through each row and append its complexType to the root\n",
    "for _, row in df.iterrows():\n",
    "    # Insert a comment line before each complexType\n",
    "    comment = etree.Comment('________________________________________________________________________________________________________________')\n",
    "    root.append(comment)\n",
    "    # Create and append the complexType\n",
    "    complex_type_element = create_complex_type_xml(row[\"Name\"], row[\"documentation\"], row[\"source\"])\n",
    "    root.append(complex_type_element)\n",
    "\n",
    "\n",
    "\n"
   ]
  },
  {
   "cell_type": "markdown",
   "id": "0c27ba35-414e-4be7-8cb3-f4a5f012569f",
   "metadata": {},
   "source": [
    "## Base Schema Definition"
   ]
  },
  {
   "cell_type": "code",
   "execution_count": 24,
   "id": "892800d5-df56-4dbc-b9df-86fb71278a46",
   "metadata": {},
   "outputs": [],
   "source": [
    "base_str = \"\"\"<xsd:schema xmlns:xsd=\"http://www.w3.org/2001/XMLSchema\">\n",
    "<!-- ===================================== BASE SCHEMA DEFINITIONS ====================================== -->\n",
    "\t<xsd:simpleType name=\"uidRef\">\n",
    "\t\t<xsd:restriction base=\"xsd:IDREF\"/>\n",
    "\t</xsd:simpleType>\n",
    "\t<xsd:simpleType name=\"nonEmptyString\">\n",
    "\t\t<xsd:restriction base=\"xsd:token\">\n",
    "\t\t\t<xsd:minLength value=\"1\"/>\n",
    "\t\t</xsd:restriction>\n",
    "\t</xsd:simpleType>\n",
    "\t<xsd:simpleType name=\"crudCode\">\n",
    "\t\t<xsd:restriction base=\"xsd:string\">\n",
    "\t\t\t<xsd:enumeration value=\"I\">\n",
    "\t\t\t\t<xsd:annotation>\n",
    "\t\t\t\t\t<xsd:appinfo>\n",
    "\t\t\t\t\t\t<source>SX001G:insertedElement</source>\n",
    "\t\t\t\t\t</xsd:appinfo>\n",
    "\t\t\t\t</xsd:annotation>\n",
    "\t\t\t</xsd:enumeration>\n",
    "\t\t\t<xsd:enumeration value=\"D\">\n",
    "\t\t\t\t<xsd:annotation>\n",
    "\t\t\t\t\t<xsd:appinfo>\n",
    "\t\t\t\t\t\t<source>SX001G:deletedElement</source>\n",
    "\t\t\t\t\t</xsd:appinfo>\n",
    "\t\t\t\t</xsd:annotation>\n",
    "\t\t\t</xsd:enumeration>\n",
    "\t\t\t<xsd:enumeration value=\"U\">\n",
    "\t\t\t\t<xsd:annotation>\n",
    "\t\t\t\t\t<xsd:appinfo>\n",
    "\t\t\t\t\t\t<source>SX001G:updatedElement</source>\n",
    "\t\t\t\t\t</xsd:appinfo>\n",
    "\t\t\t\t</xsd:annotation>\n",
    "\t\t\t</xsd:enumeration>\n",
    "\t\t\t<xsd:enumeration value=\"R\">\n",
    "\t\t\t\t<xsd:annotation>\n",
    "\t\t\t\t\t<xsd:appinfo>\n",
    "\t\t\t\t\t\t<source>SX001G:replacedElement</source>\n",
    "\t\t\t\t\t</xsd:appinfo>\n",
    "\t\t\t\t</xsd:annotation>\n",
    "\t\t\t</xsd:enumeration>\n",
    "\t\t\t<xsd:enumeration value=\"N\">\n",
    "\t\t\t\t<xsd:annotation>\n",
    "\t\t\t\t\t<xsd:appinfo>\n",
    "\t\t\t\t\t\t<source>SX001G:nonChangedElement</source>\n",
    "\t\t\t\t\t</xsd:appinfo>\n",
    "\t\t\t\t</xsd:annotation>\n",
    "\t\t\t</xsd:enumeration>\n",
    "\t\t</xsd:restriction>\n",
    "\t</xsd:simpleType>\n",
    "</xsd:schema>\n",
    " \"\"\""
   ]
  },
  {
   "cell_type": "code",
   "execution_count": 25,
   "id": "c48e90e4-5d20-457e-b8f7-68cd6953d82c",
   "metadata": {},
   "outputs": [],
   "source": [
    "base = etree.fromstring(base_str)\n",
    "root.append(base)"
   ]
  },
  {
   "cell_type": "code",
   "execution_count": 26,
   "id": "ed9e84a5-4ed9-45cd-b21a-7013d514aa59",
   "metadata": {},
   "outputs": [
    {
     "name": "stdout",
     "output_type": "stream",
     "text": [
      "<xsd:schema xmlns:xsd=\"http://www.w3.org/2001/XMLSchema\" xmlns:xsig=\"http://www.w3.org/2000/09/xmldsig#\" xmlns=\"http://www.asd-europe.org/s-series/s5000f\" xmlns:vc=\"http://www.w3.org/2007/XMLSchema-versioning\" xmlns:value=\"http://www.asd-europe.org/s-series/s5000f/validValues\" xmlns:unit=\"http://www.asd-europe.org/s-series/s5000f/validValues\" targetNamespace=\"http://www.asd-europe.org/s-series/s5000f\" version=\"004-00\" vc:minVersion=\"1.1\">\n",
      "\t<!-- ________________________________________________________________________________________________________________ -->\n",
      "\t<xsd:import namespace=\"http://www.w3.org/2000/09/xmldsig#\" schemaLocation=\"http://www.w3.org/TR/2008/REC-xmldsig-core-20080610/xmldsig-core-schema.xsd\"/>\n",
      "\t<!-- ________________________________________________________________________________________________________________ -->\n",
      "\t<xsd:annotation>\n",
      "\t\t<xsd:documentation>Specification: </xsd:documentation>\n",
      "\t\t<xsd:documentation>Issue number: 4.0</xsd:documentation>\n",
      "\t\t<xsd:documentation>Issue date: 2024-09-30</xsd:documentation>\n",
      "\t\t<xsd:documentation>Data model file: S5000F_4-0_Data_model_000-85.EAP</xsd:documentation>\n",
      "\t\t<xsd:documentation>XML schema release number: 004-00</xsd:documentation>\n",
      "\t\t<xsd:documentation>XML schema release date: 2024-09-30</xsd:documentation>\n",
      "\t\t<xsd:documentation>URL: http://www.s5000f.org</xsd:documentation>\n",
      "\t\t<xsd:documentation>Root element: isfDataset</xsd:documentation>\n",
      "\t\t<xsd:documentation>XSD generator version: DMEWG_GEN_2-0_002-43</xsd:documentation>\n",
      "\t\t<xsd:documentation>Copyright:\n",
      "   Copyright (c) 2016-2024 by AeroSpace, Security and Defence Industries Association of Europe (ASD).\n",
      "   \n",
      "   Limitations of Liability:\n",
      "   \n",
      "   1. This material is provided 'As Is' and neither ASD nor any person who has contributed to the creation, revision or maintenance of\n",
      "      the material makes any representations or warranties, express or implied, including but not limited to, warranties of\n",
      "      merchantability or fitness for any particular purpose.\n",
      "   2. Neither ASD nor any person who has contributed to the creation, revision or maintenance of this material shall be liable for any\n",
      "      direct, indirect, special or consequential damages or any other liability arising from any use of this material.\n",
      "   3. Revisions to this document may occur after its issuance. The user is responsible for determining if revisions to the material\n",
      "      contained in this document have occurred and are applicable.\n",
      "   \n",
      "  </xsd:documentation>\n",
      "\t</xsd:annotation>\n",
      "\t<!-- ________________________________________________________________________________________________________________ -->\n",
      "\t<xsd:import namespace=\"http://www.asd-europe.org/s-series/s5000f/validValues\" schemaLocation=\"s5000f_4-0_valid_values.xsd\"/>\n",
      "\t<!-- ________________________________________________________________________________________________________________ -->\n",
      "\t<xsd:include schemaLocation=\"s5000f_4-0_project_specific_exchanges.xsd\"/>\n",
      "\t<!-- ________________________________________________________________________________________________________________ -->\n",
      "\t<xsd:element name=\"isfDataset\" type=\"message\"/>\n",
      " <!--________________________________________________________________________________________________________________--><xsd:complexType name=\"inServiceDataFeedback\"><xsd:annotation><xsd:documentation>InServiceDataFeedback is an [exchange] that represents a message providing all the necessary information required for a generic use case (UC50000) that allows all S5000F information to be sent.</xsd:documentation><xsd:appinfo><source>S5000F:InServiceDataFeedback</source></xsd:appinfo></xsd:annotation><xsd:sequence/><xsd:attribute name=\"uid\" use=\"optional\"><xsd:simpleType><xsd:restriction base=\"xsd:ID\"><xsd:pattern value=\"\"/></xsd:restriction></xsd:simpleType></xsd:attribute><xsd:attribute name=\"uri\" type=\"xsd:anyURI\" use=\"optional\"/><xsd:attribute name=\"crud\" type=\"crudCode\" default=\"I\"/></xsd:complexType><!--________________________________________________________________________________________________________________--><xsd:complexType name=\"monitorEquipmentPerformance\"><xsd:annotation><xsd:documentation>MonitorEquipmentPerformance is an [exchange] that represents a message associated with a use case (UC50301) providing the necessary information to be able to monitor the performance of an equipment.</xsd:documentation><xsd:appinfo><source>S5000F:MonitorEquipmentPerformance</source></xsd:appinfo></xsd:annotation><xsd:sequence/><xsd:attribute name=\"uid\" use=\"optional\"><xsd:simpleType><xsd:restriction base=\"xsd:ID\"><xsd:pattern value=\"\"/></xsd:restriction></xsd:simpleType></xsd:attribute><xsd:attribute name=\"uri\" type=\"xsd:anyURI\" use=\"optional\"/><xsd:attribute name=\"crud\" type=\"crudCode\" default=\"I\"/></xsd:complexType><!--________________________________________________________________________________________________________________--><xsd:complexType name=\"influenceDesign\"><xsd:annotation><xsd:documentation>InfluenceDesign is an [exchange] that represents a message associated with a use case (UC50302) providing the necessary information to be able to raise a change request.</xsd:documentation><xsd:appinfo><source>S5000F:InfluenceDesign</source></xsd:appinfo></xsd:annotation><xsd:sequence/><xsd:attribute name=\"uid\" use=\"optional\"><xsd:simpleType><xsd:restriction base=\"xsd:ID\"><xsd:pattern value=\"\"/></xsd:restriction></xsd:simpleType></xsd:attribute><xsd:attribute name=\"uri\" type=\"xsd:anyURI\" use=\"optional\"/><xsd:attribute name=\"crud\" type=\"crudCode\" default=\"I\"/></xsd:complexType><!--________________________________________________________________________________________________________________--><xsd:complexType name=\"reportTrendsAndFailures\"><xsd:annotation><xsd:documentation>ReportTrendsAndFailures is an [exchange] that represents a message associated with a use case (UC50303) providing the information about failures in order to report failure trends.</xsd:documentation><xsd:appinfo><source>S5000F:ReportTrendsAndFailures</source></xsd:appinfo></xsd:annotation><xsd:sequence/><xsd:attribute name=\"uid\" use=\"optional\"><xsd:simpleType><xsd:restriction base=\"xsd:ID\"><xsd:pattern value=\"\"/></xsd:restriction></xsd:simpleType></xsd:attribute><xsd:attribute name=\"uri\" type=\"xsd:anyURI\" use=\"optional\"/><xsd:attribute name=\"crud\" type=\"crudCode\" default=\"I\"/></xsd:complexType><!--________________________________________________________________________________________________________________--><xsd:complexType name=\"reportAvailability\"><xsd:annotation><xsd:documentation>ReportAvailability is an [exchange] that represents a message associated with a use case (UC50304) allowing the availability of a serialized Product item and the root causes for non-availability to be reported.</xsd:documentation><xsd:appinfo><source>S5000F:ReportAvailability</source></xsd:appinfo></xsd:annotation><xsd:sequence/><xsd:attribute name=\"uid\" use=\"optional\"><xsd:simpleType><xsd:restriction base=\"xsd:ID\"><xsd:pattern value=\"\"/></xsd:restriction></xsd:simpleType></xsd:attribute><xsd:attribute name=\"uri\" type=\"xsd:anyURI\" use=\"optional\"/><xsd:attribute name=\"crud\" type=\"crudCode\" default=\"I\"/></xsd:complexType><!--________________________________________________________________________________________________________________--><xsd:complexType name=\"maintenanceManagementAvailability\"><xsd:annotation><xsd:documentation>MaintenanceManagementAvailability is an [exchange] that represents a message associated with a use case (UC50305) providing the necessary information to management maintenance, and contract for availability.</xsd:documentation><xsd:appinfo><source>S5000F:MaintenanceManagementAvailability</source></xsd:appinfo></xsd:annotation><xsd:sequence/><xsd:attribute name=\"uid\" use=\"optional\"><xsd:simpleType><xsd:restriction base=\"xsd:ID\"><xsd:pattern value=\"\"/></xsd:restriction></xsd:simpleType></xsd:attribute><xsd:attribute name=\"uri\" type=\"xsd:anyURI\" use=\"optional\"/><xsd:attribute name=\"crud\" type=\"crudCode\" default=\"I\"/></xsd:complexType><!--________________________________________________________________________________________________________________--><xsd:complexType name=\"maintainabilityEffectiveness\"><xsd:annotation><xsd:documentation>MaintainabilityEffectiveness is an [exchange] that represents a message associated with a use case (UC50305) providing the necessary information to assess the effectiveness of maintenance.</xsd:documentation><xsd:appinfo><source>S5000F:MaintainabilityEffectiveness</source></xsd:appinfo></xsd:annotation><xsd:sequence/><xsd:attribute name=\"uid\" use=\"optional\"><xsd:simpleType><xsd:restriction base=\"xsd:ID\"><xsd:pattern value=\"\"/></xsd:restriction></xsd:simpleType></xsd:attribute><xsd:attribute name=\"uri\" type=\"xsd:anyURI\" use=\"optional\"/><xsd:attribute name=\"crud\" type=\"crudCode\" default=\"I\"/></xsd:complexType><!--________________________________________________________________________________________________________________--><xsd:complexType name=\"retainingPerformance\"><xsd:annotation><xsd:documentation>RetainingPerformance is an [exchange] that represents a message associated with a use case (UC50307) providing the information required to ensure that proper Product performance is maintained.</xsd:documentation><xsd:appinfo><source>S5000F:RetainingPerformance</source></xsd:appinfo></xsd:annotation><xsd:sequence/><xsd:attribute name=\"uid\" use=\"optional\"><xsd:simpleType><xsd:restriction base=\"xsd:ID\"><xsd:pattern value=\"\"/></xsd:restriction></xsd:simpleType></xsd:attribute><xsd:attribute name=\"uri\" type=\"xsd:anyURI\" use=\"optional\"/><xsd:attribute name=\"crud\" type=\"crudCode\" default=\"I\"/></xsd:complexType><!--________________________________________________________________________________________________________________--><xsd:complexType name=\"reportMissionCapability\"><xsd:annotation><xsd:documentation>ReportMissionCapability is an [exchange] that represents a message associated with a use case (UC50308) providing the information required to report on whether an individual Product is or not mission cable.</xsd:documentation><xsd:appinfo><source>S5000F:ReportMissionCapability</source></xsd:appinfo></xsd:annotation><xsd:sequence/><xsd:attribute name=\"uid\" use=\"optional\"><xsd:simpleType><xsd:restriction base=\"xsd:ID\"><xsd:pattern value=\"\"/></xsd:restriction></xsd:simpleType></xsd:attribute><xsd:attribute name=\"uri\" type=\"xsd:anyURI\" use=\"optional\"/><xsd:attribute name=\"crud\" type=\"crudCode\" default=\"I\"/></xsd:complexType><!--________________________________________________________________________________________________________________--><xsd:complexType name=\"reportEfficiencyAndPerformance\"><xsd:annotation><xsd:documentation>ReportEfficiencyAndPerformance is an [exchange] that represents a message associated with a use case (UC50309) allowing efficiency and performance metrics to be reported.</xsd:documentation><xsd:appinfo><source>S5000F:ReportEfficiencyAndPerformance</source></xsd:appinfo></xsd:annotation><xsd:sequence/><xsd:attribute name=\"uid\" use=\"optional\"><xsd:simpleType><xsd:restriction base=\"xsd:ID\"><xsd:pattern value=\"\"/></xsd:restriction></xsd:simpleType></xsd:attribute><xsd:attribute name=\"uri\" type=\"xsd:anyURI\" use=\"optional\"/><xsd:attribute name=\"crud\" type=\"crudCode\" default=\"I\"/></xsd:complexType><!--________________________________________________________________________________________________________________--><xsd:complexType name=\"reportTestability\"><xsd:annotation><xsd:documentation>ReportTestability is an [exchange] that represents a message associated with a use case (UC50310) providing the information required to assess the testability of an item.</xsd:documentation><xsd:appinfo><source>S5000F:ReportTestability</source></xsd:appinfo></xsd:annotation><xsd:sequence/><xsd:attribute name=\"uid\" use=\"optional\"><xsd:simpleType><xsd:restriction base=\"xsd:ID\"><xsd:pattern value=\"\"/></xsd:restriction></xsd:simpleType></xsd:attribute><xsd:attribute name=\"uri\" type=\"xsd:anyURI\" use=\"optional\"/><xsd:attribute name=\"crud\" type=\"crudCode\" default=\"I\"/></xsd:complexType><!--________________________________________________________________________________________________________________--><xsd:complexType name=\"reportFaultDiagnostics\"><xsd:annotation><xsd:documentation>ReportFaultDiagnostics is an [exchange] that represents a message associated with a use case (UC50311) allowing fault diagnostics data to be provided.</xsd:documentation><xsd:appinfo><source>S5000F:ReportFaultDiagnostics</source></xsd:appinfo></xsd:annotation><xsd:sequence/><xsd:attribute name=\"uid\" use=\"optional\"><xsd:simpleType><xsd:restriction base=\"xsd:ID\"><xsd:pattern value=\"\"/></xsd:restriction></xsd:simpleType></xsd:attribute><xsd:attribute name=\"uri\" type=\"xsd:anyURI\" use=\"optional\"/><xsd:attribute name=\"crud\" type=\"crudCode\" default=\"I\"/></xsd:complexType><!--________________________________________________________________________________________________________________--><xsd:complexType name=\"reportManufacturerMaintenanceSchedule\"><xsd:annotation><xsd:documentation>ReportManufacturerMaintenanceSchedule is an [exchange] that represents a message associated with a use case (UC50401) providing the information required to report on the maintenance schedule defined by the manufacturer of a Product.</xsd:documentation><xsd:appinfo><source>S5000F:ReportManufacturerMaintenanceSchedule</source></xsd:appinfo></xsd:annotation><xsd:sequence/><xsd:attribute name=\"uid\" use=\"optional\"><xsd:simpleType><xsd:restriction base=\"xsd:ID\"><xsd:pattern value=\"\"/></xsd:restriction></xsd:simpleType></xsd:attribute><xsd:attribute name=\"uri\" type=\"xsd:anyURI\" use=\"optional\"/><xsd:attribute name=\"crud\" type=\"crudCode\" default=\"I\"/></xsd:complexType><!--________________________________________________________________________________________________________________--><xsd:complexType name=\"reportProductUserMaintenanceProgram\"><xsd:annotation><xsd:documentation>ReportProductUserMaintenanceProgram is an [exchange] that represents a message associated with a use case (UC50402) providing the information required to report on the maintenance program provided by the Original Equipment Manufacturer (OEM) of the Product or by the operator.</xsd:documentation><xsd:appinfo><source>S5000F:ReportProductUserMaintenanceProgram</source></xsd:appinfo></xsd:annotation><xsd:sequence/><xsd:attribute name=\"uid\" use=\"optional\"><xsd:simpleType><xsd:restriction base=\"xsd:ID\"><xsd:pattern value=\"\"/></xsd:restriction></xsd:simpleType></xsd:attribute><xsd:attribute name=\"uri\" type=\"xsd:anyURI\" use=\"optional\"/><xsd:attribute name=\"crud\" type=\"crudCode\" default=\"I\"/></xsd:complexType><!--________________________________________________________________________________________________________________--><xsd:complexType name=\"reportMaintenancePerformed\"><xsd:annotation><xsd:documentation>ReportMaintenancePerformed is an [exchange] that represents a message associated with a use case (UC50403) providing the information required to report on the maintenance that has been performed on a Product.</xsd:documentation><xsd:appinfo><source>S5000F:ReportMaintenancePerformed</source></xsd:appinfo></xsd:annotation><xsd:sequence/><xsd:attribute name=\"uid\" use=\"optional\"><xsd:simpleType><xsd:restriction base=\"xsd:ID\"><xsd:pattern value=\"\"/></xsd:restriction></xsd:simpleType></xsd:attribute><xsd:attribute name=\"uri\" type=\"xsd:anyURI\" use=\"optional\"/><xsd:attribute name=\"crud\" type=\"crudCode\" default=\"I\"/></xsd:complexType><!--________________________________________________________________________________________________________________--><xsd:complexType name=\"reportProductPerformance\"><xsd:annotation><xsd:documentation>ReportProductPerformance is an [exchange] that represents a message associated with a use case (UC50404) providing the information required to report on the performance of a Product.</xsd:documentation><xsd:appinfo><source>S5000F:ReportProductPerformance</source></xsd:appinfo></xsd:annotation><xsd:sequence/><xsd:attribute name=\"uid\" use=\"optional\"><xsd:simpleType><xsd:restriction base=\"xsd:ID\"><xsd:pattern value=\"\"/></xsd:restriction></xsd:simpleType></xsd:attribute><xsd:attribute name=\"uri\" type=\"xsd:anyURI\" use=\"optional\"/><xsd:attribute name=\"crud\" type=\"crudCode\" default=\"I\"/></xsd:complexType><!--________________________________________________________________________________________________________________--><xsd:complexType name=\"reportNewModifications\"><xsd:annotation><xsd:documentation>ReportNewModifications is an [exchange] that represents a message associated with a use case (UC50405) providing the information required to report on new modifications to the Product.</xsd:documentation><xsd:appinfo><source>S5000F:ReportNewModifications</source></xsd:appinfo></xsd:annotation><xsd:sequence/><xsd:attribute name=\"uid\" use=\"optional\"><xsd:simpleType><xsd:restriction base=\"xsd:ID\"><xsd:pattern value=\"\"/></xsd:restriction></xsd:simpleType></xsd:attribute><xsd:attribute name=\"uri\" type=\"xsd:anyURI\" use=\"optional\"/><xsd:attribute name=\"crud\" type=\"crudCode\" default=\"I\"/></xsd:complexType><!--________________________________________________________________________________________________________________--><xsd:complexType name=\"reportTechnicalQueries\"><xsd:annotation><xsd:documentation>ReportTechnicalQueries is an [exchange] that represents a message associated with a use case (UC50406) providing the information required to perform a technical query and receive a response.</xsd:documentation><xsd:appinfo><source>S5000F:ReportTechnicalQueries</source></xsd:appinfo></xsd:annotation><xsd:sequence/><xsd:attribute name=\"uid\" use=\"optional\"><xsd:simpleType><xsd:restriction base=\"xsd:ID\"><xsd:pattern value=\"\"/></xsd:restriction></xsd:simpleType></xsd:attribute><xsd:attribute name=\"uri\" type=\"xsd:anyURI\" use=\"optional\"/><xsd:attribute name=\"crud\" type=\"crudCode\" default=\"I\"/></xsd:complexType><!--________________________________________________________________________________________________________________--><xsd:complexType name=\"reportShopFindings\"><xsd:annotation><xsd:documentation>ReportShopFindings is an [exchange] that represents a message associated with a use case (UC50407) providing the information required to report the results from a workshop when repairing a unit that has been sent in for repair.</xsd:documentation><xsd:appinfo><source>S5000F:ReportShopFindings</source></xsd:appinfo></xsd:annotation><xsd:sequence/><xsd:attribute name=\"uid\" use=\"optional\"><xsd:simpleType><xsd:restriction base=\"xsd:ID\"><xsd:pattern value=\"\"/></xsd:restriction></xsd:simpleType></xsd:attribute><xsd:attribute name=\"uri\" type=\"xsd:anyURI\" use=\"optional\"/><xsd:attribute name=\"crud\" type=\"crudCode\" default=\"I\"/></xsd:complexType><!--________________________________________________________________________________________________________________--><xsd:complexType name=\"reportStructuralDamage\"><xsd:annotation><xsd:documentation>ReportStructuralDamage is an [exchange] that represents a message associated with a use case (UC50408) providing the information required to report any structural damage.</xsd:documentation><xsd:appinfo><source>S5000F:ReportStructuralDamage</source></xsd:appinfo></xsd:annotation><xsd:sequence/><xsd:attribute name=\"uid\" use=\"optional\"><xsd:simpleType><xsd:restriction base=\"xsd:ID\"><xsd:pattern value=\"\"/></xsd:restriction></xsd:simpleType></xsd:attribute><xsd:attribute name=\"uri\" type=\"xsd:anyURI\" use=\"optional\"/><xsd:attribute name=\"crud\" type=\"crudCode\" default=\"I\"/></xsd:complexType><!--________________________________________________________________________________________________________________--><xsd:complexType name=\"equipmentCalibrationCertificate\"><xsd:annotation><xsd:documentation>EquipmentCalibrationCertificate is an [exchange] that represents a message associated with a use case (UC50409) allowing information associated with an equipment calibration and associated certificate, to be provided.</xsd:documentation><xsd:appinfo><source>S5000F:EquipmentCalibrationCertificate</source></xsd:appinfo></xsd:annotation><xsd:sequence/><xsd:attribute name=\"uid\" use=\"optional\"><xsd:simpleType><xsd:restriction base=\"xsd:ID\"><xsd:pattern value=\"\"/></xsd:restriction></xsd:simpleType></xsd:attribute><xsd:attribute name=\"uri\" type=\"xsd:anyURI\" use=\"optional\"/><xsd:attribute name=\"crud\" type=\"crudCode\" default=\"I\"/></xsd:complexType><!--________________________________________________________________________________________________________________--><xsd:complexType name=\"trackSupportEquipmentUsage\"><xsd:annotation><xsd:documentation>TrackSupportEquipmentUsage is an [exchange] that represents a message associated with a use case (UC50410) allowing to track the usage of a support equipment.</xsd:documentation><xsd:appinfo><source>S5000F:TrackSupportEquipmentUsage</source></xsd:appinfo></xsd:annotation><xsd:sequence/><xsd:attribute name=\"uid\" use=\"optional\"><xsd:simpleType><xsd:restriction base=\"xsd:ID\"><xsd:pattern value=\"\"/></xsd:restriction></xsd:simpleType></xsd:attribute><xsd:attribute name=\"uri\" type=\"xsd:anyURI\" use=\"optional\"/><xsd:attribute name=\"crud\" type=\"crudCode\" default=\"I\"/></xsd:complexType><!--________________________________________________________________________________________________________________--><xsd:complexType name=\"trackMaintenanceStatus\"><xsd:annotation><xsd:documentation>TrackMaintenanceStatus is an &amp;lt;&amp;lt;exchange&amp;gt;&amp;gt; that represents a message associated with a use case (UC50411) providing the information required to track the maintenance status by the new owner or product operator.\n",
      "</xsd:documentation><xsd:appinfo><source>S5000F:TrackMaintenanceStatus</source></xsd:appinfo></xsd:annotation><xsd:sequence/><xsd:attribute name=\"uid\" use=\"optional\"><xsd:simpleType><xsd:restriction base=\"xsd:ID\"><xsd:pattern value=\"\"/></xsd:restriction></xsd:simpleType></xsd:attribute><xsd:attribute name=\"uri\" type=\"xsd:anyURI\" use=\"optional\"/><xsd:attribute name=\"crud\" type=\"crudCode\" default=\"I\"/></xsd:complexType><!--________________________________________________________________________________________________________________--><xsd:complexType name=\"reportSafetyIssue\"><xsd:annotation><xsd:documentation>ReportSafetyIssue is an [exchange] that represents a message associated with a use case (UC50501) providing the information required to report an issue impacting the Product safety.</xsd:documentation><xsd:appinfo><source>S5000F:ReportSafetyIssue</source></xsd:appinfo></xsd:annotation><xsd:sequence/><xsd:attribute name=\"uid\" use=\"optional\"><xsd:simpleType><xsd:restriction base=\"xsd:ID\"><xsd:pattern value=\"\"/></xsd:restriction></xsd:simpleType></xsd:attribute><xsd:attribute name=\"uri\" type=\"xsd:anyURI\" use=\"optional\"/><xsd:attribute name=\"crud\" type=\"crudCode\" default=\"I\"/></xsd:complexType><!--________________________________________________________________________________________________________________--><xsd:complexType name=\"reportSafetyWarning\"><xsd:annotation><xsd:documentation>ReportSafetyWarning is an [exchange] that represents a message associated with a use case (UC50502) providing the information required to send out a safety warning to the operators of a Product.</xsd:documentation><xsd:appinfo><source>S5000F:ReportSafetyWarning</source></xsd:appinfo></xsd:annotation><xsd:sequence/><xsd:attribute name=\"uid\" use=\"optional\"><xsd:simpleType><xsd:restriction base=\"xsd:ID\"><xsd:pattern value=\"\"/></xsd:restriction></xsd:simpleType></xsd:attribute><xsd:attribute name=\"uri\" type=\"xsd:anyURI\" use=\"optional\"/><xsd:attribute name=\"crud\" type=\"crudCode\" default=\"I\"/></xsd:complexType><!--________________________________________________________________________________________________________________--><xsd:complexType name=\"provideSpecialSafetyInstructions\"><xsd:annotation><xsd:documentation>ProvideSpecialSafetyInstructions is an [exchange] that represents a message associated with a use case (UC50503) allowing special safety instructions to be transmitted to the operators of a Product, in the event of safety issues.</xsd:documentation><xsd:appinfo><source>S5000F:ProvideSpecialSafetyInstructions</source></xsd:appinfo></xsd:annotation><xsd:sequence/><xsd:attribute name=\"uid\" use=\"optional\"><xsd:simpleType><xsd:restriction base=\"xsd:ID\"><xsd:pattern value=\"\"/></xsd:restriction></xsd:simpleType></xsd:attribute><xsd:attribute name=\"uri\" type=\"xsd:anyURI\" use=\"optional\"/><xsd:attribute name=\"crud\" type=\"crudCode\" default=\"I\"/></xsd:complexType><!--________________________________________________________________________________________________________________--><xsd:complexType name=\"reportInventory\"><xsd:annotation><xsd:documentation>ReportInventory is an [exchange] that represents a message associated with a use case (UC50601) that provides the inventory information for a warehouse or spares pool.</xsd:documentation><xsd:appinfo><source>S5000F:ReportInventory</source></xsd:appinfo></xsd:annotation><xsd:sequence/><xsd:attribute name=\"uid\" use=\"optional\"><xsd:simpleType><xsd:restriction base=\"xsd:ID\"><xsd:pattern value=\"\"/></xsd:restriction></xsd:simpleType></xsd:attribute><xsd:attribute name=\"uri\" type=\"xsd:anyURI\" use=\"optional\"/><xsd:attribute name=\"crud\" type=\"crudCode\" default=\"I\"/></xsd:complexType><!--________________________________________________________________________________________________________________--><xsd:complexType name=\"reportShelfLife\"><xsd:annotation><xsd:documentation>ReportShelfLife is an [exchange] that represents a message associated with a use case (UC50602) providing the information required to report on the shelf life of parts on stock.</xsd:documentation><xsd:appinfo><source>S5000F:ReportShelfLife</source></xsd:appinfo></xsd:annotation><xsd:sequence/><xsd:attribute name=\"uid\" use=\"optional\"><xsd:simpleType><xsd:restriction base=\"xsd:ID\"><xsd:pattern value=\"\"/></xsd:restriction></xsd:simpleType></xsd:attribute><xsd:attribute name=\"uri\" type=\"xsd:anyURI\" use=\"optional\"/><xsd:attribute name=\"crud\" type=\"crudCode\" default=\"I\"/></xsd:complexType><!--________________________________________________________________________________________________________________--><xsd:complexType name=\"reportSparesAndPool\"><xsd:annotation><xsd:documentation>ReportSparesAndPool is an [exchange] that represents a message associated with a use case (UC50603) providing the information required to report on the spares available in a warehouse or spares pool.</xsd:documentation><xsd:appinfo><source>S5000F:ReportSparesAndPool</source></xsd:appinfo></xsd:annotation><xsd:sequence/><xsd:attribute name=\"uid\" use=\"optional\"><xsd:simpleType><xsd:restriction base=\"xsd:ID\"><xsd:pattern value=\"\"/></xsd:restriction></xsd:simpleType></xsd:attribute><xsd:attribute name=\"uri\" type=\"xsd:anyURI\" use=\"optional\"/><xsd:attribute name=\"crud\" type=\"crudCode\" default=\"I\"/></xsd:complexType><!--________________________________________________________________________________________________________________--><xsd:complexType name=\"reportLogisticResponseTime\"><xsd:annotation><xsd:documentation>ReportLogisticResponseTime is an [exchange] that represents a message associated with a use case (UC50604) providing the response time that is achieved when responding to a logistic request.</xsd:documentation><xsd:appinfo><source>S5000F:ReportLogisticResponseTime</source></xsd:appinfo></xsd:annotation><xsd:sequence/><xsd:attribute name=\"uid\" use=\"optional\"><xsd:simpleType><xsd:restriction base=\"xsd:ID\"><xsd:pattern value=\"\"/></xsd:restriction></xsd:simpleType></xsd:attribute><xsd:attribute name=\"uri\" type=\"xsd:anyURI\" use=\"optional\"/><xsd:attribute name=\"crud\" type=\"crudCode\" default=\"I\"/></xsd:complexType><!--________________________________________________________________________________________________________________--><xsd:complexType name=\"reportFacilities\"><xsd:annotation><xsd:documentation>ReportFacilities is an [exchange] that represents a message associated with a use case (UC50605) providing information about existing facilities.</xsd:documentation><xsd:appinfo><source>S5000F:ReportFacilities</source></xsd:appinfo></xsd:annotation><xsd:sequence/><xsd:attribute name=\"uid\" use=\"optional\"><xsd:simpleType><xsd:restriction base=\"xsd:ID\"><xsd:pattern value=\"\"/></xsd:restriction></xsd:simpleType></xsd:attribute><xsd:attribute name=\"uri\" type=\"xsd:anyURI\" use=\"optional\"/><xsd:attribute name=\"crud\" type=\"crudCode\" default=\"I\"/></xsd:complexType><!--________________________________________________________________________________________________________________--><xsd:complexType name=\"planForTransport\"><xsd:annotation><xsd:documentation>PlanForTransport is an [exchange] that represents a message associated with a use case (UC50606) providing the information required to plan for the transport of assets.</xsd:documentation><xsd:appinfo><source>S5000F:PlanForTransport</source></xsd:appinfo></xsd:annotation><xsd:sequence/><xsd:attribute name=\"uid\" use=\"optional\"><xsd:simpleType><xsd:restriction base=\"xsd:ID\"><xsd:pattern value=\"\"/></xsd:restriction></xsd:simpleType></xsd:attribute><xsd:attribute name=\"uri\" type=\"xsd:anyURI\" use=\"optional\"/><xsd:attribute name=\"crud\" type=\"crudCode\" default=\"I\"/></xsd:complexType><!--________________________________________________________________________________________________________________--><xsd:complexType name=\"provideCBS\"><xsd:annotation><xsd:documentation>ProvideCBS is an [exchange] that represents a message associated with a use case (UC50701) allowing a cost breakdown structure to be provided to a different party.</xsd:documentation><xsd:appinfo><source>S5000F:ProvideCBS</source></xsd:appinfo></xsd:annotation><xsd:sequence/><xsd:attribute name=\"uid\" use=\"optional\"><xsd:simpleType><xsd:restriction base=\"xsd:ID\"><xsd:pattern value=\"\"/></xsd:restriction></xsd:simpleType></xsd:attribute><xsd:attribute name=\"uri\" type=\"xsd:anyURI\" use=\"optional\"/><xsd:attribute name=\"crud\" type=\"crudCode\" default=\"I\"/></xsd:complexType><!--________________________________________________________________________________________________________________--><xsd:complexType name=\"reportMaintenanceCosts\"><xsd:annotation><xsd:documentation>ReportMaintenanceCosts is an [exchange] that represents a message associated with a use case (UC50702) providing the information required to report on the costs associated to maintenance.</xsd:documentation><xsd:appinfo><source>S5000F:ReportMaintenanceCosts</source></xsd:appinfo></xsd:annotation><xsd:sequence/><xsd:attribute name=\"uid\" use=\"optional\"><xsd:simpleType><xsd:restriction base=\"xsd:ID\"><xsd:pattern value=\"\"/></xsd:restriction></xsd:simpleType></xsd:attribute><xsd:attribute name=\"uri\" type=\"xsd:anyURI\" use=\"optional\"/><xsd:attribute name=\"crud\" type=\"crudCode\" default=\"I\"/></xsd:complexType><!--________________________________________________________________________________________________________________--><xsd:complexType name=\"reportOperationalCosts\"><xsd:annotation><xsd:documentation>ReportOperationalCosts is an [exchange] that represents a message associated with a use case (UC50703) providing the information required to report on the operational costs of a Product.</xsd:documentation><xsd:appinfo><source>S5000F:ReportOperationalCosts</source></xsd:appinfo></xsd:annotation><xsd:sequence/><xsd:attribute name=\"uid\" use=\"optional\"><xsd:simpleType><xsd:restriction base=\"xsd:ID\"><xsd:pattern value=\"\"/></xsd:restriction></xsd:simpleType></xsd:attribute><xsd:attribute name=\"uri\" type=\"xsd:anyURI\" use=\"optional\"/><xsd:attribute name=\"crud\" type=\"crudCode\" default=\"I\"/></xsd:complexType><!--________________________________________________________________________________________________________________--><xsd:complexType name=\"reportModificationCosts\"><xsd:annotation><xsd:documentation>ReportModificationCosts is an [exchange] that represents a message associated with a use case (UC50704) providing the information required to report on the cost of a modification to the Product.</xsd:documentation><xsd:appinfo><source>S5000F:ReportModificationCosts</source></xsd:appinfo></xsd:annotation><xsd:sequence/><xsd:attribute name=\"uid\" use=\"optional\"><xsd:simpleType><xsd:restriction base=\"xsd:ID\"><xsd:pattern value=\"\"/></xsd:restriction></xsd:simpleType></xsd:attribute><xsd:attribute name=\"uri\" type=\"xsd:anyURI\" use=\"optional\"/><xsd:attribute name=\"crud\" type=\"crudCode\" default=\"I\"/></xsd:complexType><!--________________________________________________________________________________________________________________--><xsd:complexType name=\"reportInServiceCosts\"><xsd:annotation><xsd:documentation>ReportInServiceCosts is an [exchange] that represents a message associated with a use case (UC50705) that allows costs incurred during the in-service phase to be reported.</xsd:documentation><xsd:appinfo><source>S5000F:ReportInServiceCosts</source></xsd:appinfo></xsd:annotation><xsd:sequence/><xsd:attribute name=\"uid\" use=\"optional\"><xsd:simpleType><xsd:restriction base=\"xsd:ID\"><xsd:pattern value=\"\"/></xsd:restriction></xsd:simpleType></xsd:attribute><xsd:attribute name=\"uri\" type=\"xsd:anyURI\" use=\"optional\"/><xsd:attribute name=\"crud\" type=\"crudCode\" default=\"I\"/></xsd:complexType><!--________________________________________________________________________________________________________________--><xsd:complexType name=\"evaluateMaintenanceActions\"><xsd:annotation><xsd:documentation>EvaluateMaintenanceActions is an [exchange] that represents a message associated with a use case (UC50801) that allows the effectivity of maintenance actions to be assessed.</xsd:documentation><xsd:appinfo><source>S5000F:EvaluateMaintenanceActions</source></xsd:appinfo></xsd:annotation><xsd:sequence/><xsd:attribute name=\"uid\" use=\"optional\"><xsd:simpleType><xsd:restriction base=\"xsd:ID\"><xsd:pattern value=\"\"/></xsd:restriction></xsd:simpleType></xsd:attribute><xsd:attribute name=\"uri\" type=\"xsd:anyURI\" use=\"optional\"/><xsd:attribute name=\"crud\" type=\"crudCode\" default=\"I\"/></xsd:complexType><!--________________________________________________________________________________________________________________--><xsd:complexType name=\"collectWarrantyCosts\"><xsd:annotation><xsd:documentation>CollectWarrantyCosts is an [exchange] that represents a message associated with a use case (UC50802) providing the necessary information to compile the costs of warranty.</xsd:documentation><xsd:appinfo><source>S5000F:CollectWarrantyCosts</source></xsd:appinfo></xsd:annotation><xsd:sequence/><xsd:attribute name=\"uid\" use=\"optional\"><xsd:simpleType><xsd:restriction base=\"xsd:ID\"><xsd:pattern value=\"\"/></xsd:restriction></xsd:simpleType></xsd:attribute><xsd:attribute name=\"uri\" type=\"xsd:anyURI\" use=\"optional\"/><xsd:attribute name=\"crud\" type=\"crudCode\" default=\"I\"/></xsd:complexType><!--________________________________________________________________________________________________________________--><xsd:complexType name=\"determineWarrantyMisuse\"><xsd:annotation><xsd:documentation>DetermineWarrantyMisuse is an [exchange] that represents a message associated with a use case (UC50803) providing the necessary information to determine whether warranty was or not misused.</xsd:documentation><xsd:appinfo><source>S5000F:DetermineWarrantyMisuse</source></xsd:appinfo></xsd:annotation><xsd:sequence/><xsd:attribute name=\"uid\" use=\"optional\"><xsd:simpleType><xsd:restriction base=\"xsd:ID\"><xsd:pattern value=\"\"/></xsd:restriction></xsd:simpleType></xsd:attribute><xsd:attribute name=\"uri\" type=\"xsd:anyURI\" use=\"optional\"/><xsd:attribute name=\"crud\" type=\"crudCode\" default=\"I\"/></xsd:complexType><!--________________________________________________________________________________________________________________--><xsd:complexType name=\"identifyWarrantyRisks\"><xsd:annotation><xsd:documentation>IdentifyWarrantyRisks is an [exchange] that represents a message associated with a use case (UC50804) providing the necessary information to identify potential warranty risks.</xsd:documentation><xsd:appinfo><source>S5000F:IdentifyWarrantyRisks</source></xsd:appinfo></xsd:annotation><xsd:sequence/><xsd:attribute name=\"uid\" use=\"optional\"><xsd:simpleType><xsd:restriction base=\"xsd:ID\"><xsd:pattern value=\"\"/></xsd:restriction></xsd:simpleType></xsd:attribute><xsd:attribute name=\"uri\" type=\"xsd:anyURI\" use=\"optional\"/><xsd:attribute name=\"crud\" type=\"crudCode\" default=\"I\"/></xsd:complexType><!--________________________________________________________________________________________________________________--><xsd:complexType name=\"improveWarrantyRules\"><xsd:annotation><xsd:documentation>ImproveWarrantyRules is an [exchange] that represents a message associated with a use case (UC50805) providing the necessary information to evaluate the suitability of existing warranty rules.</xsd:documentation><xsd:appinfo><source>S5000F:ImproveWarrantyRules</source></xsd:appinfo></xsd:annotation><xsd:sequence/><xsd:attribute name=\"uid\" use=\"optional\"><xsd:simpleType><xsd:restriction base=\"xsd:ID\"><xsd:pattern value=\"\"/></xsd:restriction></xsd:simpleType></xsd:attribute><xsd:attribute name=\"uri\" type=\"xsd:anyURI\" use=\"optional\"/><xsd:attribute name=\"crud\" type=\"crudCode\" default=\"I\"/></xsd:complexType><!--________________________________________________________________________________________________________________--><xsd:complexType name=\"recordHealthData\"><xsd:annotation><xsd:documentation>RecordHealthData is an [exchange] that represents a message associated with a use case (UC50901) allowing health and monitoring data for a SerializedProductVariant to be transferred.</xsd:documentation><xsd:appinfo><source>S5000F:RecordHealthData</source></xsd:appinfo></xsd:annotation><xsd:sequence/><xsd:attribute name=\"uid\" use=\"optional\"><xsd:simpleType><xsd:restriction base=\"xsd:ID\"><xsd:pattern value=\"\"/></xsd:restriction></xsd:simpleType></xsd:attribute><xsd:attribute name=\"uri\" type=\"xsd:anyURI\" use=\"optional\"/><xsd:attribute name=\"crud\" type=\"crudCode\" default=\"I\"/></xsd:complexType><!--________________________________________________________________________________________________________________--><xsd:complexType name=\"reportUsageInformation\"><xsd:annotation><xsd:documentation>ReportUsageInformation is an [exchange] that represents a message associated with a use case (UC50902) providing the information about a Product usage.</xsd:documentation><xsd:appinfo><source>S5000F:ReportUsageInformation</source></xsd:appinfo></xsd:annotation><xsd:sequence/><xsd:attribute name=\"uid\" use=\"optional\"><xsd:simpleType><xsd:restriction base=\"xsd:ID\"><xsd:pattern value=\"\"/></xsd:restriction></xsd:simpleType></xsd:attribute><xsd:attribute name=\"uri\" type=\"xsd:anyURI\" use=\"optional\"/><xsd:attribute name=\"crud\" type=\"crudCode\" default=\"I\"/></xsd:complexType><!--________________________________________________________________________________________________________________--><xsd:complexType name=\"respondToUsageInformation\"><xsd:annotation><xsd:documentation>RespondToUsageInformation is an [exchange] that represents a message associated with a use case (UC50903) providing the information required to take action after receiving usage information.</xsd:documentation><xsd:appinfo><source>S5000F:RespondToUsageInformation</source></xsd:appinfo></xsd:annotation><xsd:sequence/><xsd:attribute name=\"uid\" use=\"optional\"><xsd:simpleType><xsd:restriction base=\"xsd:ID\"><xsd:pattern value=\"\"/></xsd:restriction></xsd:simpleType></xsd:attribute><xsd:attribute name=\"uri\" type=\"xsd:anyURI\" use=\"optional\"/><xsd:attribute name=\"crud\" type=\"crudCode\" default=\"I\"/></xsd:complexType><!--________________________________________________________________________________________________________________--><xsd:complexType name=\"obsolescencePlanning\"><xsd:annotation><xsd:documentation>ObsolescencePlanning is an [exchange] that represents a message associated with a use case (UC51001) providing the necessary information to plan for the obsolescence of an item.</xsd:documentation><xsd:appinfo><source>S5000F:ObsolescencePlanning</source></xsd:appinfo></xsd:annotation><xsd:sequence/><xsd:attribute name=\"uid\" use=\"optional\"><xsd:simpleType><xsd:restriction base=\"xsd:ID\"><xsd:pattern value=\"\"/></xsd:restriction></xsd:simpleType></xsd:attribute><xsd:attribute name=\"uri\" type=\"xsd:anyURI\" use=\"optional\"/><xsd:attribute name=\"crud\" type=\"crudCode\" default=\"I\"/></xsd:complexType><!--________________________________________________________________________________________________________________--><xsd:complexType name=\"determineObsolescenceCandidates\"><xsd:annotation><xsd:documentation>DetermineObsolescenceCandidates is an [exchange] that represents a message associated with a use case (UC51002) providing the necessary information to identify items that are facing potential obsolescence.</xsd:documentation><xsd:appinfo><source>S5000F:DetermineObsolescenceCandidates</source></xsd:appinfo></xsd:annotation><xsd:sequence/><xsd:attribute name=\"uid\" use=\"optional\"><xsd:simpleType><xsd:restriction base=\"xsd:ID\"><xsd:pattern value=\"\"/></xsd:restriction></xsd:simpleType></xsd:attribute><xsd:attribute name=\"uri\" type=\"xsd:anyURI\" use=\"optional\"/><xsd:attribute name=\"crud\" type=\"crudCode\" default=\"I\"/></xsd:complexType><!--________________________________________________________________________________________________________________--><xsd:complexType name=\"determineObsolescenceStrategy\"><xsd:annotation><xsd:documentation>DetermineObsolescenceStrategy is an [exchange] that represents a message associated with a use case (UC51003) providing the necessary information to define the strategy on handling obsolescence.</xsd:documentation><xsd:appinfo><source>S5000F:DetermineObsolescenceStrategy</source></xsd:appinfo></xsd:annotation><xsd:sequence/><xsd:attribute name=\"uid\" use=\"optional\"><xsd:simpleType><xsd:restriction base=\"xsd:ID\"><xsd:pattern value=\"\"/></xsd:restriction></xsd:simpleType></xsd:attribute><xsd:attribute name=\"uri\" type=\"xsd:anyURI\" use=\"optional\"/><xsd:attribute name=\"crud\" type=\"crudCode\" default=\"I\"/></xsd:complexType><!--________________________________________________________________________________________________________________--><xsd:complexType name=\"monitorObsolescence\"><xsd:annotation><xsd:documentation>MonitorObsolescence is an [exchange] that represents a message associated with a use case (UC51004) providing the necessary information to monitor possible obsolescence's and prepare for them.</xsd:documentation><xsd:appinfo><source>S5000F:MonitorObsolescence</source></xsd:appinfo></xsd:annotation><xsd:sequence/><xsd:attribute name=\"uid\" use=\"optional\"><xsd:simpleType><xsd:restriction base=\"xsd:ID\"><xsd:pattern value=\"\"/></xsd:restriction></xsd:simpleType></xsd:attribute><xsd:attribute name=\"uri\" type=\"xsd:anyURI\" use=\"optional\"/><xsd:attribute name=\"crud\" type=\"crudCode\" default=\"I\"/></xsd:complexType><!--________________________________________________________________________________________________________________--><xsd:complexType name=\"solveObsolescence\"><xsd:annotation><xsd:documentation>SolveObsolescence is an [exchange] that represents a message associated with a use case (UC51005) providing the information required to solve an obsolescence.</xsd:documentation><xsd:appinfo><source>S5000F:SolveObsolescence</source></xsd:appinfo></xsd:annotation><xsd:sequence/><xsd:attribute name=\"uid\" use=\"optional\"><xsd:simpleType><xsd:restriction base=\"xsd:ID\"><xsd:pattern value=\"\"/></xsd:restriction></xsd:simpleType></xsd:attribute><xsd:attribute name=\"uri\" type=\"xsd:anyURI\" use=\"optional\"/><xsd:attribute name=\"crud\" type=\"crudCode\" default=\"I\"/></xsd:complexType><!--________________________________________________________________________________________________________________--><xsd:complexType name=\"provideObsolescenceAlert\"><xsd:annotation><xsd:documentation>ProvideObsolescenceAlert is an [exchange] that represents a message associated with a use case (UC51006) providing the capability to inform other parties about an upcoming obsolescence.</xsd:documentation><xsd:appinfo><source>S5000F:ProvideObsolescenceAlert</source></xsd:appinfo></xsd:annotation><xsd:sequence/><xsd:attribute name=\"uid\" use=\"optional\"><xsd:simpleType><xsd:restriction base=\"xsd:ID\"><xsd:pattern value=\"\"/></xsd:restriction></xsd:simpleType></xsd:attribute><xsd:attribute name=\"uri\" type=\"xsd:anyURI\" use=\"optional\"/><xsd:attribute name=\"crud\" type=\"crudCode\" default=\"I\"/></xsd:complexType><!--________________________________________________________________________________________________________________--><xsd:complexType name=\"elaborateAssignmentProposal\"><xsd:annotation><xsd:documentation>ElaborateAssignmentProposal is an [exchange] that represents a message associated with a use case (UC51101) providing the necessary information to provide a proposal about how a serialized Product variant can perform a specific fleet task.</xsd:documentation><xsd:appinfo><source>S5000F:ElaborateAssignmentProposal</source></xsd:appinfo></xsd:annotation><xsd:sequence/><xsd:attribute name=\"uid\" use=\"optional\"><xsd:simpleType><xsd:restriction base=\"xsd:ID\"><xsd:pattern value=\"\"/></xsd:restriction></xsd:simpleType></xsd:attribute><xsd:attribute name=\"uri\" type=\"xsd:anyURI\" use=\"optional\"/><xsd:attribute name=\"crud\" type=\"crudCode\" default=\"I\"/></xsd:complexType><!--________________________________________________________________________________________________________________--><xsd:complexType name=\"cancelFleetTask\"><xsd:annotation><xsd:documentation>CancelFleetTask is an [exchange] that represents a message associated with a use case (UC51102) providing the necessary information to cancel an ongoing or planned fleet task.</xsd:documentation><xsd:appinfo><source>S5000F:CancelFleetTask</source></xsd:appinfo></xsd:annotation><xsd:sequence/><xsd:attribute name=\"uid\" use=\"optional\"><xsd:simpleType><xsd:restriction base=\"xsd:ID\"><xsd:pattern value=\"\"/></xsd:restriction></xsd:simpleType></xsd:attribute><xsd:attribute name=\"uri\" type=\"xsd:anyURI\" use=\"optional\"/><xsd:attribute name=\"crud\" type=\"crudCode\" default=\"I\"/></xsd:complexType><!--________________________________________________________________________________________________________________--><xsd:complexType name=\"modifyFleetTask\"><xsd:annotation><xsd:documentation>ModifyFleetTask is an [exchange] that represents a message associated with a use case (UC51103) providing the necessary information required to modify a fleet task.</xsd:documentation><xsd:appinfo><source>S5000F:ModifyFleetTask</source></xsd:appinfo></xsd:annotation><xsd:sequence/><xsd:attribute name=\"uid\" use=\"optional\"><xsd:simpleType><xsd:restriction base=\"xsd:ID\"><xsd:pattern value=\"\"/></xsd:restriction></xsd:simpleType></xsd:attribute><xsd:attribute name=\"uri\" type=\"xsd:anyURI\" use=\"optional\"/><xsd:attribute name=\"crud\" type=\"crudCode\" default=\"I\"/></xsd:complexType><!--________________________________________________________________________________________________________________--><xsd:complexType name=\"elaborateFleetPlan\"><xsd:annotation><xsd:documentation>ElaborateFleetPlan is an [exchange] that represents a message associated with a use case (UC51104) providing the necessary information to elaborate a plan for effectively managing a fleet.</xsd:documentation><xsd:appinfo><source>S5000F:ElaborateFleetPlan</source></xsd:appinfo></xsd:annotation><xsd:sequence/><xsd:attribute name=\"uid\" use=\"optional\"><xsd:simpleType><xsd:restriction base=\"xsd:ID\"><xsd:pattern value=\"\"/></xsd:restriction></xsd:simpleType></xsd:attribute><xsd:attribute name=\"uri\" type=\"xsd:anyURI\" use=\"optional\"/><xsd:attribute name=\"crud\" type=\"crudCode\" default=\"I\"/></xsd:complexType><!--________________________________________________________________________________________________________________--><xsd:complexType name=\"evaluateFleetTask\"><xsd:annotation><xsd:documentation>EvaluateFleetTask is an [exchange] that represents a message associated with a use case (UC51105) providing the necessary information to evaluate the effectiveness of a fleet task.</xsd:documentation><xsd:appinfo><source>S5000F:EvaluateFleetTask</source></xsd:appinfo></xsd:annotation><xsd:sequence/><xsd:attribute name=\"uid\" use=\"optional\"><xsd:simpleType><xsd:restriction base=\"xsd:ID\"><xsd:pattern value=\"\"/></xsd:restriction></xsd:simpleType></xsd:attribute><xsd:attribute name=\"uri\" type=\"xsd:anyURI\" use=\"optional\"/><xsd:attribute name=\"crud\" type=\"crudCode\" default=\"I\"/></xsd:complexType><!--________________________________________________________________________________________________________________--><xsd:complexType name=\"prepareProductForFleetTask\"><xsd:annotation><xsd:documentation>PrepareProductForFleetTask is an [exchange] that represents a message associated with a use case (UC51106) allowing the information required to prepare the execution of a fleet task to be provided.</xsd:documentation><xsd:appinfo><source>S5000F:PrepareProductForFleetTask</source></xsd:appinfo></xsd:annotation><xsd:sequence/><xsd:attribute name=\"uid\" use=\"optional\"><xsd:simpleType><xsd:restriction base=\"xsd:ID\"><xsd:pattern value=\"\"/></xsd:restriction></xsd:simpleType></xsd:attribute><xsd:attribute name=\"uri\" type=\"xsd:anyURI\" use=\"optional\"/><xsd:attribute name=\"crud\" type=\"crudCode\" default=\"I\"/></xsd:complexType><!--________________________________________________________________________________________________________________--><xsd:complexType name=\"recoverProductAfterFleetTask\"><xsd:annotation><xsd:documentation>RecoverProductAfterFleetTask is an [exchange] that represents a message associated with a use case (UC51107) allowing a record of actions taken to recover a serialized Product after executing a fleet task to be reported.</xsd:documentation><xsd:appinfo><source>S5000F:RecoverProductAfterFleetTask</source></xsd:appinfo></xsd:annotation><xsd:sequence/><xsd:attribute name=\"uid\" use=\"optional\"><xsd:simpleType><xsd:restriction base=\"xsd:ID\"><xsd:pattern value=\"\"/></xsd:restriction></xsd:simpleType></xsd:attribute><xsd:attribute name=\"uri\" type=\"xsd:anyURI\" use=\"optional\"/><xsd:attribute name=\"crud\" type=\"crudCode\" default=\"I\"/></xsd:complexType><!--________________________________________________________________________________________________________________--><xsd:complexType name=\"reportFleetAvailability\"><xsd:annotation><xsd:documentation>ReportFleetAvailability is an [exchange] that represents a message associated with a use case (UC51108) allowing to report on the availability of a Fleet or a SerializedProductVariant.</xsd:documentation><xsd:appinfo><source>S5000F:ReportFleetAvailability</source></xsd:appinfo></xsd:annotation><xsd:sequence/><xsd:attribute name=\"uid\" use=\"optional\"><xsd:simpleType><xsd:restriction base=\"xsd:ID\"><xsd:pattern value=\"\"/></xsd:restriction></xsd:simpleType></xsd:attribute><xsd:attribute name=\"uri\" type=\"xsd:anyURI\" use=\"optional\"/><xsd:attribute name=\"crud\" type=\"crudCode\" default=\"I\"/></xsd:complexType><!--________________________________________________________________________________________________________________--><xsd:complexType name=\"requestSoftwareFeature\"><xsd:annotation><xsd:documentation>RequestSoftwareFeature is an [exchange] that represents a a message associated with a use case (UC51201) providing the information required to request a new software feature.</xsd:documentation><xsd:appinfo><source>S5000F:RequestSoftwareFeature</source></xsd:appinfo></xsd:annotation><xsd:sequence/><xsd:attribute name=\"uid\" use=\"optional\"><xsd:simpleType><xsd:restriction base=\"xsd:ID\"><xsd:pattern value=\"\"/></xsd:restriction></xsd:simpleType></xsd:attribute><xsd:attribute name=\"uri\" type=\"xsd:anyURI\" use=\"optional\"/><xsd:attribute name=\"crud\" type=\"crudCode\" default=\"I\"/></xsd:complexType><!--________________________________________________________________________________________________________________--><xsd:complexType name=\"reportSoftwareError\"><xsd:annotation><xsd:documentation>ReportSoftwareError is an [exchange] that represents a a message associated with a use case (UC51202) providing the information required to report a software bug.</xsd:documentation><xsd:appinfo><source>S5000F:ReportSoftwareError</source></xsd:appinfo></xsd:annotation><xsd:sequence/><xsd:attribute name=\"uid\" use=\"optional\"><xsd:simpleType><xsd:restriction base=\"xsd:ID\"><xsd:pattern value=\"\"/></xsd:restriction></xsd:simpleType></xsd:attribute><xsd:attribute name=\"uri\" type=\"xsd:anyURI\" use=\"optional\"/><xsd:attribute name=\"crud\" type=\"crudCode\" default=\"I\"/></xsd:complexType><!--________________________________________________________________________________________________________________--><xsd:complexType name=\"assessSoftwareUsability\"><xsd:annotation><xsd:documentation>AssessSoftwareUsability is an [exchange] that represents a message associated with a use case (UC51203) providing the necessary information to report on how usable a piece of software is.</xsd:documentation><xsd:appinfo><source>S5000F:AssessSoftwareUsability</source></xsd:appinfo></xsd:annotation><xsd:sequence/><xsd:attribute name=\"uid\" use=\"optional\"><xsd:simpleType><xsd:restriction base=\"xsd:ID\"><xsd:pattern value=\"\"/></xsd:restriction></xsd:simpleType></xsd:attribute><xsd:attribute name=\"uri\" type=\"xsd:anyURI\" use=\"optional\"/><xsd:attribute name=\"crud\" type=\"crudCode\" default=\"I\"/></xsd:complexType><!--________________________________________________________________________________________________________________--><xsd:complexType name=\"reportSWDocumentationErrors\"><xsd:annotation><xsd:documentation>ReportSWDocumentationErrors is an [exchange] that represents a message associated with a use case (UC50501) providing the information required to report errors in the documentation of a software item.</xsd:documentation><xsd:appinfo><source>S5000F:ReportSWDocumentationErrors</source></xsd:appinfo></xsd:annotation><xsd:sequence/><xsd:attribute name=\"uid\" use=\"optional\"><xsd:simpleType><xsd:restriction base=\"xsd:ID\"><xsd:pattern value=\"\"/></xsd:restriction></xsd:simpleType></xsd:attribute><xsd:attribute name=\"uri\" type=\"xsd:anyURI\" use=\"optional\"/><xsd:attribute name=\"crud\" type=\"crudCode\" default=\"I\"/></xsd:complexType><!--________________________________________________________________________________________________________________--><xsd:complexType name=\"assessHWSWInteroperability\"><xsd:annotation><xsd:documentation>AssessHWSWInteroperability is an [exchange] that represents a message associated with a use case (UC51205) providing the necessary information to evaluate whether there are hardware-software incompatibilities.</xsd:documentation><xsd:appinfo><source>S5000F:AssessHWSWInteroperability</source></xsd:appinfo></xsd:annotation><xsd:sequence/><xsd:attribute name=\"uid\" use=\"optional\"><xsd:simpleType><xsd:restriction base=\"xsd:ID\"><xsd:pattern value=\"\"/></xsd:restriction></xsd:simpleType></xsd:attribute><xsd:attribute name=\"uri\" type=\"xsd:anyURI\" use=\"optional\"/><xsd:attribute name=\"crud\" type=\"crudCode\" default=\"I\"/></xsd:complexType><!--________________________________________________________________________________________________________________--><xsd:complexType name=\"reportSoftwareInstallation\"><xsd:annotation><xsd:documentation>ReportSoftwareInstallation is an [exchange] that represents a message associated with a use case (UC51206) providing the information required to report that a piece of software has been installed on an item.</xsd:documentation><xsd:appinfo><source>S5000F:ReportSoftwareInstallation</source></xsd:appinfo></xsd:annotation><xsd:sequence/><xsd:attribute name=\"uid\" use=\"optional\"><xsd:simpleType><xsd:restriction base=\"xsd:ID\"><xsd:pattern value=\"\"/></xsd:restriction></xsd:simpleType></xsd:attribute><xsd:attribute name=\"uri\" type=\"xsd:anyURI\" use=\"optional\"/><xsd:attribute name=\"crud\" type=\"crudCode\" default=\"I\"/></xsd:complexType><!--________________________________________________________________________________________________________________--><xsd:complexType name=\"reportSoftwareConfiguration\"><xsd:annotation><xsd:documentation>ReportSoftwareConfiguration is an [exchange] that represents a message associated with a use case (UC51207) providing the information required to report on the configuration of software.</xsd:documentation><xsd:appinfo><source>S5000F:ReportSoftwareConfiguration</source></xsd:appinfo></xsd:annotation><xsd:sequence/><xsd:attribute name=\"uid\" use=\"optional\"><xsd:simpleType><xsd:restriction base=\"xsd:ID\"><xsd:pattern value=\"\"/></xsd:restriction></xsd:simpleType></xsd:attribute><xsd:attribute name=\"uri\" type=\"xsd:anyURI\" use=\"optional\"/><xsd:attribute name=\"crud\" type=\"crudCode\" default=\"I\"/></xsd:complexType><!--________________________________________________________________________________________________________________--><xsd:complexType name=\"assessSoftwareMaturity\"><xsd:annotation><xsd:documentation>AssessSoftwareMaturity is an [exchange] that represents a message associated with a use case (UC51208) providing the necessary information to report on the maturity of a software item.</xsd:documentation><xsd:appinfo><source>S5000F:AssessSoftwareMaturity</source></xsd:appinfo></xsd:annotation><xsd:sequence/><xsd:attribute name=\"uid\" use=\"optional\"><xsd:simpleType><xsd:restriction base=\"xsd:ID\"><xsd:pattern value=\"\"/></xsd:restriction></xsd:simpleType></xsd:attribute><xsd:attribute name=\"uri\" type=\"xsd:anyURI\" use=\"optional\"/><xsd:attribute name=\"crud\" type=\"crudCode\" default=\"I\"/></xsd:complexType><!--________________________________________________________________________________________________________________--><xsd:complexType name=\"reportHelpDeskTickets\"><xsd:annotation><xsd:documentation>ReportHelpDeskTickets is an [exchange] that represents a message associated with a use case (UC51209) allowing help desk tickets to be created.</xsd:documentation><xsd:appinfo><source>S5000F:ReportHelpDeskTickets</source></xsd:appinfo></xsd:annotation><xsd:sequence/><xsd:attribute name=\"uid\" use=\"optional\"><xsd:simpleType><xsd:restriction base=\"xsd:ID\"><xsd:pattern value=\"\"/></xsd:restriction></xsd:simpleType></xsd:attribute><xsd:attribute name=\"uri\" type=\"xsd:anyURI\" use=\"optional\"/><xsd:attribute name=\"crud\" type=\"crudCode\" default=\"I\"/></xsd:complexType><!--________________________________________________________________________________________________________________--><xsd:complexType name=\"asssessSoftwareDelivery\"><xsd:annotation><xsd:documentation>AsssessSoftwareDelivery is an [exchange] that represents a message associated with a use case (UC51210) providing the necessary information to report on the delivery of a software item.</xsd:documentation><xsd:appinfo><source>S5000F:AsssessSoftwareDelivery</source></xsd:appinfo></xsd:annotation><xsd:sequence/><xsd:attribute name=\"uid\" use=\"optional\"><xsd:simpleType><xsd:restriction base=\"xsd:ID\"><xsd:pattern value=\"\"/></xsd:restriction></xsd:simpleType></xsd:attribute><xsd:attribute name=\"uri\" type=\"xsd:anyURI\" use=\"optional\"/><xsd:attribute name=\"crud\" type=\"crudCode\" default=\"I\"/></xsd:complexType><!--________________________________________________________________________________________________________________--><xsd:complexType name=\"communicateDataLoading\"><xsd:annotation><xsd:documentation>CommunicateDataLoading is an [exchange] that represents a message associated with a use case (UC51211) providing the necessary information to report on the loading of a specific data set or software item.</xsd:documentation><xsd:appinfo><source>S5000F:CommunicateDataLoading</source></xsd:appinfo></xsd:annotation><xsd:sequence/><xsd:attribute name=\"uid\" use=\"optional\"><xsd:simpleType><xsd:restriction base=\"xsd:ID\"><xsd:pattern value=\"\"/></xsd:restriction></xsd:simpleType></xsd:attribute><xsd:attribute name=\"uri\" type=\"xsd:anyURI\" use=\"optional\"/><xsd:attribute name=\"crud\" type=\"crudCode\" default=\"I\"/></xsd:complexType><!--________________________________________________________________________________________________________________--><xsd:complexType name=\"provideAsDeliveredConfiguration\"><xsd:annotation><xsd:documentation>ProvideAsDeliveredConfiguration is an [exchange] that represents a message associated with a use case (UC51301) allowing another party with the configuration information of a delivered SerializedProductVariant to be provided.</xsd:documentation><xsd:appinfo><source>S5000F:ProvideAsDeliveredConfiguration</source></xsd:appinfo></xsd:annotation><xsd:sequence/><xsd:attribute name=\"uid\" use=\"optional\"><xsd:simpleType><xsd:restriction base=\"xsd:ID\"><xsd:pattern value=\"\"/></xsd:restriction></xsd:simpleType></xsd:attribute><xsd:attribute name=\"uri\" type=\"xsd:anyURI\" use=\"optional\"/><xsd:attribute name=\"crud\" type=\"crudCode\" default=\"I\"/></xsd:complexType><!--________________________________________________________________________________________________________________--><xsd:complexType name=\"provideAsAllowedConfiguration\"><xsd:annotation><xsd:documentation>ProvideAsAllowedConfiguration is an [exchange] that represents a message associated with a use case (UC51302) allowing another party to be provided with the set of configurations that the serialized Product variant is allowed to have, to ensure safe operation.</xsd:documentation><xsd:appinfo><source>S5000F:ProvideAsAllowedConfiguration</source></xsd:appinfo></xsd:annotation><xsd:sequence/><xsd:attribute name=\"uid\" use=\"optional\"><xsd:simpleType><xsd:restriction base=\"xsd:ID\"><xsd:pattern value=\"\"/></xsd:restriction></xsd:simpleType></xsd:attribute><xsd:attribute name=\"uri\" type=\"xsd:anyURI\" use=\"optional\"/><xsd:attribute name=\"crud\" type=\"crudCode\" default=\"I\"/></xsd:complexType><!--________________________________________________________________________________________________________________--><xsd:complexType name=\"provideOperationalConfiguration\"><xsd:annotation><xsd:documentation>ProvideOperationalConfiguration is an [exchange] that represents a message associated with a use case (UC51303) allowing to provide the operational configuration of a serialized product variant at a specific moment in time.</xsd:documentation><xsd:appinfo><source>S5000F:ProvideOperationalConfiguration</source></xsd:appinfo></xsd:annotation><xsd:sequence/><xsd:attribute name=\"uid\" use=\"optional\"><xsd:simpleType><xsd:restriction base=\"xsd:ID\"><xsd:pattern value=\"\"/></xsd:restriction></xsd:simpleType></xsd:attribute><xsd:attribute name=\"uri\" type=\"xsd:anyURI\" use=\"optional\"/><xsd:attribute name=\"crud\" type=\"crudCode\" default=\"I\"/></xsd:complexType><!--________________________________________________________________________________________________________________--><xsd:complexType name=\"provideCustomerModification\"><xsd:annotation><xsd:documentation>ProvideCustomerModification is an [exchange] that represents a message associated with a use case (UC51304) allowing information about a customer-driven modification to be provided.</xsd:documentation><xsd:appinfo><source>S5000F:ProvideCustomerModification</source></xsd:appinfo></xsd:annotation><xsd:sequence/><xsd:attribute name=\"uid\" use=\"optional\"><xsd:simpleType><xsd:restriction base=\"xsd:ID\"><xsd:pattern value=\"\"/></xsd:restriction></xsd:simpleType></xsd:attribute><xsd:attribute name=\"uri\" type=\"xsd:anyURI\" use=\"optional\"/><xsd:attribute name=\"crud\" type=\"crudCode\" default=\"I\"/></xsd:complexType><!--________________________________________________________________________________________________________________--><xsd:complexType name=\"provideAsDesiredConfiguration\"><xsd:annotation><xsd:documentation>ProvideAsDesiredConfiguration is an [exchange] that represents a message associated with a use case (UC51305) allowing the design configuration to be provided to another party.</xsd:documentation><xsd:appinfo><source>S5000F:ProvideAsDesiredConfiguration</source></xsd:appinfo></xsd:annotation><xsd:sequence/><xsd:attribute name=\"uid\" use=\"optional\"><xsd:simpleType><xsd:restriction base=\"xsd:ID\"><xsd:pattern value=\"\"/></xsd:restriction></xsd:simpleType></xsd:attribute><xsd:attribute name=\"uri\" type=\"xsd:anyURI\" use=\"optional\"/><xsd:attribute name=\"crud\" type=\"crudCode\" default=\"I\"/></xsd:complexType><!--________________________________________________________________________________________________________________--><xsd:complexType name=\"provideContractualInformation\"><xsd:annotation><xsd:documentation>ProvideContractualInformation is an [exchange] that represents a message associated with a use case (UC51401) allowing information about a contract to be provided.</xsd:documentation><xsd:appinfo><source>S5000F:ProvideContractualInformation</source></xsd:appinfo></xsd:annotation><xsd:sequence/><xsd:attribute name=\"uid\" use=\"optional\"><xsd:simpleType><xsd:restriction base=\"xsd:ID\"><xsd:pattern value=\"\"/></xsd:restriction></xsd:simpleType></xsd:attribute><xsd:attribute name=\"uri\" type=\"xsd:anyURI\" use=\"optional\"/><xsd:attribute name=\"crud\" type=\"crudCode\" default=\"I\"/></xsd:complexType><!--________________________________________________________________________________________________________________--><xsd:complexType name=\"provideWorkBreakdown\"><xsd:annotation><xsd:documentation>ProvideWorkBreakdown is an [exchange] that represents a message associated with a use case (UC51402) that allows a WBS to be transferred.</xsd:documentation><xsd:appinfo><source>S5000F:ProvideWorkBreakdown</source></xsd:appinfo></xsd:annotation><xsd:sequence/><xsd:attribute name=\"uid\" use=\"optional\"><xsd:simpleType><xsd:restriction base=\"xsd:ID\"><xsd:pattern value=\"\"/></xsd:restriction></xsd:simpleType></xsd:attribute><xsd:attribute name=\"uri\" type=\"xsd:anyURI\" use=\"optional\"/><xsd:attribute name=\"crud\" type=\"crudCode\" default=\"I\"/></xsd:complexType><!--________________________________________________________________________________________________________________--><xsd:complexType name=\"provideCostBreakdown\"><xsd:annotation><xsd:documentation>ProvideCostBreakdown is an [exchange] that represents a message associated with a use case (UC51403) that provides cost breakdown information.</xsd:documentation><xsd:appinfo><source>S5000F:ProvideCostBreakdown</source></xsd:appinfo></xsd:annotation><xsd:sequence/><xsd:attribute name=\"uid\" use=\"optional\"><xsd:simpleType><xsd:restriction base=\"xsd:ID\"><xsd:pattern value=\"\"/></xsd:restriction></xsd:simpleType></xsd:attribute><xsd:attribute name=\"uri\" type=\"xsd:anyURI\" use=\"optional\"/><xsd:attribute name=\"crud\" type=\"crudCode\" default=\"I\"/></xsd:complexType><!--________________________________________________________________________________________________________________--><xsd:complexType name=\"provideOrganizationalBreakdown\"><xsd:annotation><xsd:documentation>ProvideOrganizationalBreakdown is an [exchange] that represents a message associated with a use case (UC51404) allowing an OBS to be provided to another party.</xsd:documentation><xsd:appinfo><source>S5000F:ProvideOrganizationalBreakdown</source></xsd:appinfo></xsd:annotation><xsd:sequence/><xsd:attribute name=\"uid\" use=\"optional\"><xsd:simpleType><xsd:restriction base=\"xsd:ID\"><xsd:pattern value=\"\"/></xsd:restriction></xsd:simpleType></xsd:attribute><xsd:attribute name=\"uri\" type=\"xsd:anyURI\" use=\"optional\"/><xsd:attribute name=\"crud\" type=\"crudCode\" default=\"I\"/></xsd:complexType><!--________________________________________________________________________________________________________________--><xsd:complexType name=\"provideActivityPlanning\"><xsd:annotation><xsd:documentation>ProvideActivityPlanning is an [exchange] that represents a message associated with a use case (UC51405) allowing another party to be provided with the list of planned activities.</xsd:documentation><xsd:appinfo><source>S5000F:ProvideActivityPlanning</source></xsd:appinfo></xsd:annotation><xsd:sequence/><xsd:attribute name=\"uid\" use=\"optional\"><xsd:simpleType><xsd:restriction base=\"xsd:ID\"><xsd:pattern value=\"\"/></xsd:restriction></xsd:simpleType></xsd:attribute><xsd:attribute name=\"uri\" type=\"xsd:anyURI\" use=\"optional\"/><xsd:attribute name=\"crud\" type=\"crudCode\" default=\"I\"/></xsd:complexType><!--________________________________________________________________________________________________________________--><xsd:complexType name=\"reportSLACompliance\"><xsd:annotation><xsd:documentation>ReportSLACompliance is an [exchange] that represents a message associated with a use case (UC51406) providing the information required to report the compliance with an SLA.</xsd:documentation><xsd:appinfo><source>S5000F:ReportSLACompliance</source></xsd:appinfo></xsd:annotation><xsd:sequence/><xsd:attribute name=\"uid\" use=\"optional\"><xsd:simpleType><xsd:restriction base=\"xsd:ID\"><xsd:pattern value=\"\"/></xsd:restriction></xsd:simpleType></xsd:attribute><xsd:attribute name=\"uri\" type=\"xsd:anyURI\" use=\"optional\"/><xsd:attribute name=\"crud\" type=\"crudCode\" default=\"I\"/></xsd:complexType><!--________________________________________________________________________________________________________________--><xsd:complexType name=\"reportContractCosts\"><xsd:annotation><xsd:documentation>ReportContractCosts is an [exchange] that represents a message associated with a use case (UC51407) allowing costs incurred against a program to be reported.</xsd:documentation><xsd:appinfo><source>S5000F:ReportContractCosts</source></xsd:appinfo></xsd:annotation><xsd:sequence/><xsd:attribute name=\"uid\" use=\"optional\"><xsd:simpleType><xsd:restriction base=\"xsd:ID\"><xsd:pattern value=\"\"/></xsd:restriction></xsd:simpleType></xsd:attribute><xsd:attribute name=\"uri\" type=\"xsd:anyURI\" use=\"optional\"/><xsd:attribute name=\"crud\" type=\"crudCode\" default=\"I\"/></xsd:complexType><!--________________________________________________________________________________________________________________--><xsd:complexType name=\"provideStatusReport\"><xsd:annotation><xsd:documentation>ProvideStatusReport is an [exchange] that represents a message associated with a use case (UC51408) allowing a report in electronic format to be provided.</xsd:documentation><xsd:appinfo><source>S5000F:ProvideStatusReport</source></xsd:appinfo></xsd:annotation><xsd:sequence/><xsd:attribute name=\"uid\" use=\"optional\"><xsd:simpleType><xsd:restriction base=\"xsd:ID\"><xsd:pattern value=\"\"/></xsd:restriction></xsd:simpleType></xsd:attribute><xsd:attribute name=\"uri\" type=\"xsd:anyURI\" use=\"optional\"/><xsd:attribute name=\"crud\" type=\"crudCode\" default=\"I\"/></xsd:complexType><!--________________________________________________________________________________________________________________--><xsd:complexType name=\"provideLocationInformation\"><xsd:annotation><xsd:documentation>ProvideLocationInformation is an [exchange] that represents a message associated with a use case (UC51409) allowing the location information of an item to be indicated.</xsd:documentation><xsd:appinfo><source>S5000F:ProvideLocationInformation</source></xsd:appinfo></xsd:annotation><xsd:sequence/><xsd:attribute name=\"uid\" use=\"optional\"><xsd:simpleType><xsd:restriction base=\"xsd:ID\"><xsd:pattern value=\"\"/></xsd:restriction></xsd:simpleType></xsd:attribute><xsd:attribute name=\"uri\" type=\"xsd:anyURI\" use=\"optional\"/><xsd:attribute name=\"crud\" type=\"crudCode\" default=\"I\"/></xsd:complexType><!--________________________________________________________________________________________________________________--><xsd:complexType name=\"manageServiceRequest\"><xsd:annotation><xsd:documentation>ManageServiceRequest is an [exchange] that represents a message associated with a use case (UC51410) providing the necessary information to address the response to a service request.</xsd:documentation><xsd:appinfo><source>S5000F:ManageServiceRequest</source></xsd:appinfo></xsd:annotation><xsd:sequence/><xsd:attribute name=\"uid\" use=\"optional\"><xsd:simpleType><xsd:restriction base=\"xsd:ID\"><xsd:pattern value=\"\"/></xsd:restriction></xsd:simpleType></xsd:attribute><xsd:attribute name=\"uri\" type=\"xsd:anyURI\" use=\"optional\"/><xsd:attribute name=\"crud\" type=\"crudCode\" default=\"I\"/></xsd:complexType><!--________________________________________________________________________________________________________________--><xsd:complexType name=\"requestResource\"><xsd:annotation><xsd:documentation>RequestResource is an [exchange] that represents a message associated with a use case (UC51411) providing the required information to request the usage of a resource.</xsd:documentation><xsd:appinfo><source>S5000F:RequestResource</source></xsd:appinfo></xsd:annotation><xsd:sequence/><xsd:attribute name=\"uid\" use=\"optional\"><xsd:simpleType><xsd:restriction base=\"xsd:ID\"><xsd:pattern value=\"\"/></xsd:restriction></xsd:simpleType></xsd:attribute><xsd:attribute name=\"uri\" type=\"xsd:anyURI\" use=\"optional\"/><xsd:attribute name=\"crud\" type=\"crudCode\" default=\"I\"/></xsd:complexType><!--________________________________________________________________________________________________________________--><xsd:complexType name=\"defineSecurity\"><xsd:annotation><xsd:documentation>DefineSecurity is an [exchange] that represents a message associated with a use case (UC51412) providing the necessary information to ensure that proper security classifications are applied to classified items.</xsd:documentation><xsd:appinfo><source>S5000F:DefineSecurity</source></xsd:appinfo></xsd:annotation><xsd:sequence/><xsd:attribute name=\"uid\" use=\"optional\"><xsd:simpleType><xsd:restriction base=\"xsd:ID\"><xsd:pattern value=\"\"/></xsd:restriction></xsd:simpleType></xsd:attribute><xsd:attribute name=\"uri\" type=\"xsd:anyURI\" use=\"optional\"/><xsd:attribute name=\"crud\" type=\"crudCode\" default=\"I\"/></xsd:complexType><!--________________________________________________________________________________________________________________--><xsd:complexType name=\"exchangeExportControl\"><xsd:annotation><xsd:documentation>ExchangeExportControl is an [exchange] that represents a message associated with a use case (UC51413) providing the necessary information to ensure compliance with export control regulations.</xsd:documentation><xsd:appinfo><source>S5000F:ExchangeExportControl</source></xsd:appinfo></xsd:annotation><xsd:sequence/><xsd:attribute name=\"uid\" use=\"optional\"><xsd:simpleType><xsd:restriction base=\"xsd:ID\"><xsd:pattern value=\"\"/></xsd:restriction></xsd:simpleType></xsd:attribute><xsd:attribute name=\"uri\" type=\"xsd:anyURI\" use=\"optional\"/><xsd:attribute name=\"crud\" type=\"crudCode\" default=\"I\"/></xsd:complexType><!--________________________________________________________________________________________________________________--><xsd:complexType name=\"provideLaborRates\"><xsd:annotation><xsd:documentation>ProvideLaborRates is an [exchange] that represents a message associated with a use case (UC51414) allowing labor rates from one party to be provided to another.</xsd:documentation><xsd:appinfo><source>S5000F:ProvideLaborRates</source></xsd:appinfo></xsd:annotation><xsd:sequence/><xsd:attribute name=\"uid\" use=\"optional\"><xsd:simpleType><xsd:restriction base=\"xsd:ID\"><xsd:pattern value=\"\"/></xsd:restriction></xsd:simpleType></xsd:attribute><xsd:attribute name=\"uri\" type=\"xsd:anyURI\" use=\"optional\"/><xsd:attribute name=\"crud\" type=\"crudCode\" default=\"I\"/></xsd:complexType><!--________________________________________________________________________________________________________________--><xsd:complexType name=\"provideDocumentationTraceability\"><xsd:annotation><xsd:documentation>ProvideDocumentationTraceability is an [exchange] that represents a message associated with a use case (UC51415) ensuring the traceability of documentation.</xsd:documentation><xsd:appinfo><source>S5000F:ProvideDocumentationTraceability</source></xsd:appinfo></xsd:annotation><xsd:sequence/><xsd:attribute name=\"uid\" use=\"optional\"><xsd:simpleType><xsd:restriction base=\"xsd:ID\"><xsd:pattern value=\"\"/></xsd:restriction></xsd:simpleType></xsd:attribute><xsd:attribute name=\"uri\" type=\"xsd:anyURI\" use=\"optional\"/><xsd:attribute name=\"crud\" type=\"crudCode\" default=\"I\"/></xsd:complexType><!--________________________________________________________________________________________________________________--><xsd:complexType name=\"provideDisposalLocationInformation\"><xsd:annotation><xsd:documentation>ProvideDisposalLocationInformation is an [exchange] that represents a message associated with a use case (UC51503) allowing the location information of an item to be indicated.</xsd:documentation><xsd:appinfo><source>S5000F:ProvideDisposalLocationInformation</source></xsd:appinfo></xsd:annotation><xsd:sequence/><xsd:attribute name=\"uid\" use=\"optional\"><xsd:simpleType><xsd:restriction base=\"xsd:ID\"><xsd:pattern value=\"\"/></xsd:restriction></xsd:simpleType></xsd:attribute><xsd:attribute name=\"uri\" type=\"xsd:anyURI\" use=\"optional\"/><xsd:attribute name=\"crud\" type=\"crudCode\" default=\"I\"/></xsd:complexType><!--________________________________________________________________________________________________________________--><xsd:complexType name=\"reportInfrastructureAvailability\"><xsd:annotation><xsd:documentation>ReportInfrastructureAvailability is an [exchange] that represents a message associated with a use case (UC51504) allowing information about the current, past and future availability of an infrastructure to be provided.</xsd:documentation><xsd:appinfo><source>S5000F:ReportInfrastructureAvailability</source></xsd:appinfo></xsd:annotation><xsd:sequence/><xsd:attribute name=\"uid\" use=\"optional\"><xsd:simpleType><xsd:restriction base=\"xsd:ID\"><xsd:pattern value=\"\"/></xsd:restriction></xsd:simpleType></xsd:attribute><xsd:attribute name=\"uri\" type=\"xsd:anyURI\" use=\"optional\"/><xsd:attribute name=\"crud\" type=\"crudCode\" default=\"I\"/></xsd:complexType><!--________________________________________________________________________________________________________________--><xsd:complexType name=\"defineOrUpdateEnvironment\"><xsd:annotation><xsd:documentation>DefineOrUpdateEnvironment is an [exchange] that represents a message associated with a use case (UC51505) allowing information about the environment in which the Product operates or is maintained to be defined or updated.</xsd:documentation><xsd:appinfo><source>S5000F:DefineOrUpdateEnvironment</source></xsd:appinfo></xsd:annotation><xsd:sequence/><xsd:attribute name=\"uid\" use=\"optional\"><xsd:simpleType><xsd:restriction base=\"xsd:ID\"><xsd:pattern value=\"\"/></xsd:restriction></xsd:simpleType></xsd:attribute><xsd:attribute name=\"uri\" type=\"xsd:anyURI\" use=\"optional\"/><xsd:attribute name=\"crud\" type=\"crudCode\" default=\"I\"/></xsd:complexType><!--________________________________________________________________________________________________________________--><xsd:complexType name=\"reallocateFleetOrProduct\"><xsd:annotation><xsd:documentation>ReallocateFleetOrProduct is an [exchange] that represents a message associated with a use case (UC51506) allowing to report the re(allocation) of a Fleet or Product to a different operator, owner or operating location.</xsd:documentation><xsd:appinfo><source>S5000F:ReallocateFleetOrProduct</source></xsd:appinfo></xsd:annotation><xsd:sequence/><xsd:attribute name=\"uid\" use=\"optional\"><xsd:simpleType><xsd:restriction base=\"xsd:ID\"><xsd:pattern value=\"\"/></xsd:restriction></xsd:simpleType></xsd:attribute><xsd:attribute name=\"uri\" type=\"xsd:anyURI\" use=\"optional\"/><xsd:attribute name=\"crud\" type=\"crudCode\" default=\"I\"/></xsd:complexType><!--________________________________________________________________________________________________________________--><xsd:complexType name=\"exchangeEnvironmentalData\"><xsd:annotation><xsd:documentation>ExchangeEnvironmentalData is an [exchange] that represents a message associated with a use case (UC51601) allowing consumption and emission information between different parties due to Product operation to be reported.</xsd:documentation><xsd:appinfo><source>S5000F:ExchangeEnvironmentalData</source></xsd:appinfo></xsd:annotation><xsd:sequence/><xsd:attribute name=\"uid\" use=\"optional\"><xsd:simpleType><xsd:restriction base=\"xsd:ID\"><xsd:pattern value=\"\"/></xsd:restriction></xsd:simpleType></xsd:attribute><xsd:attribute name=\"uri\" type=\"xsd:anyURI\" use=\"optional\"/><xsd:attribute name=\"crud\" type=\"crudCode\" default=\"I\"/></xsd:complexType><!--________________________________________________________________________________________________________________--><xsd:complexType name=\"reportEnvironmentalDataToAuthorities\"><xsd:annotation><xsd:documentation>ReportEnvironmentalDataToAuthorities is an [exchange] that represents a message associated with a use case (UC51602) allowing consumption and emission information to be reported to the authorities, not only for the Product but also for the facilities or infrastructure required to support the Product.</xsd:documentation><xsd:appinfo><source>S5000F:ReportEnvironmentalDataToAuthorities</source></xsd:appinfo></xsd:annotation><xsd:sequence/><xsd:attribute name=\"uid\" use=\"optional\"><xsd:simpleType><xsd:restriction base=\"xsd:ID\"><xsd:pattern value=\"\"/></xsd:restriction></xsd:simpleType></xsd:attribute><xsd:attribute name=\"uri\" type=\"xsd:anyURI\" use=\"optional\"/><xsd:attribute name=\"crud\" type=\"crudCode\" default=\"I\"/></xsd:complexType><!--________________________________________________________________________________________________________________--><xsd:complexType name=\"reportModificationImpactOnDisposal\"><xsd:annotation><xsd:documentation>ReportModificationImpactOnDisposal is an [exchange] that represents a message associated with a use case (UC51603) allowing the potential environmental and disposal impact of a Product modification to be reported.</xsd:documentation><xsd:appinfo><source>S5000F:ReportModificationImpactOnDisposal</source></xsd:appinfo></xsd:annotation><xsd:sequence/><xsd:attribute name=\"uid\" use=\"optional\"><xsd:simpleType><xsd:restriction base=\"xsd:ID\"><xsd:pattern value=\"\"/></xsd:restriction></xsd:simpleType></xsd:attribute><xsd:attribute name=\"uri\" type=\"xsd:anyURI\" use=\"optional\"/><xsd:attribute name=\"crud\" type=\"crudCode\" default=\"I\"/></xsd:complexType><!--________________________________________________________________________________________________________________--><xsd:complexType name=\"reportValuableItemsFromDisposal\"><xsd:annotation><xsd:documentation>ReportValuableItemsFromDisposal is an [exchange] that represents a message associated with a use case (UC51604) allowing reporting on the valuable items that have been recovered during the disposal of a SerializedProductVariant.</xsd:documentation><xsd:appinfo><source>S5000F:ReportValuableItemsFromDisposal</source></xsd:appinfo></xsd:annotation><xsd:sequence/><xsd:attribute name=\"uid\" use=\"optional\"><xsd:simpleType><xsd:restriction base=\"xsd:ID\"><xsd:pattern value=\"\"/></xsd:restriction></xsd:simpleType></xsd:attribute><xsd:attribute name=\"uri\" type=\"xsd:anyURI\" use=\"optional\"/><xsd:attribute name=\"crud\" type=\"crudCode\" default=\"I\"/></xsd:complexType><!--________________________________________________________________________________________________________________--><xsd:complexType name=\"requestItemDisposal\"><xsd:annotation><xsd:documentation>RequestItemDisposal is an [exchange] that represents a message associated with a use case (UC51605) allowing the disposal of a Product or other end item to be requested.</xsd:documentation><xsd:appinfo><source>S5000F:RequestItemDisposal</source></xsd:appinfo></xsd:annotation><xsd:sequence/><xsd:attribute name=\"uid\" use=\"optional\"><xsd:simpleType><xsd:restriction base=\"xsd:ID\"><xsd:pattern value=\"\"/></xsd:restriction></xsd:simpleType></xsd:attribute><xsd:attribute name=\"uri\" type=\"xsd:anyURI\" use=\"optional\"/><xsd:attribute name=\"crud\" type=\"crudCode\" default=\"I\"/></xsd:complexType><!--________________________________________________________________________________________________________________--><xsd:complexType name=\"reportProductDisposal\"><xsd:annotation><xsd:documentation>ReportProductDisposal is an [exchange] that represents a message associated with a use case (UC51606) allowing information about the disposal of a Product to be reported.</xsd:documentation><xsd:appinfo><source>S5000F:ReportProductDisposal</source></xsd:appinfo></xsd:annotation><xsd:sequence/><xsd:attribute name=\"uid\" use=\"optional\"><xsd:simpleType><xsd:restriction base=\"xsd:ID\"><xsd:pattern value=\"\"/></xsd:restriction></xsd:simpleType></xsd:attribute><xsd:attribute name=\"uri\" type=\"xsd:anyURI\" use=\"optional\"/><xsd:attribute name=\"crud\" type=\"crudCode\" default=\"I\"/></xsd:complexType><!--________________________________________________________________________________________________________________--><xsd:complexType name=\"requestWasteDisposal\"><xsd:annotation><xsd:documentation>RequestWasteDisposal is an [exchange] that represents a message associated with a use case (UC51607) that allows the disposal of waste or hazardous material to be requested.</xsd:documentation><xsd:appinfo><source>S5000F:RequestWasteDisposal</source></xsd:appinfo></xsd:annotation><xsd:sequence/><xsd:attribute name=\"uid\" use=\"optional\"><xsd:simpleType><xsd:restriction base=\"xsd:ID\"><xsd:pattern value=\"\"/></xsd:restriction></xsd:simpleType></xsd:attribute><xsd:attribute name=\"uri\" type=\"xsd:anyURI\" use=\"optional\"/><xsd:attribute name=\"crud\" type=\"crudCode\" default=\"I\"/></xsd:complexType><!--________________________________________________________________________________________________________________--><xsd:complexType name=\"reportWasteDisposal\"><xsd:annotation><xsd:documentation>ReportWasteDisposal is an [exchange] that represents a message associated with a use case (UC51608) allowing information about the disposal of waste to be reported.</xsd:documentation><xsd:appinfo><source>S5000F:ReportWasteDisposal</source></xsd:appinfo></xsd:annotation><xsd:sequence/><xsd:attribute name=\"uid\" use=\"optional\"><xsd:simpleType><xsd:restriction base=\"xsd:ID\"><xsd:pattern value=\"\"/></xsd:restriction></xsd:simpleType></xsd:attribute><xsd:attribute name=\"uri\" type=\"xsd:anyURI\" use=\"optional\"/><xsd:attribute name=\"crud\" type=\"crudCode\" default=\"I\"/></xsd:complexType><!--________________________________________________________________________________________________________________--><xsd:complexType name=\"reportDisposalCosts\"><xsd:annotation><xsd:documentation>ReportDisposalCosts is an [exchange] that represents a message associated with a use case (UC51609) allowing cost information about a disposal to be reported.</xsd:documentation><xsd:appinfo><source>S5000F:ReportDisposalCosts</source></xsd:appinfo></xsd:annotation><xsd:sequence/><xsd:attribute name=\"uid\" use=\"optional\"><xsd:simpleType><xsd:restriction base=\"xsd:ID\"><xsd:pattern value=\"\"/></xsd:restriction></xsd:simpleType></xsd:attribute><xsd:attribute name=\"uri\" type=\"xsd:anyURI\" use=\"optional\"/><xsd:attribute name=\"crud\" type=\"crudCode\" default=\"I\"/></xsd:complexType><!--________________________________________________________________________________________________________________--><xsd:complexType name=\"notifyUnacceptableConditionDisposal\"><xsd:annotation><xsd:documentation>NotifyUnacceptableConditionDisposal is an [exchange] that represents a message associated with a use case (UC51610) allowing to report the need for disposal of an item due to unacceptable conditions, usually in the context of a Warranty claim.</xsd:documentation><xsd:appinfo><source>S5000F:NotifyUnacceptableConditionDisposal</source></xsd:appinfo></xsd:annotation><xsd:sequence/><xsd:attribute name=\"uid\" use=\"optional\"><xsd:simpleType><xsd:restriction base=\"xsd:ID\"><xsd:pattern value=\"\"/></xsd:restriction></xsd:simpleType></xsd:attribute><xsd:attribute name=\"uri\" type=\"xsd:anyURI\" use=\"optional\"/><xsd:attribute name=\"crud\" type=\"crudCode\" default=\"I\"/></xsd:complexType><!--________________________________________________________________________________________________________________--><xsd:complexType name=\"provideProjectSpecificValues\"><xsd:annotation><xsd:documentation>ProvideProjectSpecificValues is an [exchange] that represents a message associated with a use case (UC51501) allowing project-specific values for a specific purpose to be exchanged.</xsd:documentation><xsd:appinfo><source>S5000F:ProvideProjectSpecificValues</source></xsd:appinfo></xsd:annotation><xsd:sequence/><xsd:attribute name=\"uid\" use=\"optional\"><xsd:simpleType><xsd:restriction base=\"xsd:ID\"><xsd:pattern value=\"\"/></xsd:restriction></xsd:simpleType></xsd:attribute><xsd:attribute name=\"uri\" type=\"xsd:anyURI\" use=\"optional\"/><xsd:attribute name=\"crud\" type=\"crudCode\" default=\"I\"/></xsd:complexType><!--________________________________________________________________________________________________________________--><xsd:complexType name=\"provideNonPredefinedInformation\"><xsd:annotation><xsd:documentation>ProvideNonPredefinedInformation is an [exchange] that represents a message associated with a use case (UC51502) allowing non-structured information not contemplated by the specification itself (eg, photos, videos, built-in-test files, etc) to be transferred.</xsd:documentation><xsd:appinfo><source>S5000F:ProvideNonPredefinedInformation</source></xsd:appinfo></xsd:annotation><xsd:sequence/><xsd:attribute name=\"uid\" use=\"optional\"><xsd:simpleType><xsd:restriction base=\"xsd:ID\"><xsd:pattern value=\"\"/></xsd:restriction></xsd:simpleType></xsd:attribute><xsd:attribute name=\"uri\" type=\"xsd:anyURI\" use=\"optional\"/><xsd:attribute name=\"crud\" type=\"crudCode\" default=\"I\"/></xsd:complexType><!--________________________________________________________________________________________________________________--><xsd:complexType name=\"requestData\"><xsd:annotation><xsd:documentation>RequestData is an &amp;lt;&amp;lt;exchange&amp;gt;&amp;gt; that represents a message associated with a use case (UC52501) allowing an exchange party to request a specific data set.\n",
      "</xsd:documentation><xsd:appinfo><source>S5000F:RequestData</source></xsd:appinfo></xsd:annotation><xsd:sequence/><xsd:attribute name=\"uid\" use=\"optional\"><xsd:simpleType><xsd:restriction base=\"xsd:ID\"><xsd:pattern value=\"\"/></xsd:restriction></xsd:simpleType></xsd:attribute><xsd:attribute name=\"uri\" type=\"xsd:anyURI\" use=\"optional\"/><xsd:attribute name=\"crud\" type=\"crudCode\" default=\"I\"/></xsd:complexType><!--________________________________________________________________________________________________________________--><xsd:complexType name=\"accelerometer\"><xsd:annotation><xsd:documentation>Accelerometer is a SensorType that measures acceleration.</xsd:documentation><xsd:appinfo><source>S5000F:Accelerometer</source></xsd:appinfo></xsd:annotation><xsd:sequence/><xsd:attribute name=\"uid\" use=\"optional\"><xsd:simpleType><xsd:restriction base=\"xsd:ID\"><xsd:pattern value=\"\"/></xsd:restriction></xsd:simpleType></xsd:attribute><xsd:attribute name=\"uri\" type=\"xsd:anyURI\" use=\"optional\"/><xsd:attribute name=\"crud\" type=\"crudCode\" default=\"I\"/></xsd:complexType><!--________________________________________________________________________________________________________________--><xsd:complexType name=\"action\"><xsd:annotation><xsd:documentation>Action is a fact or process of doing something, typically to achieve an aim.</xsd:documentation><xsd:appinfo><source>S5000F:Action</source></xsd:appinfo></xsd:annotation><xsd:sequence/><xsd:attribute name=\"uid\" use=\"optional\"><xsd:simpleType><xsd:restriction base=\"xsd:ID\"><xsd:pattern value=\"\"/></xsd:restriction></xsd:simpleType></xsd:attribute><xsd:attribute name=\"uri\" type=\"xsd:anyURI\" use=\"optional\"/><xsd:attribute name=\"crud\" type=\"crudCode\" default=\"I\"/></xsd:complexType><!--________________________________________________________________________________________________________________--><xsd:complexType name=\"anchoringPoint\"><xsd:annotation><xsd:documentation>AnchoringPoint is a [class] representing a point where an item can be moored or tied down.</xsd:documentation><xsd:appinfo><source>S5000F:AnchoringPoint</source></xsd:appinfo></xsd:annotation><xsd:sequence/><xsd:attribute name=\"uid\" use=\"optional\"><xsd:simpleType><xsd:restriction base=\"xsd:ID\"><xsd:pattern value=\"\"/></xsd:restriction></xsd:simpleType></xsd:attribute><xsd:attribute name=\"uri\" type=\"xsd:anyURI\" use=\"optional\"/><xsd:attribute name=\"crud\" type=\"crudCode\" default=\"I\"/></xsd:complexType><!--________________________________________________________________________________________________________________--><xsd:complexType name=\"authorityRequirement\"><xsd:annotation><xsd:documentation>AuthorityRequirement is a Requirement that has been issued by a technical or legal authority.</xsd:documentation><xsd:appinfo><source>S5000F:AuthorityRequirement</source></xsd:appinfo></xsd:annotation><xsd:sequence/><xsd:attribute name=\"uid\" use=\"optional\"><xsd:simpleType><xsd:restriction base=\"xsd:ID\"><xsd:pattern value=\"\"/></xsd:restriction></xsd:simpleType></xsd:attribute><xsd:attribute name=\"uri\" type=\"xsd:anyURI\" use=\"optional\"/><xsd:attribute name=\"crud\" type=\"crudCode\" default=\"I\"/></xsd:complexType><!--________________________________________________________________________________________________________________--><xsd:complexType name=\"availability\"><xsd:annotation><xsd:documentation>Availability is an indication of the global availability status of an AvailabilityItem at a specific day.</xsd:documentation><xsd:appinfo><source>S5000F:Availability</source></xsd:appinfo></xsd:annotation><xsd:sequence/><xsd:attribute name=\"uid\" use=\"optional\"><xsd:simpleType><xsd:restriction base=\"xsd:ID\"><xsd:pattern value=\"\"/></xsd:restriction></xsd:simpleType></xsd:attribute><xsd:attribute name=\"uri\" type=\"xsd:anyURI\" use=\"optional\"/><xsd:attribute name=\"crud\" type=\"crudCode\" default=\"I\"/></xsd:complexType><!--________________________________________________________________________________________________________________--><xsd:complexType name=\"batchHardwarePart\"><xsd:annotation><xsd:documentation>BatchHardwarePart is a [class] that represents actual physical parts which can be identified by their batch membership.</xsd:documentation><xsd:appinfo><source>S5000F:BatchHardwarePart</source></xsd:appinfo></xsd:annotation><xsd:sequence/><xsd:attribute name=\"uid\" use=\"optional\"><xsd:simpleType><xsd:restriction base=\"xsd:ID\"><xsd:pattern value=\"\"/></xsd:restriction></xsd:simpleType></xsd:attribute><xsd:attribute name=\"uri\" type=\"xsd:anyURI\" use=\"optional\"/><xsd:attribute name=\"crud\" type=\"crudCode\" default=\"I\"/></xsd:complexType><!--________________________________________________________________________________________________________________--><xsd:complexType name=\"budget\"><xsd:annotation><xsd:documentation>Budget is a class representing a cost proposal to perform a specific service or provide a certain item.</xsd:documentation><xsd:appinfo><source>S5000F:Budget</source></xsd:appinfo></xsd:annotation><xsd:sequence/><xsd:attribute name=\"uid\" use=\"optional\"><xsd:simpleType><xsd:restriction base=\"xsd:ID\"><xsd:pattern value=\"\"/></xsd:restriction></xsd:simpleType></xsd:attribute><xsd:attribute name=\"uri\" type=\"xsd:anyURI\" use=\"optional\"/><xsd:attribute name=\"crud\" type=\"crudCode\" default=\"I\"/></xsd:complexType><!--________________________________________________________________________________________________________________--><xsd:complexType name=\"calibration\"><xsd:annotation><xsd:documentation>Calibration is an [attributeGroup&amp;gt; that provides historical data about calibration.</xsd:documentation><xsd:appinfo><source>S5000F:Calibration</source></xsd:appinfo></xsd:annotation><xsd:sequence/><xsd:attribute name=\"uid\" use=\"optional\"><xsd:simpleType><xsd:restriction base=\"xsd:ID\"><xsd:pattern value=\"\"/></xsd:restriction></xsd:simpleType></xsd:attribute><xsd:attribute name=\"uri\" type=\"xsd:anyURI\" use=\"optional\"/><xsd:attribute name=\"crud\" type=\"crudCode\" default=\"I\"/></xsd:complexType><!--________________________________________________________________________________________________________________--><xsd:complexType name=\"capability\"><xsd:annotation><xsd:documentation>Capability is a class that defines an actual ability or potential for an indicated use or deployment.</xsd:documentation><xsd:appinfo><source>S5000F:Capability</source></xsd:appinfo></xsd:annotation><xsd:sequence/><xsd:attribute name=\"uid\" use=\"optional\"><xsd:simpleType><xsd:restriction base=\"xsd:ID\"><xsd:pattern value=\"\"/></xsd:restriction></xsd:simpleType></xsd:attribute><xsd:attribute name=\"uri\" type=\"xsd:anyURI\" use=\"optional\"/><xsd:attribute name=\"crud\" type=\"crudCode\" default=\"I\"/></xsd:complexType><!--________________________________________________________________________________________________________________--><xsd:complexType name=\"capabilityLimitation\"><xsd:annotation><xsd:documentation>CapabilityLimitation is a [class] that defines a limitation on the use of a specific Capability.</xsd:documentation><xsd:appinfo><source>S5000F:CapabilityLimitation</source></xsd:appinfo></xsd:annotation><xsd:sequence/><xsd:attribute name=\"uid\" use=\"optional\"><xsd:simpleType><xsd:restriction base=\"xsd:ID\"><xsd:pattern value=\"\"/></xsd:restriction></xsd:simpleType></xsd:attribute><xsd:attribute name=\"uri\" type=\"xsd:anyURI\" use=\"optional\"/><xsd:attribute name=\"crud\" type=\"crudCode\" default=\"I\"/></xsd:complexType><!--________________________________________________________________________________________________________________--><xsd:complexType name=\"cargoItem\"><xsd:annotation><xsd:documentation>CargoItem is a class representing one or several items that need to be transported as part of a FleetTask.</xsd:documentation><xsd:appinfo><source>S5000F:CargoItem</source></xsd:appinfo></xsd:annotation><xsd:sequence/><xsd:attribute name=\"uid\" use=\"optional\"><xsd:simpleType><xsd:restriction base=\"xsd:ID\"><xsd:pattern value=\"\"/></xsd:restriction></xsd:simpleType></xsd:attribute><xsd:attribute name=\"uri\" type=\"xsd:anyURI\" use=\"optional\"/><xsd:attribute name=\"crud\" type=\"crudCode\" default=\"I\"/></xsd:complexType><!--________________________________________________________________________________________________________________--><xsd:complexType name=\"changeEmbodimentRequirement\"><xsd:annotation><xsd:documentation>ChangeEmbodimentRequirement is a Requirement to embody an authorized modification into one or several items.</xsd:documentation><xsd:appinfo><source>S5000F:ChangeEmbodimentRequirement</source></xsd:appinfo></xsd:annotation><xsd:sequence/><xsd:attribute name=\"uid\" use=\"optional\"><xsd:simpleType><xsd:restriction base=\"xsd:ID\"><xsd:pattern value=\"\"/></xsd:restriction></xsd:simpleType></xsd:attribute><xsd:attribute name=\"uri\" type=\"xsd:anyURI\" use=\"optional\"/><xsd:attribute name=\"crud\" type=\"crudCode\" default=\"I\"/></xsd:complexType><!--________________________________________________________________________________________________________________--><xsd:complexType name=\"changeRequest\"><xsd:annotation><xsd:documentation>ChangeRequest is a &amp;lt;&amp;lt;class&amp;gt;&amp;gt; that represents a formal proposal for a modification to a configuration item upon a given baseline.</xsd:documentation><xsd:appinfo><source>S5000F:ChangeRequest</source></xsd:appinfo></xsd:annotation><xsd:sequence/><xsd:attribute name=\"uid\" use=\"optional\"><xsd:simpleType><xsd:restriction base=\"xsd:ID\"><xsd:pattern value=\"\"/></xsd:restriction></xsd:simpleType></xsd:attribute><xsd:attribute name=\"uri\" type=\"xsd:anyURI\" use=\"optional\"/><xsd:attribute name=\"crud\" type=\"crudCode\" default=\"I\"/></xsd:complexType><!--________________________________________________________________________________________________________________--><xsd:complexType name=\"cloudInfrastructure\"><xsd:annotation><xsd:documentation>CloudInfrastructure is an Infrastructure that represents a network of remote servers hosted on the Internet and used to store, manage, and process data in place of local servers or personal computers.</xsd:documentation><xsd:appinfo><source>S5000F:CloudInfrastructure</source></xsd:appinfo></xsd:annotation><xsd:sequence/><xsd:attribute name=\"uid\" use=\"optional\"><xsd:simpleType><xsd:restriction base=\"xsd:ID\"><xsd:pattern value=\"\"/></xsd:restriction></xsd:simpleType></xsd:attribute><xsd:attribute name=\"uri\" type=\"xsd:anyURI\" use=\"optional\"/><xsd:attribute name=\"crud\" type=\"crudCode\" default=\"I\"/></xsd:complexType><!--________________________________________________________________________________________________________________--><xsd:complexType name=\"comment\"><xsd:annotation><xsd:documentation>Comment is a textual statement about a related item that deals with an issue associated to that item that needs to be addressed.</xsd:documentation><xsd:appinfo><source>S5000F:Comment</source></xsd:appinfo></xsd:annotation><xsd:sequence/><xsd:attribute name=\"uid\" use=\"optional\"><xsd:simpleType><xsd:restriction base=\"xsd:ID\"><xsd:pattern value=\"\"/></xsd:restriction></xsd:simpleType></xsd:attribute><xsd:attribute name=\"uri\" type=\"xsd:anyURI\" use=\"optional\"/><xsd:attribute name=\"crud\" type=\"crudCode\" default=\"I\"/></xsd:complexType><!--________________________________________________________________________________________________________________--><xsd:complexType name=\"communicationsNetwork\"><xsd:annotation><xsd:documentation>CommunicationsNetwork is an Infrastructure that represents a number of machines, computers and communication lines that allow the communication between different parties or machines.</xsd:documentation><xsd:appinfo><source>S5000F:CommunicationsNetwork</source></xsd:appinfo></xsd:annotation><xsd:sequence/><xsd:attribute name=\"uid\" use=\"optional\"><xsd:simpleType><xsd:restriction base=\"xsd:ID\"><xsd:pattern value=\"\"/></xsd:restriction></xsd:simpleType></xsd:attribute><xsd:attribute name=\"uri\" type=\"xsd:anyURI\" use=\"optional\"/><xsd:attribute name=\"crud\" type=\"crudCode\" default=\"I\"/></xsd:complexType><!--________________________________________________________________________________________________________________--><xsd:complexType name=\"computerNetwork\"><xsd:annotation><xsd:documentation>ComputerNetwork is an Infrastructure that represents a number of interconnected computers, irrespectively of their location.</xsd:documentation><xsd:appinfo><source>S5000F:ComputerNetwork</source></xsd:appinfo></xsd:annotation><xsd:sequence/><xsd:attribute name=\"uid\" use=\"optional\"><xsd:simpleType><xsd:restriction base=\"xsd:ID\"><xsd:pattern value=\"\"/></xsd:restriction></xsd:simpleType></xsd:attribute><xsd:attribute name=\"uri\" type=\"xsd:anyURI\" use=\"optional\"/><xsd:attribute name=\"crud\" type=\"crudCode\" default=\"I\"/></xsd:complexType><!--________________________________________________________________________________________________________________--><xsd:complexType name=\"consequence\"><xsd:annotation><xsd:documentation>Consequence is a class providing information about the consequences of an Event.</xsd:documentation><xsd:appinfo><source>S5000F:Consequence</source></xsd:appinfo></xsd:annotation><xsd:sequence/><xsd:attribute name=\"uid\" use=\"optional\"><xsd:simpleType><xsd:restriction base=\"xsd:ID\"><xsd:pattern value=\"\"/></xsd:restriction></xsd:simpleType></xsd:attribute><xsd:attribute name=\"uri\" type=\"xsd:anyURI\" use=\"optional\"/><xsd:attribute name=\"crud\" type=\"crudCode\" default=\"I\"/></xsd:complexType><!--________________________________________________________________________________________________________________--><xsd:complexType name=\"consumableItem\"><xsd:annotation><xsd:documentation>ConsumableItem is a supply item that is consumed and cannot be reused.</xsd:documentation><xsd:appinfo><source>S5000F:ConsumableItem</source></xsd:appinfo></xsd:annotation><xsd:sequence/><xsd:attribute name=\"uid\" use=\"optional\"><xsd:simpleType><xsd:restriction base=\"xsd:ID\"><xsd:pattern value=\"\"/></xsd:restriction></xsd:simpleType></xsd:attribute><xsd:attribute name=\"uri\" type=\"xsd:anyURI\" use=\"optional\"/><xsd:attribute name=\"crud\" type=\"crudCode\" default=\"I\"/></xsd:complexType><!--________________________________________________________________________________________________________________--><xsd:complexType name=\"containerAsDesigned\"><xsd:annotation><xsd:documentation>ContainerAsDesigned is a HardwarePartAsDesigned representing a vessel for the storage or transport of items.</xsd:documentation><xsd:appinfo><source>S5000F:ContainerAsDesigned</source></xsd:appinfo></xsd:annotation><xsd:sequence/><xsd:attribute name=\"uid\" use=\"optional\"><xsd:simpleType><xsd:restriction base=\"xsd:ID\"><xsd:pattern value=\"\"/></xsd:restriction></xsd:simpleType></xsd:attribute><xsd:attribute name=\"uri\" type=\"xsd:anyURI\" use=\"optional\"/><xsd:attribute name=\"crud\" type=\"crudCode\" default=\"I\"/></xsd:complexType><!--________________________________________________________________________________________________________________--><xsd:complexType name=\"contractClause\"><xsd:annotation><xsd:documentation>ContractClause is a specific provision included in a Contract.</xsd:documentation><xsd:appinfo><source>S5000F:ContractClause</source></xsd:appinfo></xsd:annotation><xsd:sequence/><xsd:attribute name=\"uid\" use=\"optional\"><xsd:simpleType><xsd:restriction base=\"xsd:ID\"><xsd:pattern value=\"\"/></xsd:restriction></xsd:simpleType></xsd:attribute><xsd:attribute name=\"uri\" type=\"xsd:anyURI\" use=\"optional\"/><xsd:attribute name=\"crud\" type=\"crudCode\" default=\"I\"/></xsd:complexType><!--________________________________________________________________________________________________________________--><xsd:complexType name=\"contractClauseRelationship\"><xsd:annotation><xsd:documentation>ContractClauseRelationship is a [relationship] that allows to associate different ContractClauses.</xsd:documentation><xsd:appinfo><source>S5000F:ContractClauseRelationship</source></xsd:appinfo></xsd:annotation><xsd:sequence/><xsd:attribute name=\"uid\" use=\"optional\"><xsd:simpleType><xsd:restriction base=\"xsd:ID\"><xsd:pattern value=\"\"/></xsd:restriction></xsd:simpleType></xsd:attribute><xsd:attribute name=\"uri\" type=\"xsd:anyURI\" use=\"optional\"/><xsd:attribute name=\"crud\" type=\"crudCode\" default=\"I\"/></xsd:complexType><!--________________________________________________________________________________________________________________--><xsd:complexType name=\"costBreakdown\"><xsd:annotation><xsd:documentation>CostBreakdown is a class used to group all the different cost concepts associated to a particular purpose.</xsd:documentation><xsd:appinfo><source>S5000F:CostBreakdown</source></xsd:appinfo></xsd:annotation><xsd:sequence/><xsd:attribute name=\"uid\" use=\"optional\"><xsd:simpleType><xsd:restriction base=\"xsd:ID\"><xsd:pattern value=\"\"/></xsd:restriction></xsd:simpleType></xsd:attribute><xsd:attribute name=\"uri\" type=\"xsd:anyURI\" use=\"optional\"/><xsd:attribute name=\"crud\" type=\"crudCode\" default=\"I\"/></xsd:complexType><!--________________________________________________________________________________________________________________--><xsd:complexType name=\"costBreakdownRevision\"><xsd:annotation><xsd:documentation>CostBreakdownRevision is an iteration that is applied to a CostItem.</xsd:documentation><xsd:appinfo><source>S5000F:CostBreakdownRevision</source></xsd:appinfo></xsd:annotation><xsd:sequence/><xsd:attribute name=\"uid\" use=\"optional\"><xsd:simpleType><xsd:restriction base=\"xsd:ID\"><xsd:pattern value=\"\"/></xsd:restriction></xsd:simpleType></xsd:attribute><xsd:attribute name=\"uri\" type=\"xsd:anyURI\" use=\"optional\"/><xsd:attribute name=\"crud\" type=\"crudCode\" default=\"I\"/></xsd:complexType><!--________________________________________________________________________________________________________________--><xsd:complexType name=\"costEntry\"><xsd:annotation><xsd:documentation>CostEntry is an individual expense made at a specific date for a specific amount that needs to be recorded for accounting purposes.</xsd:documentation><xsd:appinfo><source>S5000F:CostEntry</source></xsd:appinfo></xsd:annotation><xsd:sequence/><xsd:attribute name=\"uid\" use=\"optional\"><xsd:simpleType><xsd:restriction base=\"xsd:ID\"><xsd:pattern value=\"\"/></xsd:restriction></xsd:simpleType></xsd:attribute><xsd:attribute name=\"uri\" type=\"xsd:anyURI\" use=\"optional\"/><xsd:attribute name=\"crud\" type=\"crudCode\" default=\"I\"/></xsd:complexType><!--________________________________________________________________________________________________________________--><xsd:complexType name=\"costItem\"><xsd:annotation><xsd:documentation>CostItem is a generic concept used to group individual expenses for accounting or program management purposes.</xsd:documentation><xsd:appinfo><source>S5000F:CostItem</source></xsd:appinfo></xsd:annotation><xsd:sequence/><xsd:attribute name=\"uid\" use=\"optional\"><xsd:simpleType><xsd:restriction base=\"xsd:ID\"><xsd:pattern value=\"\"/></xsd:restriction></xsd:simpleType></xsd:attribute><xsd:attribute name=\"uri\" type=\"xsd:anyURI\" use=\"optional\"/><xsd:attribute name=\"crud\" type=\"crudCode\" default=\"I\"/></xsd:complexType><!--________________________________________________________________________________________________________________--><xsd:complexType name=\"damage\"><xsd:annotation><xsd:documentation>Damage is a harm to an item resulting in loss of value or the impairment of usefulness.</xsd:documentation><xsd:appinfo><source>S5000F:Damage</source></xsd:appinfo></xsd:annotation><xsd:sequence/><xsd:attribute name=\"uid\" use=\"optional\"><xsd:simpleType><xsd:restriction base=\"xsd:ID\"><xsd:pattern value=\"\"/></xsd:restriction></xsd:simpleType></xsd:attribute><xsd:attribute name=\"uri\" type=\"xsd:anyURI\" use=\"optional\"/><xsd:attribute name=\"crud\" type=\"crudCode\" default=\"I\"/></xsd:complexType><!--________________________________________________________________________________________________________________--><xsd:complexType name=\"damageCharacteristic\"><xsd:annotation><xsd:documentation>DamageCharacteristic is a [class] that allows to document the characteristics of a Damage.</xsd:documentation><xsd:appinfo><source>S5000F:DamageCharacteristic</source></xsd:appinfo></xsd:annotation><xsd:sequence/><xsd:attribute name=\"uid\" use=\"optional\"><xsd:simpleType><xsd:restriction base=\"xsd:ID\"><xsd:pattern value=\"\"/></xsd:restriction></xsd:simpleType></xsd:attribute><xsd:attribute name=\"uri\" type=\"xsd:anyURI\" use=\"optional\"/><xsd:attribute name=\"crud\" type=\"crudCode\" default=\"I\"/></xsd:complexType><!--________________________________________________________________________________________________________________--><xsd:complexType name=\"dataRequest\"><xsd:annotation><xsd:documentation>DataRequest is a &amp;lt;&amp;lt;class&amp;gt;&amp;gt; that allows an exchange party to request a specific data set.</xsd:documentation><xsd:appinfo><source>S5000F:DataRequest</source></xsd:appinfo></xsd:annotation><xsd:sequence/><xsd:attribute name=\"uid\" use=\"optional\"><xsd:simpleType><xsd:restriction base=\"xsd:ID\"><xsd:pattern value=\"\"/></xsd:restriction></xsd:simpleType></xsd:attribute><xsd:attribute name=\"uri\" type=\"xsd:anyURI\" use=\"optional\"/><xsd:attribute name=\"crud\" type=\"crudCode\" default=\"I\"/></xsd:complexType><!--________________________________________________________________________________________________________________--><xsd:complexType name=\"dataRequestByClassName\"><xsd:annotation><xsd:documentation>DataRequestByClassName is a &amp;lt;&amp;lt;class&amp;gt;&amp;gt; that allows an exchange party to request a specific data set by using the class name.\n",
      "</xsd:documentation><xsd:appinfo><source>S5000F:DataRequestByClassName</source></xsd:appinfo></xsd:annotation><xsd:sequence/><xsd:attribute name=\"uid\" use=\"optional\"><xsd:simpleType><xsd:restriction base=\"xsd:ID\"><xsd:pattern value=\"\"/></xsd:restriction></xsd:simpleType></xsd:attribute><xsd:attribute name=\"uri\" type=\"xsd:anyURI\" use=\"optional\"/><xsd:attribute name=\"crud\" type=\"crudCode\" default=\"I\"/></xsd:complexType><!--________________________________________________________________________________________________________________--><xsd:complexType name=\"dataRequestByIdentifier\"><xsd:annotation><xsd:documentation>DataRequestByIdentifier is a &amp;lt;&amp;lt;class&amp;gt;&amp;gt; that allows an exchange party to request a specific data set by using one identifier.</xsd:documentation><xsd:appinfo><source>S5000F:DataRequestByIdentifier</source></xsd:appinfo></xsd:annotation><xsd:sequence/><xsd:attribute name=\"uid\" use=\"optional\"><xsd:simpleType><xsd:restriction base=\"xsd:ID\"><xsd:pattern value=\"\"/></xsd:restriction></xsd:simpleType></xsd:attribute><xsd:attribute name=\"uri\" type=\"xsd:anyURI\" use=\"optional\"/><xsd:attribute name=\"crud\" type=\"crudCode\" default=\"I\"/></xsd:complexType><!--________________________________________________________________________________________________________________--><xsd:complexType name=\"dataRequestByUseCaseName\"><xsd:annotation><xsd:documentation>DataRequestByUseCaseName is a &amp;lt;&amp;lt;class&amp;gt;&amp;gt; that allows an exchange party to request a specific data set by using the usecase name.\n",
      "</xsd:documentation><xsd:appinfo><source>S5000F:DataRequestByUseCaseName</source></xsd:appinfo></xsd:annotation><xsd:sequence/><xsd:attribute name=\"uid\" use=\"optional\"><xsd:simpleType><xsd:restriction base=\"xsd:ID\"><xsd:pattern value=\"\"/></xsd:restriction></xsd:simpleType></xsd:attribute><xsd:attribute name=\"uri\" type=\"xsd:anyURI\" use=\"optional\"/><xsd:attribute name=\"crud\" type=\"crudCode\" default=\"I\"/></xsd:complexType><!--________________________________________________________________________________________________________________--><xsd:complexType name=\"dataSetAsDesigned\"><xsd:annotation><xsd:documentation>DataSetAsDesigned is a class representing a data structure.</xsd:documentation><xsd:appinfo><source>S5000F:DataSetAsDesigned</source></xsd:appinfo></xsd:annotation><xsd:sequence/><xsd:attribute name=\"uid\" use=\"optional\"><xsd:simpleType><xsd:restriction base=\"xsd:ID\"><xsd:pattern value=\"\"/></xsd:restriction></xsd:simpleType></xsd:attribute><xsd:attribute name=\"uri\" type=\"xsd:anyURI\" use=\"optional\"/><xsd:attribute name=\"crud\" type=\"crudCode\" default=\"I\"/></xsd:complexType><!--________________________________________________________________________________________________________________--><xsd:complexType name=\"dataSetAsReleased\"><xsd:annotation><xsd:documentation>DataSetAsReleased is a class representing a set of actual data that are structured as a DataSetAsDesigned.</xsd:documentation><xsd:appinfo><source>S5000F:DataSetAsReleased</source></xsd:appinfo></xsd:annotation><xsd:sequence/><xsd:attribute name=\"uid\" use=\"optional\"><xsd:simpleType><xsd:restriction base=\"xsd:ID\"><xsd:pattern value=\"\"/></xsd:restriction></xsd:simpleType></xsd:attribute><xsd:attribute name=\"uri\" type=\"xsd:anyURI\" use=\"optional\"/><xsd:attribute name=\"crud\" type=\"crudCode\" default=\"I\"/></xsd:complexType><!--________________________________________________________________________________________________________________--><xsd:complexType name=\"detectionMeanCapability\"><xsd:annotation><xsd:documentation>DetectionMeanCapability is a class that identifies the capability to detect a failure.</xsd:documentation><xsd:appinfo><source>S5000F:DetectionMeanCapability</source></xsd:appinfo></xsd:annotation><xsd:sequence/><xsd:attribute name=\"uid\" use=\"optional\"><xsd:simpleType><xsd:restriction base=\"xsd:ID\"><xsd:pattern value=\"\"/></xsd:restriction></xsd:simpleType></xsd:attribute><xsd:attribute name=\"uri\" type=\"xsd:anyURI\" use=\"optional\"/><xsd:attribute name=\"crud\" type=\"crudCode\" default=\"I\"/></xsd:complexType><!--________________________________________________________________________________________________________________--><xsd:complexType name=\"detectionMechanism\"><xsd:annotation><xsd:documentation>DetectionMechanism is a class that allows to define the mechanism by means of which a failure is detected.</xsd:documentation><xsd:appinfo><source>S5000F:DetectionMechanism</source></xsd:appinfo></xsd:annotation><xsd:sequence/><xsd:attribute name=\"uid\" use=\"optional\"><xsd:simpleType><xsd:restriction base=\"xsd:ID\"><xsd:pattern value=\"\"/></xsd:restriction></xsd:simpleType></xsd:attribute><xsd:attribute name=\"uri\" type=\"xsd:anyURI\" use=\"optional\"/><xsd:attribute name=\"crud\" type=\"crudCode\" default=\"I\"/></xsd:complexType><!--________________________________________________________________________________________________________________--><xsd:complexType name=\"disposalRequirement\"><xsd:annotation><xsd:documentation>DisposalRequirement is a Requirement to proceed with the disposal of an item, waste or hazardous material.</xsd:documentation><xsd:appinfo><source>S5000F:DisposalRequirement</source></xsd:appinfo></xsd:annotation><xsd:sequence/><xsd:attribute name=\"uid\" use=\"optional\"><xsd:simpleType><xsd:restriction base=\"xsd:ID\"><xsd:pattern value=\"\"/></xsd:restriction></xsd:simpleType></xsd:attribute><xsd:attribute name=\"uri\" type=\"xsd:anyURI\" use=\"optional\"/><xsd:attribute name=\"crud\" type=\"crudCode\" default=\"I\"/></xsd:complexType><!--________________________________________________________________________________________________________________--><xsd:complexType name=\"documentIssue\"><xsd:annotation><xsd:documentation>DocumentIssue is a &amp;lt;&amp;lt;class&amp;gt;&amp;gt; that represents a specific release of a Document</xsd:documentation><xsd:appinfo><source>S5000F:DocumentIssue</source></xsd:appinfo></xsd:annotation><xsd:sequence/><xsd:attribute name=\"uid\" use=\"optional\"><xsd:simpleType><xsd:restriction base=\"xsd:ID\"><xsd:pattern value=\"\"/></xsd:restriction></xsd:simpleType></xsd:attribute><xsd:attribute name=\"uri\" type=\"xsd:anyURI\" use=\"optional\"/><xsd:attribute name=\"crud\" type=\"crudCode\" default=\"I\"/></xsd:complexType><!--________________________________________________________________________________________________________________--><xsd:complexType name=\"downTimePeriod\"><xsd:annotation><xsd:documentation>DownTimePeriod is a class representing a planned or actual downtime for a SerializedProductVariant.</xsd:documentation><xsd:appinfo><source>S5000F:DownTimePeriod</source></xsd:appinfo></xsd:annotation><xsd:sequence/><xsd:attribute name=\"uid\" use=\"optional\"><xsd:simpleType><xsd:restriction base=\"xsd:ID\"><xsd:pattern value=\"\"/></xsd:restriction></xsd:simpleType></xsd:attribute><xsd:attribute name=\"uri\" type=\"xsd:anyURI\" use=\"optional\"/><xsd:attribute name=\"crud\" type=\"crudCode\" default=\"I\"/></xsd:complexType><!--________________________________________________________________________________________________________________--><xsd:complexType name=\"environment\"><xsd:annotation><xsd:documentation>Environment is a class that represents the actual environment in which the Product operation or maintenance takes place.</xsd:documentation><xsd:appinfo><source>S5000F:Environment</source></xsd:appinfo></xsd:annotation><xsd:sequence/><xsd:attribute name=\"uid\" use=\"optional\"><xsd:simpleType><xsd:restriction base=\"xsd:ID\"><xsd:pattern value=\"\"/></xsd:restriction></xsd:simpleType></xsd:attribute><xsd:attribute name=\"uri\" type=\"xsd:anyURI\" use=\"optional\"/><xsd:attribute name=\"crud\" type=\"crudCode\" default=\"I\"/></xsd:complexType><!--________________________________________________________________________________________________________________--><xsd:complexType name=\"environmentRevision\"><xsd:annotation><xsd:documentation>EnvironmentRevision is a [class] representing an iteration applied to an Environment.</xsd:documentation><xsd:appinfo><source>S5000F:EnvironmentRevision</source></xsd:appinfo></xsd:annotation><xsd:sequence/><xsd:attribute name=\"uid\" use=\"optional\"><xsd:simpleType><xsd:restriction base=\"xsd:ID\"><xsd:pattern value=\"\"/></xsd:restriction></xsd:simpleType></xsd:attribute><xsd:attribute name=\"uri\" type=\"xsd:anyURI\" use=\"optional\"/><xsd:attribute name=\"crud\" type=\"crudCode\" default=\"I\"/></xsd:complexType><!--________________________________________________________________________________________________________________--><xsd:complexType name=\"evaluationByNestedExpression\"><xsd:annotation><xsd:documentation>EvaluationByNestedExpression is an EvaluationCriteria that defines a Boolean expression between additional EvaluationCriteria that can be evaluated to either TRUE or FALSE.</xsd:documentation><xsd:appinfo><source>S5000F:EvaluationByNestedExpression</source></xsd:appinfo></xsd:annotation><xsd:sequence/><xsd:attribute name=\"uid\" use=\"optional\"><xsd:simpleType><xsd:restriction base=\"xsd:ID\"><xsd:pattern value=\"\"/></xsd:restriction></xsd:simpleType></xsd:attribute><xsd:attribute name=\"uri\" type=\"xsd:anyURI\" use=\"optional\"/><xsd:attribute name=\"crud\" type=\"crudCode\" default=\"I\"/></xsd:complexType><!--________________________________________________________________________________________________________________--><xsd:complexType name=\"event\"><xsd:annotation><xsd:documentation>Event is an important happening or occurrence at a specific point in time that requires to be documented or recorded.</xsd:documentation><xsd:appinfo><source>S5000F:Event</source></xsd:appinfo></xsd:annotation><xsd:sequence/><xsd:attribute name=\"uid\" use=\"optional\"><xsd:simpleType><xsd:restriction base=\"xsd:ID\"><xsd:pattern value=\"\"/></xsd:restriction></xsd:simpleType></xsd:attribute><xsd:attribute name=\"uri\" type=\"xsd:anyURI\" use=\"optional\"/><xsd:attribute name=\"crud\" type=\"crudCode\" default=\"I\"/></xsd:complexType><!--________________________________________________________________________________________________________________--><xsd:complexType name=\"explanatoryFactor\"><xsd:annotation><xsd:documentation>ExplanatoryFactor is a class that provides information about the factor that caused an Event.</xsd:documentation><xsd:appinfo><source>S5000F:ExplanatoryFactor</source></xsd:appinfo></xsd:annotation><xsd:sequence/><xsd:attribute name=\"uid\" use=\"optional\"><xsd:simpleType><xsd:restriction base=\"xsd:ID\"><xsd:pattern value=\"\"/></xsd:restriction></xsd:simpleType></xsd:attribute><xsd:attribute name=\"uri\" type=\"xsd:anyURI\" use=\"optional\"/><xsd:attribute name=\"crud\" type=\"crudCode\" default=\"I\"/></xsd:complexType><!--________________________________________________________________________________________________________________--><xsd:complexType name=\"exportControlLicense\"><xsd:annotation><xsd:documentation>ExportControlLicense is a [class] representing an authorization to one or more parties to export item(s) under the terms of an ExportControlRegulation.</xsd:documentation><xsd:appinfo><source>S5000F:ExportControlLicense</source></xsd:appinfo></xsd:annotation><xsd:sequence/><xsd:attribute name=\"uid\" use=\"optional\"><xsd:simpleType><xsd:restriction base=\"xsd:ID\"><xsd:pattern value=\"\"/></xsd:restriction></xsd:simpleType></xsd:attribute><xsd:attribute name=\"uri\" type=\"xsd:anyURI\" use=\"optional\"/><xsd:attribute name=\"crud\" type=\"crudCode\" default=\"I\"/></xsd:complexType><!--________________________________________________________________________________________________________________--><xsd:complexType name=\"exportControlRegulation\"><xsd:annotation><xsd:documentation>ExportControlRegulation is a legal document that defines export control restrictions to one or several items or item categories.</xsd:documentation><xsd:appinfo><source>S5000F:ExportControlRegulation</source></xsd:appinfo></xsd:annotation><xsd:sequence/><xsd:attribute name=\"uid\" use=\"optional\"><xsd:simpleType><xsd:restriction base=\"xsd:ID\"><xsd:pattern value=\"\"/></xsd:restriction></xsd:simpleType></xsd:attribute><xsd:attribute name=\"uri\" type=\"xsd:anyURI\" use=\"optional\"/><xsd:attribute name=\"crud\" type=\"crudCode\" default=\"I\"/></xsd:complexType><!--________________________________________________________________________________________________________________--><xsd:complexType name=\"expressionEvaluation\"><xsd:annotation><xsd:documentation>ExpressionEvaluation is a Boolean expression that can be evaluated to be either TRUE or FALSE.</xsd:documentation><xsd:appinfo><source>S5000F:ExpressionEvaluation</source></xsd:appinfo></xsd:annotation><xsd:sequence/><xsd:attribute name=\"uid\" use=\"optional\"><xsd:simpleType><xsd:restriction base=\"xsd:ID\"><xsd:pattern value=\"\"/></xsd:restriction></xsd:simpleType></xsd:attribute><xsd:attribute name=\"uri\" type=\"xsd:anyURI\" use=\"optional\"/><xsd:attribute name=\"crud\" type=\"crudCode\" default=\"I\"/></xsd:complexType><!--________________________________________________________________________________________________________________--><xsd:complexType name=\"externalDocument\"><xsd:annotation><xsd:documentation>ExternalDocument is a specialization of class Document, and represents all documents that do not have a specialied class.</xsd:documentation><xsd:appinfo><source>S5000F:ExternalDocument</source></xsd:appinfo></xsd:annotation><xsd:sequence/><xsd:attribute name=\"uid\" use=\"optional\"><xsd:simpleType><xsd:restriction base=\"xsd:ID\"><xsd:pattern value=\"\"/></xsd:restriction></xsd:simpleType></xsd:attribute><xsd:attribute name=\"uri\" type=\"xsd:anyURI\" use=\"optional\"/><xsd:attribute name=\"crud\" type=\"crudCode\" default=\"I\"/></xsd:complexType><!--________________________________________________________________________________________________________________--><xsd:complexType name=\"facility\"><xsd:annotation><xsd:documentation>Facility is a &amp;lt;&amp;lt;class&amp;gt;&amp;gt;that represents a physically limited infrastructure which exists, or is intended to be built or installed, and is established to serve a particular purpose.</xsd:documentation><xsd:appinfo><source>S5000F:Facility</source></xsd:appinfo></xsd:annotation><xsd:sequence/><xsd:attribute name=\"uid\" use=\"optional\"><xsd:simpleType><xsd:restriction base=\"xsd:ID\"><xsd:pattern value=\"\"/></xsd:restriction></xsd:simpleType></xsd:attribute><xsd:attribute name=\"uri\" type=\"xsd:anyURI\" use=\"optional\"/><xsd:attribute name=\"crud\" type=\"crudCode\" default=\"I\"/></xsd:complexType><!--________________________________________________________________________________________________________________--><xsd:complexType name=\"fault\"><xsd:annotation><xsd:documentation>Fault represents an unidentified anomalous behavior that occurred on a specific item at a specific date.</xsd:documentation><xsd:appinfo><source>S5000F:Fault</source></xsd:appinfo></xsd:annotation><xsd:sequence/><xsd:attribute name=\"uid\" use=\"optional\"><xsd:simpleType><xsd:restriction base=\"xsd:ID\"><xsd:pattern value=\"\"/></xsd:restriction></xsd:simpleType></xsd:attribute><xsd:attribute name=\"uri\" type=\"xsd:anyURI\" use=\"optional\"/><xsd:attribute name=\"crud\" type=\"crudCode\" default=\"I\"/></xsd:complexType><!--________________________________________________________________________________________________________________--><xsd:complexType name=\"faultSymptom\"><xsd:annotation><xsd:documentation>FaultSymptom is a [class] that represents an indication of the existence of a Fault.</xsd:documentation><xsd:appinfo><source>S5000F:FaultSymptom</source></xsd:appinfo></xsd:annotation><xsd:sequence/><xsd:attribute name=\"uid\" use=\"optional\"><xsd:simpleType><xsd:restriction base=\"xsd:ID\"><xsd:pattern value=\"\"/></xsd:restriction></xsd:simpleType></xsd:attribute><xsd:attribute name=\"uri\" type=\"xsd:anyURI\" use=\"optional\"/><xsd:attribute name=\"crud\" type=\"crudCode\" default=\"I\"/></xsd:complexType><!--________________________________________________________________________________________________________________--><xsd:complexType name=\"fleet\"><xsd:annotation><xsd:documentation>Fleet is a &amp;lt;&amp;lt;class&amp;gt;&amp;gt; representing a group of SerializedProductVariants that move together, are engaged in the same activity, belong to a same owner or are operated by a same organization.</xsd:documentation><xsd:appinfo><source>S5000F:Fleet</source></xsd:appinfo></xsd:annotation><xsd:sequence/><xsd:attribute name=\"uid\" use=\"optional\"><xsd:simpleType><xsd:restriction base=\"xsd:ID\"><xsd:pattern value=\"\"/></xsd:restriction></xsd:simpleType></xsd:attribute><xsd:attribute name=\"uri\" type=\"xsd:anyURI\" use=\"optional\"/><xsd:attribute name=\"crud\" type=\"crudCode\" default=\"I\"/></xsd:complexType><!--________________________________________________________________________________________________________________--><xsd:complexType name=\"fleetPlanning\"><xsd:annotation><xsd:documentation>FleetPlanning is a class representing the planned usage of a fleet during a specified period of time.</xsd:documentation><xsd:appinfo><source>S5000F:FleetPlanning</source></xsd:appinfo></xsd:annotation><xsd:sequence/><xsd:attribute name=\"uid\" use=\"optional\"><xsd:simpleType><xsd:restriction base=\"xsd:ID\"><xsd:pattern value=\"\"/></xsd:restriction></xsd:simpleType></xsd:attribute><xsd:attribute name=\"uri\" type=\"xsd:anyURI\" use=\"optional\"/><xsd:attribute name=\"crud\" type=\"crudCode\" default=\"I\"/></xsd:complexType><!--________________________________________________________________________________________________________________--><xsd:complexType name=\"fleetRequirement\"><xsd:annotation><xsd:documentation>FleetRequirement is a Requirement (need) that a fleet must comply with.</xsd:documentation><xsd:appinfo><source>S5000F:FleetRequirement</source></xsd:appinfo></xsd:annotation><xsd:sequence/><xsd:attribute name=\"uid\" use=\"optional\"><xsd:simpleType><xsd:restriction base=\"xsd:ID\"><xsd:pattern value=\"\"/></xsd:restriction></xsd:simpleType></xsd:attribute><xsd:attribute name=\"uri\" type=\"xsd:anyURI\" use=\"optional\"/><xsd:attribute name=\"crud\" type=\"crudCode\" default=\"I\"/></xsd:complexType><!--________________________________________________________________________________________________________________--><xsd:complexType name=\"fleetTask\"><xsd:annotation><xsd:documentation>FleetTask is a  planned activity to be carried out by a SerializedProductVariant as part of the activities that the fleet has to perform.</xsd:documentation><xsd:appinfo><source>S5000F:FleetTask</source></xsd:appinfo></xsd:annotation><xsd:sequence/><xsd:attribute name=\"uid\" use=\"optional\"><xsd:simpleType><xsd:restriction base=\"xsd:ID\"><xsd:pattern value=\"\"/></xsd:restriction></xsd:simpleType></xsd:attribute><xsd:attribute name=\"uri\" type=\"xsd:anyURI\" use=\"optional\"/><xsd:attribute name=\"crud\" type=\"crudCode\" default=\"I\"/></xsd:complexType><!--________________________________________________________________________________________________________________--><xsd:complexType name=\"fleetTaskCancellationNotice\"><xsd:annotation><xsd:documentation>FleetTaskCancellationNotice is a Document published by an Operator to cancel a FleetTask.</xsd:documentation><xsd:appinfo><source>S5000F:FleetTaskCancellationNotice</source></xsd:appinfo></xsd:annotation><xsd:sequence/><xsd:attribute name=\"uid\" use=\"optional\"><xsd:simpleType><xsd:restriction base=\"xsd:ID\"><xsd:pattern value=\"\"/></xsd:restriction></xsd:simpleType></xsd:attribute><xsd:attribute name=\"uri\" type=\"xsd:anyURI\" use=\"optional\"/><xsd:attribute name=\"crud\" type=\"crudCode\" default=\"I\"/></xsd:complexType><!--________________________________________________________________________________________________________________--><xsd:complexType name=\"hardwarePartContainer\"><xsd:annotation><xsd:documentation>HardwarePartContainer represents a container holding one or several similar HardwareParts that are not managed individually.</xsd:documentation><xsd:appinfo><source>S5000F:HardwarePartContainer</source></xsd:appinfo></xsd:annotation><xsd:sequence/><xsd:attribute name=\"uid\" use=\"optional\"><xsd:simpleType><xsd:restriction base=\"xsd:ID\"><xsd:pattern value=\"\"/></xsd:restriction></xsd:simpleType></xsd:attribute><xsd:attribute name=\"uri\" type=\"xsd:anyURI\" use=\"optional\"/><xsd:attribute name=\"crud\" type=\"crudCode\" default=\"I\"/></xsd:complexType><!--________________________________________________________________________________________________________________--><xsd:complexType name=\"hardwarePartDefinition\"><xsd:annotation><xsd:documentation>HardwarePartDefinition is a PartDefinition that is to be realized as physical items, including non-countable material.\n",
      "</xsd:documentation><xsd:appinfo><source>S5000F:HardwarePartDefinition</source></xsd:appinfo></xsd:annotation><xsd:sequence/><xsd:attribute name=\"uid\" use=\"optional\"><xsd:simpleType><xsd:restriction base=\"xsd:ID\"><xsd:pattern value=\"\"/></xsd:restriction></xsd:simpleType></xsd:attribute><xsd:attribute name=\"uri\" type=\"xsd:anyURI\" use=\"optional\"/><xsd:attribute name=\"crud\" type=\"crudCode\" default=\"I\"/></xsd:complexType><!--________________________________________________________________________________________________________________--><xsd:complexType name=\"indicatedFaultSymptom\"><xsd:annotation><xsd:documentation>IndicatedFaultSymptom is a [class] that represents an indication of the existence of a Fault by some measuring or monitoring device.</xsd:documentation><xsd:appinfo><source>S5000F:IndicatedFaultSymptom</source></xsd:appinfo></xsd:annotation><xsd:sequence/><xsd:attribute name=\"uid\" use=\"optional\"><xsd:simpleType><xsd:restriction base=\"xsd:ID\"><xsd:pattern value=\"\"/></xsd:restriction></xsd:simpleType></xsd:attribute><xsd:attribute name=\"uri\" type=\"xsd:anyURI\" use=\"optional\"/><xsd:attribute name=\"crud\" type=\"crudCode\" default=\"I\"/></xsd:complexType><!--________________________________________________________________________________________________________________--><xsd:complexType name=\"infrastructure\"><xsd:annotation><xsd:documentation>Infrastructure is a [class] that represents the basic physical and organizational structures and facilities needed for the operation of an organization or Product or required for the provision of a service.</xsd:documentation><xsd:appinfo><source>S5000F:Infrastructure</source></xsd:appinfo></xsd:annotation><xsd:sequence/><xsd:attribute name=\"uid\" use=\"optional\"><xsd:simpleType><xsd:restriction base=\"xsd:ID\"><xsd:pattern value=\"\"/></xsd:restriction></xsd:simpleType></xsd:attribute><xsd:attribute name=\"uri\" type=\"xsd:anyURI\" use=\"optional\"/><xsd:attribute name=\"crud\" type=\"crudCode\" default=\"I\"/></xsd:complexType><!--________________________________________________________________________________________________________________--><xsd:complexType name=\"infrastructureOperatingPeriod\"><xsd:annotation><xsd:documentation>InfrastructureOperatingPeriod is a [class] indicating a period of time during which an infrastructure has operated at total or partial capability.</xsd:documentation><xsd:appinfo><source>S5000F:InfrastructureOperatingPeriod</source></xsd:appinfo></xsd:annotation><xsd:sequence/><xsd:attribute name=\"uid\" use=\"optional\"><xsd:simpleType><xsd:restriction base=\"xsd:ID\"><xsd:pattern value=\"\"/></xsd:restriction></xsd:simpleType></xsd:attribute><xsd:attribute name=\"uri\" type=\"xsd:anyURI\" use=\"optional\"/><xsd:attribute name=\"crud\" type=\"crudCode\" default=\"I\"/></xsd:complexType><!--________________________________________________________________________________________________________________--><xsd:complexType name=\"infrastructureRevision\"><xsd:annotation><xsd:documentation>InfrastructureRevision  is a [class] representing an iteration applied to an InfrastructureRevision.</xsd:documentation><xsd:appinfo><source>S5000F:InfrastructureRevision</source></xsd:appinfo></xsd:annotation><xsd:sequence/><xsd:attribute name=\"uid\" use=\"optional\"><xsd:simpleType><xsd:restriction base=\"xsd:ID\"><xsd:pattern value=\"\"/></xsd:restriction></xsd:simpleType></xsd:attribute><xsd:attribute name=\"uri\" type=\"xsd:anyURI\" use=\"optional\"/><xsd:attribute name=\"crud\" type=\"crudCode\" default=\"I\"/></xsd:complexType><!--________________________________________________________________________________________________________________--><xsd:complexType name=\"inventoryActivity\"><xsd:annotation><xsd:documentation>InventoryActivity is an Activity associated to the management of spares or warehouses-</xsd:documentation><xsd:appinfo><source>S5000F:InventoryActivity</source></xsd:appinfo></xsd:annotation><xsd:sequence/><xsd:attribute name=\"uid\" use=\"optional\"><xsd:simpleType><xsd:restriction base=\"xsd:ID\"><xsd:pattern value=\"\"/></xsd:restriction></xsd:simpleType></xsd:attribute><xsd:attribute name=\"uri\" type=\"xsd:anyURI\" use=\"optional\"/><xsd:attribute name=\"crud\" type=\"crudCode\" default=\"I\"/></xsd:complexType><!--________________________________________________________________________________________________________________--><xsd:complexType name=\"itemDisposalOperation\"><xsd:annotation><xsd:documentation>ItemDisposalOperation is a [class] representing the action that has been taken in order to dispose of a DisposableItem.</xsd:documentation><xsd:appinfo><source>S5000F:ItemDisposalOperation</source></xsd:appinfo></xsd:annotation><xsd:sequence/><xsd:attribute name=\"uid\" use=\"optional\"><xsd:simpleType><xsd:restriction base=\"xsd:ID\"><xsd:pattern value=\"\"/></xsd:restriction></xsd:simpleType></xsd:attribute><xsd:attribute name=\"uri\" type=\"xsd:anyURI\" use=\"optional\"/><xsd:attribute name=\"crud\" type=\"crudCode\" default=\"I\"/></xsd:complexType><!--________________________________________________________________________________________________________________--><xsd:complexType name=\"itemDisposalRequirement\"><xsd:annotation><xsd:documentation>ItemDisposalRequirement is a DisposalRequirement to proceed with the disposal of an individual item.</xsd:documentation><xsd:appinfo><source>S5000F:ItemDisposalRequirement</source></xsd:appinfo></xsd:annotation><xsd:sequence/><xsd:attribute name=\"uid\" use=\"optional\"><xsd:simpleType><xsd:restriction base=\"xsd:ID\"><xsd:pattern value=\"\"/></xsd:restriction></xsd:simpleType></xsd:attribute><xsd:attribute name=\"uri\" type=\"xsd:anyURI\" use=\"optional\"/><xsd:attribute name=\"crud\" type=\"crudCode\" default=\"I\"/></xsd:complexType><!--________________________________________________________________________________________________________________--><xsd:complexType name=\"localPosition\"><xsd:annotation><xsd:documentation>LocalPosition is a [class] representing the local coordinates that uniquely identify a position within a ReferencedPositionItem.</xsd:documentation><xsd:appinfo><source>S5000F:LocalPosition</source></xsd:appinfo></xsd:annotation><xsd:sequence/><xsd:attribute name=\"uid\" use=\"optional\"><xsd:simpleType><xsd:restriction base=\"xsd:ID\"><xsd:pattern value=\"\"/></xsd:restriction></xsd:simpleType></xsd:attribute><xsd:attribute name=\"uri\" type=\"xsd:anyURI\" use=\"optional\"/><xsd:attribute name=\"crud\" type=\"crudCode\" default=\"I\"/></xsd:complexType><!--________________________________________________________________________________________________________________--><xsd:complexType name=\"locator\"><xsd:annotation><xsd:documentation>Locator is a functional area that indicates where an item is physically placed at a specific location.</xsd:documentation><xsd:appinfo><source>S5000F:Locator</source></xsd:appinfo></xsd:annotation><xsd:sequence/><xsd:attribute name=\"uid\" use=\"optional\"><xsd:simpleType><xsd:restriction base=\"xsd:ID\"><xsd:pattern value=\"\"/></xsd:restriction></xsd:simpleType></xsd:attribute><xsd:attribute name=\"uri\" type=\"xsd:anyURI\" use=\"optional\"/><xsd:attribute name=\"crud\" type=\"crudCode\" default=\"I\"/></xsd:complexType><!--________________________________________________________________________________________________________________--><xsd:complexType name=\"logBook\"><xsd:annotation><xsd:documentation>LogBook is a class that represents a set of records called LogBookEntries that compile critical activities or events that need to be registered for a defined purpose.</xsd:documentation><xsd:appinfo><source>S5000F:LogBook</source></xsd:appinfo></xsd:annotation><xsd:sequence/><xsd:attribute name=\"uid\" use=\"optional\"><xsd:simpleType><xsd:restriction base=\"xsd:ID\"><xsd:pattern value=\"\"/></xsd:restriction></xsd:simpleType></xsd:attribute><xsd:attribute name=\"uri\" type=\"xsd:anyURI\" use=\"optional\"/><xsd:attribute name=\"crud\" type=\"crudCode\" default=\"I\"/></xsd:complexType><!--________________________________________________________________________________________________________________--><xsd:complexType name=\"logBookEntry\"><xsd:annotation><xsd:documentation>LogBookEntry is an individual entry into a logbook, defining one critical activity or event to be included in the LogBook.</xsd:documentation><xsd:appinfo><source>S5000F:LogBookEntry</source></xsd:appinfo></xsd:annotation><xsd:sequence/><xsd:attribute name=\"uid\" use=\"optional\"><xsd:simpleType><xsd:restriction base=\"xsd:ID\"><xsd:pattern value=\"\"/></xsd:restriction></xsd:simpleType></xsd:attribute><xsd:attribute name=\"uri\" type=\"xsd:anyURI\" use=\"optional\"/><xsd:attribute name=\"crud\" type=\"crudCode\" default=\"I\"/></xsd:complexType><!--________________________________________________________________________________________________________________--><xsd:complexType name=\"logBookEntryMeasurementPoint\"><xsd:annotation><xsd:documentation>LogBookEntryMeasurementPoint represents a measurement point  in a SerializedItem corresponding to a specific LogBookEntry.</xsd:documentation><xsd:appinfo><source>S5000F:LogBookEntryMeasurementPoint</source></xsd:appinfo></xsd:annotation><xsd:sequence/><xsd:attribute name=\"uid\" use=\"optional\"><xsd:simpleType><xsd:restriction base=\"xsd:ID\"><xsd:pattern value=\"\"/></xsd:restriction></xsd:simpleType></xsd:attribute><xsd:attribute name=\"uri\" type=\"xsd:anyURI\" use=\"optional\"/><xsd:attribute name=\"crud\" type=\"crudCode\" default=\"I\"/></xsd:complexType><!--________________________________________________________________________________________________________________--><xsd:complexType name=\"looseWaste\"><xsd:annotation><xsd:documentation>LooseWaste is a [class] representing a certain volume of solid waste that cannot be easily transported by means of containers or is not stored in containers at the source location.</xsd:documentation><xsd:appinfo><source>S5000F:LooseWaste</source></xsd:appinfo></xsd:annotation><xsd:sequence/><xsd:attribute name=\"uid\" use=\"optional\"><xsd:simpleType><xsd:restriction base=\"xsd:ID\"><xsd:pattern value=\"\"/></xsd:restriction></xsd:simpleType></xsd:attribute><xsd:attribute name=\"uri\" type=\"xsd:anyURI\" use=\"optional\"/><xsd:attribute name=\"crud\" type=\"crudCode\" default=\"I\"/></xsd:complexType><!--________________________________________________________________________________________________________________--><xsd:complexType name=\"mRONetwork\"><xsd:annotation><xsd:documentation>MRONetwork is an Infrastructure consisting of Maintenance, Repair and Overhaul (MRO) facilities.</xsd:documentation><xsd:appinfo><source>S5000F:MRONetwork</source></xsd:appinfo></xsd:annotation><xsd:sequence/><xsd:attribute name=\"uid\" use=\"optional\"><xsd:simpleType><xsd:restriction base=\"xsd:ID\"><xsd:pattern value=\"\"/></xsd:restriction></xsd:simpleType></xsd:attribute><xsd:attribute name=\"uri\" type=\"xsd:anyURI\" use=\"optional\"/><xsd:attribute name=\"crud\" type=\"crudCode\" default=\"I\"/></xsd:complexType><!--________________________________________________________________________________________________________________--><xsd:complexType name=\"maintenanceActivity\"><xsd:annotation><xsd:documentation>MaintenanceActivity is a ReportableActivity that is associated to a maintenance task.</xsd:documentation><xsd:appinfo><source>S5000F:MaintenanceActivity</source></xsd:appinfo></xsd:annotation><xsd:sequence/><xsd:attribute name=\"uid\" use=\"optional\"><xsd:simpleType><xsd:restriction base=\"xsd:ID\"><xsd:pattern value=\"\"/></xsd:restriction></xsd:simpleType></xsd:attribute><xsd:attribute name=\"uri\" type=\"xsd:anyURI\" use=\"optional\"/><xsd:attribute name=\"crud\" type=\"crudCode\" default=\"I\"/></xsd:complexType><!--________________________________________________________________________________________________________________--><xsd:complexType name=\"maintenanceEvent\"><xsd:annotation><xsd:documentation>MaintenanceEvent is an event that consists in the realization of one or several maintenance activities or occurs as the result of a maintenance activity.</xsd:documentation><xsd:appinfo><source>S5000F:MaintenanceEvent</source></xsd:appinfo></xsd:annotation><xsd:sequence/><xsd:attribute name=\"uid\" use=\"optional\"><xsd:simpleType><xsd:restriction base=\"xsd:ID\"><xsd:pattern value=\"\"/></xsd:restriction></xsd:simpleType></xsd:attribute><xsd:attribute name=\"uri\" type=\"xsd:anyURI\" use=\"optional\"/><xsd:attribute name=\"crud\" type=\"crudCode\" default=\"I\"/></xsd:complexType><!--________________________________________________________________________________________________________________--><xsd:complexType name=\"maintenanceFacility\"><xsd:annotation><xsd:documentation>MaintenanceFacility is a Facility that is mainly established for providing product support.</xsd:documentation><xsd:appinfo><source>S5000F:MaintenanceFacility</source></xsd:appinfo></xsd:annotation><xsd:sequence/><xsd:attribute name=\"uid\" use=\"optional\"><xsd:simpleType><xsd:restriction base=\"xsd:ID\"><xsd:pattern value=\"\"/></xsd:restriction></xsd:simpleType></xsd:attribute><xsd:attribute name=\"uri\" type=\"xsd:anyURI\" use=\"optional\"/><xsd:attribute name=\"crud\" type=\"crudCode\" default=\"I\"/></xsd:complexType><!--________________________________________________________________________________________________________________--><xsd:complexType name=\"maintenanceFacilitySlot\"><xsd:annotation><xsd:documentation>MaintenanceFacilitySlot is a fixed position within a MaintenanceFacility in which exactly one SerializedProductVariant can be accommodated.</xsd:documentation><xsd:appinfo><source>S5000F:MaintenanceFacilitySlot</source></xsd:appinfo></xsd:annotation><xsd:sequence/><xsd:attribute name=\"uid\" use=\"optional\"><xsd:simpleType><xsd:restriction base=\"xsd:ID\"><xsd:pattern value=\"\"/></xsd:restriction></xsd:simpleType></xsd:attribute><xsd:attribute name=\"uri\" type=\"xsd:anyURI\" use=\"optional\"/><xsd:attribute name=\"crud\" type=\"crudCode\" default=\"I\"/></xsd:complexType><!--________________________________________________________________________________________________________________--><xsd:complexType name=\"maintenanceLicense\"><xsd:annotation><xsd:documentation>MaintenanceLicense is a class representing the authorization of an authority to a MaintenancePerson to perform specific maintenance tasks.</xsd:documentation><xsd:appinfo><source>S5000F:MaintenanceLicense</source></xsd:appinfo></xsd:annotation><xsd:sequence/><xsd:attribute name=\"uid\" use=\"optional\"><xsd:simpleType><xsd:restriction base=\"xsd:ID\"><xsd:pattern value=\"\"/></xsd:restriction></xsd:simpleType></xsd:attribute><xsd:attribute name=\"uri\" type=\"xsd:anyURI\" use=\"optional\"/><xsd:attribute name=\"crud\" type=\"crudCode\" default=\"I\"/></xsd:complexType><!--________________________________________________________________________________________________________________--><xsd:complexType name=\"maintenanceOrganization\"><xsd:annotation><xsd:documentation>MaintenanceOrganization is an organization approved to perform maintenance tasks on a specific set of Products or ProductVariants.</xsd:documentation><xsd:appinfo><source>S5000F:MaintenanceOrganization</source></xsd:appinfo></xsd:annotation><xsd:sequence/><xsd:attribute name=\"uid\" use=\"optional\"><xsd:simpleType><xsd:restriction base=\"xsd:ID\"><xsd:pattern value=\"\"/></xsd:restriction></xsd:simpleType></xsd:attribute><xsd:attribute name=\"uri\" type=\"xsd:anyURI\" use=\"optional\"/><xsd:attribute name=\"crud\" type=\"crudCode\" default=\"I\"/></xsd:complexType><!--________________________________________________________________________________________________________________--><xsd:complexType name=\"maintenancePerson\"><xsd:annotation><xsd:documentation>MaintenancePerson is a person with the skills to be able to perform maintenance activities.</xsd:documentation><xsd:appinfo><source>S5000F:MaintenancePerson</source></xsd:appinfo></xsd:annotation><xsd:sequence/><xsd:attribute name=\"uid\" use=\"optional\"><xsd:simpleType><xsd:restriction base=\"xsd:ID\"><xsd:pattern value=\"\"/></xsd:restriction></xsd:simpleType></xsd:attribute><xsd:attribute name=\"uri\" type=\"xsd:anyURI\" use=\"optional\"/><xsd:attribute name=\"crud\" type=\"crudCode\" default=\"I\"/></xsd:complexType><!--________________________________________________________________________________________________________________--><xsd:complexType name=\"maintenanceProgram\"><xsd:annotation><xsd:documentation>MaintenanceProgram is a class that represents a set of TaskRequirements that must be applied to a ProductVariant so as to maintain the ProductVariant in an operational state.</xsd:documentation><xsd:appinfo><source>S5000F:MaintenanceProgram</source></xsd:appinfo></xsd:annotation><xsd:sequence/><xsd:attribute name=\"uid\" use=\"optional\"><xsd:simpleType><xsd:restriction base=\"xsd:ID\"><xsd:pattern value=\"\"/></xsd:restriction></xsd:simpleType></xsd:attribute><xsd:attribute name=\"uri\" type=\"xsd:anyURI\" use=\"optional\"/><xsd:attribute name=\"crud\" type=\"crudCode\" default=\"I\"/></xsd:complexType><!--________________________________________________________________________________________________________________--><xsd:complexType name=\"maintenanceProgramRevision\"><xsd:annotation><xsd:documentation>MaintenanceProgramRevision is an iteration of a MaintenanceProgram.</xsd:documentation><xsd:appinfo><source>S5000F:MaintenanceProgramRevision</source></xsd:appinfo></xsd:annotation><xsd:sequence/><xsd:attribute name=\"uid\" use=\"optional\"><xsd:simpleType><xsd:restriction base=\"xsd:ID\"><xsd:pattern value=\"\"/></xsd:restriction></xsd:simpleType></xsd:attribute><xsd:attribute name=\"uri\" type=\"xsd:anyURI\" use=\"optional\"/><xsd:attribute name=\"crud\" type=\"crudCode\" default=\"I\"/></xsd:complexType><!--________________________________________________________________________________________________________________--><xsd:complexType name=\"maintenanceRequirement\"><xsd:annotation><xsd:documentation>MaintenanceRequirement is a Requirement to carry out one or several maintenance actions.</xsd:documentation><xsd:appinfo><source>S5000F:MaintenanceRequirement</source></xsd:appinfo></xsd:annotation><xsd:sequence/><xsd:attribute name=\"uid\" use=\"optional\"><xsd:simpleType><xsd:restriction base=\"xsd:ID\"><xsd:pattern value=\"\"/></xsd:restriction></xsd:simpleType></xsd:attribute><xsd:attribute name=\"uri\" type=\"xsd:anyURI\" use=\"optional\"/><xsd:attribute name=\"crud\" type=\"crudCode\" default=\"I\"/></xsd:complexType><!--________________________________________________________________________________________________________________--><xsd:complexType name=\"material\"><xsd:annotation><xsd:documentation>Material is a solid substance that can be refined in a manufacturing process.</xsd:documentation><xsd:appinfo><source>S5000F:Material</source></xsd:appinfo></xsd:annotation><xsd:sequence/><xsd:attribute name=\"uid\" use=\"optional\"><xsd:simpleType><xsd:restriction base=\"xsd:ID\"><xsd:pattern value=\"\"/></xsd:restriction></xsd:simpleType></xsd:attribute><xsd:attribute name=\"uri\" type=\"xsd:anyURI\" use=\"optional\"/><xsd:attribute name=\"crud\" type=\"crudCode\" default=\"I\"/></xsd:complexType><!--________________________________________________________________________________________________________________--><xsd:complexType name=\"movement\"><xsd:annotation><xsd:documentation>Movement represents the act of autonomously changing the physical location or position of a SerializedProductVariant.</xsd:documentation><xsd:appinfo><source>S5000F:Movement</source></xsd:appinfo></xsd:annotation><xsd:sequence/><xsd:attribute name=\"uid\" use=\"optional\"><xsd:simpleType><xsd:restriction base=\"xsd:ID\"><xsd:pattern value=\"\"/></xsd:restriction></xsd:simpleType></xsd:attribute><xsd:attribute name=\"uri\" type=\"xsd:anyURI\" use=\"optional\"/><xsd:attribute name=\"crud\" type=\"crudCode\" default=\"I\"/></xsd:complexType><!--________________________________________________________________________________________________________________--><xsd:complexType name=\"movementLeg\"><xsd:annotation><xsd:documentation>MovementLeg is a class representing one of the individual displacements performed during a Movement, which will be at least one MovementLeg.</xsd:documentation><xsd:appinfo><source>S5000F:MovementLeg</source></xsd:appinfo></xsd:annotation><xsd:sequence/><xsd:attribute name=\"uid\" use=\"optional\"><xsd:simpleType><xsd:restriction base=\"xsd:ID\"><xsd:pattern value=\"\"/></xsd:restriction></xsd:simpleType></xsd:attribute><xsd:attribute name=\"uri\" type=\"xsd:anyURI\" use=\"optional\"/><xsd:attribute name=\"crud\" type=\"crudCode\" default=\"I\"/></xsd:complexType><!--________________________________________________________________________________________________________________--><xsd:complexType name=\"movementLegDelay\"><xsd:annotation><xsd:documentation>MovementLegDelay is a class representing a delay that occurred during a travelLeg.</xsd:documentation><xsd:appinfo><source>S5000F:MovementLegDelay</source></xsd:appinfo></xsd:annotation><xsd:sequence/><xsd:attribute name=\"uid\" use=\"optional\"><xsd:simpleType><xsd:restriction base=\"xsd:ID\"><xsd:pattern value=\"\"/></xsd:restriction></xsd:simpleType></xsd:attribute><xsd:attribute name=\"uri\" type=\"xsd:anyURI\" use=\"optional\"/><xsd:attribute name=\"crud\" type=\"crudCode\" default=\"I\"/></xsd:complexType><!--________________________________________________________________________________________________________________--><xsd:complexType name=\"nonAvailabilityCause\"><xsd:annotation><xsd:documentation>NonAvailabilityCause is a &amp;lt;class] that describes why a Availability was not achieved at a certain date.</xsd:documentation><xsd:appinfo><source>S5000F:NonAvailabilityCause</source></xsd:appinfo></xsd:annotation><xsd:sequence/><xsd:attribute name=\"uid\" use=\"optional\"><xsd:simpleType><xsd:restriction base=\"xsd:ID\"><xsd:pattern value=\"\"/></xsd:restriction></xsd:simpleType></xsd:attribute><xsd:attribute name=\"uri\" type=\"xsd:anyURI\" use=\"optional\"/><xsd:attribute name=\"crud\" type=\"crudCode\" default=\"I\"/></xsd:complexType><!--________________________________________________________________________________________________________________--><xsd:complexType name=\"observedFaultSymptom\"><xsd:annotation><xsd:documentation>ObservedFaultSymptom is a [class] that represents an indication of the existence of a Fault by means of physical observation.</xsd:documentation><xsd:appinfo><source>S5000F:ObservedFaultSymptom</source></xsd:appinfo></xsd:annotation><xsd:sequence/><xsd:attribute name=\"uid\" use=\"optional\"><xsd:simpleType><xsd:restriction base=\"xsd:ID\"><xsd:pattern value=\"\"/></xsd:restriction></xsd:simpleType></xsd:attribute><xsd:attribute name=\"uri\" type=\"xsd:anyURI\" use=\"optional\"/><xsd:attribute name=\"crud\" type=\"crudCode\" default=\"I\"/></xsd:complexType><!--________________________________________________________________________________________________________________--><xsd:complexType name=\"obsolescenceParameter\"><xsd:annotation><xsd:documentation>ObsolescenceParameter is a class representing a criterion that allows to evaluate whether an ObsolescenceRequirement has been met.</xsd:documentation><xsd:appinfo><source>S5000F:ObsolescenceParameter</source></xsd:appinfo></xsd:annotation><xsd:sequence/><xsd:attribute name=\"uid\" use=\"optional\"><xsd:simpleType><xsd:restriction base=\"xsd:ID\"><xsd:pattern value=\"\"/></xsd:restriction></xsd:simpleType></xsd:attribute><xsd:attribute name=\"uri\" type=\"xsd:anyURI\" use=\"optional\"/><xsd:attribute name=\"crud\" type=\"crudCode\" default=\"I\"/></xsd:complexType><!--________________________________________________________________________________________________________________--><xsd:complexType name=\"obsolescenceRequirement\"><xsd:annotation><xsd:documentation>ObsolescenceRequirement is a Requirement that indicates when an item becomes obsolete.</xsd:documentation><xsd:appinfo><source>S5000F:ObsolescenceRequirement</source></xsd:appinfo></xsd:annotation><xsd:sequence/><xsd:attribute name=\"uid\" use=\"optional\"><xsd:simpleType><xsd:restriction base=\"xsd:ID\"><xsd:pattern value=\"\"/></xsd:restriction></xsd:simpleType></xsd:attribute><xsd:attribute name=\"uri\" type=\"xsd:anyURI\" use=\"optional\"/><xsd:attribute name=\"crud\" type=\"crudCode\" default=\"I\"/></xsd:complexType><!--________________________________________________________________________________________________________________--><xsd:complexType name=\"operationalActivity\"><xsd:annotation><xsd:documentation>OperationalActivity is an Activity associated to the operation of a SerializedProduct.</xsd:documentation><xsd:appinfo><source>S5000F:OperationalActivity</source></xsd:appinfo></xsd:annotation><xsd:sequence/><xsd:attribute name=\"uid\" use=\"optional\"><xsd:simpleType><xsd:restriction base=\"xsd:ID\"><xsd:pattern value=\"\"/></xsd:restriction></xsd:simpleType></xsd:attribute><xsd:attribute name=\"uri\" type=\"xsd:anyURI\" use=\"optional\"/><xsd:attribute name=\"crud\" type=\"crudCode\" default=\"I\"/></xsd:complexType><!--________________________________________________________________________________________________________________--><xsd:complexType name=\"operationalApproval\"><xsd:annotation><xsd:documentation>OperationalApproval is a class that represents the authorization to a SerializedProductVariant for a specific mode of operation.</xsd:documentation><xsd:appinfo><source>S5000F:OperationalApproval</source></xsd:appinfo></xsd:annotation><xsd:sequence/><xsd:attribute name=\"uid\" use=\"optional\"><xsd:simpleType><xsd:restriction base=\"xsd:ID\"><xsd:pattern value=\"\"/></xsd:restriction></xsd:simpleType></xsd:attribute><xsd:attribute name=\"uri\" type=\"xsd:anyURI\" use=\"optional\"/><xsd:attribute name=\"crud\" type=\"crudCode\" default=\"I\"/></xsd:complexType><!--________________________________________________________________________________________________________________--><xsd:complexType name=\"operationalEvent\"><xsd:annotation><xsd:documentation>OperationalEvent is a class representing an Event during the SerializedProductVariant operation that can have an impact on the operation itself, on maintenance, or on safety.</xsd:documentation><xsd:appinfo><source>S5000F:OperationalEvent</source></xsd:appinfo></xsd:annotation><xsd:sequence/><xsd:attribute name=\"uid\" use=\"optional\"><xsd:simpleType><xsd:restriction base=\"xsd:ID\"><xsd:pattern value=\"\"/></xsd:restriction></xsd:simpleType></xsd:attribute><xsd:attribute name=\"uri\" type=\"xsd:anyURI\" use=\"optional\"/><xsd:attribute name=\"crud\" type=\"crudCode\" default=\"I\"/></xsd:complexType><!--________________________________________________________________________________________________________________--><xsd:complexType name=\"operationalEventMessage\"><xsd:annotation><xsd:documentation>OperationalEventMessage is a message, failure code or acoustic or visual warning that occurred during an OperationalEvent.</xsd:documentation><xsd:appinfo><source>S5000F:OperationalEventMessage</source></xsd:appinfo></xsd:annotation><xsd:sequence/><xsd:attribute name=\"uid\" use=\"optional\"><xsd:simpleType><xsd:restriction base=\"xsd:ID\"><xsd:pattern value=\"\"/></xsd:restriction></xsd:simpleType></xsd:attribute><xsd:attribute name=\"uri\" type=\"xsd:anyURI\" use=\"optional\"/><xsd:attribute name=\"crud\" type=\"crudCode\" default=\"I\"/></xsd:complexType><!--________________________________________________________________________________________________________________--><xsd:complexType name=\"operationalMode\"><xsd:annotation><xsd:documentation>OperationalMode represents the actual usage mode of a SerializedProductVariant during a specific OperationalPeriod.</xsd:documentation><xsd:appinfo><source>S5000F:OperationalMode</source></xsd:appinfo></xsd:annotation><xsd:sequence/><xsd:attribute name=\"uid\" use=\"optional\"><xsd:simpleType><xsd:restriction base=\"xsd:ID\"><xsd:pattern value=\"\"/></xsd:restriction></xsd:simpleType></xsd:attribute><xsd:attribute name=\"uri\" type=\"xsd:anyURI\" use=\"optional\"/><xsd:attribute name=\"crud\" type=\"crudCode\" default=\"I\"/></xsd:complexType><!--________________________________________________________________________________________________________________--><xsd:complexType name=\"operationalPeriod\"><xsd:annotation><xsd:documentation>OperationalPeriod is a class that defines the characteristics of a time frame during which a SerializedProductVariant was operated.</xsd:documentation><xsd:appinfo><source>S5000F:OperationalPeriod</source></xsd:appinfo></xsd:annotation><xsd:sequence/><xsd:attribute name=\"uid\" use=\"optional\"><xsd:simpleType><xsd:restriction base=\"xsd:ID\"><xsd:pattern value=\"\"/></xsd:restriction></xsd:simpleType></xsd:attribute><xsd:attribute name=\"uri\" type=\"xsd:anyURI\" use=\"optional\"/><xsd:attribute name=\"crud\" type=\"crudCode\" default=\"I\"/></xsd:complexType><!--________________________________________________________________________________________________________________--><xsd:complexType name=\"operationalRequirement\"><xsd:annotation><xsd:documentation>OperationalRequirement is a Requirement to perform a specific operation with a Product.</xsd:documentation><xsd:appinfo><source>S5000F:OperationalRequirement</source></xsd:appinfo></xsd:annotation><xsd:sequence/><xsd:attribute name=\"uid\" use=\"optional\"><xsd:simpleType><xsd:restriction base=\"xsd:ID\"><xsd:pattern value=\"\"/></xsd:restriction></xsd:simpleType></xsd:attribute><xsd:attribute name=\"uri\" type=\"xsd:anyURI\" use=\"optional\"/><xsd:attribute name=\"crud\" type=\"crudCode\" default=\"I\"/></xsd:complexType><!--________________________________________________________________________________________________________________--><xsd:complexType name=\"operationalRole\"><xsd:annotation><xsd:documentation>OperationalRole defines the capabilities that a product must be able to provide so as to perform a specific task or mission as part of its operation.</xsd:documentation><xsd:appinfo><source>S5000F:OperationalRole</source></xsd:appinfo></xsd:annotation><xsd:sequence/><xsd:attribute name=\"uid\" use=\"optional\"><xsd:simpleType><xsd:restriction base=\"xsd:ID\"><xsd:pattern value=\"\"/></xsd:restriction></xsd:simpleType></xsd:attribute><xsd:attribute name=\"uri\" type=\"xsd:anyURI\" use=\"optional\"/><xsd:attribute name=\"crud\" type=\"crudCode\" default=\"I\"/></xsd:complexType><!--________________________________________________________________________________________________________________--><xsd:complexType name=\"otherFacility\"><xsd:annotation><xsd:documentation>OtherFacility is a Facility that has no specific classification.</xsd:documentation><xsd:appinfo><source>S5000F:OtherFacility</source></xsd:appinfo></xsd:annotation><xsd:sequence/><xsd:attribute name=\"uid\" use=\"optional\"><xsd:simpleType><xsd:restriction base=\"xsd:ID\"><xsd:pattern value=\"\"/></xsd:restriction></xsd:simpleType></xsd:attribute><xsd:attribute name=\"uri\" type=\"xsd:anyURI\" use=\"optional\"/><xsd:attribute name=\"crud\" type=\"crudCode\" default=\"I\"/></xsd:complexType><!--________________________________________________________________________________________________________________--><xsd:complexType name=\"parkingFacility\"><xsd:annotation><xsd:documentation>ParkingFacility is a Facility used to park SerializedProductVariants that are mobile and can move beween different Locations.</xsd:documentation><xsd:appinfo><source>S5000F:ParkingFacility</source></xsd:appinfo></xsd:annotation><xsd:sequence/><xsd:attribute name=\"uid\" use=\"optional\"><xsd:simpleType><xsd:restriction base=\"xsd:ID\"><xsd:pattern value=\"\"/></xsd:restriction></xsd:simpleType></xsd:attribute><xsd:attribute name=\"uri\" type=\"xsd:anyURI\" use=\"optional\"/><xsd:attribute name=\"crud\" type=\"crudCode\" default=\"I\"/></xsd:complexType><!--________________________________________________________________________________________________________________--><xsd:complexType name=\"partAction\"><xsd:annotation><xsd:documentation>PartAction is an action performed on a part as a result of a MaintenanceActivity.</xsd:documentation><xsd:appinfo><source>S5000F:PartAction</source></xsd:appinfo></xsd:annotation><xsd:sequence/><xsd:attribute name=\"uid\" use=\"optional\"><xsd:simpleType><xsd:restriction base=\"xsd:ID\"><xsd:pattern value=\"\"/></xsd:restriction></xsd:simpleType></xsd:attribute><xsd:attribute name=\"uri\" type=\"xsd:anyURI\" use=\"optional\"/><xsd:attribute name=\"crud\" type=\"crudCode\" default=\"I\"/></xsd:complexType><!--________________________________________________________________________________________________________________--><xsd:complexType name=\"penalty\"><xsd:annotation><xsd:documentation>Penalty is a [class] that represents a punishment imposed for breaking or not complying with a contract.</xsd:documentation><xsd:appinfo><source>S5000F:Penalty</source></xsd:appinfo></xsd:annotation><xsd:sequence/><xsd:attribute name=\"uid\" use=\"optional\"><xsd:simpleType><xsd:restriction base=\"xsd:ID\"><xsd:pattern value=\"\"/></xsd:restriction></xsd:simpleType></xsd:attribute><xsd:attribute name=\"uri\" type=\"xsd:anyURI\" use=\"optional\"/><xsd:attribute name=\"crud\" type=\"crudCode\" default=\"I\"/></xsd:complexType><!--________________________________________________________________________________________________________________--><xsd:complexType name=\"person\"><xsd:annotation><xsd:documentation>Person is a class that represents a human being.</xsd:documentation><xsd:appinfo><source>S5000F:Person</source></xsd:appinfo></xsd:annotation><xsd:sequence/><xsd:attribute name=\"uid\" use=\"optional\"><xsd:simpleType><xsd:restriction base=\"xsd:ID\"><xsd:pattern value=\"\"/></xsd:restriction></xsd:simpleType></xsd:attribute><xsd:attribute name=\"uri\" type=\"xsd:anyURI\" use=\"optional\"/><xsd:attribute name=\"crud\" type=\"crudCode\" default=\"I\"/></xsd:complexType><!--________________________________________________________________________________________________________________--><xsd:complexType name=\"plannedItemUpgrade\"><xsd:annotation><xsd:documentation>PlannedItemUpgrade is a [class] that defines the planning for the upgrade for a ChangeEmbodimentRequirement for one or several items.</xsd:documentation><xsd:appinfo><source>S5000F:PlannedItemUpgrade</source></xsd:appinfo></xsd:annotation><xsd:sequence/><xsd:attribute name=\"uid\" use=\"optional\"><xsd:simpleType><xsd:restriction base=\"xsd:ID\"><xsd:pattern value=\"\"/></xsd:restriction></xsd:simpleType></xsd:attribute><xsd:attribute name=\"uri\" type=\"xsd:anyURI\" use=\"optional\"/><xsd:attribute name=\"crud\" type=\"crudCode\" default=\"I\"/></xsd:complexType><!--________________________________________________________________________________________________________________--><xsd:complexType name=\"plannedUpgradeTimescales\"><xsd:annotation><xsd:documentation>PlannedUpgradeTimescales is a class that defines the planned periods of times during which a PlannedUpgrade will be performed on specific items.</xsd:documentation><xsd:appinfo><source>S5000F:PlannedUpgradeTimescales</source></xsd:appinfo></xsd:annotation><xsd:sequence/><xsd:attribute name=\"uid\" use=\"optional\"><xsd:simpleType><xsd:restriction base=\"xsd:ID\"><xsd:pattern value=\"\"/></xsd:restriction></xsd:simpleType></xsd:attribute><xsd:attribute name=\"uri\" type=\"xsd:anyURI\" use=\"optional\"/><xsd:attribute name=\"crud\" type=\"crudCode\" default=\"I\"/></xsd:complexType><!--________________________________________________________________________________________________________________--><xsd:complexType name=\"policiesAndRegulations\"><xsd:annotation><xsd:documentation>PoliciesAndRegulations is a Document that defines mandatory practices for a Project, Product, Contract, Service or major item requiring specific guidelines.</xsd:documentation><xsd:appinfo><source>S5000F:PoliciesAndRegulations</source></xsd:appinfo></xsd:annotation><xsd:sequence/><xsd:attribute name=\"uid\" use=\"optional\"><xsd:simpleType><xsd:restriction base=\"xsd:ID\"><xsd:pattern value=\"\"/></xsd:restriction></xsd:simpleType></xsd:attribute><xsd:attribute name=\"uri\" type=\"xsd:anyURI\" use=\"optional\"/><xsd:attribute name=\"crud\" type=\"crudCode\" default=\"I\"/></xsd:complexType><!--________________________________________________________________________________________________________________--><xsd:complexType name=\"pool\"><xsd:annotation><xsd:documentation>Pool is a set of parts that are managed as a functional group and that is shared by different Parties.</xsd:documentation><xsd:appinfo><source>S5000F:Pool</source></xsd:appinfo></xsd:annotation><xsd:sequence/><xsd:attribute name=\"uid\" use=\"optional\"><xsd:simpleType><xsd:restriction base=\"xsd:ID\"><xsd:pattern value=\"\"/></xsd:restriction></xsd:simpleType></xsd:attribute><xsd:attribute name=\"uri\" type=\"xsd:anyURI\" use=\"optional\"/><xsd:attribute name=\"crud\" type=\"crudCode\" default=\"I\"/></xsd:complexType><!--________________________________________________________________________________________________________________--><xsd:complexType name=\"port\"><xsd:annotation><xsd:documentation>Port is an infrastructure used for the docking of ships.</xsd:documentation><xsd:appinfo><source>S5000F:Port</source></xsd:appinfo></xsd:annotation><xsd:sequence/><xsd:attribute name=\"uid\" use=\"optional\"><xsd:simpleType><xsd:restriction base=\"xsd:ID\"><xsd:pattern value=\"\"/></xsd:restriction></xsd:simpleType></xsd:attribute><xsd:attribute name=\"uri\" type=\"xsd:anyURI\" use=\"optional\"/><xsd:attribute name=\"crud\" type=\"crudCode\" default=\"I\"/></xsd:complexType><!--________________________________________________________________________________________________________________--><xsd:complexType name=\"powerGrid\"><xsd:annotation><xsd:documentation>PowerGrid is an Infrastructure used to generate, transport and distribute power.</xsd:documentation><xsd:appinfo><source>S5000F:PowerGrid</source></xsd:appinfo></xsd:annotation><xsd:sequence/><xsd:attribute name=\"uid\" use=\"optional\"><xsd:simpleType><xsd:restriction base=\"xsd:ID\"><xsd:pattern value=\"\"/></xsd:restriction></xsd:simpleType></xsd:attribute><xsd:attribute name=\"uri\" type=\"xsd:anyURI\" use=\"optional\"/><xsd:attribute name=\"crud\" type=\"crudCode\" default=\"I\"/></xsd:complexType><!--________________________________________________________________________________________________________________--><xsd:complexType name=\"pressureSensor\"><xsd:annotation><xsd:documentation>PressureSensor is a SensorType that measures pressure.</xsd:documentation><xsd:appinfo><source>S5000F:PressureSensor</source></xsd:appinfo></xsd:annotation><xsd:sequence/><xsd:attribute name=\"uid\" use=\"optional\"><xsd:simpleType><xsd:restriction base=\"xsd:ID\"><xsd:pattern value=\"\"/></xsd:restriction></xsd:simpleType></xsd:attribute><xsd:attribute name=\"uri\" type=\"xsd:anyURI\" use=\"optional\"/><xsd:attribute name=\"crud\" type=\"crudCode\" default=\"I\"/></xsd:complexType><!--________________________________________________________________________________________________________________--><xsd:complexType name=\"product\"><xsd:annotation><xsd:documentation>Product is &amp;lt;&amp;lt;class&amp;gt;&amp;gt; that represents a family of items which share the same underlying design purpose.</xsd:documentation><xsd:appinfo><source>S5000F:Product</source></xsd:appinfo></xsd:annotation><xsd:sequence/><xsd:attribute name=\"uid\" use=\"optional\"><xsd:simpleType><xsd:restriction base=\"xsd:ID\"><xsd:pattern value=\"\"/></xsd:restriction></xsd:simpleType></xsd:attribute><xsd:attribute name=\"uri\" type=\"xsd:anyURI\" use=\"optional\"/><xsd:attribute name=\"crud\" type=\"crudCode\" default=\"I\"/></xsd:complexType><!--________________________________________________________________________________________________________________--><xsd:complexType name=\"productParameterAtOperationalEvent\"><xsd:annotation><xsd:documentation>ProductParameterAtOperationalEvent provides the value of a Product parameter when an operational event occurred.</xsd:documentation><xsd:appinfo><source>S5000F:ProductParameterAtOperationalEvent</source></xsd:appinfo></xsd:annotation><xsd:sequence/><xsd:attribute name=\"uid\" use=\"optional\"><xsd:simpleType><xsd:restriction base=\"xsd:ID\"><xsd:pattern value=\"\"/></xsd:restriction></xsd:simpleType></xsd:attribute><xsd:attribute name=\"uri\" type=\"xsd:anyURI\" use=\"optional\"/><xsd:attribute name=\"crud\" type=\"crudCode\" default=\"I\"/></xsd:complexType><!--________________________________________________________________________________________________________________--><xsd:complexType name=\"productUsagePhase\"><xsd:annotation><xsd:documentation>ProductUsagePhase is a distinct period of time during which a Product, ProductVariant or SerializedProductVariant will be used in a specific way, which is different from any other ProductUsagePhase.</xsd:documentation><xsd:appinfo><source>S5000F:ProductUsagePhase</source></xsd:appinfo></xsd:annotation><xsd:sequence/><xsd:attribute name=\"uid\" use=\"optional\"><xsd:simpleType><xsd:restriction base=\"xsd:ID\"><xsd:pattern value=\"\"/></xsd:restriction></xsd:simpleType></xsd:attribute><xsd:attribute name=\"uri\" type=\"xsd:anyURI\" use=\"optional\"/><xsd:attribute name=\"crud\" type=\"crudCode\" default=\"I\"/></xsd:complexType><!--________________________________________________________________________________________________________________--><xsd:complexType name=\"productVariant\"><xsd:annotation><xsd:documentation>ProductVariant is a &amp;lt;&amp;lt;class&amp;gt;&amp;gt; that defines a member of a Product family which is configured for a specific purpose and is made available to the market.</xsd:documentation><xsd:appinfo><source>S5000F:ProductVariant</source></xsd:appinfo></xsd:annotation><xsd:sequence/><xsd:attribute name=\"uid\" use=\"optional\"><xsd:simpleType><xsd:restriction base=\"xsd:ID\"><xsd:pattern value=\"\"/></xsd:restriction></xsd:simpleType></xsd:attribute><xsd:attribute name=\"uri\" type=\"xsd:anyURI\" use=\"optional\"/><xsd:attribute name=\"crud\" type=\"crudCode\" default=\"I\"/></xsd:complexType><!--________________________________________________________________________________________________________________--><xsd:complexType name=\"projectSpecificExchange\"><xsd:annotation><xsd:documentation>ProjectSpecificExchange is used for each individual generated project-specific messages.</xsd:documentation><xsd:appinfo><source>S5000F:ProjectSpecificExchange</source></xsd:appinfo></xsd:annotation><xsd:sequence/><xsd:attribute name=\"uid\" use=\"optional\"><xsd:simpleType><xsd:restriction base=\"xsd:ID\"><xsd:pattern value=\"\"/></xsd:restriction></xsd:simpleType></xsd:attribute><xsd:attribute name=\"uri\" type=\"xsd:anyURI\" use=\"optional\"/><xsd:attribute name=\"crud\" type=\"crudCode\" default=\"I\"/></xsd:complexType><!--________________________________________________________________________________________________________________--><xsd:complexType name=\"recordedFaultSymptom\"><xsd:annotation><xsd:documentation>RecordedFaultSymptom is a [class] that represents an indication of the existence of a Fault that has been recorded by a monitoring device.</xsd:documentation><xsd:appinfo><source>S5000F:RecordedFaultSymptom</source></xsd:appinfo></xsd:annotation><xsd:sequence/><xsd:attribute name=\"uid\" use=\"optional\"><xsd:simpleType><xsd:restriction base=\"xsd:ID\"><xsd:pattern value=\"\"/></xsd:restriction></xsd:simpleType></xsd:attribute><xsd:attribute name=\"uri\" type=\"xsd:anyURI\" use=\"optional\"/><xsd:attribute name=\"crud\" type=\"crudCode\" default=\"I\"/></xsd:complexType><!--________________________________________________________________________________________________________________--><xsd:complexType name=\"report\"><xsd:annotation><xsd:documentation>Report is a Document that provides information about the execution of certain activities or significant events that have taken place.</xsd:documentation><xsd:appinfo><source>S5000F:Report</source></xsd:appinfo></xsd:annotation><xsd:sequence/><xsd:attribute name=\"uid\" use=\"optional\"><xsd:simpleType><xsd:restriction base=\"xsd:ID\"><xsd:pattern value=\"\"/></xsd:restriction></xsd:simpleType></xsd:attribute><xsd:attribute name=\"uri\" type=\"xsd:anyURI\" use=\"optional\"/><xsd:attribute name=\"crud\" type=\"crudCode\" default=\"I\"/></xsd:complexType><!--________________________________________________________________________________________________________________--><xsd:complexType name=\"reportableActivity\"><xsd:annotation><xsd:documentation>ReportableActivity is an activity that is part of work item that is deemed to be of sufficient importance as to be reported.</xsd:documentation><xsd:appinfo><source>S5000F:ReportableActivity</source></xsd:appinfo></xsd:annotation><xsd:sequence/><xsd:attribute name=\"uid\" use=\"optional\"><xsd:simpleType><xsd:restriction base=\"xsd:ID\"><xsd:pattern value=\"\"/></xsd:restriction></xsd:simpleType></xsd:attribute><xsd:attribute name=\"uri\" type=\"xsd:anyURI\" use=\"optional\"/><xsd:attribute name=\"crud\" type=\"crudCode\" default=\"I\"/></xsd:complexType><!--________________________________________________________________________________________________________________--><xsd:complexType name=\"reportableMetric\"><xsd:annotation><xsd:documentation>ReportableMetric is a measure of a specific characteristic that can evolve over time and is reported periodically for program or contract management purposes.</xsd:documentation><xsd:appinfo><source>S5000F:ReportableMetric</source></xsd:appinfo></xsd:annotation><xsd:sequence/><xsd:attribute name=\"uid\" use=\"optional\"><xsd:simpleType><xsd:restriction base=\"xsd:ID\"><xsd:pattern value=\"\"/></xsd:restriction></xsd:simpleType></xsd:attribute><xsd:attribute name=\"uri\" type=\"xsd:anyURI\" use=\"optional\"/><xsd:attribute name=\"crud\" type=\"crudCode\" default=\"I\"/></xsd:complexType><!--________________________________________________________________________________________________________________--><xsd:complexType name=\"requiredSafetyAction\"><xsd:annotation><xsd:documentation>RequiredSafetyAction is a [class] representing the action to be taken as part of a SpecialSafetyInstruction so as to ensure the Product safety.</xsd:documentation><xsd:appinfo><source>S5000F:RequiredSafetyAction</source></xsd:appinfo></xsd:annotation><xsd:sequence/><xsd:attribute name=\"uid\" use=\"optional\"><xsd:simpleType><xsd:restriction base=\"xsd:ID\"><xsd:pattern value=\"\"/></xsd:restriction></xsd:simpleType></xsd:attribute><xsd:attribute name=\"uri\" type=\"xsd:anyURI\" use=\"optional\"/><xsd:attribute name=\"crud\" type=\"crudCode\" default=\"I\"/></xsd:complexType><!--________________________________________________________________________________________________________________--><xsd:complexType name=\"requirement\"><xsd:annotation><xsd:documentation>Requirement is a documented need that has to be implemented.</xsd:documentation><xsd:appinfo><source>S5000F:Requirement</source></xsd:appinfo></xsd:annotation><xsd:sequence/><xsd:attribute name=\"uid\" use=\"optional\"><xsd:simpleType><xsd:restriction base=\"xsd:ID\"><xsd:pattern value=\"\"/></xsd:restriction></xsd:simpleType></xsd:attribute><xsd:attribute name=\"uri\" type=\"xsd:anyURI\" use=\"optional\"/><xsd:attribute name=\"crud\" type=\"crudCode\" default=\"I\"/></xsd:complexType><!--________________________________________________________________________________________________________________--><xsd:complexType name=\"resourceUsageRequest\"><xsd:annotation><xsd:documentation>ResourceUsageRequest is a class representing a demand from a party to use a resource belonging to a different party.</xsd:documentation><xsd:appinfo><source>S5000F:ResourceUsageRequest</source></xsd:appinfo></xsd:annotation><xsd:sequence/><xsd:attribute name=\"uid\" use=\"optional\"><xsd:simpleType><xsd:restriction base=\"xsd:ID\"><xsd:pattern value=\"\"/></xsd:restriction></xsd:simpleType></xsd:attribute><xsd:attribute name=\"uri\" type=\"xsd:anyURI\" use=\"optional\"/><xsd:attribute name=\"crud\" type=\"crudCode\" default=\"I\"/></xsd:complexType><!--________________________________________________________________________________________________________________--><xsd:complexType name=\"sCORMContentPackage\"><xsd:annotation><xsd:documentation>SCORMContentPackage is a specialization of class Document and represents a SCORM content package.</xsd:documentation><xsd:appinfo><source>S5000F:SCORMContentPackage</source></xsd:appinfo></xsd:annotation><xsd:sequence/><xsd:attribute name=\"uid\" use=\"optional\"><xsd:simpleType><xsd:restriction base=\"xsd:ID\"><xsd:pattern value=\"\"/></xsd:restriction></xsd:simpleType></xsd:attribute><xsd:attribute name=\"uri\" type=\"xsd:anyURI\" use=\"optional\"/><xsd:attribute name=\"crud\" type=\"crudCode\" default=\"I\"/></xsd:complexType><!--________________________________________________________________________________________________________________--><xsd:complexType name=\"safetyDocument\"><xsd:annotation><xsd:documentation>SafetyDocument is a Document associated to the safety of an item.</xsd:documentation><xsd:appinfo><source>S5000F:SafetyDocument</source></xsd:appinfo></xsd:annotation><xsd:sequence/><xsd:attribute name=\"uid\" use=\"optional\"><xsd:simpleType><xsd:restriction base=\"xsd:ID\"><xsd:pattern value=\"\"/></xsd:restriction></xsd:simpleType></xsd:attribute><xsd:attribute name=\"uri\" type=\"xsd:anyURI\" use=\"optional\"/><xsd:attribute name=\"crud\" type=\"crudCode\" default=\"I\"/></xsd:complexType><!--________________________________________________________________________________________________________________--><xsd:complexType name=\"safetyIssue\"><xsd:annotation><xsd:documentation>SafetyIssue is a SafetyDocument reporting a safety issue associated to the safety of a Product, Service or Part (hardware or software) item.</xsd:documentation><xsd:appinfo><source>S5000F:SafetyIssue</source></xsd:appinfo></xsd:annotation><xsd:sequence/><xsd:attribute name=\"uid\" use=\"optional\"><xsd:simpleType><xsd:restriction base=\"xsd:ID\"><xsd:pattern value=\"\"/></xsd:restriction></xsd:simpleType></xsd:attribute><xsd:attribute name=\"uri\" type=\"xsd:anyURI\" use=\"optional\"/><xsd:attribute name=\"crud\" type=\"crudCode\" default=\"I\"/></xsd:complexType><!--________________________________________________________________________________________________________________--><xsd:complexType name=\"safetyRequirement\"><xsd:annotation><xsd:documentation>SafetyRequirement is a Requirement that has to be applied for safety purposes.</xsd:documentation><xsd:appinfo><source>S5000F:SafetyRequirement</source></xsd:appinfo></xsd:annotation><xsd:sequence/><xsd:attribute name=\"uid\" use=\"optional\"><xsd:simpleType><xsd:restriction base=\"xsd:ID\"><xsd:pattern value=\"\"/></xsd:restriction></xsd:simpleType></xsd:attribute><xsd:attribute name=\"uri\" type=\"xsd:anyURI\" use=\"optional\"/><xsd:attribute name=\"crud\" type=\"crudCode\" default=\"I\"/></xsd:complexType><!--________________________________________________________________________________________________________________--><xsd:complexType name=\"safetyRequirementsDocument\"><xsd:annotation><xsd:documentation>SafetyRequirementsDocument is a SafetyDocument that defines the necessary SafetyRequirements for a specific purpose.</xsd:documentation><xsd:appinfo><source>S5000F:SafetyRequirementsDocument</source></xsd:appinfo></xsd:annotation><xsd:sequence/><xsd:attribute name=\"uid\" use=\"optional\"><xsd:simpleType><xsd:restriction base=\"xsd:ID\"><xsd:pattern value=\"\"/></xsd:restriction></xsd:simpleType></xsd:attribute><xsd:attribute name=\"uri\" type=\"xsd:anyURI\" use=\"optional\"/><xsd:attribute name=\"crud\" type=\"crudCode\" default=\"I\"/></xsd:complexType><!--________________________________________________________________________________________________________________--><xsd:complexType name=\"safetyWarning\"><xsd:annotation><xsd:documentation>SafetyWarning is a SafetyDocument that provides information about potential safety issues associated to a Product, service or hardware or software items.</xsd:documentation><xsd:appinfo><source>S5000F:SafetyWarning</source></xsd:appinfo></xsd:annotation><xsd:sequence/><xsd:attribute name=\"uid\" use=\"optional\"><xsd:simpleType><xsd:restriction base=\"xsd:ID\"><xsd:pattern value=\"\"/></xsd:restriction></xsd:simpleType></xsd:attribute><xsd:attribute name=\"uri\" type=\"xsd:anyURI\" use=\"optional\"/><xsd:attribute name=\"crud\" type=\"crudCode\" default=\"I\"/></xsd:complexType><!--________________________________________________________________________________________________________________--><xsd:complexType name=\"sensor\"><xsd:annotation><xsd:documentation>Sensor is an individual SensorType that has a unique identity and can be used to measure values of a specific type.</xsd:documentation><xsd:appinfo><source>S5000F:Sensor</source></xsd:appinfo></xsd:annotation><xsd:sequence/><xsd:attribute name=\"uid\" use=\"optional\"><xsd:simpleType><xsd:restriction base=\"xsd:ID\"><xsd:pattern value=\"\"/></xsd:restriction></xsd:simpleType></xsd:attribute><xsd:attribute name=\"uri\" type=\"xsd:anyURI\" use=\"optional\"/><xsd:attribute name=\"crud\" type=\"crudCode\" default=\"I\"/></xsd:complexType><!--________________________________________________________________________________________________________________--><xsd:complexType name=\"sensorSample\"><xsd:annotation><xsd:documentation>SensorSample is a particular reading of an individual sensor at a specific point in time.</xsd:documentation><xsd:appinfo><source>S5000F:SensorSample</source></xsd:appinfo></xsd:annotation><xsd:sequence/><xsd:attribute name=\"uid\" use=\"optional\"><xsd:simpleType><xsd:restriction base=\"xsd:ID\"><xsd:pattern value=\"\"/></xsd:restriction></xsd:simpleType></xsd:attribute><xsd:attribute name=\"uri\" type=\"xsd:anyURI\" use=\"optional\"/><xsd:attribute name=\"crud\" type=\"crudCode\" default=\"I\"/></xsd:complexType><!--________________________________________________________________________________________________________________--><xsd:complexType name=\"sensorType\"><xsd:annotation><xsd:documentation>SensorType is HardwarePartAsDesigned that measures physical events and provides the information to external devices.</xsd:documentation><xsd:appinfo><source>S5000F:SensorType</source></xsd:appinfo></xsd:annotation><xsd:sequence/><xsd:attribute name=\"uid\" use=\"optional\"><xsd:simpleType><xsd:restriction base=\"xsd:ID\"><xsd:pattern value=\"\"/></xsd:restriction></xsd:simpleType></xsd:attribute><xsd:attribute name=\"uri\" type=\"xsd:anyURI\" use=\"optional\"/><xsd:attribute name=\"crud\" type=\"crudCode\" default=\"I\"/></xsd:complexType><!--________________________________________________________________________________________________________________--><xsd:complexType name=\"serializedHardwarePart\"><xsd:annotation><xsd:documentation>SerializedHardwarePart is [class] that represent an actual physical part which can be identified as an individual.</xsd:documentation><xsd:appinfo><source>S5000F:SerializedHardwarePart</source></xsd:appinfo></xsd:annotation><xsd:sequence/><xsd:attribute name=\"uid\" use=\"optional\"><xsd:simpleType><xsd:restriction base=\"xsd:ID\"><xsd:pattern value=\"\"/></xsd:restriction></xsd:simpleType></xsd:attribute><xsd:attribute name=\"uri\" type=\"xsd:anyURI\" use=\"optional\"/><xsd:attribute name=\"crud\" type=\"crudCode\" default=\"I\"/></xsd:complexType><!--________________________________________________________________________________________________________________--><xsd:complexType name=\"serializedSupportEquipment\"><xsd:annotation><xsd:documentation>SerializedSupportEquipment is a SerialiedHardwarePart that is used exclusively for support purposes.</xsd:documentation><xsd:appinfo><source>S5000F:SerializedSupportEquipment</source></xsd:appinfo></xsd:annotation><xsd:sequence/><xsd:attribute name=\"uid\" use=\"optional\"><xsd:simpleType><xsd:restriction base=\"xsd:ID\"><xsd:pattern value=\"\"/></xsd:restriction></xsd:simpleType></xsd:attribute><xsd:attribute name=\"uri\" type=\"xsd:anyURI\" use=\"optional\"/><xsd:attribute name=\"crud\" type=\"crudCode\" default=\"I\"/></xsd:complexType><!--________________________________________________________________________________________________________________--><xsd:complexType name=\"service\"><xsd:annotation><xsd:documentation>Service is a contract where technical or intellectual work is performed but no delivery of goods takes place.</xsd:documentation><xsd:appinfo><source>S5000F:Service</source></xsd:appinfo></xsd:annotation><xsd:sequence/><xsd:attribute name=\"uid\" use=\"optional\"><xsd:simpleType><xsd:restriction base=\"xsd:ID\"><xsd:pattern value=\"\"/></xsd:restriction></xsd:simpleType></xsd:attribute><xsd:attribute name=\"uri\" type=\"xsd:anyURI\" use=\"optional\"/><xsd:attribute name=\"crud\" type=\"crudCode\" default=\"I\"/></xsd:complexType><!--________________________________________________________________________________________________________________--><xsd:complexType name=\"serviceBulletin\"><xsd:annotation><xsd:documentation>ServiceBulletin is a class representing a set of documentation, material, spares and possibly other resources required to embody a change embodiment requirement into a ProductVariant or SerializedProductVariant.</xsd:documentation><xsd:appinfo><source>S5000F:ServiceBulletin</source></xsd:appinfo></xsd:annotation><xsd:sequence/><xsd:attribute name=\"uid\" use=\"optional\"><xsd:simpleType><xsd:restriction base=\"xsd:ID\"><xsd:pattern value=\"\"/></xsd:restriction></xsd:simpleType></xsd:attribute><xsd:attribute name=\"uri\" type=\"xsd:anyURI\" use=\"optional\"/><xsd:attribute name=\"crud\" type=\"crudCode\" default=\"I\"/></xsd:complexType><!--________________________________________________________________________________________________________________--><xsd:complexType name=\"serviceLevelAgreementClause\"><xsd:annotation><xsd:documentation>ServiceLevelAgreementClause is a contractual clause related to a service that determines the level of service to be provided.</xsd:documentation><xsd:appinfo><source>S5000F:ServiceLevelAgreementClause</source></xsd:appinfo></xsd:annotation><xsd:sequence/><xsd:attribute name=\"uid\" use=\"optional\"><xsd:simpleType><xsd:restriction base=\"xsd:ID\"><xsd:pattern value=\"\"/></xsd:restriction></xsd:simpleType></xsd:attribute><xsd:attribute name=\"uri\" type=\"xsd:anyURI\" use=\"optional\"/><xsd:attribute name=\"crud\" type=\"crudCode\" default=\"I\"/></xsd:complexType><!--________________________________________________________________________________________________________________--><xsd:complexType name=\"serviceRequest\"><xsd:annotation><xsd:documentation>ServiceRequest is a class representing a demand from one party to another partyto provide a service.</xsd:documentation><xsd:appinfo><source>S5000F:ServiceRequest</source></xsd:appinfo></xsd:annotation><xsd:sequence/><xsd:attribute name=\"uid\" use=\"optional\"><xsd:simpleType><xsd:restriction base=\"xsd:ID\"><xsd:pattern value=\"\"/></xsd:restriction></xsd:simpleType></xsd:attribute><xsd:attribute name=\"uri\" type=\"xsd:anyURI\" use=\"optional\"/><xsd:attribute name=\"crud\" type=\"crudCode\" default=\"I\"/></xsd:complexType><!--________________________________________________________________________________________________________________--><xsd:complexType name=\"serviceRequestCancellation\"><xsd:annotation><xsd:documentation>ServiceRequestCancellation is a [class] that allows to cancel one or more Services by a Party.</xsd:documentation><xsd:appinfo><source>S5000F:ServiceRequestCancellation</source></xsd:appinfo></xsd:annotation><xsd:sequence/><xsd:attribute name=\"uid\" use=\"optional\"><xsd:simpleType><xsd:restriction base=\"xsd:ID\"><xsd:pattern value=\"\"/></xsd:restriction></xsd:simpleType></xsd:attribute><xsd:attribute name=\"uri\" type=\"xsd:anyURI\" use=\"optional\"/><xsd:attribute name=\"crud\" type=\"crudCode\" default=\"I\"/></xsd:complexType><!--________________________________________________________________________________________________________________--><xsd:complexType name=\"shopFindings\"><xsd:annotation><xsd:documentation>ShopFindings is a class representing the results of a fault investigation performed on an equipment in a workshop.</xsd:documentation><xsd:appinfo><source>S5000F:ShopFindings</source></xsd:appinfo></xsd:annotation><xsd:sequence/><xsd:attribute name=\"uid\" use=\"optional\"><xsd:simpleType><xsd:restriction base=\"xsd:ID\"><xsd:pattern value=\"\"/></xsd:restriction></xsd:simpleType></xsd:attribute><xsd:attribute name=\"uri\" type=\"xsd:anyURI\" use=\"optional\"/><xsd:attribute name=\"crud\" type=\"crudCode\" default=\"I\"/></xsd:complexType><!--________________________________________________________________________________________________________________--><xsd:complexType name=\"softwareError\"><xsd:annotation><xsd:documentation>SoftwareError is a [class] that represents a fault detected during the execution of a SoftwarePartAsReleased.</xsd:documentation><xsd:appinfo><source>S5000F:SoftwareError</source></xsd:appinfo></xsd:annotation><xsd:sequence/><xsd:attribute name=\"uid\" use=\"optional\"><xsd:simpleType><xsd:restriction base=\"xsd:ID\"><xsd:pattern value=\"\"/></xsd:restriction></xsd:simpleType></xsd:attribute><xsd:attribute name=\"uri\" type=\"xsd:anyURI\" use=\"optional\"/><xsd:attribute name=\"crud\" type=\"crudCode\" default=\"I\"/></xsd:complexType><!--________________________________________________________________________________________________________________--><xsd:complexType name=\"softwarePartAsReleased\"><xsd:annotation><xsd:documentation>SoftwarePartAsReleased is &amp;lt;&amp;lt;class&amp;gt;&amp;gt; that represents actual build of a software which is delivered.</xsd:documentation><xsd:appinfo><source>S5000F:SoftwarePartAsReleased</source></xsd:appinfo></xsd:annotation><xsd:sequence/><xsd:attribute name=\"uid\" use=\"optional\"><xsd:simpleType><xsd:restriction base=\"xsd:ID\"><xsd:pattern value=\"\"/></xsd:restriction></xsd:simpleType></xsd:attribute><xsd:attribute name=\"uri\" type=\"xsd:anyURI\" use=\"optional\"/><xsd:attribute name=\"crud\" type=\"crudCode\" default=\"I\"/></xsd:complexType><!--________________________________________________________________________________________________________________--><xsd:complexType name=\"specialSafetyInstruction\"><xsd:annotation><xsd:documentation>SpecialSafetyInstruction is a SafetyDocument providing specific mandatory instructions to be followed in addition to those existing in the standard documentation so as that special safety issues can be addressed.</xsd:documentation><xsd:appinfo><source>S5000F:SpecialSafetyInstruction</source></xsd:appinfo></xsd:annotation><xsd:sequence/><xsd:attribute name=\"uid\" use=\"optional\"><xsd:simpleType><xsd:restriction base=\"xsd:ID\"><xsd:pattern value=\"\"/></xsd:restriction></xsd:simpleType></xsd:attribute><xsd:attribute name=\"uri\" type=\"xsd:anyURI\" use=\"optional\"/><xsd:attribute name=\"crud\" type=\"crudCode\" default=\"I\"/></xsd:complexType><!--________________________________________________________________________________________________________________--><xsd:complexType name=\"strainGauge\"><xsd:annotation><xsd:documentation>StrainGauge is a SensorType whose resistance varies with applied force; it converts force, pressure, tension, weight, etc, into a change in electrical resistance which can then be measured.</xsd:documentation><xsd:appinfo><source>S5000F:StrainGauge</source></xsd:appinfo></xsd:annotation><xsd:sequence/><xsd:attribute name=\"uid\" use=\"optional\"><xsd:simpleType><xsd:restriction base=\"xsd:ID\"><xsd:pattern value=\"\"/></xsd:restriction></xsd:simpleType></xsd:attribute><xsd:attribute name=\"uri\" type=\"xsd:anyURI\" use=\"optional\"/><xsd:attribute name=\"crud\" type=\"crudCode\" default=\"I\"/></xsd:complexType><!--________________________________________________________________________________________________________________--><xsd:complexType name=\"substanceDefinition\"><xsd:annotation><xsd:documentation>SubstanceDefinition is a &amp;lt;&amp;lt;class&amp;gt;&amp;gt; that identifies high concern physical matter.</xsd:documentation><xsd:appinfo><source>S5000F:SubstanceDefinition</source></xsd:appinfo></xsd:annotation><xsd:sequence/><xsd:attribute name=\"uid\" use=\"optional\"><xsd:simpleType><xsd:restriction base=\"xsd:ID\"><xsd:pattern value=\"\"/></xsd:restriction></xsd:simpleType></xsd:attribute><xsd:attribute name=\"uri\" type=\"xsd:anyURI\" use=\"optional\"/><xsd:attribute name=\"crud\" type=\"crudCode\" default=\"I\"/></xsd:complexType><!--________________________________________________________________________________________________________________--><xsd:complexType name=\"supportEquipment\"><xsd:annotation><xsd:documentation>SupportEquipment is a HardwareElement used exclusively for support purposes.</xsd:documentation><xsd:appinfo><source>S5000F:SupportEquipment</source></xsd:appinfo></xsd:annotation><xsd:sequence/><xsd:attribute name=\"uid\" use=\"optional\"><xsd:simpleType><xsd:restriction base=\"xsd:ID\"><xsd:pattern value=\"\"/></xsd:restriction></xsd:simpleType></xsd:attribute><xsd:attribute name=\"uri\" type=\"xsd:anyURI\" use=\"optional\"/><xsd:attribute name=\"crud\" type=\"crudCode\" default=\"I\"/></xsd:complexType><!--________________________________________________________________________________________________________________--><xsd:complexType name=\"tachometer\"><xsd:annotation><xsd:documentation>Tachometer is a SensorType that measures revolutions of a rotating item.</xsd:documentation><xsd:appinfo><source>S5000F:Tachometer</source></xsd:appinfo></xsd:annotation><xsd:sequence/><xsd:attribute name=\"uid\" use=\"optional\"><xsd:simpleType><xsd:restriction base=\"xsd:ID\"><xsd:pattern value=\"\"/></xsd:restriction></xsd:simpleType></xsd:attribute><xsd:attribute name=\"uri\" type=\"xsd:anyURI\" use=\"optional\"/><xsd:attribute name=\"crud\" type=\"crudCode\" default=\"I\"/></xsd:complexType><!--________________________________________________________________________________________________________________--><xsd:complexType name=\"taskRevision\"><xsd:annotation><xsd:documentation>TaskRevision is a &amp;lt;&amp;lt;class&amp;gt;&amp;gt; representing an iteration applied to a Task.</xsd:documentation><xsd:appinfo><source>S5000F:TaskRevision</source></xsd:appinfo></xsd:annotation><xsd:sequence/><xsd:attribute name=\"uid\" use=\"optional\"><xsd:simpleType><xsd:restriction base=\"xsd:ID\"><xsd:pattern value=\"\"/></xsd:restriction></xsd:simpleType></xsd:attribute><xsd:attribute name=\"uri\" type=\"xsd:anyURI\" use=\"optional\"/><xsd:attribute name=\"crud\" type=\"crudCode\" default=\"I\"/></xsd:complexType><!--________________________________________________________________________________________________________________--><xsd:complexType name=\"technicalOrder\"><xsd:annotation><xsd:documentation>TechnicalOrder is a WorkItem raised by Maintenance Engineering to carry out a change or maintenance on a SerializedItem.</xsd:documentation><xsd:appinfo><source>S5000F:TechnicalOrder</source></xsd:appinfo></xsd:annotation><xsd:sequence/><xsd:attribute name=\"uid\" use=\"optional\"><xsd:simpleType><xsd:restriction base=\"xsd:ID\"><xsd:pattern value=\"\"/></xsd:restriction></xsd:simpleType></xsd:attribute><xsd:attribute name=\"uri\" type=\"xsd:anyURI\" use=\"optional\"/><xsd:attribute name=\"crud\" type=\"crudCode\" default=\"I\"/></xsd:complexType><!--________________________________________________________________________________________________________________--><xsd:complexType name=\"temperatureSensor\"><xsd:annotation><xsd:documentation>TemperatureSensor is a SensorType that measures temperature.</xsd:documentation><xsd:appinfo><source>S5000F:TemperatureSensor</source></xsd:appinfo></xsd:annotation><xsd:sequence/><xsd:attribute name=\"uid\" use=\"optional\"><xsd:simpleType><xsd:restriction base=\"xsd:ID\"><xsd:pattern value=\"\"/></xsd:restriction></xsd:simpleType></xsd:attribute><xsd:attribute name=\"uri\" type=\"xsd:anyURI\" use=\"optional\"/><xsd:attribute name=\"crud\" type=\"crudCode\" default=\"I\"/></xsd:complexType><!--________________________________________________________________________________________________________________--><xsd:complexType name=\"transportCapability\"><xsd:annotation><xsd:documentation>TransportCapability is a Capability associated to the capacity of transporting things.</xsd:documentation><xsd:appinfo><source>S5000F:TransportCapability</source></xsd:appinfo></xsd:annotation><xsd:sequence/><xsd:attribute name=\"uid\" use=\"optional\"><xsd:simpleType><xsd:restriction base=\"xsd:ID\"><xsd:pattern value=\"\"/></xsd:restriction></xsd:simpleType></xsd:attribute><xsd:attribute name=\"uri\" type=\"xsd:anyURI\" use=\"optional\"/><xsd:attribute name=\"crud\" type=\"crudCode\" default=\"I\"/></xsd:complexType><!--________________________________________________________________________________________________________________--><xsd:complexType name=\"transportNetwork\"><xsd:annotation><xsd:documentation>TransportNetwork is an Infrastructure used to transport items.</xsd:documentation><xsd:appinfo><source>S5000F:TransportNetwork</source></xsd:appinfo></xsd:annotation><xsd:sequence/><xsd:attribute name=\"uid\" use=\"optional\"><xsd:simpleType><xsd:restriction base=\"xsd:ID\"><xsd:pattern value=\"\"/></xsd:restriction></xsd:simpleType></xsd:attribute><xsd:attribute name=\"uri\" type=\"xsd:anyURI\" use=\"optional\"/><xsd:attribute name=\"crud\" type=\"crudCode\" default=\"I\"/></xsd:complexType><!--________________________________________________________________________________________________________________--><xsd:complexType name=\"transportRequirement\"><xsd:annotation><xsd:documentation>TransportRequirement is a Requirement defining the condictions under which a TransportableItem can be transported.</xsd:documentation><xsd:appinfo><source>S5000F:TransportRequirement</source></xsd:appinfo></xsd:annotation><xsd:sequence/><xsd:attribute name=\"uid\" use=\"optional\"><xsd:simpleType><xsd:restriction base=\"xsd:ID\"><xsd:pattern value=\"\"/></xsd:restriction></xsd:simpleType></xsd:attribute><xsd:attribute name=\"uri\" type=\"xsd:anyURI\" use=\"optional\"/><xsd:attribute name=\"crud\" type=\"crudCode\" default=\"I\"/></xsd:complexType><!--________________________________________________________________________________________________________________--><xsd:complexType name=\"typeOfPerson\"><xsd:annotation><xsd:documentation>TypeOfPerson is a [class] representing a neutral non-individual person that presents a set of shared common characteristics of multiple Persons.</xsd:documentation><xsd:appinfo><source>S5000F:TypeOfPerson</source></xsd:appinfo></xsd:annotation><xsd:sequence/><xsd:attribute name=\"uid\" use=\"optional\"><xsd:simpleType><xsd:restriction base=\"xsd:ID\"><xsd:pattern value=\"\"/></xsd:restriction></xsd:simpleType></xsd:attribute><xsd:attribute name=\"uri\" type=\"xsd:anyURI\" use=\"optional\"/><xsd:attribute name=\"crud\" type=\"crudCode\" default=\"I\"/></xsd:complexType><!--________________________________________________________________________________________________________________--><xsd:complexType name=\"unacceptableCondition\"><xsd:annotation><xsd:documentation>UnacceptableCondition is a justification for the disposal of an item in case that it is no longer fit for purpose.</xsd:documentation><xsd:appinfo><source>S5000F:UnacceptableCondition</source></xsd:appinfo></xsd:annotation><xsd:sequence/><xsd:attribute name=\"uid\" use=\"optional\"><xsd:simpleType><xsd:restriction base=\"xsd:ID\"><xsd:pattern value=\"\"/></xsd:restriction></xsd:simpleType></xsd:attribute><xsd:attribute name=\"uri\" type=\"xsd:anyURI\" use=\"optional\"/><xsd:attribute name=\"crud\" type=\"crudCode\" default=\"I\"/></xsd:complexType><!--________________________________________________________________________________________________________________--><xsd:complexType name=\"upgradeRequirement\"><xsd:annotation><xsd:documentation>UpgradeRequirement is a Requirement that must be applied during the embodiment of a change (upgrade).</xsd:documentation><xsd:appinfo><source>S5000F:UpgradeRequirement</source></xsd:appinfo></xsd:annotation><xsd:sequence/><xsd:attribute name=\"uid\" use=\"optional\"><xsd:simpleType><xsd:restriction base=\"xsd:ID\"><xsd:pattern value=\"\"/></xsd:restriction></xsd:simpleType></xsd:attribute><xsd:attribute name=\"uri\" type=\"xsd:anyURI\" use=\"optional\"/><xsd:attribute name=\"crud\" type=\"crudCode\" default=\"I\"/></xsd:complexType><!--________________________________________________________________________________________________________________--><xsd:complexType name=\"warehouse\"><xsd:annotation><xsd:documentation>Warehouse is a Facility used to store parts.</xsd:documentation><xsd:appinfo><source>S5000F:Warehouse</source></xsd:appinfo></xsd:annotation><xsd:sequence/><xsd:attribute name=\"uid\" use=\"optional\"><xsd:simpleType><xsd:restriction base=\"xsd:ID\"><xsd:pattern value=\"\"/></xsd:restriction></xsd:simpleType></xsd:attribute><xsd:attribute name=\"uri\" type=\"xsd:anyURI\" use=\"optional\"/><xsd:attribute name=\"crud\" type=\"crudCode\" default=\"I\"/></xsd:complexType><!--________________________________________________________________________________________________________________--><xsd:complexType name=\"warrantyClaim\"><xsd:annotation><xsd:documentation>WarrantyClaim is a class representing a customer's claim for repair or replacement of a defective item or non-performance of that item as established in a warranty contract.</xsd:documentation><xsd:appinfo><source>S5000F:WarrantyClaim</source></xsd:appinfo></xsd:annotation><xsd:sequence/><xsd:attribute name=\"uid\" use=\"optional\"><xsd:simpleType><xsd:restriction base=\"xsd:ID\"><xsd:pattern value=\"\"/></xsd:restriction></xsd:simpleType></xsd:attribute><xsd:attribute name=\"uri\" type=\"xsd:anyURI\" use=\"optional\"/><xsd:attribute name=\"crud\" type=\"crudCode\" default=\"I\"/></xsd:complexType><!--________________________________________________________________________________________________________________--><xsd:complexType name=\"warrantyClaimFollowUp\"><xsd:annotation><xsd:documentation>WarrantyClaimFollowUp is a class that represents any follow-up associated to a WarrantyClaim.</xsd:documentation><xsd:appinfo><source>S5000F:WarrantyClaimFollowUp</source></xsd:appinfo></xsd:annotation><xsd:sequence/><xsd:attribute name=\"uid\" use=\"optional\"><xsd:simpleType><xsd:restriction base=\"xsd:ID\"><xsd:pattern value=\"\"/></xsd:restriction></xsd:simpleType></xsd:attribute><xsd:attribute name=\"uri\" type=\"xsd:anyURI\" use=\"optional\"/><xsd:attribute name=\"crud\" type=\"crudCode\" default=\"I\"/></xsd:complexType><!--________________________________________________________________________________________________________________--><xsd:complexType name=\"warrantyClaimResolution\"><xsd:annotation><xsd:documentation>WarrantyClaimResolution is a class that represents the conclusion of the WarrantyClaim.</xsd:documentation><xsd:appinfo><source>S5000F:WarrantyClaimResolution</source></xsd:appinfo></xsd:annotation><xsd:sequence/><xsd:attribute name=\"uid\" use=\"optional\"><xsd:simpleType><xsd:restriction base=\"xsd:ID\"><xsd:pattern value=\"\"/></xsd:restriction></xsd:simpleType></xsd:attribute><xsd:attribute name=\"uri\" type=\"xsd:anyURI\" use=\"optional\"/><xsd:attribute name=\"crud\" type=\"crudCode\" default=\"I\"/></xsd:complexType><!--________________________________________________________________________________________________________________--><xsd:complexType name=\"warrantyEvent\"><xsd:annotation><xsd:documentation>WarrantyEvent is an Event that has as the consequence that a WarrantyClaim is raised.</xsd:documentation><xsd:appinfo><source>S5000F:WarrantyEvent</source></xsd:appinfo></xsd:annotation><xsd:sequence/><xsd:attribute name=\"uid\" use=\"optional\"><xsd:simpleType><xsd:restriction base=\"xsd:ID\"><xsd:pattern value=\"\"/></xsd:restriction></xsd:simpleType></xsd:attribute><xsd:attribute name=\"uri\" type=\"xsd:anyURI\" use=\"optional\"/><xsd:attribute name=\"crud\" type=\"crudCode\" default=\"I\"/></xsd:complexType><!--________________________________________________________________________________________________________________--><xsd:complexType name=\"wasteContainer\"><xsd:annotation><xsd:documentation>WasteContainer is a Container containing waste or hazardous material (HAZMAT) substances that need to be recycled or be disposed of in an acceptable manner.</xsd:documentation><xsd:appinfo><source>S5000F:WasteContainer</source></xsd:appinfo></xsd:annotation><xsd:sequence/><xsd:attribute name=\"uid\" use=\"optional\"><xsd:simpleType><xsd:restriction base=\"xsd:ID\"><xsd:pattern value=\"\"/></xsd:restriction></xsd:simpleType></xsd:attribute><xsd:attribute name=\"uri\" type=\"xsd:anyURI\" use=\"optional\"/><xsd:attribute name=\"crud\" type=\"crudCode\" default=\"I\"/></xsd:complexType><!--________________________________________________________________________________________________________________--><xsd:complexType name=\"wasteDisposalOperation\"><xsd:annotation><xsd:documentation>WasteDisposalOperation is a [class] representing the action that has been taken in order to dispose of a waste item.</xsd:documentation><xsd:appinfo><source>S5000F:WasteDisposalOperation</source></xsd:appinfo></xsd:annotation><xsd:sequence/><xsd:attribute name=\"uid\" use=\"optional\"><xsd:simpleType><xsd:restriction base=\"xsd:ID\"><xsd:pattern value=\"\"/></xsd:restriction></xsd:simpleType></xsd:attribute><xsd:attribute name=\"uri\" type=\"xsd:anyURI\" use=\"optional\"/><xsd:attribute name=\"crud\" type=\"crudCode\" default=\"I\"/></xsd:complexType><!--________________________________________________________________________________________________________________--><xsd:complexType name=\"wasteDisposalRequirement\"><xsd:annotation><xsd:documentation>WasteDisposalRequirement is a DisposalRequirement oriented towards the disposal of waste.</xsd:documentation><xsd:appinfo><source>S5000F:WasteDisposalRequirement</source></xsd:appinfo></xsd:annotation><xsd:sequence/><xsd:attribute name=\"uid\" use=\"optional\"><xsd:simpleType><xsd:restriction base=\"xsd:ID\"><xsd:pattern value=\"\"/></xsd:restriction></xsd:simpleType></xsd:attribute><xsd:attribute name=\"uri\" type=\"xsd:anyURI\" use=\"optional\"/><xsd:attribute name=\"crud\" type=\"crudCode\" default=\"I\"/></xsd:complexType><!--________________________________________________________________________________________________________________--><xsd:complexType name=\"workBreakdown\"><xsd:annotation><xsd:documentation>WorkBreakdown is a class used to group all the different activities  associated to a particular purpose.</xsd:documentation><xsd:appinfo><source>S5000F:WorkBreakdown</source></xsd:appinfo></xsd:annotation><xsd:sequence/><xsd:attribute name=\"uid\" use=\"optional\"><xsd:simpleType><xsd:restriction base=\"xsd:ID\"><xsd:pattern value=\"\"/></xsd:restriction></xsd:simpleType></xsd:attribute><xsd:attribute name=\"uri\" type=\"xsd:anyURI\" use=\"optional\"/><xsd:attribute name=\"crud\" type=\"crudCode\" default=\"I\"/></xsd:complexType><!--________________________________________________________________________________________________________________--><xsd:complexType name=\"workBreakdownRevision\"><xsd:annotation><xsd:documentation>WorkBreakdownRevision is an iteration that is applied to a WorkBreakdown.</xsd:documentation><xsd:appinfo><source>S5000F:WorkBreakdownRevision</source></xsd:appinfo></xsd:annotation><xsd:sequence/><xsd:attribute name=\"uid\" use=\"optional\"><xsd:simpleType><xsd:restriction base=\"xsd:ID\"><xsd:pattern value=\"\"/></xsd:restriction></xsd:simpleType></xsd:attribute><xsd:attribute name=\"uri\" type=\"xsd:anyURI\" use=\"optional\"/><xsd:attribute name=\"crud\" type=\"crudCode\" default=\"I\"/></xsd:complexType><!--________________________________________________________________________________________________________________--><xsd:complexType name=\"workItem\"><xsd:annotation><xsd:documentation>WorkItem is a generic concept defined to group individual activities for planning, costing or program management purposes.</xsd:documentation><xsd:appinfo><source>S5000F:WorkItem</source></xsd:appinfo></xsd:annotation><xsd:sequence/><xsd:attribute name=\"uid\" use=\"optional\"><xsd:simpleType><xsd:restriction base=\"xsd:ID\"><xsd:pattern value=\"\"/></xsd:restriction></xsd:simpleType></xsd:attribute><xsd:attribute name=\"uri\" type=\"xsd:anyURI\" use=\"optional\"/><xsd:attribute name=\"crud\" type=\"crudCode\" default=\"I\"/></xsd:complexType><!--________________________________________________________________________________________________________________--><xsd:complexType name=\"workOrder\"><xsd:annotation><xsd:documentation>WorkOrder is an instruction to perform maintenance work on a SerializedItem.</xsd:documentation><xsd:appinfo><source>S5000F:WorkOrder</source></xsd:appinfo></xsd:annotation><xsd:sequence/><xsd:attribute name=\"uid\" use=\"optional\"><xsd:simpleType><xsd:restriction base=\"xsd:ID\"><xsd:pattern value=\"\"/></xsd:restriction></xsd:simpleType></xsd:attribute><xsd:attribute name=\"uri\" type=\"xsd:anyURI\" use=\"optional\"/><xsd:attribute name=\"crud\" type=\"crudCode\" default=\"I\"/></xsd:complexType><xsd:schema>\n",
      "<!-- ===================================== BASE SCHEMA DEFINITIONS ====================================== -->\n",
      "\t<xsd:simpleType name=\"uidRef\">\n",
      "\t\t<xsd:restriction base=\"xsd:IDREF\"/>\n",
      "\t</xsd:simpleType>\n",
      "\t<xsd:simpleType name=\"nonEmptyString\">\n",
      "\t\t<xsd:restriction base=\"xsd:token\">\n",
      "\t\t\t<xsd:minLength value=\"1\"/>\n",
      "\t\t</xsd:restriction>\n",
      "\t</xsd:simpleType>\n",
      "\t<xsd:simpleType name=\"crudCode\">\n",
      "\t\t<xsd:restriction base=\"xsd:string\">\n",
      "\t\t\t<xsd:enumeration value=\"I\">\n",
      "\t\t\t\t<xsd:annotation>\n",
      "\t\t\t\t\t<xsd:appinfo>\n",
      "\t\t\t\t\t\t<source>SX001G:insertedElement</source>\n",
      "\t\t\t\t\t</xsd:appinfo>\n",
      "\t\t\t\t</xsd:annotation>\n",
      "\t\t\t</xsd:enumeration>\n",
      "\t\t\t<xsd:enumeration value=\"D\">\n",
      "\t\t\t\t<xsd:annotation>\n",
      "\t\t\t\t\t<xsd:appinfo>\n",
      "\t\t\t\t\t\t<source>SX001G:deletedElement</source>\n",
      "\t\t\t\t\t</xsd:appinfo>\n",
      "\t\t\t\t</xsd:annotation>\n",
      "\t\t\t</xsd:enumeration>\n",
      "\t\t\t<xsd:enumeration value=\"U\">\n",
      "\t\t\t\t<xsd:annotation>\n",
      "\t\t\t\t\t<xsd:appinfo>\n",
      "\t\t\t\t\t\t<source>SX001G:updatedElement</source>\n",
      "\t\t\t\t\t</xsd:appinfo>\n",
      "\t\t\t\t</xsd:annotation>\n",
      "\t\t\t</xsd:enumeration>\n",
      "\t\t\t<xsd:enumeration value=\"R\">\n",
      "\t\t\t\t<xsd:annotation>\n",
      "\t\t\t\t\t<xsd:appinfo>\n",
      "\t\t\t\t\t\t<source>SX001G:replacedElement</source>\n",
      "\t\t\t\t\t</xsd:appinfo>\n",
      "\t\t\t\t</xsd:annotation>\n",
      "\t\t\t</xsd:enumeration>\n",
      "\t\t\t<xsd:enumeration value=\"N\">\n",
      "\t\t\t\t<xsd:annotation>\n",
      "\t\t\t\t\t<xsd:appinfo>\n",
      "\t\t\t\t\t\t<source>SX001G:nonChangedElement</source>\n",
      "\t\t\t\t\t</xsd:appinfo>\n",
      "\t\t\t\t</xsd:annotation>\n",
      "\t\t\t</xsd:enumeration>\n",
      "\t\t</xsd:restriction>\n",
      "\t</xsd:simpleType>\n",
      "</xsd:schema></xsd:schema>\n",
      "\n"
     ]
    }
   ],
   "source": [
    "# Convert the full XML tree to a string\n",
    "full_xml = etree.tostring(root, pretty_print=True, encoding=\"unicode\")\n",
    "\n",
    "# Display the final XML\n",
    "print(full_xml)"
   ]
  },
  {
   "cell_type": "markdown",
   "id": "1db0d8e5-558d-41af-aadd-34fd24bfbff6",
   "metadata": {},
   "source": [
    "### Documentation: mapping between dataframe and XSD-path"
   ]
  },
  {
   "cell_type": "markdown",
   "id": "b39f19e2-7823-45d9-9346-0e67e55dafe3",
   "metadata": {},
   "source": [
    "#### Classes in XMI dataframe to XSD"
   ]
  },
  {
   "cell_type": "code",
   "execution_count": 27,
   "id": "d66c3544-624d-4d2b-a4a6-1496d8ad79f9",
   "metadata": {},
   "outputs": [
    {
     "name": "stdout",
     "output_type": "stream",
     "text": [
      "There are \u001b[1m168 classes\u001b[0m in \u001b[1mS5000F_Data_model_75BR\n",
      "\n",
      "\u001b[0m.\n"
     ]
    },
    {
     "data": {
      "text/html": [
       "<div>\n",
       "<style scoped>\n",
       "    .dataframe tbody tr th:only-of-type {\n",
       "        vertical-align: middle;\n",
       "    }\n",
       "\n",
       "    .dataframe tbody tr th {\n",
       "        vertical-align: top;\n",
       "    }\n",
       "\n",
       "    .dataframe thead th {\n",
       "        text-align: right;\n",
       "    }\n",
       "</style>\n",
       "<table border=\"1\" class=\"dataframe\">\n",
       "  <thead>\n",
       "    <tr style=\"text-align: right;\">\n",
       "      <th></th>\n",
       "      <th>name</th>\n",
       "      <th>xmlName</th>\n",
       "      <th>documentation</th>\n",
       "      <th>identifier</th>\n",
       "      <th>stereotype</th>\n",
       "      <th>lower</th>\n",
       "      <th>upper</th>\n",
       "      <th>class</th>\n",
       "      <th>source</th>\n",
       "    </tr>\n",
       "  </thead>\n",
       "  <tbody>\n",
       "    <tr>\n",
       "      <th>0</th>\n",
       "      <td>TechnicalOrder</td>\n",
       "      <td>to</td>\n",
       "      <td>TechnicalOrder is a WorkItem raised by Mainten...</td>\n",
       "      <td>EAID_254534EB_5372_4bfd_9577_6CB629060F89</td>\n",
       "      <td>class</td>\n",
       "      <td>NaN</td>\n",
       "      <td>NaN</td>\n",
       "      <td>NaN</td>\n",
       "      <td>S5000F_Data_model_75BR</td>\n",
       "    </tr>\n",
       "    <tr>\n",
       "      <th>3</th>\n",
       "      <td>ServiceBulletin</td>\n",
       "      <td>servBu</td>\n",
       "      <td>ServiceBulletin is a class representing a set ...</td>\n",
       "      <td>EAID_820B91E7_C617_4565_B8EE_4DF14992D503</td>\n",
       "      <td>class</td>\n",
       "      <td>NaN</td>\n",
       "      <td>NaN</td>\n",
       "      <td>NaN</td>\n",
       "      <td>S5000F_Data_model_75BR</td>\n",
       "    </tr>\n",
       "    <tr>\n",
       "      <th>9</th>\n",
       "      <td>DownTimePeriod</td>\n",
       "      <td>dwnTP</td>\n",
       "      <td>DownTimePeriod is a class representing a plann...</td>\n",
       "      <td>EAID_11AAC606_5331_41d2_927D_A1B9031FAC61</td>\n",
       "      <td>class</td>\n",
       "      <td>NaN</td>\n",
       "      <td>NaN</td>\n",
       "      <td>NaN</td>\n",
       "      <td>S5000F_Data_model_75BR</td>\n",
       "    </tr>\n",
       "    <tr>\n",
       "      <th>14</th>\n",
       "      <td>PlannedUpgradeTimescales</td>\n",
       "      <td>plut</td>\n",
       "      <td>PlannedUpgradeTimescales is a class that defin...</td>\n",
       "      <td>EAID_885CB3DE_72C1_4feb_AC39_D28334811797</td>\n",
       "      <td>class</td>\n",
       "      <td>NaN</td>\n",
       "      <td>NaN</td>\n",
       "      <td>NaN</td>\n",
       "      <td>S5000F_Data_model_75BR</td>\n",
       "    </tr>\n",
       "    <tr>\n",
       "      <th>20</th>\n",
       "      <td>PlannedItemUpgrade</td>\n",
       "      <td>pliu</td>\n",
       "      <td>PlannedItemUpgrade is a &lt;&lt;class&gt;&gt; that defines...</td>\n",
       "      <td>EAID_82C9C43C_8E27_4c87_AE94_29E949B1C56C</td>\n",
       "      <td>class</td>\n",
       "      <td>NaN</td>\n",
       "      <td>NaN</td>\n",
       "      <td>NaN</td>\n",
       "      <td>S5000F_Data_model_75BR</td>\n",
       "    </tr>\n",
       "  </tbody>\n",
       "</table>\n",
       "</div>"
      ],
      "text/plain": [
       "                        name xmlName  \\\n",
       "0             TechnicalOrder      to   \n",
       "3            ServiceBulletin  servBu   \n",
       "9             DownTimePeriod   dwnTP   \n",
       "14  PlannedUpgradeTimescales    plut   \n",
       "20        PlannedItemUpgrade    pliu   \n",
       "\n",
       "                                        documentation  \\\n",
       "0   TechnicalOrder is a WorkItem raised by Mainten...   \n",
       "3   ServiceBulletin is a class representing a set ...   \n",
       "9   DownTimePeriod is a class representing a plann...   \n",
       "14  PlannedUpgradeTimescales is a class that defin...   \n",
       "20  PlannedItemUpgrade is a <<class>> that defines...   \n",
       "\n",
       "                                   identifier stereotype lower upper class  \\\n",
       "0   EAID_254534EB_5372_4bfd_9577_6CB629060F89      class   NaN   NaN   NaN   \n",
       "3   EAID_820B91E7_C617_4565_B8EE_4DF14992D503      class   NaN   NaN   NaN   \n",
       "9   EAID_11AAC606_5331_41d2_927D_A1B9031FAC61      class   NaN   NaN   NaN   \n",
       "14  EAID_885CB3DE_72C1_4feb_AC39_D28334811797      class   NaN   NaN   NaN   \n",
       "20  EAID_82C9C43C_8E27_4c87_AE94_29E949B1C56C      class   NaN   NaN   NaN   \n",
       "\n",
       "                    source  \n",
       "0   S5000F_Data_model_75BR  \n",
       "3   S5000F_Data_model_75BR  \n",
       "9   S5000F_Data_model_75BR  \n",
       "14  S5000F_Data_model_75BR  \n",
       "20  S5000F_Data_model_75BR  "
      ]
     },
     "execution_count": 27,
     "metadata": {},
     "output_type": "execute_result"
    }
   ],
   "source": [
    "# get number of classes to be processed\n",
    "s5f_class = s5f_class_attrib[s5f_class_attrib['stereotype'] == 'class']\n",
    "count = s5f_class.groupby(['source']).size()\n",
    "print(f\"There are \\033[1m{count.iloc[0]} classes\\033[0m in \\033[1m{count.index[0]}\\n\\n\\033[0m.\")\n",
    "s5f_class.head()"
   ]
  },
  {
   "cell_type": "markdown",
   "id": "0c298fa9-851c-42c9-bfab-72be4eb95727",
   "metadata": {},
   "source": [
    "**Filter XMI dataframe with dataframe['stereotype'] == 'class'**\n",
    "\n",
    "| Name | XSD Path                        | Dataframe   | Remark |\n",
    "|-------|------------------------------------|---------------|----------|\n",
    "| name  | /xsd:schema/xsd:complexType/@name | s5f_class_attrib['name'] | The initial uppercase letter should be converted to lowercase |\n",
    "| documentation   | /xsd:schema/xsd:complexType/xsd:annotation/xsd:documentation | s5f_class_attrib['documentation'] | replace '<<' by '['  and '>>' by ']' |\n",
    "| source    | /xsd:schema/xsd:complexType/xsd:annotation/xsd:appinfo/source   | s5f_class_attrib['source'] | if S5000F_Data_model_75BR: \"S5000F:name\"              if SX002D_Data_model: \"SX001G:name\" |"
   ]
  },
  {
   "cell_type": "markdown",
   "id": "afa235ef-e2fb-4af6-b33c-30a754c1f858",
   "metadata": {},
   "source": [
    "#### Attributes in XMI dataframe to XSD"
   ]
  },
  {
   "cell_type": "code",
   "execution_count": 28,
   "id": "26a954ce-ba10-4f94-af53-5ccc56edf007",
   "metadata": {},
   "outputs": [
    {
     "name": "stdout",
     "output_type": "stream",
     "text": [
      "There are \u001b[1m571 classes\u001b[0m in \u001b[1mS5000F_Data_model_75BR\n",
      "\n",
      "\u001b[0m.\n"
     ]
    },
    {
     "data": {
      "text/html": [
       "<div>\n",
       "<style scoped>\n",
       "    .dataframe tbody tr th:only-of-type {\n",
       "        vertical-align: middle;\n",
       "    }\n",
       "\n",
       "    .dataframe tbody tr th {\n",
       "        vertical-align: top;\n",
       "    }\n",
       "\n",
       "    .dataframe thead th {\n",
       "        text-align: right;\n",
       "    }\n",
       "</style>\n",
       "<table border=\"1\" class=\"dataframe\">\n",
       "  <thead>\n",
       "    <tr style=\"text-align: right;\">\n",
       "      <th></th>\n",
       "      <th>name</th>\n",
       "      <th>xmlName</th>\n",
       "      <th>documentation</th>\n",
       "      <th>identifier</th>\n",
       "      <th>stereotype</th>\n",
       "      <th>lower</th>\n",
       "      <th>upper</th>\n",
       "      <th>class</th>\n",
       "      <th>source</th>\n",
       "    </tr>\n",
       "  </thead>\n",
       "  <tbody>\n",
       "    <tr>\n",
       "      <th>1</th>\n",
       "      <td>technicalOrderPriority</td>\n",
       "      <td>toPri</td>\n",
       "      <td>technicalOrderPriority is a classification tha...</td>\n",
       "      <td>EAID_326F0402_9153_427c_8B4A_34DF6D4949FB</td>\n",
       "      <td>characteristic</td>\n",
       "      <td>1</td>\n",
       "      <td>1</td>\n",
       "      <td>TechnicalOrder</td>\n",
       "      <td>S5000F_Data_model_75BR</td>\n",
       "    </tr>\n",
       "    <tr>\n",
       "      <th>2</th>\n",
       "      <td>technicalOrderRequiredImplementationDate</td>\n",
       "      <td>implDate</td>\n",
       "      <td>technicalOrderRequiredImplementationDate is th...</td>\n",
       "      <td>EAID_AC91BE7E_AF01_40b4_9A9D_50981B4915B0</td>\n",
       "      <td>characteristic</td>\n",
       "      <td>0</td>\n",
       "      <td>1</td>\n",
       "      <td>TechnicalOrder</td>\n",
       "      <td>S5000F_Data_model_75BR</td>\n",
       "    </tr>\n",
       "    <tr>\n",
       "      <th>4</th>\n",
       "      <td>serviceBulletinType</td>\n",
       "      <td>sbType</td>\n",
       "      <td>serviceBulletinType is classification that all...</td>\n",
       "      <td>EAID_1163BE3D_8CD8_44e5_A326_7243B777FFE4</td>\n",
       "      <td>characteristic</td>\n",
       "      <td>1</td>\n",
       "      <td>1</td>\n",
       "      <td>ServiceBulletin</td>\n",
       "      <td>S5000F_Data_model_75BR</td>\n",
       "    </tr>\n",
       "    <tr>\n",
       "      <th>5</th>\n",
       "      <td>serviceBulletinPriority</td>\n",
       "      <td>priority</td>\n",
       "      <td>serviceBulletinPriority is a classification th...</td>\n",
       "      <td>EAID_0A77D97C_5556_40f5_95DE_B77D1064DFE7</td>\n",
       "      <td>characteristic</td>\n",
       "      <td>1</td>\n",
       "      <td>1</td>\n",
       "      <td>ServiceBulletin</td>\n",
       "      <td>S5000F_Data_model_75BR</td>\n",
       "    </tr>\n",
       "    <tr>\n",
       "      <th>6</th>\n",
       "      <td>serviceBulletinEmbodimentLimit</td>\n",
       "      <td>limit</td>\n",
       "      <td>serviceBulletinEmbodimentLimit is a Date by wh...</td>\n",
       "      <td>EAID_52BDEB3E_564E_4cd9_9EC4_8710A661BD64</td>\n",
       "      <td>characteristic</td>\n",
       "      <td>0</td>\n",
       "      <td>1</td>\n",
       "      <td>ServiceBulletin</td>\n",
       "      <td>S5000F_Data_model_75BR</td>\n",
       "    </tr>\n",
       "  </tbody>\n",
       "</table>\n",
       "</div>"
      ],
      "text/plain": [
       "                                       name   xmlName  \\\n",
       "1                    technicalOrderPriority     toPri   \n",
       "2  technicalOrderRequiredImplementationDate  implDate   \n",
       "4                       serviceBulletinType    sbType   \n",
       "5                   serviceBulletinPriority  priority   \n",
       "6            serviceBulletinEmbodimentLimit     limit   \n",
       "\n",
       "                                       documentation  \\\n",
       "1  technicalOrderPriority is a classification tha...   \n",
       "2  technicalOrderRequiredImplementationDate is th...   \n",
       "4  serviceBulletinType is classification that all...   \n",
       "5  serviceBulletinPriority is a classification th...   \n",
       "6  serviceBulletinEmbodimentLimit is a Date by wh...   \n",
       "\n",
       "                                  identifier      stereotype lower upper  \\\n",
       "1  EAID_326F0402_9153_427c_8B4A_34DF6D4949FB  characteristic     1     1   \n",
       "2  EAID_AC91BE7E_AF01_40b4_9A9D_50981B4915B0  characteristic     0     1   \n",
       "4  EAID_1163BE3D_8CD8_44e5_A326_7243B777FFE4  characteristic     1     1   \n",
       "5  EAID_0A77D97C_5556_40f5_95DE_B77D1064DFE7  characteristic     1     1   \n",
       "6  EAID_52BDEB3E_564E_4cd9_9EC4_8710A661BD64  characteristic     0     1   \n",
       "\n",
       "             class                  source  \n",
       "1   TechnicalOrder  S5000F_Data_model_75BR  \n",
       "2   TechnicalOrder  S5000F_Data_model_75BR  \n",
       "4  ServiceBulletin  S5000F_Data_model_75BR  \n",
       "5  ServiceBulletin  S5000F_Data_model_75BR  \n",
       "6  ServiceBulletin  S5000F_Data_model_75BR  "
      ]
     },
     "execution_count": 28,
     "metadata": {},
     "output_type": "execute_result"
    }
   ],
   "source": [
    "# get number of atttributes to be processed\n",
    "s5f_attribute = s5f_class_attrib[s5f_class_attrib['stereotype'] == 'characteristic']\n",
    "count = s5f_attribute.groupby(['source']).size()\n",
    "print(f\"There are \\033[1m{count.iloc[0]} classes\\033[0m in \\033[1m{count.index[0]}\\n\\n\\033[0m.\")\n",
    "s5f_attribute.head()"
   ]
  },
  {
   "cell_type": "raw",
   "id": "7a821acd-de75-4e2e-a2cd-aa18d31da400",
   "metadata": {},
   "source": []
  },
  {
   "cell_type": "code",
   "execution_count": null,
   "id": "07f5006b-56b4-45e4-9575-e9d93957be50",
   "metadata": {},
   "outputs": [],
   "source": []
  },
  {
   "cell_type": "markdown",
   "id": "71944eb5-52df-42bb-a3f1-d0e911c818e2",
   "metadata": {},
   "source": [
    "# TO BE REVIEWED"
   ]
  },
  {
   "cell_type": "raw",
   "id": "a5b58199-81b5-4018-ae90-0bc45b3bfe85",
   "metadata": {},
   "source": [
    "Collect XMI data in S5F and CDM\n",
    "Compare with XSD complexType"
   ]
  },
  {
   "cell_type": "markdown",
   "id": "88672a54-c908-46d3-ab9c-3603a48924e8",
   "metadata": {},
   "source": [
    "### Collect XMI data"
   ]
  },
  {
   "cell_type": "code",
   "execution_count": 29,
   "id": "5575d38d-3abc-47fc-99d0-8bf5d0250aeb",
   "metadata": {},
   "outputs": [],
   "source": [
    "def xmi_classes(*files):\n",
    "    \"\"\"\n",
    "    Function which collects following information about classes and attributes from XMI files downloaded from Enterprise Architect:\n",
    "        name              /xmi:XMI/*//element[@xmi:type='uml:Class']/@name\n",
    "        identifier        /xmi:XMI/*//element[@xmi:type='uml:Class']/@xmi:idref\n",
    "        documentation     /xmi:XMI/*//element[@xmi:type='uml:Class']/properties/@documentation\n",
    "        xmlname           /xmi:XMI/*//element[@xmi:type='uml:Class']/tags/tag[@name='xmlName']/@value\n",
    "        stereotype        /xmi:XMI/*//element[@xmi:type='uml:Class']/properties/@stereotype\n",
    "        isabstract        /xmi:XMI/*//element[@xmi:type='uml:Class']/properties/@isAbstract\n",
    "        \n",
    "    Input:         list of XMI file to be analyzed\n",
    "    Output:        Dataframe df(name, identifier, xmlname, stereotype, isAbstract, documentation, source)\n",
    "    \"\"\"\n",
    "    if not files:\n",
    "        raise ValueError(\"At least one file must be provided.\")\n",
    "    \n",
    "    rows = []\n",
    "    for file in files:\n",
    "        source = Path(file.name).stem\n",
    "        ns = get_namespaces(file)  # Ensure get_namespaces is implemented correctly\n",
    "        xmi = '{' + ns['xmi'] + '}'\n",
    "\n",
    "        context = etree.iterparse(file, events=('end',), tag=('element',))\n",
    "        type = xmi + 'type'\n",
    "\n",
    "\n",
    "        for event, elem in context:                               # Iterate over element closing tags\n",
    "            if elem.attrib.get(type) == 'uml:Class':\n",
    "                # collect classes information\n",
    "                name = elem.attrib.get('name')\n",
    "                identifier = elem.attrib.get(f'{xmi}idref')\n",
    "\n",
    "                for e in elem.xpath('./properties'):\n",
    "                    documentation = e.get('documentation')\n",
    "                    stereotype = e.get('stereotype')\n",
    "                    isabstract = e.get('isAbstract')\n",
    "\n",
    "                xmlNames = elem.xpath(\"./tags/tag[@name='xmlName']/@value\",namespaces = ns)\n",
    "                xmlname = xmlNames[0] if xmlNames else ''\n",
    "\n",
    "                rows.append({'Name': name, 'xmlName': xmlname, 'Identifier': identifier, 'Stereotype': stereotype, \n",
    "                             'IsAbstract': isabstract,'Documentation': documentation,'source':source})\n",
    "                elem.clear()\n",
    "\n",
    "        df = pd.DataFrame(rows,columns=['Name','xmlName','Stereotype','IsAbstract','Identifier','source', 'Documentation'])\n",
    "    return df"
   ]
  },
  {
   "cell_type": "code",
   "execution_count": 30,
   "id": "317cf060-d143-4b45-95ba-4e4e41ca06fd",
   "metadata": {
    "jupyter": {
     "source_hidden": true
    }
   },
   "outputs": [],
   "source": [
    "#xmi_classes = xmi_classes(s5f,cdm)\n",
    "xmi_classes = xmi_classes(s5f)"
   ]
  },
  {
   "cell_type": "code",
   "execution_count": 31,
   "id": "697b013b-e9ed-40a7-a34d-e1d5ef54e6fd",
   "metadata": {
    "jupyter": {
     "source_hidden": true
    }
   },
   "outputs": [
    {
     "data": {
      "text/html": [
       "<div>\n",
       "<style scoped>\n",
       "    .dataframe tbody tr th:only-of-type {\n",
       "        vertical-align: middle;\n",
       "    }\n",
       "\n",
       "    .dataframe tbody tr th {\n",
       "        vertical-align: top;\n",
       "    }\n",
       "\n",
       "    .dataframe thead th {\n",
       "        text-align: right;\n",
       "    }\n",
       "</style>\n",
       "<table border=\"1\" class=\"dataframe\">\n",
       "  <thead>\n",
       "    <tr style=\"text-align: right;\">\n",
       "      <th></th>\n",
       "      <th>Name</th>\n",
       "      <th>xmlName</th>\n",
       "      <th>Stereotype</th>\n",
       "      <th>IsAbstract</th>\n",
       "      <th>Identifier</th>\n",
       "      <th>source</th>\n",
       "      <th>Documentation</th>\n",
       "    </tr>\n",
       "  </thead>\n",
       "  <tbody>\n",
       "    <tr>\n",
       "      <th>0</th>\n",
       "      <td>TechnicalOrder</td>\n",
       "      <td>to</td>\n",
       "      <td>class</td>\n",
       "      <td>false</td>\n",
       "      <td>EAID_254534EB_5372_4bfd_9577_6CB629060F89</td>\n",
       "      <td>S5000F_Data_model_75BR</td>\n",
       "      <td>TechnicalOrder is a WorkItem raised by Mainten...</td>\n",
       "    </tr>\n",
       "    <tr>\n",
       "      <th>1</th>\n",
       "      <td>ServiceBulletin</td>\n",
       "      <td>servBu</td>\n",
       "      <td>class</td>\n",
       "      <td>false</td>\n",
       "      <td>EAID_820B91E7_C617_4565_B8EE_4DF14992D503</td>\n",
       "      <td>S5000F_Data_model_75BR</td>\n",
       "      <td>ServiceBulletin is a class representing a set ...</td>\n",
       "    </tr>\n",
       "    <tr>\n",
       "      <th>2</th>\n",
       "      <td>PlannedPartInstallationLocation</td>\n",
       "      <td>plpil</td>\n",
       "      <td>relationship</td>\n",
       "      <td>false</td>\n",
       "      <td>EAID_2B2550AE_D774_4abb_8B1D_1FD62BFD0683</td>\n",
       "      <td>S5000F_Data_model_75BR</td>\n",
       "      <td>PlannedPartInstallationLocation is a &lt;&lt;relatio...</td>\n",
       "    </tr>\n",
       "    <tr>\n",
       "      <th>3</th>\n",
       "      <td>DownTimePeriod</td>\n",
       "      <td>dwnTP</td>\n",
       "      <td>class</td>\n",
       "      <td>false</td>\n",
       "      <td>EAID_11AAC606_5331_41d2_927D_A1B9031FAC61</td>\n",
       "      <td>S5000F_Data_model_75BR</td>\n",
       "      <td>DownTimePeriod is a class representing a plann...</td>\n",
       "    </tr>\n",
       "    <tr>\n",
       "      <th>4</th>\n",
       "      <td>PlannedUpgradeTimescales</td>\n",
       "      <td>plut</td>\n",
       "      <td>class</td>\n",
       "      <td>false</td>\n",
       "      <td>EAID_885CB3DE_72C1_4feb_AC39_D28334811797</td>\n",
       "      <td>S5000F_Data_model_75BR</td>\n",
       "      <td>PlannedUpgradeTimescales is a class that defin...</td>\n",
       "    </tr>\n",
       "  </tbody>\n",
       "</table>\n",
       "</div>"
      ],
      "text/plain": [
       "                              Name xmlName    Stereotype IsAbstract  \\\n",
       "0                   TechnicalOrder      to         class      false   \n",
       "1                  ServiceBulletin  servBu         class      false   \n",
       "2  PlannedPartInstallationLocation   plpil  relationship      false   \n",
       "3                   DownTimePeriod   dwnTP         class      false   \n",
       "4         PlannedUpgradeTimescales    plut         class      false   \n",
       "\n",
       "                                  Identifier                  source  \\\n",
       "0  EAID_254534EB_5372_4bfd_9577_6CB629060F89  S5000F_Data_model_75BR   \n",
       "1  EAID_820B91E7_C617_4565_B8EE_4DF14992D503  S5000F_Data_model_75BR   \n",
       "2  EAID_2B2550AE_D774_4abb_8B1D_1FD62BFD0683  S5000F_Data_model_75BR   \n",
       "3  EAID_11AAC606_5331_41d2_927D_A1B9031FAC61  S5000F_Data_model_75BR   \n",
       "4  EAID_885CB3DE_72C1_4feb_AC39_D28334811797  S5000F_Data_model_75BR   \n",
       "\n",
       "                                       Documentation  \n",
       "0  TechnicalOrder is a WorkItem raised by Mainten...  \n",
       "1  ServiceBulletin is a class representing a set ...  \n",
       "2  PlannedPartInstallationLocation is a <<relatio...  \n",
       "3  DownTimePeriod is a class representing a plann...  \n",
       "4  PlannedUpgradeTimescales is a class that defin...  "
      ]
     },
     "execution_count": 31,
     "metadata": {},
     "output_type": "execute_result"
    }
   ],
   "source": [
    "xmi_classes.head()"
   ]
  },
  {
   "cell_type": "markdown",
   "id": "581b11b0-5227-4d54-b46c-21b12f12b8ab",
   "metadata": {},
   "source": [
    "### Get XSD S5000F data"
   ]
  },
  {
   "cell_type": "code",
   "execution_count": 32,
   "id": "e26ed2f4-eaf1-4d3c-a222-0b03b1125e44",
   "metadata": {
    "jupyter": {
     "source_hidden": true
    }
   },
   "outputs": [],
   "source": [
    "def xsd_complexType(xml_file, start_comment, end_comment):\n",
    "    \"\"\"\n",
    "    Extracts the first-level children <complexType> of the root element between specific comments \n",
    "    in an XML file and returns their 'name' attributes in a DataFrame.\n",
    "    \n",
    "    Parameters:\n",
    "        xml_file (str):      Path to the XML file.\n",
    "        start_comment (str): Text of the starting comment.\n",
    "        end_comment (str):   Text of the ending comment.\n",
    "    \n",
    "    Returns:\n",
    "        df (pd.DataFrame):    A DataFrame containing the 'name' attributes of the matching elements.\n",
    "    \"\"\"\n",
    "    # Parse the XML file and get the root\n",
    "    tree = etree.parse(xml_file)\n",
    "    root = tree.getroot()\n",
    "\n",
    "    # Get xsd namespace prefix from the root\n",
    "    xsd_ns = root.nsmap.get(\"xsd\", \"http://www.w3.org/2001/XMLSchema\")\n",
    "\n",
    "    # Variables to track parsing state\n",
    "    inside_section = False\n",
    "    first_level_children = []\n",
    "\n",
    "    context = etree.iterparse(xml_file, events=(\"end\", \"comment\"), tag=[f\"{{{xsd_ns}}}complexType\"])\n",
    "    for event, elem in context:\n",
    "        if event == \"comment\":                                           # Check for the start or end comment\n",
    "            if elem.text.strip() == start_comment:        \n",
    "                inside_section = True\n",
    "            elif elem.text.strip() == end_comment:\n",
    "                inside_section = False\n",
    "\n",
    "        elif event == \"end\" and inside_section:                          # triggered on closing element complexType\n",
    "            if elem.getparent().tag == root.tag:                         # check that current element is a direct child of root\n",
    "                first_level_children.append(elem.attrib.get('name'))\n",
    "                elem.clear()                                             # Clear to save memory for large files\n",
    "\n",
    "    # Create and return a DataFrame\n",
    "    df = pd.DataFrame(first_level_children, columns=['class_name'])\n",
    "    return df"
   ]
  },
  {
   "cell_type": "code",
   "execution_count": 33,
   "id": "0a400934-ad7c-40ef-a0d7-a1bfddd87ee2",
   "metadata": {
    "jupyter": {
     "source_hidden": true
    }
   },
   "outputs": [
    {
     "name": "stdout",
     "output_type": "stream",
     "text": [
      "\u001b[1mThere are 619 classes in XSD - UML MESSAGE.\u001b[0m\n"
     ]
    },
    {
     "data": {
      "text/html": [
       "<div>\n",
       "<style scoped>\n",
       "    .dataframe tbody tr th:only-of-type {\n",
       "        vertical-align: middle;\n",
       "    }\n",
       "\n",
       "    .dataframe tbody tr th {\n",
       "        vertical-align: top;\n",
       "    }\n",
       "\n",
       "    .dataframe thead th {\n",
       "        text-align: right;\n",
       "    }\n",
       "</style>\n",
       "<table border=\"1\" class=\"dataframe\">\n",
       "  <thead>\n",
       "    <tr style=\"text-align: right;\">\n",
       "      <th></th>\n",
       "      <th>Name</th>\n",
       "    </tr>\n",
       "  </thead>\n",
       "  <tbody>\n",
       "    <tr>\n",
       "      <th>106</th>\n",
       "      <td>Accelerometer</td>\n",
       "    </tr>\n",
       "    <tr>\n",
       "      <th>107</th>\n",
       "      <td>Action</td>\n",
       "    </tr>\n",
       "    <tr>\n",
       "      <th>108</th>\n",
       "      <td>AggregatedElement</td>\n",
       "    </tr>\n",
       "    <tr>\n",
       "      <th>109</th>\n",
       "      <td>AggregatedElementRevision</td>\n",
       "    </tr>\n",
       "    <tr>\n",
       "      <th>110</th>\n",
       "      <td>AllocatedTaskLocation</td>\n",
       "    </tr>\n",
       "  </tbody>\n",
       "</table>\n",
       "</div>"
      ],
      "text/plain": [
       "                          Name\n",
       "106              Accelerometer\n",
       "107                     Action\n",
       "108          AggregatedElement\n",
       "109  AggregatedElementRevision\n",
       "110      AllocatedTaskLocation"
      ]
     },
     "execution_count": 33,
     "metadata": {},
     "output_type": "execute_result"
    }
   ],
   "source": [
    "# 1 - Collect first level complexType between UML MESSAGE and UML ATTRIBUTES.\n",
    "start_comment = '========================================== UML MESSAGE ============================================'\n",
    "end_comment = '========================================== UML ATTRIBUTES =========================================='\n",
    "xsd_classes = xsd_complexType(isfDataset, start_comment, end_comment)\n",
    "\n",
    "# 2 - Set first letter of name as capital letter\n",
    "xsd_classes['class_name'] = xsd_classes['class_name'].str[0].str.upper()+xsd_classes['class_name'].str[1:]\n",
    "\n",
    "# 3 - Rename column 'class_name' to 'Name' for preparing comparaison\n",
    "xsd_classes = xsd_classes.rename(columns={'class_name':'Name'})\n",
    "\n",
    "# 4 - Sort Name by alphabetical order\n",
    "xsd_classes.sort_values(by=['Name'],inplace=True)\n",
    "\n",
    "# 4 - Display result\n",
    "print(f\"\\033[1mThere are {len(xsd_classes)} classes in XSD - UML MESSAGE.\\033[0m\")\n",
    "xsd_classes.head()"
   ]
  },
  {
   "cell_type": "markdown",
   "id": "519494e8-a7d4-49f9-9cfb-25f969ba2f59",
   "metadata": {},
   "source": [
    "### Compare XMI vs XSD"
   ]
  },
  {
   "cell_type": "code",
   "execution_count": 34,
   "id": "a6a26251-cb48-4947-94d8-d607fdf2cd25",
   "metadata": {},
   "outputs": [],
   "source": [
    "# Store result in an excel file\n",
    "with pd.ExcelWriter(\"output.xlsx\") as writer:\n",
    "    xmi_classes.to_excel(writer, sheet_name=\"XMI Classes\", index=False)\n",
    "    xsd_classes.to_excel(writer, sheet_name=\"XSD Classes\", index=False)"
   ]
  },
  {
   "cell_type": "raw",
   "id": "6b2b7dce-cb09-4ef8-a373-673691c36697",
   "metadata": {},
   "source": [
    "In s5000f XMI but not in XSD\n",
    "54392           AllowedProductConfigurationPhysicalData           stereotype attributegroup\n",
    "54359           CalibrationMeasurement\n",
    "                CostBreakdownRelationship                         stereotype relationship\n",
    "                CostItemRelationship\n",
    "                DataRequest\n",
    "54251           EquipmentStatus\n",
    "54269           HardwarePartAsDesignedCommerceData\n",
    "                InfrastructureCompliance\n",
    "54426           ItemDemilitarizationData\n",
    "54304           MaintenanceActivityPlan\n",
    "54322           MaintenanceActivityRecord\n",
    "54409           OpeningTimes                          \n",
    "54288           OperationalModeStatus\n",
    "54376           OperationalTime\n",
    "54342           PriceBreakData\n",
    "                ProjectSpecificExchange                            stereotype exchange in S5000F\n",
    "                ProvideLocationInformation                         stereotype exchange in S5000F\n",
    "                ReportFacilities                                   stereotype exchange in S5000F\n",
    "                ServiceRelationship\n",
    "                WorkBreakdownRelationship\n",
    "                WorkItemRelationship\n",
    "\n",
    "As UML ATTRIBUTE GROUPS are located between line 54249 - 54642, 11 elements will be in XSD Attribute Group"
   ]
  },
  {
   "cell_type": "markdown",
   "id": "b7b3e009-018c-43cb-9c92-63b69dce4da8",
   "metadata": {},
   "source": [
    "## Store XSD information"
   ]
  },
  {
   "cell_type": "code",
   "execution_count": 35,
   "id": "54f007b3-bca4-4e82-bb68-1f4aa426b9ea",
   "metadata": {},
   "outputs": [
    {
     "ename": "NameError",
     "evalue": "name 'uml_message_df' is not defined",
     "output_type": "error",
     "traceback": [
      "\u001b[1;31m---------------------------------------------------------------------------\u001b[0m",
      "\u001b[1;31mNameError\u001b[0m                                 Traceback (most recent call last)",
      "Cell \u001b[1;32mIn[35], line 2\u001b[0m\n\u001b[0;32m      1\u001b[0m \u001b[38;5;28;01mwith\u001b[39;00m pd\u001b[38;5;241m.\u001b[39mExcelWriter(\u001b[38;5;124m\"\u001b[39m\u001b[38;5;124mXSD_complexType.xlsx\u001b[39m\u001b[38;5;124m\"\u001b[39m) \u001b[38;5;28;01mas\u001b[39;00m writer:\n\u001b[1;32m----> 2\u001b[0m     uml_message_df\u001b[38;5;241m.\u001b[39mto_excel(writer, sheet_name\u001b[38;5;241m=\u001b[39m\u001b[38;5;124m\"\u001b[39m\u001b[38;5;124mMessages\u001b[39m\u001b[38;5;124m\"\u001b[39m, index\u001b[38;5;241m=\u001b[39m\u001b[38;5;28;01mFalse\u001b[39;00m)\n\u001b[0;32m      3\u001b[0m     uml_attributes_df\u001b[38;5;241m.\u001b[39mto_excel(writer, sheet_name\u001b[38;5;241m=\u001b[39m\u001b[38;5;124m\"\u001b[39m\u001b[38;5;124mAttributes\u001b[39m\u001b[38;5;124m\"\u001b[39m, index\u001b[38;5;241m=\u001b[39m\u001b[38;5;28;01mFalse\u001b[39;00m)\n\u001b[0;32m      4\u001b[0m     uml_attribute_group_df\u001b[38;5;241m.\u001b[39mto_excel(writer, sheet_name\u001b[38;5;241m=\u001b[39m\u001b[38;5;124m\"\u001b[39m\u001b[38;5;124mAttribute Groups\u001b[39m\u001b[38;5;124m\"\u001b[39m, index\u001b[38;5;241m=\u001b[39m\u001b[38;5;28;01mFalse\u001b[39;00m)\n",
      "\u001b[1;31mNameError\u001b[0m: name 'uml_message_df' is not defined"
     ]
    }
   ],
   "source": [
    "with pd.ExcelWriter(\"XSD_complexType.xlsx\") as writer:\n",
    "    uml_message_df.to_excel(writer, sheet_name=\"Messages\", index=False)\n",
    "    uml_attributes_df.to_excel(writer, sheet_name=\"Attributes\", index=False)\n",
    "    uml_attribute_group_df.to_excel(writer, sheet_name=\"Attribute Groups\", index=False)\n",
    "    uml_class_reference_df.to_excel(writer, sheet_name=\"Class Reference\", index=False)\n",
    "    uml_select_interface_df.to_excel(writer, sheet_name=\"Select Interface\", index=False)\n",
    "    uml_extend_interface_df.to_excel(writer, sheet_name=\"Extend Interface\", index=False)\n",
    "    "
   ]
  },
  {
   "cell_type": "markdown",
   "id": "b8d39ef4-891d-4513-8474-ce74ed89a732",
   "metadata": {},
   "source": [
    "### Collect XMI data"
   ]
  },
  {
   "cell_type": "code",
   "execution_count": null,
   "id": "097f2362-95b7-48dc-8bf8-78633eb0cea0",
   "metadata": {},
   "outputs": [],
   "source": [
    "def elements(*files):\n",
    "    \"\"\"\n",
    "    In xmi file:\n",
    "      <thecustomprofile:xmlName base_Class=\"EAID_DC7CEC70_4710_41d9_B77E_55BD4AEFEB3A\" xmlName=\"toemb\"/>\n",
    "      <UML_Profile_003-00:relationship base_Class=\"EAID_DC7CEC70_4710_41d9_B77E_55BD4AEFEB3A\"/>\n",
    "\t  <thecustomprofile:uidPattern base_Class=\"EAID_DC7CEC70_4710_41d9_B77E_55BD4AEFEB3A\" uidPattern=\"toemb\"/>\n",
    "\n",
    "      <element xmi:idref=\"EAID_DC7CEC70_4710_41d9_B77E_55BD4AEFEB3A\" xmi:type=\"uml:Class\" name=\"TechnicalOrderEmbodied\" scope=\"public\">\n",
    "\n",
    "    collect\n",
    "        identifier:    /xmi:XMI/uml:Model/UML_Profile_003-00:relationship/@base_Class[0]\n",
    "        name:          /xmi:XMI/xmi:Extension/elements/element[@xmi:idref='EAID_DC7CEC70_4710_41d9_B77E_55BD4AEFEB3A']/@name\n",
    "        xml_name:      /xmi:XMI/uml:Model/thecustomprofile:xmlName[@base_Class='EAID_DC7CEC70_4710_41d9_B77E_55BD4AEFEB3A']/@xmlName\n",
    "        uid_pattern:   /xmi:XMI/uml:Model/thecustomprofile:uidPattern[@base_Class='EAID_DC7CEC70_4710_41d9_B77E_55BD4AEFEB3A']/@uidPattern\n",
    "\n",
    "    Input:         list of XMI file to be analyzed\n",
    "    Output:        dataframe (identifier, name, xml_name, uid_pattern)\n",
    "    \"\"\"\n",
    "    if not files:\n",
    "        raise ValueError(\"At least one file must be provided.\")\n",
    "\n",
    "    rows = []\n",
    "    for file in files:            \n",
    "        tree = etree.parse(file)\n",
    "        root = tree.getroot()\n",
    "        ns = get_namespaces(file)\n",
    "        source = Path(file.name).stem\n",
    "\n",
    "        ids = tree.xpath(\"/xmi:XMI/uml:Model/thecustomprofile:uidPattern/@base_Class\", namespaces=ns)\n",
    "        for id in ids:\n",
    "            name = root.xpath(f\"/xmi:XMI/xmi:Extension/elements/element[@xmi:idref='{id}'][@xmi:type='uml:Class']/@name\",namespaces=ns)[0]\n",
    "            uid_pattern = root.xpath(f\"/xmi:XMI/uml:Model/thecustomprofile:uidPattern[@base_Class='{id}']/@uidPattern\",namespaces=ns)[0]\n",
    "            xml_name = root.xpath(f\"/xmi:XMI/uml:Model/thecustomprofile:xmlName[@base_Class='{id}']/@xmlName\",namespaces=ns)[0]\n",
    "            rows.append({'Identifier':id,'Name': name, 'xmlName': xml_name,'uidPattern': uid_pattern,'source':source})\n",
    "        \n",
    "        df = pd.DataFrame(rows,columns=['Identifier','Name','xmlName','uidPattern','source'])\n",
    "        df.sort_values(by=[\"Name\"],inplace=True)\n",
    "  \n",
    "    return df"
   ]
  },
  {
   "cell_type": "code",
   "execution_count": null,
   "id": "84775061-ee17-44bd-ab9b-d66c99a54c01",
   "metadata": {},
   "outputs": [],
   "source": [
    "xmi_class_references = elements(s5f,cdm)\n",
    "xmi_class_references.to_excel(\"xmi_class_references.xlsx\")\n",
    "\n",
    "# Display result\n",
    "print(f\"\\033[1mxmi_class_references: {len(xmi_class_references)} rows 'UML CLASS REFERENCE UTILITY CLASSES' extracted from XMI (s5f,cdm).\\033[0m\")\n",
    "#print(list(xmi_class_references['Name']))"
   ]
  },
  {
   "cell_type": "markdown",
   "id": "9a0d5cf8-bc2c-4fbc-99ce-c7cc87c5dd7e",
   "metadata": {},
   "source": [
    "### Gathers information of classes occuring in both XMI files"
   ]
  },
  {
   "cell_type": "code",
   "execution_count": null,
   "id": "46ba4565-06db-4412-9202-0a33e36e0e53",
   "metadata": {
    "jupyter": {
     "source_hidden": true
    }
   },
   "outputs": [],
   "source": [
    "df = elements(s5f,cdm)\n",
    "\n",
    "# Identify names that appear two times\n",
    "duplicate_names = df[\"Name\"].value_counts()\n",
    "duplicate_names = duplicate_names[duplicate_names == 2].index  # Keep only duplicates\n",
    "\n",
    "# Separate duplicates and non-duplicates\n",
    "df_duplicates = df[df[\"Name\"].isin(duplicate_names)]\n",
    "df_unique = df[~df[\"Name\"].isin(duplicate_names)]\n",
    "\n",
    "# Merge duplicates by concatenating values\n",
    "df_merged = df_duplicates.groupby(\"Name\", as_index=False).agg({\n",
    "    \"Identifier\": \", \".join,  \n",
    "    \"uidPattern\": \", \".join,\n",
    "    \"source\": \", \".join,\n",
    "    \"xmlName\": \", \".join\n",
    "})\n",
    "\n",
    "# Combine merged duplicates with unique rows\n",
    "xmi_class_references = pd.concat([df_unique, df_merged], ignore_index=True)\n",
    "\n",
    "# Display result\n",
    "print(f\"\\033[1mThere are {len(xmi_class_references)} unique classes REFERENCE UTILITY CLASSES identified in XMI files.\\033[0m\")\n",
    "print(f\"\\033[1mAmong them {len(df_merged)} unique classes REFERENCE UTILITY CLASSES occurs in both XMI files:\\033[0m\")\n",
    "#print(list(df_final['Name']))\n",
    "\n",
    "# Store result in Excel file\n",
    "xmi_class_references.to_excel(\"xmi_class_references.xlsx\")"
   ]
  },
  {
   "cell_type": "markdown",
   "id": "26210e88-fd73-40d3-9161-228cbfd867dd",
   "metadata": {},
   "source": [
    "### Compare XSD versus XMI data"
   ]
  },
  {
   "cell_type": "markdown",
   "id": "624ebd9a-556f-4a9f-8522-8a03d4c87485",
   "metadata": {},
   "source": [
    "*Identify <b>50 classes</b> in xsd_class_references['class_name'] and not in xmi_class_references['Name']* "
   ]
  },
  {
   "cell_type": "code",
   "execution_count": null,
   "id": "fbe30fb4-9b6d-43b9-ae7a-8911a821ba2c",
   "metadata": {
    "jupyter": {
     "source_hidden": true
    }
   },
   "outputs": [],
   "source": [
    "df_xsd.head()"
   ]
  },
  {
   "cell_type": "code",
   "execution_count": null,
   "id": "6572d65e-20bb-416a-96a1-0dbede381880",
   "metadata": {
    "jupyter": {
     "source_hidden": true
    }
   },
   "outputs": [],
   "source": [
    "# Prepare xsd file to be compare with xmi file\n",
    "df_xsd = xsd_class_references\n",
    "df_xsd = xsd_class_references.rename(columns={'class_name':'Name'})     # rename column class_name\n",
    "df_xsd['Name'] = df_xsd['Name'].str[:-3]                                # remove 'Ref' from name \n",
    "\n",
    "xmi_not_xsd, xsd_not_xmi  = dataframe_compare(xmi_class_references, \n",
    "                                              df_xsd, \n",
    "                                              column_name=\"Name\", \n",
    "                                              df1_name=\"XMI\", \n",
    "                                              df2_name=\"XSD\")"
   ]
  },
  {
   "cell_type": "code",
   "execution_count": null,
   "id": "5537feed-311f-4597-99de-c4900a4a8b93",
   "metadata": {
    "jupyter": {
     "source_hidden": true
    }
   },
   "outputs": [],
   "source": [
    "# 1 - Collect first level complexType between UML MESSAGE and UML ATTRIBUTES.\n",
    "start_comment = '======================== UML <<EXTEND>> INTERFACE REFERENCE UTILITY CLASSES ========================'\n",
    "end_comment = '============================== UML SPECIALIZATION UTILITY CLASSES =================================='\n",
    "uml_extend_interface_df = xsd_complexType(isfDataset, start_comment, end_comment)\n",
    "\n",
    "# 2 - Remove duplicate classes name (if any)\n",
    "duplicates = uml_extend_interface_df[uml_extend_interface_df.duplicated(subset='class_name', keep='first')]\n",
    "duplicated_name = list(duplicates['class_name'])\n",
    "uml_extend_interface_df.drop_duplicates(subset='class_name',inplace=True)\n",
    "\n",
    "# 3 - Set first letter of name as capital letter\n",
    "uml_extend_interface_df['class_name'] = uml_extend_interface_df['class_name'].str[0].str.upper()+uml_extend_interface_df['class_name'].str[1:]\n",
    "\n",
    "# 4 - Display result\n",
    "print(f\"Duplicated classes are: {duplicated_name}. \")\n",
    "print(f\"After removing these {len(duplicates)} duplicated class(es) there are {len(uml_extend_interface_df)} classes in XSD - UML MESSAGE.\")\n",
    "uml_extend_interface_df.head()"
   ]
  },
  {
   "cell_type": "markdown",
   "id": "e21169c7-c6b8-488b-a866-6f69d53417d4",
   "metadata": {
    "jp-MarkdownHeadingCollapsed": true
   },
   "source": [
    "## 'XSD UML Message' vs 's5000F XMI'"
   ]
  },
  {
   "cell_type": "markdown",
   "id": "d553705e-f8fa-43c3-85a8-33dff0900ff3",
   "metadata": {},
   "source": [
    "1 - check that all **XSD complexType** identifed as UML Message have an XMI class localized in **s5000F XMI** by xpath /xmi:XMI/uml:Model/.//packagedElement[@xmi:type='uml:Class']/@name<br>\n",
    "2 - check that all name **s5000F XMI** located at xpath /xmi:XMI/uml:Model/.//packagedElement[@xmi:type='uml:Class']/@name have an **XSD complexType** identifed as UML Message"
   ]
  },
  {
   "cell_type": "code",
   "execution_count": null,
   "id": "4ee3073c-ba52-44fb-a617-3fb285c10545",
   "metadata": {
    "jupyter": {
     "source_hidden": true
    }
   },
   "outputs": [],
   "source": [
    "# Save result in excel file working.xlsx\n",
    "with pd.ExcelWriter(\"Working.xlsx\", engine=\"openpyxl\") as writer:\n",
    "    xsd_message.to_excel(writer, sheet_name=\"xsd\", index=False)\n",
    "    s5f_class_attrib.to_excel(writer, sheet_name=\"s5f xmi\", index=False)\n",
    "\n",
    "\n",
    "\n",
    "def count_classes_attributes(df):\n",
    "    # Count class occurrences per source\n",
    "    class_count = df[df['class'].isna()].groupby('source').size().reset_index(name='class_count')\n",
    "    \n",
    "    # Count attribute occurrences per source\n",
    "    attribute_count = df[df['class'].notna()].groupby('source').size().reset_index(name='attribute_count')\n",
    "    \n",
    "    # Merge both counts\n",
    "    result = class_count.merge(attribute_count, on='source', how='outer').fillna(0)\n",
    "    \n",
    "    # Convert counts to integers\n",
    "    result[['class_count', 'attribute_count']] = result[['class_count', 'attribute_count']].astype(int)\n",
    "\n",
    "    # Compute total occurrences\n",
    "    total_row = pd.DataFrame({'source': ['Total'], \n",
    "                              'class_count': [result['class_count'].sum()], \n",
    "                              'attribute_count': [result['attribute_count'].sum()]})\n",
    "    \n",
    "    # Find common class names (names where class is NaN and appear in multiple sources)\n",
    "    common_class_names = df[df['class'].isna()].groupby('name')['source'].nunique()\n",
    "    common_class_list = common_class_names[common_class_names > 1].index.tolist()  # List of common class names\n",
    "    common_class_count = len(common_class_list)\n",
    "\n",
    "    # Find common attribute names (names where class is NOT NaN and appear in multiple sources)\n",
    "    common_attribute_names = df[df['class'].notna()].groupby('name')['source'].nunique()\n",
    "    common_attribute_list = common_attribute_names[common_attribute_names > 1 ].index.tolist()  # List of common attribute names\n",
    "    common_attribute_count = len(common_attribute_list)\n",
    "\n",
    "    # Add common source row\n",
    "    common_row = pd.DataFrame({'source': ['Common Source'], \n",
    "                               'class_count': [common_class_count], \n",
    "                               'attribute_count': [common_attribute_count]})\n",
    "\n",
    "    # Append common source & total rows\n",
    "    result = pd.concat([result, common_row, total_row], ignore_index=True)\n",
    "\n",
    "    # Return the result and the lists of common names\n",
    "    return result, common_class_list, common_attribute_list\n",
    "\n",
    "# Call function\n",
    "result, common_class_names, common_attribute_names = count_classes_attributes(all_class_attrib)\n",
    "result.head()"
   ]
  },
  {
   "cell_type": "raw",
   "id": "0a3975ad-1243-46a6-92d9-342e3907cbd5",
   "metadata": {},
   "source": [
    "# if executed open excel file containing comparaison result\n",
    "import os\n",
    "os.startfile(\"C:/Users/Bernard/Documents/Python/0.0a Toolbox/2025-02-21 XSD vs XMI Classes.xlsx\")"
   ]
  },
  {
   "attachments": {
    "d7bba6dd-6940-4071-a8bd-20c86e44fd45.png": {
     "image/png": "[encoded data removed]"
    }
   },
   "cell_type": "markdown",
   "id": "383c5973-c785-41f1-9abe-0b9a066a00a9",
   "metadata": {},
   "source": [
    "![image.png](attachment:d7bba6dd-6940-4071-a8bd-20c86e44fd45.png)"
   ]
  },
  {
   "cell_type": "markdown",
   "id": "e39216e9-3df7-4737-a834-5ba3094000b7",
   "metadata": {},
   "source": [
    "**XSD UML MESSAGE** list **619 complexType** which are mapped onto **396 XMI S5000F**:<br>\n",
    "whose stereotype are:<ul><li>*165 class*, <li>*125 relationship*, <li>*105 exchnage*, <li>*1 compoundAttribute*\n"
   ]
  },
  {
   "cell_type": "code",
   "execution_count": null,
   "id": "454d1773-43bc-4a07-aea6-7effe46c5156",
   "metadata": {
    "jupyter": {
     "source_hidden": true
    }
   },
   "outputs": [],
   "source": [
    "s5f_class_attrib.head()"
   ]
  },
  {
   "cell_type": "markdown",
   "id": "574eb3bc-0674-453e-a4cf-185b6f51de95",
   "metadata": {},
   "source": [
    "### XMI UML message\n",
    "Collect **class_xmlName** located at &emsp;**/xmi:XMI/uml:Model/thecustomprofile:xmlName[@base_Class]/@xmlName**<br>\n",
    "then use class_xmlName to collect **class_identifier** located at&emsp;\n",
    "**xmi:XMI/uml:Model/thecustomprofile:xmlName[@xmlName='xmlname']/@base_Class**<br>\n",
    "and then use class_identifier to collect **class_name** located at&emsp;\n",
    "**/xmi:XMI/xmi:Extension/elements/element[@xmi:idref='class_identifier']/@name**"
   ]
  },
  {
   "cell_type": "code",
   "execution_count": null,
   "id": "af727dad-1402-4400-bae4-1f4f33caf28d",
   "metadata": {},
   "outputs": [],
   "source": [
    "def uml_message_elts(*files):\n",
    "    \"\"\"\n",
    "    Get a set of element names which contains the string path\n",
    "    Input:         list of XMI file to be analyzed\n",
    "    Output:        set of elements\n",
    "    \"\"\"\n",
    "    if not files:\n",
    "        raise ValueError(\"At least one file must be provided.\")\n",
    "\n",
    "    rows = []\n",
    "    for file in files:            \n",
    "        tree = etree.parse(file)\n",
    "        root = tree.getroot()\n",
    "        ns = get_namespaces(file)\n",
    "        source = Path(file.name).stem\n",
    "\n",
    "        elements = tree.xpath(\"/xmi:XMI/uml:Model/thecustomprofile:xmlName[@base_Class]/@xmlName\", namespaces=ns)\n",
    "        for xmlname in elements:\n",
    "            id = tree.xpath(f\"/xmi:XMI/uml:Model/thecustomprofile:xmlName[@xmlName='{xmlname}']/@base_Class\", namespaces=ns)[0]\n",
    "            name = tree.xpath(f\"/xmi:XMI/xmi:Extension/elements/element[@xmi:idref='{id}']/@name\", namespaces=ns)[0]\n",
    "            \n",
    "            rows.append({'Identifier':id,'Name': name, 'xmlName': xmlname,'source':source})\n",
    "        \n",
    "        df = pd.DataFrame(rows,columns=['Identifier','Name','xmlName','source'])\n",
    "        # df = df.sort_values(by=[\"Name\",\"source\"])\n",
    "    return df"
   ]
  },
  {
   "cell_type": "code",
   "execution_count": null,
   "id": "c17e2207-a60d-4609-8f85-3ae629a82f53",
   "metadata": {},
   "outputs": [],
   "source": [
    "xmi_all = uml_message_elts(s5f,cdm)\n",
    "nb_s5f = xmi_all.groupby(['source']).size()\n",
    "common = \n",
    "\n",
    "print(nb_s5f)\n",
    "print(f\"\\033[1mThere are {len(xmi_all)} classes in XMI - UML MESSAGE.\\033[0m\")\n",
    "xmi_uml_message.head()"
   ]
  },
  {
   "cell_type": "code",
   "execution_count": null,
   "id": "645e0fd6-f4cc-4613-ad15-2895f63f7904",
   "metadata": {},
   "outputs": [],
   "source": [
    "# get XMI S5000F message elements\n",
    "xmi_s5f = uml_message_elts(s5f)"
   ]
  },
  {
   "cell_type": "code",
   "execution_count": null,
   "id": "e328ab38-984f-4a75-a472-e15436658c06",
   "metadata": {},
   "outputs": [],
   "source": [
    "# Filter rows where Name is 'Message'\n",
    "message_row = xmi_s5f[xmi_s5f['Name'] == 'Message']\n",
    "\n",
    "# Filter rows where xmlName starts with 'uc' and sort them\n",
    "uc_rows = xmi_s5f[xmi_s5f['xmlName'].str.startswith('uc', na=False)].sort_values(by='xmlName')\n",
    "\n",
    "# Filter remaining rows and sort them by Name\n",
    "other_rows = xmi_s5f[~xmi_s5f['xmlName'].str.startswith('uc', na=False) & (xmi_s5f['Name'] != 'Message')].sort_values(by='Name')\n",
    "\n",
    "# Concatenate the results\n",
    "xmi_s5f_ordered = pd.concat([message_row, uc_rows, other_rows], ignore_index=True)\n",
    "\n",
    "# Store result and give an overview\n",
    "xmi_s5f_ordered.to_excel(\"xmi_ordered.xlsx\")\n",
    "print(xmi_s5f_ordered.shape)\n",
    "xmi_s5f_ordered.head()"
   ]
  },
  {
   "cell_type": "markdown",
   "id": "623a4a3c-4847-4523-aa0b-85a0b88c615d",
   "metadata": {},
   "source": [
    "### Compare XMI and XSD UML message"
   ]
  },
  {
   "cell_type": "code",
   "execution_count": null,
   "id": "d023b6dd-d089-44ce-bbe6-4cca404baa3a",
   "metadata": {
    "jupyter": {
     "source_hidden": true
    }
   },
   "outputs": [],
   "source": [
    "# Drop duplicates, keeping the last occurrence which has source SX002D_Data_model\n",
    "df_unique = xmi_uml_message.drop_duplicates(subset=\"Name\", keep=\"last\")\n",
    "df_unique = df_unique.reset_index(drop=True)\n",
    "#df_unique.head()\n",
    "\n",
    "df1,df2 = dataframe_compare(df_unique, \n",
    "                            xsd_uml_message, \n",
    "                            column_name=\"Name\",\n",
    "                            df1_name=\"xmi_uml_message\",\n",
    "                            df2_name=\"xsd_uml_message\")"
   ]
  },
  {
   "cell_type": "markdown",
   "id": "755d79ef-bdc6-4635-a2c3-f96d5d5382ef",
   "metadata": {},
   "source": [
    "Located at `/xmi:XMI/xmi:Extension/primitivetypes/*//packagedElement[@xmi:type='uml:PrimitiveType']/@name`, we have the 12 missing names:\n",
    "\n",
    "- ClassificationType\n",
    "- DateTime\n",
    "- TypeData\n",
    "- TypeDescription\n",
    "- IdentifierType\n",
    "- SingleValuePropertyType\n",
    "- PropertyType\n",
    "- TimeType\n",
    "- umlBoolean\n",
    "- umlInteger\n",
    "- ValueRangePropertyType\n",
    "- ValueWithTolerance\n",
    "\n",
    "**Five missing values**:\n",
    "- DateTimeType\n",
    "- OrganizationDates\n",
    "- TextPropertyType\n",
    "- UmlReal\n",
    "- UmlString\n",
    "\n",
    "**Five additional values**:\n",
    "- DatedClassification\n",
    "- DateRange\n",
    "- Dimensions\n",
    "- PropertyType\n",
    "- ThreeDimensionalPropertyType\n"
   ]
  },
  {
   "cell_type": "markdown",
   "id": "ac569492-8d58-497d-b36a-7e640cde53bd",
   "metadata": {},
   "source": [
    "#### Compare only xmi S5000F (not xmi SX002G) versus xsd"
   ]
  },
  {
   "cell_type": "code",
   "execution_count": null,
   "id": "da452f3c-52f3-4ef9-bf9f-462a65264f60",
   "metadata": {
    "jupyter": {
     "source_hidden": true
    }
   },
   "outputs": [],
   "source": [
    "xmi_s5f_uml_message = uml_message_elts(s5f)\n",
    "\n",
    "df3,df4 = dataframe_compare(xmi_s5f_uml_message, \n",
    "                            xsd_uml_message, \n",
    "                            column_name=\"Name\",\n",
    "                            df1_name=\"xmi_s5f_uml_message\",\n",
    "                            df2_name=\"xsd_uml_message\")"
   ]
  },
  {
   "cell_type": "markdown",
   "id": "d14d5287-d647-444d-8c34-04d7c7992a04",
   "metadata": {
    "jp-MarkdownHeadingCollapsed": true
   },
   "source": [
    "## Attributes in XMI file"
   ]
  },
  {
   "cell_type": "code",
   "execution_count": null,
   "id": "430cb7a5-bffa-49eb-ae9d-d8e3654e8b6d",
   "metadata": {
    "jupyter": {
     "source_hidden": true
    }
   },
   "outputs": [],
   "source": [
    "def uml_attribute_elts(*files):\n",
    "    \"\"\"\n",
    "    Get a set of element names which contains the string path\n",
    "    Input:         list of XMI file to be analyzed\n",
    "    Output:        set of elements\n",
    "    \"\"\"\n",
    "    if not files:\n",
    "        raise ValueError(\"At least one file must be provided.\")\n",
    "\n",
    "    rows = []\n",
    "    for file in files:            \n",
    "        tree = etree.parse(file)\n",
    "        root = tree.getroot()\n",
    "        ns = get_namespaces(file)\n",
    "        source = Path(file.name).stem\n",
    "\n",
    "        elements = tree.xpath(\"/xmi:XMI/uml:Model/thecustomprofile:xmlName[@base_Property]/@xmlName\", namespaces=ns)\n",
    "\n",
    "        for att_xmlname in elements:\n",
    "            print(att_xmlname)\n",
    "            att_identifier = tree.xpath(f\"xmi:XMI/uml:Model/thecustomprofile:xmlName[@xmlName='{att_xmlname}']/@base_Property\", namespaces=ns)[0]\n",
    "            print(att_identifier)\n",
    "            name = tree.xpath(f\"/xmi:XMI/xmi:Extension/elements/element/attributes/attribute[@xmi:idref='{att_identifier}']/@name\", namespaces=ns)[0]\n",
    "            print(name)\n",
    "            rows.append({'Identifier':att_identifier,'Name': name, 'xmlName': att_xmlname,'source':source})\n",
    "        \n",
    "        df = pd.DataFrame(rows,columns=['Identifier','Name','xmlName','source'])\n",
    "        df = df.sort_values(by=[\"Name\",\"source\"])\n",
    "    return df"
   ]
  },
  {
   "cell_type": "code",
   "execution_count": null,
   "id": "2a11e341-b68c-4aa9-9fb5-d77b44a865c9",
   "metadata": {
    "jupyter": {
     "source_hidden": true
    }
   },
   "outputs": [],
   "source": [
    "def analyse_df(df,field):\n",
    "    class_count = df[df['class'].isna()].groupby(field).size().reset_index(name='class_count')"
   ]
  },
  {
   "cell_type": "code",
   "execution_count": null,
   "id": "7d3ad5f3-8a29-4e9b-b436-7aee933a17d2",
   "metadata": {
    "jupyter": {
     "source_hidden": true
    }
   },
   "outputs": [],
   "source": [
    "df = uml_attribute_elts(s5f,cdm)\n",
    "print(len(df))\n",
    "df.head()\n"
   ]
  },
  {
   "cell_type": "markdown",
   "id": "c97911f0-c201-4f37-bf59-dd2eb6803055",
   "metadata": {
    "jp-MarkdownHeadingCollapsed": true
   },
   "source": [
    "## Attribute Groups in XMI file"
   ]
  },
  {
   "cell_type": "code",
   "execution_count": null,
   "id": "65dfeec9-57dc-4d88-9e4f-c33767cff3c2",
   "metadata": {},
   "outputs": [],
   "source": [
    "# function to collect information about attribute groups in XMI file\n",
    "def elements(*files):\n",
    "    \"\"\"\n",
    "    Get a set of element names which contains the string path\n",
    "    Input:         list of XMI file to be analyzed\n",
    "    Output:        set of elements\n",
    "    \"\"\"\n",
    "    if not files:\n",
    "        raise ValueError(\"At least one file must be provided.\")\n",
    "\n",
    "    rows = []\n",
    "    for file in files:            \n",
    "        tree = etree.parse(file)\n",
    "        root = tree.getroot()\n",
    "        ns = get_namespaces(file)\n",
    "        source = Path(file.name).stem\n",
    "\n",
    "        elements = tree.xpath(\"/xmi:XMI/uml:Model/*\", namespaces=ns)\n",
    "        # Filter elements having 'attributeGroup' in its tag and then get its attributes base_Class\n",
    "        ids = [el.get(\"base_Class\") for el in elements if \"attributeGroup\" in el.tag]\n",
    "\n",
    "        for id in ids:\n",
    "            name = root.xpath(f\"/xmi:XMI/xmi:Extension/elements/element[@xmi:idref='{id}'][@xmi:type='uml:Class']/@name\",namespaces=ns)[0]\n",
    "            xmlname = root.xpath(f\"/xmi:XMI/uml:Model/thecustomprofile:xmlName[@base_Class='{id}']/@xmlName\",namespaces=ns)[0]\n",
    "            rows.append({'Identifier':id,'Name': name, 'xmlName': xmlname,'source':source})\n",
    "        \n",
    "        df = pd.DataFrame(rows,columns=['Identifier','Name','xmlName','source'])\n",
    "        df.sort_values(by=[\"Name\"],inplace=True)\n",
    "  \n",
    "    return df"
   ]
  },
  {
   "cell_type": "code",
   "execution_count": null,
   "id": "6948f3a7-e49c-4342-94d3-89bbf9d8990f",
   "metadata": {},
   "outputs": [],
   "source": [
    "# collect information about attribute groups in XMI files\n",
    "xmi_attribute_groups = elements(s5f,cdm)\n",
    "xmi_attribute_groups.to_excel(\"xmi_attribute_groups.xlsx\")\n",
    "\n",
    "# Display result\n",
    "print(f\"\\033[1m There are {len(xmi_attribute_groups)} ATTRIBUTE GROUPS classes in XMI s5f and XMI cdm:\\033[0m\")\n",
    "#print(list(xmi_attribute_groups['Name']))"
   ]
  },
  {
   "cell_type": "code",
   "execution_count": null,
   "id": "2c1197fa-5dd3-4a6f-a097-b15ed61d9812",
   "metadata": {},
   "outputs": [],
   "source": [
    "# Compare collected information in XMI with XSD information\n",
    "xsd_attribute_groups.rename(columns={'class_name':'Name'},inplace=True)\n",
    "xmi_not_xsd, xsd_not_xmi  = dataframe_compare(xmi_attribute_groups, \n",
    "                                              xsd_attribute_groups, \n",
    "                                              column_name=\"Name\", \n",
    "                                              df1_name=\"XMI\", \n",
    "                                              df2_name=\"XSD\")"
   ]
  },
  {
   "cell_type": "markdown",
   "id": "26c40c6c-3f0c-4098-99f3-6bd999d652c4",
   "metadata": {},
   "source": [
    "*4 classes of XMI \"SX002D_Data_model\" are not in XSD:<ul><li> AdditionalTrainingNeed,<li> MeasuringPointDegradedStateDefinition, <li>MeasuringPointFaultStateDefinition,<li>TimeOffset*"
   ]
  },
  {
   "cell_type": "markdown",
   "id": "26ae4712-e96c-439f-808b-df83c8de3a14",
   "metadata": {},
   "source": [
    "**CONCLUSION:<br>Attribute groups which are in XSD are the one called by UML MESSAGE complexType**"
   ]
  },
  {
   "cell_type": "markdown",
   "id": "5d074aa6-a909-4676-8e39-f62d66d5eb34",
   "metadata": {},
   "source": [
    "# Compare XSD complexType versus XMI classes and attributes"
   ]
  },
  {
   "cell_type": "code",
   "execution_count": null,
   "id": "639d3a3e-1813-48b7-8141-dc29deefa434",
   "metadata": {
    "jupyter": {
     "source_hidden": true
    }
   },
   "outputs": [],
   "source": [
    "xsd_complexType = xsd_complexType.merge(df_s5f, on='class_name', how='left').rename(columns={'source': 'source 1'})\n",
    "xsd_complexType = xsd_complexType.merge(df_cdm, on='class_name', how='left').rename(columns={'source': 'source 2'})\n",
    "\n",
    "# Identify XSD complexType not existing in XMI UML classes\n",
    "missing_source = (xsd_complexType['source 1'].isna() & xsd_complexType['source 2'].isna())\n",
    "\n",
    "# Filter the DataFrame to get rows where both sources are missing\n",
    "missing_classes = xsd_complexType.loc[missing_source, 'class_name']\n",
    "\n",
    "# Print the missing class names\n",
    "print(f\"List of elements located as \\033[31mxsd:complexType\\033[0m in XSD which are not in XMI files\\n {list(missing_classes)}\")"
   ]
  },
  {
   "cell_type": "code",
   "execution_count": null,
   "id": "67ec1415-6a85-48e8-a5b3-04ccabb8ee63",
   "metadata": {
    "jupyter": {
     "source_hidden": true
    }
   },
   "outputs": [],
   "source": [
    "with pd.ExcelWriter('Results/Classes.xlsx',engine='xlsxwriter') as writer:\n",
    "    df_s5f.to_excel(writer, sheet_name='S5000F', index=False)\n",
    "    df_cdm.to_excel(writer, sheet_name='SX002G', index=False)\n",
    "    xsd_complexType.to_excel(writer, sheet_name='XSD UML Message', index=False)"
   ]
  },
  {
   "cell_type": "markdown",
   "id": "5b5bcc4a-e463-4e43-be11-a6dc71e7955b",
   "metadata": {},
   "source": [
    "In XMI files, UML attribute information is located at **/xmi:XMI/*//element\\[@xmi:type='uml:Class' and @name='className']/attributes/attribute/**."
   ]
  },
  {
   "cell_type": "markdown",
   "id": "c5223048-6c55-4109-83c6-4e296e94cbcd",
   "metadata": {},
   "source": [
    "### Collect attribute from XMI S5000F"
   ]
  },
  {
   "cell_type": "code",
   "execution_count": null,
   "id": "dd9806b4-6cec-4d07-894e-adf205b75cf7",
   "metadata": {
    "jupyter": {
     "source_hidden": true
    }
   },
   "outputs": [],
   "source": [
    "df_s5f = get_attributes(s5f)\n",
    "class_count = df_s5f['class_name'].nunique()\n",
    "\n",
    "missing_xmlName = df_s5f[df_s5f['att_xmlname'] == 'MISSING']\n",
    "\n",
    "print(f\"There are \\033[31m{len(df_s5f)} attributes\\033[30m owned by {class_count} classes in S5000F XMI file.\")\n",
    "print(f\"Following classes {list(missing_xmlName['class_name'])}\\n have attribute without taggedValues xmlName !\")"
   ]
  },
  {
   "cell_type": "code",
   "execution_count": null,
   "id": "eb1eab31-c4db-46c4-9d51-004b0d7507b2",
   "metadata": {
    "jupyter": {
     "source_hidden": true
    }
   },
   "outputs": [],
   "source": [
    "df_s5f['key'] = df_s5f['class_name']+'_'+df_s5f['att_name']\n",
    "df_s5f['att_id']=df_s5f.index\n",
    "df_s5f.index=df_s5f['key']\n",
    "df_s5f.drop(columns=['key'],inplace=True)\n",
    "\n",
    "# identify duplicate index\n",
    "duplicates = df_s5f.index[df_s5f.index.duplicated()]\n",
    "print(f\"Some rows have identical 'class name - attribute name':\\n {list(duplicates)}.\")\n",
    "\n",
    "# remove duplicates by keeping only the first occurence\n",
    "df_s5f = df_s5f[~df_s5f.index.duplicated(keep='first')]"
   ]
  },
  {
   "cell_type": "markdown",
   "id": "7b965587-e7cd-40f8-8747-5304a15a5328",
   "metadata": {},
   "source": [
    "### Collect attributes from XMI SX002G"
   ]
  },
  {
   "cell_type": "code",
   "execution_count": null,
   "id": "dd862806",
   "metadata": {
    "jupyter": {
     "source_hidden": true
    }
   },
   "outputs": [],
   "source": [
    "df_cdm = get_attributes(cdm)\n",
    "class_count = df_cdm['class_name'].nunique()\n",
    "missing_xmlName = df_cdm[df_cdm['att_xmlname'] == 'MISSING']\n",
    "print(f\"There are \\033[31m{len(df_cdm)} attributes\\033[30m owned by {class_count} classes in SX002G XMI file.\")\n",
    "print(f\"Following classes {list(missing_xmlName['class_name'])}\\n have attribute without taggedValues xmlName !\")"
   ]
  },
  {
   "cell_type": "code",
   "execution_count": null,
   "id": "76e73509-09c7-4154-bf52-b644f567a295",
   "metadata": {
    "jupyter": {
     "source_hidden": true
    }
   },
   "outputs": [],
   "source": [
    "df_cdm['key'] = df_cdm['class_name']+'_'+df_cdm['att_name']\n",
    "df_cdm['att_id']=df_cdm.index\n",
    "df_cdm.index=df_cdm['key']\n",
    "df_cdm.drop(columns=['key'],inplace=True)\n",
    "\n",
    "# identify duplicate index\n",
    "duplicates = df_cdm.index[df_cdm.index.duplicated()]\n",
    "print(f\"Some rows have identical 'class name - attribute name':\\n {list(duplicates)}.\")\n",
    "# remove duplicates by keeping only the first occurence\n",
    "df_cdm = df_cdm[~df_cdm.index.duplicated(keep='first')]"
   ]
  },
  {
   "cell_type": "code",
   "execution_count": null,
   "id": "6fb4914b",
   "metadata": {
    "jupyter": {
     "source_hidden": true
    }
   },
   "outputs": [],
   "source": [
    "df_all = get_attributes(cdm,s5f)\n",
    "class_count = df_all['class_name'].nunique()\n",
    "missing_xmlName = df_all[df_all['att_xmlname'] == 'MISSING']\n",
    "print(f\"There are \\033[31m{len(df_all)} attributes\\033[30m owned by {class_count} classes in S5000F and SX002G XMI files.\")\n",
    "print(f\"Following classes {list(missing_xmlName['class_name'])}\\n have attribute without taggedValues xmlName !\")"
   ]
  },
  {
   "cell_type": "code",
   "execution_count": null,
   "id": "d3a3906d-c1b3-45b8-90e6-9bc3c6a2cfaa",
   "metadata": {
    "jupyter": {
     "source_hidden": true
    }
   },
   "outputs": [],
   "source": [
    "df_all.head()"
   ]
  },
  {
   "cell_type": "code",
   "execution_count": null,
   "id": "c15efad4-6ac7-405c-823c-c385e9cac625",
   "metadata": {
    "jupyter": {
     "source_hidden": true
    }
   },
   "outputs": [],
   "source": [
    "grouped_df = df.groupby(['att_type']).size().reset_index(name='count')  # group by attribute type\n",
    "attributeType = grouped_df.sort_values(by='count', ascending=False)         # Sort by the 'count' column in descending order\n",
    "print(f\"Grouped by att_type: {attributeType}\")"
   ]
  },
  {
   "cell_type": "code",
   "execution_count": null,
   "id": "5574918d-bc13-4453-aa62-df3097507089",
   "metadata": {
    "jupyter": {
     "source_hidden": true
    }
   },
   "outputs": [],
   "source": [
    "# ANALYSIS of IdentifierType\n",
    "df1 = df[df['att_type'] == 'IdentifierType']          # Filter the DataFrame based on 'att_type'\n",
    "\n",
    "# Group by 'att_low' and 'att_up', and aggregate the count and the list of 'name' values\n",
    "df2 = df1.groupby(['att_low', 'att_up']).agg(\n",
    "    count=('att_name', 'size'),                       # Count the number of occurrences\n",
    "    names=('att_name', lambda x: list(x))             # Collect the 'name' values into a list\n",
    ").reset_index()\n",
    "\n",
    "df2.head()\n",
    "\n",
    "# If necessary print column names using:\n",
    "# list(df2['names'].iloc(0))[0]"
   ]
  },
  {
   "cell_type": "code",
   "execution_count": null,
   "id": "d8029d3d-3b21-4b29-a687-085e1977e61e",
   "metadata": {
    "jupyter": {
     "source_hidden": true
    }
   },
   "outputs": [],
   "source": [
    "# ANALYSIS of ClassificationType\n",
    "df1 = df[df['att_type'] == 'ClassificationType']          # Filter the DataFrame based on 'att_type'\n",
    "\n",
    "# Group by 'att_low' and 'att_up', and aggregate the count and the list of 'name' values\n",
    "df2 = df1.groupby(['att_low', 'att_up']).agg(\n",
    "    count=('att_name', 'size'),                       # Count the number of occurrences\n",
    "    names=('att_name', lambda x: list(x))             # Collect the 'name' values into a list\n",
    ").reset_index()\n",
    "\n",
    "df2.head()\n",
    "\n",
    "# Print the content of the first row in the 'names' column: print(df2['names'].iloc[0])\n",
    "#print(df2['names'].iloc[0])"
   ]
  },
  {
   "cell_type": "code",
   "execution_count": null,
   "id": "a521f292-3608-4f48-a6f1-6a93817c0e27",
   "metadata": {
    "jupyter": {
     "source_hidden": true
    }
   },
   "outputs": [],
   "source": [
    "# ANALYSIS based on Attribute Type, lower and upper values \n",
    "# Group by 'att_low' and 'att_up', and aggregate the count and the list of 'name' values\n",
    "df2 = df.groupby(['att_type','att_low', 'att_up']).agg(\n",
    "    count=('att_name', 'size'),            # Count the number of occurrences\n",
    "    names=('att_name', lambda x: list(x))             # Collect the 'name' values into a list\n",
    ").reset_index().sort_values(by='count', ascending=False)\n",
    "\n",
    "df2.head(40)"
   ]
  },
  {
   "cell_type": "code",
   "execution_count": null,
   "id": "f0b4605b-39e6-4839-959e-8561f41707e7",
   "metadata": {
    "jupyter": {
     "source_hidden": true
    }
   },
   "outputs": [],
   "source": [
    "### TO BE DEBUGGED\n",
    "\n",
    "from lxml import etree\n",
    "import pandas as pd\n",
    "\n",
    "def find_xsd_element(row):\n",
    "    class_name = row['class_name']\n",
    "    class_name = class_name[0].lower() + class_name[1:]  # Downcase first letter\n",
    "    attr_xmlname = row['att_xmlname']\n",
    "    \n",
    "    # XPath to find the element\n",
    "    xpath_expr = f\"/xsd:schema/xsd:complexType[@name='{class_name}']/*/xsd:element[@name='{attr_xmlname}']\"\n",
    "    \n",
    "    # Define namespace mapping for XSD\n",
    "    ns = {'xsd': 'http://www.w3.org/2001/XMLSchema'}\n",
    "    tree = etree.parse(isfDataset)  # isfDataset should be defined\n",
    "    root = tree.getroot()\n",
    "    \n",
    "    matches = root.xpath(xpath_expr, namespaces=ns)\n",
    "\n",
    "    attributes_dict = {}  # Default empty dictionary\n",
    "    converted_xml = ''  # Default empty XML string\n",
    "\n",
    "    if matches:\n",
    "        xml_data = etree.tostring(matches[0], pretty_print=True, encoding='unicode')\n",
    "\n",
    "        element = etree.fromstring(xml_data)\n",
    "        local_name = etree.QName(element).localname  # Get local name\n",
    "        new_element = etree.Element(local_name)  # Create a new element with the local name\n",
    "\n",
    "        # Extract attributes\n",
    "        attributes_dict = {name: value for name, value in element.attrib.items()}\n",
    "        \n",
    "        # Copy attributes to new element\n",
    "        for name, value in attributes_dict.items():\n",
    "            new_element.set(name, value)\n",
    "\n",
    "        # Convert to XML string\n",
    "        converted_xml = etree.tostring(new_element, pretty_print=True).decode()\n",
    "    \n",
    "    # Return dictionary containing attributes and XML element\n",
    "    return {**attributes_dict, 'element': converted_xml}\n",
    "\n",
    "# Apply function and expand dictionary into separate columns\n",
    "df_all = df_all.join(df_all.apply(find_xsd_element, axis=1).apply(pd.Series))\n",
    "\n",
    "# Print resulting DataFrame\n",
    "df_all.head()\n"
   ]
  },
  {
   "cell_type": "code",
   "execution_count": null,
   "id": "8571bdfc-d6ab-4451-ad82-15a9a33ce5f1",
   "metadata": {
    "jupyter": {
     "source_hidden": true
    }
   },
   "outputs": [],
   "source": [
    "import seaborn as sns\n",
    "import matplotlib.pyplot as plt"
   ]
  },
  {
   "cell_type": "code",
   "execution_count": null,
   "id": "f257b750-0d8d-482c-80f6-c209d5c94e6e",
   "metadata": {
    "jupyter": {
     "source_hidden": true
    }
   },
   "outputs": [],
   "source": [
    "plt.figure(figsize=(8, 6))\n",
    "df_all['colA']= df_all['att_type'].astype(str)\n",
    "df_all['colB']= df_all['nillable'].astype(str)\n",
    "plt.scatter(df_all['colA'], df_all['colB'])\n",
    "plt.xticks(rotation=45, ha='right')\n",
    "plt.xlabel('att_type')\n",
    "plt.ylabel('nillable')\n",
    "plt.title('Diagramme de dispersion')\n",
    "plt.show()"
   ]
  },
  {
   "cell_type": "code",
   "execution_count": null,
   "id": "acb1a85e-b38d-4f74-9e3e-b4b5077bc956",
   "metadata": {
    "jupyter": {
     "source_hidden": true
    }
   },
   "outputs": [],
   "source": [
    "plt.figure(figsize=(8, 6))\n",
    "df_all['colA']= df_all['att_type'].astype(str)\n",
    "df_all['colC']= df_all['att_low'].astype(str)\n",
    "plt.scatter(df_all['colA'], df_all['colC'])\n",
    "plt.xticks(rotation=45, ha='right')\n",
    "plt.xlabel('att_type')\n",
    "plt.ylabel('lower')\n",
    "plt.title('Diagramme de dispersion')\n",
    "plt.show()\n",
    "\n",
    "# Compter les valeurs uniques et calculer les pourcentages\n",
    "counts = df_all['colA'].value_counts()\n",
    "percentages = counts / len(df) * 100\n",
    "\n",
    "# Créer un diagramme de barres\n",
    "plt.figure(figsize=(8, 6))\n",
    "percentages.plot(kind='bar')\n",
    "plt.xlabel('Valeur')\n",
    "plt.ylabel('Pourcentage')\n",
    "plt.title('Diagramme de barres')\n",
    "\n",
    "# Afficher les pourcentages sur les barres\n",
    "for i, p in enumerate(percentages):\n",
    "    plt.text(i, p + 1, f'{p:.1f}%', ha='center', rotation=90)\n",
    "\n",
    "plt.show()"
   ]
  },
  {
   "cell_type": "code",
   "execution_count": null,
   "id": "70ed6e38-cb22-47d3-bf28-f7f0f438b2d2",
   "metadata": {
    "jupyter": {
     "source_hidden": true
    }
   },
   "outputs": [],
   "source": [
    "df_all.to_excel(\"20250131 Analysis.xlsx\")"
   ]
  },
  {
   "cell_type": "code",
   "execution_count": null,
   "id": "d6b70581-7c9c-48ed-9b9a-df3f63f70bbf",
   "metadata": {
    "jupyter": {
     "source_hidden": true
    }
   },
   "outputs": [],
   "source": [
    "# Function to find the sequence element in XSD \n",
    "def find_xsd_element(row):\n",
    "    class_name = row['class_name']\n",
    "    class_name = class_name[0].lower() + class_name[1:]             # downcase the first letter of class name\n",
    "    attr_xmlname = row['att_xmlname']\n",
    "    \n",
    "    # XPath expression to find elements that match the name and type\n",
    "    xpath_expr = f\"/xsd:schema/xsd:complexType[@name='{class_name}']/*/xsd:element[@name='{attr_xmlname}']\"\n",
    "    \n",
    "    # Define namespace mapping for XSD\n",
    "    ns = {'xsd': 'http://www.w3.org/2001/XMLSchema'}\n",
    "    tree = etree.parse(isfDataset)\n",
    "    root = tree.getroot()\n",
    "    \n",
    "    matches = root.xpath(xpath_expr, namespaces=ns)\n",
    "    \n",
    "    # If a match is found, return the full XSD element string\n",
    "    if matches:\n",
    "        xml_data = etree.tostring(matches[0], pretty_print=True, encoding='unicode')\n",
    "\n",
    "        element = etree.fromstring(xml_data)\n",
    "        local_name = etree.QName(element).localname               # Get the local name of the element\n",
    "        new_element = etree.Element(local_name)                   # Create a new element with the local name (no namespace)\n",
    "        for name, value in element.attrib.items():                # Copy all attributes from the original element to the new element\n",
    "            new_element.set(name, value)\n",
    "            attributes_dict = {name: value for name, value in element.attrib.items()}\n",
    "            print(attributes_dict)\n",
    "        converted_xml = etree.tostring(new_element, pretty_print=True).decode()     # Convert the new element back to XML string\n",
    "        \n",
    "\n",
    "    else:\n",
    "        converted_xml = ''\n",
    "\n",
    "\n",
    "    return converted_xml\n",
    "\n",
    "df_all['xsd_element']=df_all.apply(find_xsd_element, axis=1)\n",
    "\n",
    "# Apply the function to each row of the DataFrame\n",
    "\n",
    "#df_all['xsd_element'] = df_all.apply(find_xsd_element, axis=1)\n",
    "#df[['elt', 'minOccurs', 'maxOccurs', 'nillable']] = pd.DataFrame(df_all.apply(find_xsd_element, axis=1).tolist(), index=df.index)\n",
    "\n",
    "\n",
    "\n",
    "# Display the updated DataFrame\n",
    "df_all.to_excel(\"Results/elements.xlsx\")\n"
   ]
  },
  {
   "cell_type": "markdown",
   "id": "573167af-a244-48df-be75-54af6bb21cf0",
   "metadata": {},
   "source": [
    "### Collect sequence element in XSD file using class name and attribute xmlName from XMI files\n",
    "Using name_of_class and attribute_xmlName create a column containing<br>\n",
    "/xsd:schema/xsd:complexType[@name='name_of_class']/*/xsd:element[@name='attribute_xmlName']"
   ]
  },
  {
   "cell_type": "markdown",
   "id": "c63cbf07-b412-440e-901e-e7becb9c092c",
   "metadata": {},
   "source": [
    "### Store and Analyse result "
   ]
  },
  {
   "cell_type": "code",
   "execution_count": null,
   "id": "dffaf0fc-dcf5-402e-aaa3-aa45e9527638",
   "metadata": {
    "jupyter": {
     "source_hidden": true
    }
   },
   "outputs": [],
   "source": [
    "with pd.ExcelWriter('Results/Attributes.xlsx',engine='xlsxwriter') as writer:\n",
    "    df_s5f.to_excel(writer, sheet_name='S5000F', index=True)\n",
    "    df_cdm.to_excel(writer, sheet_name='SX002G', index=True)\n",
    "    df.to_excel(writer, sheet_name='SX002G S5000F', index=True)"
   ]
  },
  {
   "cell_type": "markdown",
   "id": "93a2e7a2-73e3-488d-8f1c-2fb4240f560d",
   "metadata": {},
   "source": [
    "### Get corresponding xsd information"
   ]
  },
  {
   "cell_type": "code",
   "execution_count": null,
   "id": "65dcb146-1815-48ec-af89-a2eca7ec040f",
   "metadata": {
    "jupyter": {
     "source_hidden": true
    }
   },
   "outputs": [],
   "source": [
    "# Information to be collected in XSD 'isfDataset' is located at\n",
    "#                 /xsd:schema/xsd:complexType[@name='technicalOrder']/*/xsd:element[@name='toPri']\n",
    "\n",
    "tree = etree.parse(isfDataset)\n",
    "root = tree.getroot()\n",
    "ns = root.nsmap\n",
    "\n",
    "\n"
   ]
  },
  {
   "cell_type": "markdown",
   "id": "57d61cc4-1941-4f78-b6aa-4516b7c57d33",
   "metadata": {},
   "source": [
    "# Analysis of Attributes.xlsx\n",
    "Total number of collected attributes: **1432**\n",
    "<ul><li>Total number in S5000F: <b>659</b>\n",
    "<li>Total number in SX002G: <b>773</b>\n",
    "<li>Total number in S5000F/SX002G: <b>69</b>\n",
    "\n",
    "**IF ATTRIBUTE EXIST IN CDM and S5F, information of CDM are used to create XSD**"
   ]
  },
  {
   "cell_type": "markdown",
   "id": "f2bb98d9-3510-4a30-8c45-961f6e75430c",
   "metadata": {},
   "source": [
    "## Get complexType of section 'UML ATTRIBUTES' in XSD file \n",
    "This information is stored between comment === UML ATTRIBUTES === and === UML ATTRIBUTE GROUPS ==="
   ]
  },
  {
   "cell_type": "code",
   "execution_count": null,
   "id": "2f640fd3-1da1-49a4-94a3-84527d8d8ee7",
   "metadata": {
    "jupyter": {
     "source_hidden": true
    }
   },
   "outputs": [],
   "source": [
    "# 1 - Collect first level complexType between UML ATTRIBUTES and UML ATTRIBUTE GROUPS.\n",
    "start_comment = '========================================== UML ATTRIBUTES =========================================='\n",
    "end_comment = '======================================= UML ATTRIBUTE GROUPS ======================================='\n",
    "df = complexType(isfDataset, start_comment, end_comment)\n",
    "\n",
    "# 2 - Remove duplicate classes name (if any)\n",
    "duplicates = df[df.duplicated(subset='class_name', keep='first')]\n",
    "duplicated_name = list(duplicates['class_name'])\n",
    "xsd_complexType = df.drop_duplicates(subset='class_name')\n",
    "\n",
    "# 3 - Set first letter of name as capital letter\n",
    "xsd_complexType['class_name'] = xsd_complexType['class_name'].str[0].str.upper()+xsd_complexType['class_name'].str[1:]\n",
    "\n",
    "# 4 - Display result\n",
    "print(f\"Duplicated classes are: {duplicated_name}. \")\n",
    "print(f\"After removing these {len(duplicates)} duplicated class(es) there are {len(xsd_complexType)} classes.\")\n",
    "\n",
    "# 5 - Store result in excel file\n",
    "xsd_complexType.to_excel(\"Results/xsd_attributes.xlsx\", index=True)"
   ]
  },
  {
   "cell_type": "markdown",
   "id": "86122937-a9b1-431f-94e1-025dc5a54bf5",
   "metadata": {
    "jp-MarkdownHeadingCollapsed": true
   },
   "source": [
    "# UML PACKAGES"
   ]
  },
  {
   "cell_type": "markdown",
   "id": "b9f4138e-8ba4-4831-96fd-39231e77a969",
   "metadata": {
    "jp-MarkdownHeadingCollapsed": true
   },
   "source": [
    "# UML VALID VALUE\n",
    "Analyze file \"s5000f_4-0_valid_values.xsd\" to understand how to process XMI\n",
    "located at C:\\Users\\Bernard\\Desktop\\S5000F\\2024-12-06 S5000F\\s5000f_4-0_valid_values.xsd"
   ]
  },
  {
   "cell_type": "code",
   "execution_count": null,
   "id": "95c59e95-a29f-43a6-8304-ada52242ac4a",
   "metadata": {
    "jupyter": {
     "source_hidden": true
    }
   },
   "outputs": [],
   "source": [
    "def packages(*files):\n",
    "    \"\"\" \n",
    "    Collect information about uml packages from a list of XMI file extracted from Enetrprise Architect.\n",
    "    Collected information are name and identifier of package and name of direct parent package (if any).\n",
    "    Input:\n",
    "        list of XMI files to be analyzed\n",
    "    Output:\n",
    "        df dataframe       index: package identifier, columns package name, parent package name, source\n",
    "    \"\"\"\n",
    "    if not files:\n",
    "        raise ValueError(\"At least one file must be provided.\")\n",
    "\n",
    "    rows = []\n",
    "    for file in files:\n",
    "        source = file.split('/')[-1]\n",
    "        ns = get_namespaces(file)\n",
    "        xmi = '{' + ns['xmi'] + '}'\n",
    "        \n",
    "        context = etree.iterparse(file, events=('end',), tag=('packagedElement',))\n",
    "        type = xmi+\"type\"\n",
    "\n",
    "        # Iterate over 'end' event of element packageElement whose type is uml:Package\n",
    "        for event, elem in context:\n",
    "            if elem.attrib[type] == 'uml:Package':\n",
    "                # Get name and identifier of package\n",
    "                pack_name = elem.attrib.get('name')\n",
    "                pack_id = elem.attrib.get(f'{xmi}id')\n",
    "\n",
    "                # Determine the parent package name if available\n",
    "                parent_elem = elem.getparent()\n",
    "                if parent_elem is not None and parent_elem.tag == 'packagedElement':\n",
    "                    parent_name = parent_elem.attrib.get('name', 'Unnamed Parent')\n",
    "                else:\n",
    "                    parent_name = None\n",
    "\n",
    "                rows.append({'name':pack_name,'identifier':pack_id,'parent':parent_name, 'source':source})\n",
    "\n",
    "\n",
    "    df = pd.DataFrame(rows,columns=['name','identifier','parent','source])\n",
    "    df.set_index('identifier',inplace=True)\n",
    "    return df "
   ]
  },
  {
   "cell_type": "code",
   "execution_count": null,
   "id": "9ba6aae5-a6ab-4515-904c-1612a2ddafa3",
   "metadata": {
    "jupyter": {
     "source_hidden": true
    },
    "scrolled": true
   },
   "outputs": [],
   "source": [
    "df_packages = packages(s5f,cdm)\n",
    "df_packages.to_excel('Resultats/packages.xlsx', index=False)\n",
    "\n",
    "num_packages = df_packages['name'].nunique()            # Count the number of unique packages\n",
    "print(f\"There are {num_packages} packages. Result is stored in excel file Resultats/packages.xlsx\")\n",
    "df_packages.head()"
   ]
  },
  {
   "cell_type": "markdown",
   "id": "6e5b9643-ae84-4bb4-a945-406c373197f2",
   "metadata": {},
   "source": [
    "## Get classes within packages"
   ]
  },
  {
   "cell_type": "code",
   "execution_count": null,
   "id": "101a360b-859c-4ea5-ba99-bc496ae59c60",
   "metadata": {
    "jupyter": {
     "source_hidden": true
    }
   },
   "outputs": [],
   "source": [
    "def class_packages(*files):\n",
    "    \"\"\" \n",
    "    Function which collect information of packages extracted from Enterprise Architect using OMG XMI Version 2.1 format.\n",
    "    Input: list of XMI file to be analyzed\n",
    "    Output:\n",
    "    Dataframe with following columns: package name, idref, xmlname, parent package and documentation, file source\n",
    "                                      attribute name, xmlname, type, lower value, upper value and documentation\n",
    "    \"\"\"\n",
    "    if not files:\n",
    "        raise ValueError(\"At least one file must be provided.\")\n",
    "\n",
    "    rows = []\n",
    "    source = 1\n",
    "\n",
    "    for file in files:\n",
    "        context = etree.iterparse(file, events=('start', 'end'))\n",
    "        ns = get_namespaces(file)\n",
    "        # Iterate over the events and elements\n",
    "        for event, elem in context:\n",
    "            if event == 'start':\n",
    "                # Handle the start of an element\n",
    "                xmi=\"{http://schema.omg.org/spec/XMI/2.1}\"\n",
    "                if elem.tag == 'packagedElement' and elem.attrib[f'{xmi}type']=='uml:Class':\n",
    "                    n = elem.attrib.get('name')   # use of get because in some occurence name is missing\n",
    "                    id = elem.attrib[f'{xmi}id']\n",
    "                    r = elem.xpath(\"../@name\",namespaces=ns)\n",
    "                    package = r[0] if r else None \n",
    "                    rows.append({'name': n,'identifier':id,'package':package, 'source':source})\n",
    "            elif event == 'end':\n",
    "                # Handle the end of an element. It's good practice to clear elements to free memory\n",
    "                elem.clear()\n",
    "        source += source\n",
    "\n",
    "    df = pd.DataFrame(rows,columns=['name','identifier','source','package'])\n",
    "    df = df[df['name'].notna()]    # remove row for which there is no uml:Class name is None\n",
    "    return df  "
   ]
  },
  {
   "cell_type": "code",
   "execution_count": null,
   "id": "aed84faf-15cc-4ea5-bc17-100ba9cbd9e4",
   "metadata": {
    "jupyter": {
     "source_hidden": true
    }
   },
   "outputs": [],
   "source": [
    "df_classes_packages = class_packages(s5f,cdm)\n",
    "df_classes_packages.to_excel('Resultats/classes_packages.xlsx', index=False)\n",
    "num_packages = df_packages['name'].nunique()            # Count the number of unique packages\n",
    "print(f\"There are {num_packages} packages. Result is stored in excel file Resultats/classes_packages.xlsx\")\n",
    "df_classes_packages.head()"
   ]
  },
  {
   "cell_type": "markdown",
   "id": "7e352f37-fe60-4ee9-9353-4a8b9c9bde2c",
   "metadata": {},
   "source": [
    "## Location of UML class information in XMI file"
   ]
  },
  {
   "cell_type": "markdown",
   "id": "fb018011-db58-465a-ab8d-bc1c31237bd1",
   "metadata": {},
   "source": [
    "# uml:class"
   ]
  },
  {
   "cell_type": "markdown",
   "id": "c1954073-7612-418b-a387-89de394467bc",
   "metadata": {},
   "source": [
    "## Get UML classes information from XMI file"
   ]
  },
  {
   "cell_type": "code",
   "execution_count": null,
   "id": "9a070e92-250e-4248-b6f4-f309368ffcab",
   "metadata": {
    "jupyter": {
     "source_hidden": true
    }
   },
   "outputs": [],
   "source": [
    "def UML_classes_attributes(*files):\n",
    "    \"\"\" \n",
    "    Function which collect information of uml classes/attributes extracted from Enterprise Architect using OMG XMI Version 2.1 format.\n",
    "    Input: list of XMI file to be anlyzed\n",
    "    Output:\n",
    "    Dataframe with following columns: class name, idref, xmlname, parent package and documentation, file source\n",
    "                                      attribute name, xmlname, type, lower value, upper value and documentation\n",
    "    \"\"\"\n",
    "    if not files:\n",
    "        raise ValueError(\"At least one file must be provided.\")\n",
    "\n",
    "    rows = []\n",
    "    source = 1\n",
    "    for file in files:\n",
    "        tree = etree.parse(file)\n",
    "        root = tree.getroot()\n",
    "        ns = get_namespaces(file)\n",
    "\n",
    "        classes = root.xpath(\"./xmi:Extension/elements/element[@xmi:type='uml:Class']\",namespaces=ns)\n",
    "\n",
    "        for c in classes:\n",
    "            class_name = c.xpath(\"string(@name)\",namespaces=ns)\n",
    "            class_doc = c.xpath(\"string(./properties/@documentation)\",namespaces=ns)\n",
    "            class_xmlname = c.xpath(\"string(./tags/tag[@name='xmlName']/@value)\",namespaces=ns)\n",
    "            class_idref = c.xpath(\"string(@xmi:idref)\",namespaces=ns)\n",
    "            path = path_package = f\"*//packagedElement[@name = '{class_name}']/ancestor::packagedElement[@xmi:type='uml:Package'][1]/@name\"\n",
    "            #path_package = f\"*//packagedElement[@xmi:type = 'uml:Class'and @name = '{class_name}']/ancestor::packagedElement[@xmi:type='uml:Package'][1]/@name\"\n",
    "            class_package = root.xpath(f\"string({path})\", namespaces=ns)\n",
    "            # class_package = root.xpath(f'string({path_package})',namespace=ns)\n",
    "            class_attributes = c.xpath(\"attributes/attribute\",namespaces=ns)\n",
    "            for att in class_attributes:\n",
    "                att_name = att.xpath(\"string(@name)\",namespaces=ns)\n",
    "                att_type = att.xpath(\"string(properties/@type)\",namespaces=ns)\n",
    "                att_low = att.xpath(\"string(bounds/@lower)\",namespaces=ns)\n",
    "                att_up = att.xpath(\"string(bounds/@upper)\",namespaces=ns)\n",
    "                att_doc = att.xpath(\"string(documentation/@value)\",namespaces=ns)\n",
    "                att_xmlname = att.xpath(\"string(tags/tag[@name='xmlName']/@value)\",namespaces=ns)\n",
    "                rows.append({'name':class_name,'doc':class_doc,'source':source,'xmlname':class_xmlname,'idref':class_idref,'package':class_package,\n",
    "                            'att_name':att_name,'att_xmlname':att_xmlname,'att_type':att_type,'att_low':att_low,'att_up':att_up,'att_doc':att_doc})\n",
    "\n",
    "        source += source\n",
    "\n",
    "    df = pd.DataFrame(rows,columns=['name','idref','source','xmlname','package','doc',\n",
    "                                   'att_name','att_xmlname','att_type','att_low','att_up','att_doc'])\n",
    "    return df\n",
    "    \n",
    "df_classes = UML_classes_attributes(s5f,cdm)\n",
    "df_classes.to_excel('classes_attributes.xlsx', index=False)\n",
    "\n",
    "num_classes = df_classes['name'].nunique()                            # Count the number of unique classes\n",
    "attributes_per_class = df_classes.groupby('name').size()              # Count the number of attributes per class\n",
    "total_attributes = attributes_per_class.sum()                         # Get the total number of attributes\n",
    "\n",
    "print(f\"There are {num_classes} classes and {total_attributes} attributes. Result is stored in classes_attributes.xlsx\")\n",
    "df_classes.head()"
   ]
  },
  {
   "cell_type": "code",
   "execution_count": null,
   "id": "0c9931ce-e58f-49de-b6e7-0aba752dd849",
   "metadata": {
    "jupyter": {
     "source_hidden": true
    }
   },
   "outputs": [],
   "source": [
    "class_name            ./xmi:Extension/elements/element[@xmi:type='uml:Class'][1]/@name                          ==> TechnicalOrder\n",
    "class_documentation   ./xmi:Extension/elements/element[@xmi:type='uml:Class'][1]/properties[@documentation]     ==> TechnicalOrder is a WorkItem ...\n",
    "class_xmlName   ./xmi:Extension/elements/element[@xmi:idref='EAID_254534EB_5372_4bfd_9577_6CB629060F89']/tags/tag[@name='xmlName']/@value  ==> to\n",
    "class_ref       ./xmi:Extension/elements/element[@xmi:idref='EAID_254534EB_5372_4bfd_9577_6CB629060F89']/tags/tag[@name='ref']/@value  ==> WorkItem\n",
    "class_idref     ./xmi:Extension/elements/element[@xmi:type='uml:Class'][1]/@xmi:idref                      ==>  AID_254534EB_5372_4bfd_9577_6CB629060F89\n",
    "class_package   ./*//packagedElement[@xmi:type = 'uml:Class'and @name = 'TechnicalOrder']//ancestor::packagedElement[@xmi:type='uml:Package'][1]/@name\n",
    "                                                                                                           ==> S5000F Change Embodiment"
   ]
  },
  {
   "cell_type": "code",
   "execution_count": null,
   "id": "aa55fe74-928e-4c34-b881-2348b53b1057",
   "metadata": {
    "jupyter": {
     "source_hidden": true
    }
   },
   "outputs": [],
   "source": [
    "def get_attributes(xmi_class):\n",
    "    \"\"\" Get attributes of xmi_class in Enterprise Architect XMI file.\n",
    "    input:\n",
    "        xmi_class      element located at ./xmi:Extension/elements/element[@xmi:type='uml:Class']\n",
    "    output:\n",
    "        list of tuplet attribute name, xmlname, type, lower value, upper value, documentation\n",
    "    \"\"\"\n",
    "    atts = []\n",
    "    class_attributes = xmi_class.xpath(\"attributes/attribute\",namespaces=ns)\n",
    "    for att in class_attributes:\n",
    "        att_name = att.xpath(\"string(@name)\",namespaces=ns)\n",
    "        att_type = att.xpath(\"string(properties/@type)\",namespaces=ns)\n",
    "        att_low = att.xpath(\"string(bounds/@lower)\",namespaces=ns)\n",
    "        att_up = att.xpath(\"string(bounds/@upper)\",namespaces=ns)\n",
    "        att_doc = att.xpath(\"string(documentation/@value)\",namespaces=ns)\n",
    "        att_xmlname = att.xpath(\"string(tags/tag[@name='xmlName']/@value)\",namespaces=ns)\n",
    "        atts.append({'att_name':att_name,'att_xmlname':att_xmlname,'att_type':att_type,'att_low':att_low,'att_up':att_up,'att_doc':att_doc})\n",
    "    return atts"
   ]
  },
  {
   "cell_type": "code",
   "execution_count": null,
   "id": "7bed9b84-449a-49d2-9c9d-0aebde7d4564",
   "metadata": {
    "jupyter": {
     "source_hidden": true
    }
   },
   "outputs": [],
   "source": [
    "from lxml import etree\n",
    "import pandas as pd\n",
    "\n",
    "def class_attribute(*files):\n",
    "    \"\"\"\n",
    "    Function to collect information about classes and attributes from Enterprise Architect XMI files.\n",
    "    Optimized to handle large files using iterparse.\n",
    "    Input: List of XMI files.\n",
    "    Output: DataFrame with columns:\n",
    "       - class name, xmlname, idref, source, parent package, and documentation.\n",
    "    \"\"\"\n",
    "    if not files:\n",
    "        raise ValueError(\"At least one file must be provided.\")\n",
    "    \n",
    "    rows = []\n",
    "    source = 1\n",
    "    \n",
    "    for file in files:\n",
    "        ns = {'xmi': 'http://schema.omg.org/spec/XMI/2.1'}\n",
    "        xmi = ns['xmi']\n",
    "        \n",
    "        # Step 1: Build a mapping of class_id -> parent package name\n",
    "        class_to_package = {}\n",
    "\n",
    "        context = etree.iterparse(file, events=('start', 'end'), remove_blank_text=True)\n",
    "        \n",
    "        for event, elem in context:\n",
    "            if event == 'start':\n",
    "                # Track package elements to determine parent packages\n",
    "                if elem.tag == 'packagedElement' and elem.attrib.get(f'{{{ns[\"xmi\"]}}}type') == 'uml:Class':\n",
    "                    class_name = elem.attrib.get('name', None)\n",
    "                    class_id = elem.attrib.get(f'{{{ns[\"xmi\"]}}}id',None)\n",
    "                    \n",
    "                    parent_package = elem.xpath(\n",
    "                        \"ancestor::packagedElement[@xmi:type='uml:Package'][1]/@name\",\n",
    "                        namespaces=ns\n",
    "                    )\n",
    "                    if class_id:\n",
    "                        class_to_package[class_id] = parent_package[0] if parent_package else None\n",
    "            elem.clear\n",
    "\n",
    "        # Step 2: Use class_refid to get the parent package name\n",
    "        context = etree.iterparse(file, events=('start', 'end'), remove_blank_text=True)\n",
    "\n",
    "        for event, elem in context:\n",
    "            if event == 'start':\n",
    "                if elem.tag == 'element' and elem.attrib.get(f'{{{xmi}}}type') == 'uml:Class':\n",
    "                    class_name = elem.attrib.get('name')              # Class name\n",
    "                    class_refid = elem.attrib.get(f'{{{xmi}}}idref')  # Reference ID\n",
    "                    class_doc = elem.xpath(\"string(./properties/@documentation)\",namespaces=ns)\n",
    "                    class_xmlname = elem.xpath(\"string(./tags/tag[@name='xmlName']/@value)\",namespaces=ns)\n",
    "\n",
    "                    # Use the dictionary to find the parent package\n",
    "                    parent_package = class_to_package.get(class_refid, None)\n",
    "\n",
    "                    # Collect attributes information\n",
    "                    class_attributes = elem.xpath(\"./attributes/attribute\",namespaces=ns)\n",
    "                    if class_attributes[1]:\n",
    "                        att_name = class_attributes[1].xpath(\"string(@name)\",namespaces=ns)\n",
    "                    else:\n",
    "                        pass\n",
    "                    #for att in class_attributes[1]:\n",
    "                        #att_name = att.xpath(\"string(@name)\",namespaces=ns)\n",
    "                        #att_type = att.xpath(\"string(properties/@type)\",namespaces=ns)\n",
    "                        #att_low = att.xpath(\"string(bounds/@lower)\",namespaces=ns)\n",
    "                        #att_up = att.xpath(\"string(bounds/@upper)\",namespaces=ns)\n",
    "                        #att_doc = att.xpath(\"string(documentation/@value)\",namespaces=ns)\n",
    "                        #att_xmlname = att.xpath(\"string(tags/tag[@name='xmlName']/@value)\",namespaces=ns)\n",
    "                        att_type,att_low,att_up,att_doc,att_xmlname = '','','','',''\n",
    "\n",
    "                        rows.append({'name':class_name,'doc':class_doc,'source':source,\n",
    "                                     'xmlname':class_xmlname,'id':class_refid,'package':parent_package,\n",
    "                                     'att_name':att_name,'att_xmlname':att_xmlname,'att_type':att_type,\n",
    "                                     'att_low':att_low,'att_up':att_up,'att_doc':att_doc})\n",
    "                        #print(rows)\n",
    "                \n",
    "                elem.clear()\n",
    "\n",
    "            source += source\n",
    "    # store result in dataframe\n",
    "    df = pd.DataFrame(rows,columns=['name','id','source','xmlname','package','doc',\n",
    "                                   'att_name','att_xmlname','att_type','att_low','att_up','att_doc'])\n",
    "    return df"
   ]
  },
  {
   "cell_type": "code",
   "execution_count": null,
   "id": "fb76f839-b80f-4ba9-acf3-2bcfd400bd6f",
   "metadata": {
    "jupyter": {
     "source_hidden": true
    }
   },
   "outputs": [],
   "source": [
    "df_classes_attributes = class_attribute(s5f,cdm)\n",
    "df_classes_attributes.to_excel('Resultats/classes_attributes.xlsx', index=False)\n",
    "#num_classes = df_classes_attributes['name'].nunique()            # Count the number of classes\n",
    "#print(f\"There are {num_classes} classes. Result is stored in excel file Resultats/classes_attributes.xlsx\")\n",
    "df_classes_attributes.head()"
   ]
  },
  {
   "cell_type": "markdown",
   "id": "f0a0c74e-7715-433a-a7c5-969e1a3248b0",
   "metadata": {},
   "source": [
    "## Get xsd:element having @name = att_xmlname and @type = att_name"
   ]
  },
  {
   "cell_type": "code",
   "execution_count": null,
   "id": "a3551560-73a4-47dc-adb1-f319d86e2920",
   "metadata": {
    "jupyter": {
     "source_hidden": true
    }
   },
   "outputs": [],
   "source": [
    "#### xsd_isf = \"C:/Users/Bernard/Desktop/S5000F/2024-12-06 S5000F/s5000f_4-0_isfDataset.xsd\"\n",
    "tree = etree.parse(xsd_isf)\n",
    "root = tree.getroot()\n",
    "ns = {'xsd':\"http://www.w3.org/2001/XMLSchema\",'xsig':\"http://www.w3.org/2000/09/xmldsig#\",'s5f':\"http://www.asd-europe.org/s-series/s5000f\",\n",
    "'vc':\"http://www.w3.org/2007/XMLSchema-versioning\",'value':\"http://www.asd-europe.org/s-series/s5000f/validValues\", \n",
    "'unit':\"http://www.asd-europe.org/s-series/s5000f/validValues\"}\n",
    "\n",
    "def remove_namespace(s):\n",
    "    for name,uri in ns.item:\n",
    "        s.replace(\n",
    "\n",
    "# Function to retrieve matching xsd:element from the XSD file\n",
    "def get_xsd_element(row):\n",
    "    xpath_query = f\".//xsd:element[@name='{row['att_xmlname']}' and @type='{row['att_name']}']\"\n",
    "    elements = root.xpath(xpath_query, namespaces=ns)\n",
    "    if elements:\n",
    "        element = elements[0]                                                             # Get the first matching element\n",
    "        element_string = etree.tostring(element, pretty_print=True, encoding=\"unicode\")   # Serialize the element back to a string\n",
    "        # Replace the default tag with the `xsd:` prefix\n",
    "        element_string = element_string.replace(\"<element\", \"<xsd:element\").replace(\"</element\", \"</xsd:element\")\n",
    "        return element_string\n",
    "    else:\n",
    "        return None             # Return None if no match is found\n",
    "\n",
    "# Apply the function to the DataFrame\n",
    "df_classes['xsd_element'] = df_classes.apply(get_xsd_element, axis=1)\n",
    "\n",
    "# Display the results\n",
    "df_classes.to_excel('classes_attributes_xsd1.xlsx', index=False)"
   ]
  },
  {
   "cell_type": "markdown",
   "id": "139abd44-07f8-4677-9af6-b6999743f806",
   "metadata": {},
   "source": [
    "## Comments\n",
    "There are 380 classes in Common Data Model (identified with source 1 in dataframe)<br>\n",
    "There are 427 classes in S5000F UML model(identified with source 2 in dataframe)<br>\n",
    "61 classes are in both data model, so there are two lines (source 1 and 2). It is to be noticed that xmi:idref, xmlname, documentation are not identical for the instance in CDM and instance in S5F<br>\n",
    "There is no xmlname for class \"BaseObject\"."
   ]
  },
  {
   "cell_type": "markdown",
   "id": "8c7a43cc-5b88-4f07-8338-d865a64fe489",
   "metadata": {},
   "source": [
    "## Get xsd:complexType in S5000F XSD file"
   ]
  },
  {
   "cell_type": "code",
   "execution_count": null,
   "id": "abb32259-21c0-4d48-acd6-6e63cddf84af",
   "metadata": {
    "jupyter": {
     "source_hidden": true
    }
   },
   "outputs": [],
   "source": [
    "tree = etree.parse(xsd_isf)\n",
    "root = tree.getroot()\n",
    "ns = get_namespaces(xsd_isf)\n",
    "ns = {'xsd':\"http://www.w3.org/2001/XMLSchema\", 'xsig':\"http://www.w3.org/2000/09/xmldsig#\",\n",
    "     's5f':\"http://www.asd-europe.org/s-series/s5000f\",\n",
    "      'vc':\"http://www.w3.org/2007/XMLSchema-versioning\",\n",
    "      'value':\"http://www.asd-europe.org/s-series/s5000f/validValues\",\n",
    "      'unit':\"http://www.asd-europe.org/s-series/s5000f/validValues\"}\n",
    "\n",
    "\n",
    "children = root.xpath(\"./xsd:complexType\",namespaces=ns)\n",
    "rows = []\n",
    "for e in children:\n",
    "    name = e.xpath(\"string(@name)\",namespaces=ns)\n",
    "    doc = e.xpath(\"string(./xsd:annotation/xsd:documentation)\",namespaces=ns)\n",
    "    source = e.xpath(\"string(./xsd:annotation/xsd:appinfo/s5f:source)\",namespaces=ns)\n",
    "    rows.append({'name':name,'doc':doc,'source':source})\n",
    "\n",
    "df_xsd_isf = pd.DataFrame(rows,columns=['name','source','doc'])\n",
    "\n",
    "df_xsd_isf.to_excel('XSD_complexType.xlsx', index=False)\n",
    "\n",
    "print(f\"There are {len(df_xsd_isf)} xsd:compexType. Result is stored in XSD_complexType.xlsx\")\n",
    "df_xsd_isf.head()"
   ]
  },
  {
   "cell_type": "markdown",
   "id": "e2c56b6d-55de-4484-aafa-5c3d709e190d",
   "metadata": {},
   "source": [
    "## Comments\n",
    "There are **2419 xsd:complexType**.<br>\n",
    "<u>Remark:</u> Following **xsd:complexType** have a missing documentation (no xsd:annotation/xsd:documentation but correct xsd:annotation/xsd:appinfo/source). This documentation is available in Enterprise Architect.\n",
    "\n",
    "aggregatedElementRevision,<br>\n",
    "circle,<br>\n",
    "cuboid,<br>\n",
    "cylinder,<br>\n",
    "dateTimeType,<br>\n",
    "organizationDates,<br>\n",
    "projectSpecificAttribute,<br>\n",
    "rectangle,<br>\n",
    "singleValuePropertyType,<br>\n",
    "sphere,<br>\n",
    "textPropertyType,<br>\n",
    "triangle,<br>\n",
    "valueRangePropertyType,<br>\n",
    "valueWithTolerancesPropertyType,<br>\n",
    "serializedPartIdentifier,<br>\n",
    "softwareReleaseIdentifier,<br>\n",
    "projectSpecificExtensionItem,<br>"
   ]
  },
  {
   "cell_type": "markdown",
   "id": "7d5e7ab2-4f90-41c8-944b-1d8d6c13749c",
   "metadata": {},
   "source": [
    "# ATTRIBUTE from XMI files"
   ]
  },
  {
   "cell_type": "markdown",
   "id": "8a82232b-2f7b-4fb1-999d-4dacf9df23d6",
   "metadata": {},
   "source": [
    "Select all classes identifier:\n",
    "    /xmi:XMI/uml:Model/*//packagedElement[@xmi:type='uml:Class']/@xmi:id\n",
    "- Class identifer: \n",
    "Use class identifier to select:\n",
    "- Class name:  /xmi:XMI/uml:Model/*//packagedElement[@xmi:id='EAID_254534EB_5372_4bfd_9577_6CB629060F89']/@name\n",
    "- Attributes:  /xmi:XMI/uml:Model/*//packagedElement[@xmi:id='EAID_254534EB_5372_4bfd_9577_6CB629060F89']/ownedAttribute\n",
    "    identifier: xmi:XMI/uml:Model/*//packagedElement[@xmi:id='EAID_254534EB_5372_4bfd_9577_6CB629060F89']/ownedAttribute/@xmi:id\n",
    "    name:       \n",
    "xmi:XMI/uml:Model/*//packagedElement[@xmi:id='EAID_254534EB_5372_4bfd_9577_6CB629060F89']/ownedAttribute/@nam\n",
    "    lower:      xmi:XMI/uml:Model/*//packagedElement[@xmi:id='EAID_254534EB_5372_4bfd_9577_6CB629060F89']/ownedAttribute/lowerValue/@value\n",
    "    upper:      xmi:XMI/uml:Model/*//packagedElement[@xmi:id='EAID_254534EB_5372_4bfd_9577_6CB629060F89']/ownedAttribute/upperValue/@value\n",
    "    type:       xmi:XMI/uml:Model/*//packagedElement[@xmi:id='EAID_254534EB_5372_4bfd_9577_6CB629060F89']/ownedAttribute/type/@xmi:idref "
   ]
  },
  {
   "cell_type": "code",
   "execution_count": null,
   "id": "4f52c513-a977-4e6a-b8d2-27caa10cbf95",
   "metadata": {
    "jupyter": {
     "source_hidden": true
    }
   },
   "outputs": [],
   "source": [
    "from collections import Counter\n",
    "\n",
    "def get_attributes(*files):\n",
    "    \"\"\" \n",
    "    Function which collect information of classes attributes extracted from Enterprise Architect using OMG XMI Version 2.1 format.\n",
    "    Input: list of XMI file to be analyzed\n",
    "    Output:\n",
    "    Dataframe with following information:\n",
    "      - Class name and class identifier\n",
    "      - Attributes name, identifier, lower and upper value, type\n",
    "      - Source information\n",
    "    \"\"\"\n",
    "    if not files:\n",
    "        raise ValueError(\"At least one file must be provided.\")\n",
    "    rows = []\n",
    "    \n",
    "    for file in files:\n",
    "        tree = etree.parse(file)\n",
    "        root = tree.getroot()\n",
    "        ns = get_namespaces(file)\n",
    "\n",
    "        source = file.split('/')[-1]\n",
    "\n",
    "        # get list of classes identifier\n",
    "        classes_ids = root.xpath(\"/xmi:XMI/uml:Model/*//packagedElement[@xmi:type='uml:Class']/@xmi:id\",namespaces=ns)\n",
    "        num_classes = len(classes_ids)\n",
    "        duplicate_classes = [k for k,v in Counter(classes_ids).items() if v>1]\n",
    "        print(f\"There are {num_classes} classes defined in {source}. There is {len(duplicate_classes)} duplicate identifier.\")\n",
    "        \n",
    "        for class_id in classes_ids:\n",
    "            p_name = f\"/xmi:XMI/uml:Model/*//packagedElement[@xmi:id='{class_id}']/@name\"\n",
    "            class_name = root.xpath(p_name,namespaces=ns)\n",
    "            p_attributes = f\"/xmi:XMI/uml:Model/*//packagedElement[@xmi:id='{class_id}']/ownedAttribute\"\n",
    "            attributes = root.xpath(p_attributes,namespaces=ns)\n",
    "            if len(attributes) != 0:\n",
    "                for a in attributes: \n",
    "                    att_name = a.root(\"/@name\",namespaces=ns)\n",
    "                    att_id = a.root(\"/@xmi:id\",namespaces=ns)\n",
    "                    att_low = a.root(\"/lowerValue/@value\",namespaces=ns)\n",
    "                    att_up = a.root(\"/upperValue/@value\",namespaces=ns)\n",
    "                    att_type = a.root(\"/type/@xmi:idref\",namespaces=ns)\n",
    "\n",
    "                    rows.append({'Class Identifier':class_id,'Class Name':class_name,\n",
    "                                 'Att Name':att_name,'Att Id':att_id,'Att Lower':att_low,'Att Upper':att_up,'Att Type':att_type,\n",
    "                                 'source':source})\n",
    "        \n",
    "        df = pd.DataFrame(rows,columns['Class Identifier','Class Name','Att Name','Att Id','Att Lower','Att Upper','Att Type','source'])\n",
    "    return df"
   ]
  },
  {
   "cell_type": "code",
   "execution_count": null,
   "id": "3683fd32-515a-4941-b78a-151fa3b6ad10",
   "metadata": {
    "jupyter": {
     "source_hidden": true
    }
   },
   "outputs": [],
   "source": [
    "from collections import Counter\n",
    "import pandas as pd\n",
    "from lxml import etree\n",
    "\n",
    "def get_namespaces(file):\n",
    "    \"\"\"Helper function to extract namespaces from the XMI file.\"\"\"\n",
    "    with open(file, 'r') as f:\n",
    "        root = etree.parse(f).getroot()\n",
    "    return root.nsmap\n",
    "\n",
    "def get_attributes(*files):\n",
    "    \"\"\" \n",
    "    Function to collect information about class attributes extracted from Enterprise Architect using OMG XMI Version 2.1 format.\n",
    "    Input: list of XMI files to be analyzed\n",
    "    Output:\n",
    "    DataFrame with the following information:\n",
    "      - Class name and class identifier\n",
    "      - Attributes name, identifier, lower and upper value, type\n",
    "      - Source information\n",
    "    \"\"\"\n",
    "    if not files:\n",
    "        raise ValueError(\"At least one file must be provided.\")\n",
    "    \n",
    "    rows = []\n",
    "    \n",
    "    for file in files:\n",
    "        tree = etree.parse(file)\n",
    "        root = tree.getroot()\n",
    "        ns = get_namespaces(file)\n",
    "\n",
    "        source = file.split('/')[-1]\n",
    "\n",
    "        # Get list of class identifiers\n",
    "        classes_ids = root.xpath(\"/xmi:XMI/uml:Model/*//packagedElement[@xmi:type='uml:Class']/@xmi:id\", namespaces=ns)\n",
    "        num_classes = len(classes_ids)\n",
    "        duplicate_classes = [k for k, v in Counter(classes_ids).items() if v > 1]\n",
    "        print(f\"There are {num_classes} classes defined in {source}. There are {len(duplicate_classes)} duplicate identifiers.\")\n",
    "        \n",
    "        for class_id in classes_ids:\n",
    "            p_name = f\"/xmi:XMI/uml:Model/*//packagedElement[@xmi:id='{class_id}']/@name\"\n",
    "            class_name = root.xpath(p_name, namespaces=ns)\n",
    "            class_name = class_name[0] if class_name else None\n",
    "\n",
    "            p_attributes = f\"/xmi:XMI/uml:Model/*//packagedElement[@xmi:id='{class_id}']/ownedAttribute\"\n",
    "            attributes = root.xpath(p_attributes, namespaces=ns)\n",
    "\n",
    "            if attributes:\n",
    "                for a in attributes:\n",
    "                    att_name = a.get(\"name\")\n",
    "                    att_id = a.get(\"{http://www.omg.org/XMI}id\")\n",
    "                    att_low = a.xpath(\"lowerValue/@value\", namespaces=ns)\n",
    "                    att_up = a.xpath(\"upperValue/@value\", namespaces=ns)\n",
    "                    att_type = a.get(\"type\")\n",
    "\n",
    "                    rows.append({\n",
    "                        'Class Identifier': class_id,\n",
    "                        'Class Name': class_name,\n",
    "                        'Att Name': att_name,\n",
    "                        'Att Id': att_id,\n",
    "                        'Att Lower': att_low[0] if att_low else None,\n",
    "                        'Att Upper': att_up[0] if att_up else None,\n",
    "                        'Att Type': att_type,\n",
    "                        'Source': source\n",
    "                    })\n",
    "    \n",
    "    df = pd.DataFrame(rows, columns=['Class Identifier', 'Class Name', 'Att Name', 'Att Id', 'Att Lower', 'Att Upper', 'Att Type', 'Source'])\n",
    "    return df\n"
   ]
  },
  {
   "cell_type": "code",
   "execution_count": null,
   "id": "bfc65c13-3cf9-47d0-8ff7-ce1f9cd6f059",
   "metadata": {
    "jupyter": {
     "source_hidden": true
    }
   },
   "outputs": [],
   "source": [
    "import pandas as pd\n",
    "from lxml.etree import iterparse\n",
    "\n",
    "def get_attributes(*files):\n",
    "    \"\"\"\n",
    "    Function to collect information about class attributes extracted from Enterprise Architect using OMG XMI Version 2.1 format.\n",
    "    Input: list of XMI files to be analyzed\n",
    "    Output:\n",
    "    DataFrame with the following information:\n",
    "      - Class name and class identifier\n",
    "      - Attributes name, identifier, lower and upper value, type\n",
    "      - Source information\n",
    "    \"\"\"\n",
    "    if not files:\n",
    "        raise ValueError(\"At least one file must be provided.\")\n",
    "\n",
    "    rows = []\n",
    "\n",
    "    for file in files:\n",
    "        source = file.split('/')[-1]\n",
    "        context = iterparse(file, events=(\"start\", \"end\"), tag=\"packagedElement\")\n",
    "\n",
    "        class_map = {}  # Map to track class information by ID\n",
    "\n",
    "        for event, elem in context:\n",
    "            if event == \"start\" and elem.get(\"{http://www.omg.org/XMI}type\") == \"uml:Class\":\n",
    "                class_id = elem.get(\"{http://www.omg.org/XMI}id\")\n",
    "                class_name = elem.get(\"name\")\n",
    "                class_map[class_id] = class_name\n",
    "\n",
    "            if event == \"end\" and elem.tag.endswith(\"ownedAttribute\"):\n",
    "                parent = elem.getparent()\n",
    "                if parent is not None:\n",
    "                    class_id = parent.get(\"{http://www.omg.org/XMI}id\")\n",
    "                    class_name = class_map.get(class_id, None)\n",
    "\n",
    "                    att_name = elem.get(\"name\")\n",
    "                    att_id = elem.get(\"{http://www.omg.org/XMI}id\")\n",
    "                    att_low = elem.find(\"lowerValue\").get(\"value\") if elem.find(\"lowerValue\") is not None else None\n",
    "                    att_up = elem.find(\"upperValue\").get(\"value\") if elem.find(\"upperValue\") is not None else None\n",
    "                    att_type = elem.get(\"type\")\n",
    "\n",
    "                    rows.append({\n",
    "                        'Class Identifier': class_id,\n",
    "                        'Class Name': class_name,\n",
    "                        'Att Name': att_name,\n",
    "                        'Att Id': att_id,\n",
    "                        'Att Lower': att_low,\n",
    "                        'Att Upper': att_up,\n",
    "                        'Att Type': att_type,\n",
    "                        'Source': source\n",
    "                    })\n",
    "\n",
    "            # Clear processed element to save memory\n",
    "            elem.clear()\n",
    "            while elem.getprevious() is not None:\n",
    "                del elem.getparent()[0]\n",
    "\n",
    "    df = pd.DataFrame(rows, columns=['Class Identifier', 'Class Name', 'Att Name', 'Att Id', 'Att Lower', 'Att Upper', 'Att Type', 'Source'])\n",
    "    return df\n"
   ]
  },
  {
   "cell_type": "code",
   "execution_count": null,
   "id": "7a77577c-84c2-4988-acd8-be69b04ab304",
   "metadata": {
    "jupyter": {
     "source_hidden": true
    }
   },
   "outputs": [],
   "source": [
    "df_attributes = get_attributes(s5f,cdm)\n",
    "df_attributes.to_excel('Resultats/Attributes.xlsx', index=False)\n",
    "\n",
    "num_classes = df_attributes['Class Identifier'].nunique()                       # Count the number of classes\n",
    "print(f\"There are {num_classes} classes and {len(df_attributes)} Attributes. Result is stored in Resultats/Attributes.xlsx\")\n",
    "df_connectors.head()  "
   ]
  },
  {
   "cell_type": "markdown",
   "id": "60cdb77c-4f29-455a-b282-054e1afe813b",
   "metadata": {},
   "source": [
    "## Example of element xsd:simpleType "
   ]
  },
  {
   "cell_type": "raw",
   "id": "5bbad748-5fd2-4e17-9c14-e564ea5939eb",
   "metadata": {},
   "source": [
    "IN FILE S5000F_4-0_VALID_VALUES.XSD\n",
    "<!-- ________________________________________________________________________________________________________________ -->\n",
    "\t<xsd:simpleType name=\"technicalOrderPriorityCode\">\n",
    "\t\t<xsd:restriction base=\"xsd:string\">\n",
    "\t\t\t<xsd:enumeration value=\"C\">\n",
    "\t\t\t\t<xsd:annotation>\n",
    "\t\t\t\t\t<xsd:appinfo>\n",
    "\t\t\t\t\t\t<source>SX001G:critical</source>\n",
    "\t\t\t\t\t</xsd:appinfo>\n",
    "\t\t\t\t</xsd:annotation>\n",
    "\t\t\t</xsd:enumeration>\n",
    "\t\t\t<xsd:enumeration value=\"L\">\n",
    "\t\t\t\t<xsd:annotation>\n",
    "\t\t\t\t\t<xsd:appinfo>\n",
    "\t\t\t\t\t\t<source>SX001G:low</source>\n",
    "\t\t\t\t\t</xsd:appinfo>\n",
    "\t\t\t\t</xsd:annotation>\n",
    "\t\t\t</xsd:enumeration>\n",
    "\t\t\t<xsd:enumeration value=\"R\">\n",
    "\t\t\t\t<xsd:annotation>\n",
    "\t\t\t\t\t<xsd:appinfo>\n",
    "\t\t\t\t\t\t<source>SX001G:routine</source>\n",
    "\t\t\t\t\t</xsd:appinfo>\n",
    "\t\t\t\t</xsd:annotation>\n",
    "\t\t\t</xsd:enumeration>\n",
    "\t\t\t<xsd:enumeration value=\"U\">\n",
    "\t\t\t\t<xsd:annotation>\n",
    "\t\t\t\t\t<xsd:appinfo>\n",
    "\t\t\t\t\t\t<source>SX001G:urgent</source>\n",
    "\t\t\t\t\t</xsd:appinfo>\n",
    "\t\t\t\t</xsd:annotation>\n",
    "\t\t\t</xsd:enumeration>\n",
    "\t\t\t<xsd:enumeration value=\"/EMPTY\">\n",
    "\t\t\t\t<xsd:annotation>\n",
    "\t\t\t\t\t<xsd:appinfo>\n",
    "\t\t\t\t\t\t<source>SX001G:nonSharedValue</source>\n",
    "\t\t\t\t\t</xsd:appinfo>\n",
    "\t\t\t\t</xsd:annotation>\n",
    "\t\t\t</xsd:enumeration>\n",
    "\t\t\t<xsd:enumeration value=\"/NULL\">\n",
    "\t\t\t\t<xsd:annotation>\n",
    "\t\t\t\t\t<xsd:appinfo>\n",
    "\t\t\t\t\t\t<source>SX001G:currentlyUnknownValue</source>\n",
    "\t\t\t\t\t</xsd:appinfo>\n",
    "\t\t\t\t</xsd:annotation>\n",
    "\t\t\t</xsd:enumeration>\n",
    "\t\t\t<xsd:enumeration value=\"N/A\">\n",
    "\t\t\t\t<xsd:annotation>\n",
    "\t\t\t\t\t<xsd:appinfo>\n",
    "\t\t\t\t\t\t<source>SX001G:notApplicableValue</source>\n",
    "\t\t\t\t\t</xsd:appinfo>\n",
    "\t\t\t\t</xsd:annotation>\n",
    "\t\t\t</xsd:enumeration>\n",
    "\t\t\t<!-- Special codes -->\n",
    "\t\t</xsd:restriction>\n",
    "\t</xsd:simpleType>"
   ]
  },
  {
   "cell_type": "markdown",
   "id": "85ec8606-f17a-41f8-835b-bbd39d7e41ca",
   "metadata": {},
   "source": [
    "## Template to be filled"
   ]
  },
  {
   "cell_type": "raw",
   "id": "18330b27-19b9-4dfe-b188-24fde998d340",
   "metadata": {},
   "source": [
    "<!-- ________________________________________________________________________________________________________________ -->\n",
    "\t<xsd:simpleType name=\"technicalOrderPriorityCode\">\n",
    "\t\t<xsd:restriction base=\"xsd:string\">\n",
    "        <!-- To be filled -->\n",
    "\t\t\t<xsd:enumeration value=\"/EMPTY\">\n",
    "\t\t\t\t<xsd:annotation>\n",
    "\t\t\t\t\t<xsd:appinfo>\n",
    "\t\t\t\t\t\t<source>SX001G:nonSharedValue</source>\n",
    "\t\t\t\t\t</xsd:appinfo>\n",
    "\t\t\t\t</xsd:annotation>\n",
    "\t\t\t</xsd:enumeration>\n",
    "\t\t\t<xsd:enumeration value=\"/NULL\">\n",
    "\t\t\t\t<xsd:annotation>\n",
    "\t\t\t\t\t<xsd:appinfo>\n",
    "\t\t\t\t\t\t<source>SX001G:currentlyUnknownValue</source>\n",
    "\t\t\t\t\t</xsd:appinfo>\n",
    "\t\t\t\t</xsd:annotation>\n",
    "\t\t\t</xsd:enumeration>\n",
    "\t\t\t<xsd:enumeration value=\"N/A\">\n",
    "\t\t\t\t<xsd:annotation>\n",
    "\t\t\t\t\t<xsd:appinfo>\n",
    "\t\t\t\t\t\t<source>SX001G:notApplicableValue</source>\n",
    "\t\t\t\t\t</xsd:appinfo>\n",
    "\t\t\t\t</xsd:annotation>\n",
    "\t\t\t</xsd:enumeration>\n",
    "\t\t\t<!-- Special codes -->\n"
   ]
  },
  {
   "cell_type": "markdown",
   "id": "04c8e9f2-88e4-43db-9b15-b78e89dc9ff7",
   "metadata": {},
   "source": [
    "## Analyze XSD file"
   ]
  },
  {
   "cell_type": "code",
   "execution_count": null,
   "id": "dce13574-ed22-4bed-9709-06abcb282b0a",
   "metadata": {
    "jupyter": {
     "source_hidden": true
    }
   },
   "outputs": [],
   "source": [
    "# get all name of element xsd:simple in file s5000f_4-0_valid_values.xsd\n",
    "file = \"C:/Users/Bernard/Desktop/S5000F/2024-12-06 S5000F/s5000f_4-0_valid_values.xsd\"\n",
    "tree = etree.parse(file)\n",
    "root = tree.getroot()\n",
    "ns = {'xsd': 'http://www.w3.org/2001/XMLSchema'}\n",
    "count = tree.xpath(\"count(/*/*)\")                         # number of first-level children in root\n",
    "\n",
    "rows=[]\n",
    "elements = root.xpath(\"//xsd:simpleType\",namespaces=ns)\n",
    "for elt in elements:\n",
    "    name = elt.xpath(\"string(@name)\",namespaces=ns)\n",
    "    rows.append({'name': name})\n",
    "\n",
    "# store result in dataframe and excel file\n",
    "df_xsd_simpletype = pd.DataFrame(rows,columns=['name',])\n",
    "df_xsd_simpletype.to_excel(\"xsd_simpletype.xlsx\")\n",
    "\n",
    "print(f\"There are {len(elements)} xsd:simpleType element out of {count} first level children in root.\")\n",
    "print(f\"These {len(elements)} name are stored in file xsd_simpletype\")"
   ]
  },
  {
   "cell_type": "markdown",
   "id": "4d84267f-39c7-4e05-b234-6429e3da3863",
   "metadata": {},
   "source": [
    "## Get all attribute name and type"
   ]
  },
  {
   "cell_type": "raw",
   "id": "46bed958-8d4d-4492-8ba4-105d5776ed0a",
   "metadata": {},
   "source": [
    "PRIMITIVE TYPES:\n",
    "<primitivetypes>\n",
    "  <packagedElement xmi:type=\"uml:Package\" xmi:id=\"EAPrimitiveTypesPackage\" name=\"EA_PrimitiveTypes_Package\" visibility=\"public\">\n",
    "\t<packagedElement xmi:type=\"uml:Package\" xmi:id=\"EAnoneTypesPackage\" name=\"EA_none_Types_Package\" visibility=\"public\">\n",
    "    \t<packagedElement xmi:type=\"uml:PrimitiveType\" xmi:id=\"EAnone_ClassificationType\" name=\"ClassificationType\" visibility=\"public\"/>\n",
    "        <packagedElement xmi:type=\"uml:PrimitiveType\" xmi:id=\"EAnone_DateType\" name=\"DateType\" visibility=\"public\"/>\n",
    "        <packagedElement xmi:type=\"uml:PrimitiveType\" xmi:id=\"EAnone_SingleValuePropertyType\" name=\"SingleValuePropertyType\" visibility=\"public\"/>\n",
    "        <packagedElement xmi:type=\"uml:PrimitiveType\" xmi:id=\"EAnone_IdentifierType\" name=\"IdentifierType\" visibility=\"public\"/>\n",
    "        <packagedElement xmi:type=\"uml:PrimitiveType\" xmi:id=\"EAnone_DateTimeRange\" name=\"DateTimeRange\" visibility=\"public\"/>\n",
    "        <packagedElement xmi:type=\"uml:PrimitiveType\" xmi:id=\"EAnone_PropertyType\" name=\"PropertyType\" visibility=\"public\"/>\n",
    "        <packagedElement xmi:type=\"uml:PrimitiveType\" xmi:id=\"EAnone_DateTimeType\" name=\"DateTimeType\" visibility=\"public\"/>\n",
    "        <packagedElement xmi:type=\"uml:PrimitiveType\" xmi:id=\"EAnone_DescriptorType\" name=\"DescriptorType\" visibility=\"public\"/>\n",
    "        <packagedElement xmi:type=\"uml:PrimitiveType\" xmi:id=\"EAnone_DateRange\" name=\"DateRange\" visibility=\"public\"/>\n",
    "        <packagedElement xmi:type=\"uml:PrimitiveType\" xmi:id=\"EAnone_NumericalPropertyType\" name=\"NumericalPropertyType\" visibility=\"public\"/>\n",
    "        <packagedElement xmi:type=\"uml:PrimitiveType\" xmi:id=\"EAnone_NameType\" name=\"NameType\" visibility=\"public\"/>\n",
    "        <packagedElement xmi:type=\"uml:PrimitiveType\" xmi:id=\"EAnone_Organization\" name=\"Organization\" visibility=\"public\"/>\n",
    "        <packagedElement xmi:type=\"uml:PrimitiveType\" xmi:id=\"EAnone_DatedClassification\" name=\"DatedClassification\" visibility=\"public\"/>\n",
    "        <packagedElement xmi:type=\"uml:PrimitiveType\" xmi:id=\"EAnone_ThreeDimensional\" name=\"ThreeDimensional\" visibility=\"public\"/>\n",
    "        <packagedElement xmi:type=\"uml:PrimitiveType\" xmi:id=\"EAnone_StateType\" name=\"StateType\" visibility=\"public\"/>\n",
    "        <packagedElement xmi:type=\"uml:PrimitiveType\" xmi:id=\"EAnone_umlInteger\" name=\"umlInteger\" visibility=\"public\"/>\n",
    "        <packagedElement xmi:type=\"uml:PrimitiveType\" xmi:id=\"EAnone_TimeType\" name=\"TimeType\" visibility=\"public\"/>\n",
    "        <packagedElement xmi:type=\"uml:PrimitiveType\" xmi:id=\"EAnone_TextPropertyType\" name=\"TextPropertyType\" visibility=\"public\"/>\n",
    "        <packagedElement xmi:type=\"uml:PrimitiveType\" xmi:id=\"EAnone_Dimensions\" name=\"Dimensions\" visibility=\"public\"/>\n",
    "        <packagedElement xmi:type=\"uml:PrimitiveType\" xmi:id=\"EAnone_ValueRangePropertyType\" name=\"ValueRangePropertyType\" visibility=\"public\"/>\n",
    "        <packagedElement xmi:type=\"uml:PrimitiveType\" xmi:id=\"EAnone_umlBoolean\" name=\"umlBoolean\" visibility=\"public\"/>\n",
    "        <packagedElement xmi:type=\"uml:PrimitiveType\" xmi:id=\"EAnone_ValueWithTolerancesPropertyType\" name=\"ValueWithTolerancesPropertyType\" visibility=\"public\"/>\n",
    "        <packagedElement xmi:type=\"uml:PrimitiveType\" xmi:id=\"EAnone_AuthorizedLife\" name=\"AuthorizedLife\" visibility=\"public\"/>\n",
    "    </packagedElement>\n",
    "  </packagedElement>\n",
    "</primitivetypes>"
   ]
  },
  {
   "cell_type": "code",
   "execution_count": null,
   "id": "05b9823a-f778-4191-980b-67de53bb32db",
   "metadata": {
    "jupyter": {
     "source_hidden": true
    }
   },
   "outputs": [],
   "source": [
    "import pandas as pd\n",
    "from lxml import etree\n",
    "\n",
    "cdm = \"S5000F_4-0/S-Series_SX002D_Data_model-XMIexport.xml\"\n",
    "s5f = \"S5000F_4-0/S-Series_S5000F_Data_model-XMIexport.xml\"\n",
    "\n",
    "def attribute_name_and_type(file):\n",
    "    tree = etree.parse(file)\n",
    "    root = tree.getroot()\n",
    "    ns = {'xmi': 'http://schema.omg.org/spec/XMI/2.1',\n",
    "     'uml' : \"http://schema.omg.org/spec/UML/2.1\"}  \n",
    "\n",
    "    # locate all packages\n",
    "    attributes = root.xpath(\"//packagedElement/ownedAttribute\", namespaces=ns)\n",
    "\n",
    "    rows = []\n",
    "    \n",
    "    for att in attributes:\n",
    "        name = att.xpath('string(@name)',namespaces=ns)\n",
    "        type = att.xpath(\"string(type/@xmi:idref)\", namespaces=ns)\n",
    "        rows.append({name,type})\n",
    "\n",
    "    # store result in dataframe and excel file\n",
    "    df = pd.DataFrame(rows,columns=['name','type'])\n",
    "    result = df['type'].value_counts(ascending=False)\n",
    "\n",
    "    # Convert to DataFrame for better presentation in Excel\n",
    "    result_df = result.reset_index()\n",
    "    result_df.columns = ['type', 'count']\n",
    "\n",
    "    # Save to Excel file\n",
    "    result_df.to_excel('type_counts.xlsx', index=False)\n",
    "    print(\"Results have been saved to 'type_counts.xlsx'\")\n",
    "\n",
    "    return df,result_df\n",
    "\n",
    "df,occ = attribute_name_and_type(s5f)\n",
    "df.to_excel(\"xmi_attribute_type.xlsx\")"
   ]
  },
  {
   "cell_type": "code",
   "execution_count": null,
   "id": "751d1197-1714-49b2-8219-368d2dc3983c",
   "metadata": {
    "jupyter": {
     "source_hidden": true
    }
   },
   "outputs": [],
   "source": [
    "# extrxct "
   ]
  },
  {
   "cell_type": "code",
   "execution_count": null,
   "id": "eb11ca55-25a9-41a6-84bf-e4255d4a2b16",
   "metadata": {
    "jupyter": {
     "source_hidden": true
    }
   },
   "outputs": [],
   "source": [
    "import pandas as pd\n",
    "import re\n",
    "\n",
    "try:\n",
    "    from lxml import etree\n",
    "    print(\"running with lxml.etree\")\n",
    "except ImportError:\n",
    "    import xml.etree.ElementTree as etree\n",
    "    print(\"running with Python's xml.etree.ElementTree\")"
   ]
  },
  {
   "cell_type": "code",
   "execution_count": null,
   "id": "17679a47-9313-4da4-affb-4aea666afead",
   "metadata": {
    "jupyter": {
     "source_hidden": true
    }
   },
   "outputs": [],
   "source": [
    "# fonction en cours de modification\n",
    "def get_classes(file):\n",
    "    tree = etree.parse(file)\n",
    "    root = tree.getroot()\n",
    "    ns = get_namespaces(file)\n",
    "\n",
    "    # locate all classes\n",
    "    classes = root.xpath(\"*//packagedElement[@xmi:type = 'uml:Class']\", namespaces=ns)\n",
    "\n",
    "    rows = []\n",
    "    # get all information about class\n",
    "    for c in classes:\n",
    "        \"\"\"\n",
    "        class name is located at:             /xmi:XMI/xmi:Extension/elements/element/@name\n",
    "        class documentation is located at:    /xmi:XMI/xmi:Extension/elements/element/properties/@documentation\n",
    "        class xmlname is located at:          /xmi:XMI/xmi:Extension/elements/element/tags/tag[@name='xmlName']/@value\n",
    "        \n",
    "        \"\"\"\n",
    "        name = c.xpath(\"string(@name)\",namespaces=ns)\n",
    "        attributes = c.xpath(\"ownedAttribute[@name]\",namespaces=ns)\n",
    "        for a in attributes:\n",
    "            \"\"\" \n",
    "            attribute\n",
    "            name is located at:          /xmi:XMI/xmi:Extension/elements/element[2]/attributes/attribute[1]/@name\n",
    "            upper value is located at:   /xmi:XMI/xmi:Extension/elements/element[2]/attributes/attribute[1]/bounds/@upper\n",
    "            lower value is located at:   /xmi:XMI/xmi:Extension/elements/element[2]/attributes/attribute[1]/bounds/@lower\n",
    "            documentation is located at: /xmi:XMI/xmi:Extension/elements/element[2]/attributes/attribute[1]/documentation/@value\n",
    "            \"\"\"\n",
    "            att_name = a.xpath('string(@name)',namespaces=ns)\n",
    "            att_low = a.xpath('string(lowerValue/@value)',namespaces=ns)\n",
    "            att_up = a.xpath('string(upperValue/@value)',namespaces=ns)\n",
    "            rows.append({'name':name, 'att_name':att_name,'att_low':att_low,'att_up':att_up})\n",
    "\n",
    "    # store result in dataframe and excel file\n",
    "    df = pd.DataFrame(rows,columns=['name','att_name','att_low','att_up'])\n",
    "    \n",
    "    return df"
   ]
  },
  {
   "cell_type": "code",
   "execution_count": null,
   "id": "719218a2-4646-4c9d-a2ee-815178217a4a",
   "metadata": {
    "jupyter": {
     "source_hidden": true
    }
   },
   "outputs": [],
   "source": [
    "# Locate XMI files extracted from Enterprise Architect application\n",
    "cdm = \"S5000F_4-0/S-Series_SX002D_Data_model-XMIexport.xml\"\n",
    "s5f = \"S5000F_4-0/S-Series_S5000F_Data_model-XMIexport.xml\"\n",
    "\n",
    "ns = {'xmi': 'http://schema.omg.org/spec/XMI/2.1',\n",
    "     'uml' : \"http://schema.omg.org/spec/UML/2.1\"}         # Define the namespace for the XPath query\n",
    "\n",
    "df_cdm = get_classes(cdm)\n",
    "df_s5f = get_classes(s5f)\n",
    "df_classes = pd.concat ([df_cdm,df_s5f])\n",
    "#df_classes.set_index('identifier',inplace=True)\n",
    "df_classes.to_excel('classes.xlsx', index=False)\n",
    "df_classes.head()"
   ]
  },
  {
   "cell_type": "code",
   "execution_count": null,
   "id": "d8bf6ef4-68b9-42c9-b3dd-84176cf6eed0",
   "metadata": {
    "jupyter": {
     "source_hidden": true
    }
   },
   "outputs": [],
   "source": []
  },
  {
   "cell_type": "code",
   "execution_count": null,
   "id": "ff52ccec-be82-4600-8ec0-ee1584d15d78",
   "metadata": {
    "jupyter": {
     "source_hidden": true
    }
   },
   "outputs": [],
   "source": []
  },
  {
   "cell_type": "code",
   "execution_count": null,
   "id": "00f0aaab-ebe6-4bf7-a309-e202c9e6b188",
   "metadata": {
    "jupyter": {
     "source_hidden": true
    }
   },
   "outputs": [],
   "source": []
  },
  {
   "cell_type": "code",
   "execution_count": null,
   "id": "d0abea6f-997d-4b00-a12c-a3112c351ec3",
   "metadata": {
    "jupyter": {
     "source_hidden": true
    }
   },
   "outputs": [],
   "source": []
  },
  {
   "cell_type": "code",
   "execution_count": null,
   "id": "6d239d59-ea85-4238-bb9d-5fe5a32ec79c",
   "metadata": {
    "jupyter": {
     "source_hidden": true
    }
   },
   "outputs": [],
   "source": []
  },
  {
   "cell_type": "code",
   "execution_count": null,
   "id": "63234ef0-ebec-4389-b34c-29e1b608694c",
   "metadata": {
    "jupyter": {
     "source_hidden": true
    }
   },
   "outputs": [],
   "source": []
  },
  {
   "cell_type": "raw",
   "id": "86da71bf-ba3d-4dd2-8068-7498766e6fc0",
   "metadata": {},
   "source": [
    "def get_classes(file):\n",
    "    tree = etree.parse(file)\n",
    "    root = tree.getroot()\n",
    "    ns = get_namespaces(file)\n",
    "    print(\"Namespaces:\", ns)  # Debug: Print extracted namespaces\n",
    "\n",
    "    # locate all classes\n",
    "    classes = root.xpath(\"*//packagedElement[@xmi:type = 'uml:Class']\", namespaces=ns)\n",
    "\n",
    "    rows = []\n",
    "    # get all information about class\n",
    "    for c in classes:\n",
    "        name = c.xpath(\"string(@name)\",namespaces=ns)\n",
    "        id = c.xpath(\"string(@xmi:id)\", namespaces=ns)\n",
    "        print(name,id)\n",
    "\n",
    "#        ref_doc = f\"//element[@xmi:idref = '{id}']/properties[@documentation]\"\n",
    "#        doc = c.xpath(ref_doc,namespaces=ns)[0].attrib['documentation']\n",
    "#        ref_xmlname = f\"//element[@xmi:idref = '{id}']/tags/tag[@name='xmlName']\" \n",
    "     \n",
    "#        xmlName = c.xpath(ref_xmlname,namespaces=ns)\n",
    "\n",
    "      \n",
    "        \n",
    "        # get attributes\n",
    "        reference = f\"//element[@xmi:idref = '{id}']/attributes/attribute[@name]\"\n",
    "        attributes = c.xpath(reference,namespaces = ns)\n",
    "        for a in attributes:\n",
    "            att_name = a.attrib['name']\n",
    "            d = a.xpath('./documentation/@value')\n",
    "            att_doc = d[0] if d else ''\n",
    "            u = a.xpath('./bounds/@upper')\n",
    "            att_up = u[0] if u else ''\n",
    "            l = a.xpath('./bounds/@lower')\n",
    "            att_low = l[0] if l else ''\n",
    "\n",
    "\n",
    "            rows.append({'name': name,'identifier':id,'documentation':doc,'xmlName':xmlName, \n",
    "                'att_name':att_name, 'att_doc': att_doc, 'att_low':att_low, 'att_up':att_up})\n",
    "\n",
    "\n",
    "    # store result in dataframe and excel file\n",
    "    df = pd.DataFrame(rows,columns=['name','identifier','documentation','xmlname','att_name','att_low','att_up','att_doc'])\n",
    "    return df"
   ]
  },
  {
   "cell_type": "code",
   "execution_count": null,
   "id": "1f6ca3aa-3e6f-4bda-b03f-422f0e3015d0",
   "metadata": {
    "jupyter": {
     "source_hidden": true
    }
   },
   "outputs": [],
   "source": []
  },
  {
   "cell_type": "code",
   "execution_count": null,
   "id": "416726dc-fcff-423b-a3ea-1cd42a8da821",
   "metadata": {
    "jupyter": {
     "source_hidden": true
    }
   },
   "outputs": [],
   "source": [
    "#file = \"S5000F_4-0/S-Series_S5000F_Data_model-XMIexport.xml\"\n",
    "file = \"S5000F_4-0/S-Series_SX002D_Data_model-XMIexport.xml\"\n",
    "tree = etree.parse(file)\n",
    "root = tree.getroot()\n",
    "ns = get_namespaces(file)\n",
    "\n",
    "#classes = root.xpath(\"uml:Model/packagedElement/packagedElement/packagedElement/packagedElement/packagedElement/packagedElement[@xmi:type='uml:Class']\", namespaces=ns)\n",
    "classes = root.xpath(\"uml:Model/packagedElement/packagedElement/packagedElement/packagedElement[@xmi:type='uml:Class']\",namespaces = ns)\n",
    "\n",
    "# Process only the first class\n",
    "rows = []\n",
    "for c in classes:\n",
    "    name = c.xpath('@name',namespaces=ns)[0]     # get name of the class\n",
    "    id = c.xpath(\"@xmi:id\", namespaces=ns)[0]    # get identifier of the class\n",
    "    \n",
    "    reference = f\"//element[@xmi:idref = '{id}']/properties[@documentation]\"           # locate element which is pointed by class identifier\n",
    "    doc = c.xpath(reference,namespaces=ns)[0].attrib['documentation']\n",
    "    \n",
    "    reference = f\"//element[@xmi:idref = '{id}']/tags/tag[@name='xmlName']\" \n",
    "    xmlName = c.xpath(reference,namespaces=ns)\n",
    "\n",
    "    # get attributes\n",
    "    reference = f\"//element[@xmi:idref = '{id}']/attributes/attribute[@name]\"\n",
    "    attributes = c.xpath(reference,namespaces = ns)\n",
    "    for a in attributes:\n",
    "        att_name = a.attrib['name'] \n",
    "        att_doc = a.xpath('./documentation/@value')[0]\n",
    "        att_up = a.xpath('./bounds/@upper')[0]\n",
    "        att_low = a.xpath('./bounds/@lower')[0]\n",
    "        # print(att_name,att_doc,att_up,att_low)\n",
    "\n",
    "\n",
    "        rows.append({'name': name,'identifier':id,'documentation':doc,'xmlName':xmlName, \n",
    "                'att_name':att_name, 'att_doc': att_doc, 'att_low':att_low, 'att_up':att_up})\n",
    "\n",
    "\n",
    "\n",
    "# store result in dataframe and excel file\n",
    "df = pd.DataFrame(rows,columns=['name','identifier','documentation','xmlname','att_name','att_low','att_up','att_doc'])\n",
    "df.to_excel('classes.xlsx', index=False)\n",
    "\n",
    "print(f\"There are {len(df)} classes in this XMI file\")"
   ]
  },
  {
   "cell_type": "markdown",
   "id": "8cbef885-1f3e-4c01-b5e8-0e2d8b05f710",
   "metadata": {},
   "source": [
    "# Analyse XSD file"
   ]
  },
  {
   "cell_type": "code",
   "execution_count": null,
   "id": "5edc56e4-d29f-4d81-958f-1c12599f35d2",
   "metadata": {
    "jupyter": {
     "source_hidden": true
    }
   },
   "outputs": [],
   "source": [
    "import pandas as pd\n",
    "import re\n",
    "from lxml import etree\n",
    "\n",
    "xsd_isf = \"S5000F_4-0/XSD/s5000f_4-0_isfDataset.xsd\"\n",
    "isf_tree = etree.parse(xsd_isf)\n",
    "isf_root = isf_tree.getroot()\n",
    "\n",
    "xsd_lov = \"S5000F_4-0/XSD/s5000f_4-0_valid_values.xsd\"\n",
    "lov_tree = etree.parse(xsd_lov)\n",
    "lov_root = lov_tree.getroot()"
   ]
  },
  {
   "cell_type": "code",
   "execution_count": null,
   "id": "7da2e4cf-9004-40ea-b58c-2ad1e8ef2cb0",
   "metadata": {
    "jupyter": {
     "source_hidden": true
    }
   },
   "outputs": [],
   "source": [
    "def complexType(*files):\n",
    "    \"\"\" \n",
    "    Collect information contained in XML Schema file.\n",
    "    Input:\n",
    "        list of XSD files to be analyzed\n",
    "    Output:\n",
    "        df dataframe       index: package identifier, columns package name, parent package name, source\n",
    "    \"\"\"\n",
    "    if not files:\n",
    "        raise ValueError(\"At least one file must be provided.\")\n",
    "\n",
    "    rows = []\n",
    "    for file in files:\n",
    "        source = file.split('/')[-1]\n",
    "        ns = {'xsd':\"http://www.w3.org/2001/XMLSchema\",\n",
    "              'xsig':\"http://www.w3.org/2000/09/xmldsig#\", \n",
    "              's50':\"http://www.asd-europe.org/s-series/s5000f\",\n",
    "              'vc':\"http://www.w3.org/2007/XMLSchema-versioning\",\n",
    "              'value':\"http://www.asd-europe.org/s-series/s5000f/validValues\",\n",
    "              'unit':\"http://www.asd-europe.org/s-series/s5000f/validValues\"}\n",
    "        xsd = '{' + ns['xsd'] + '}'\n",
    "\n",
    "        xsd_complexType = xsd+\"complexType\"\n",
    "        \n",
    "        context = etree.iterparse(file, events=('end',),tag=('{http://www.w3.org/2001/XMLSchema}complexType',\n",
    "                                                            '{http://www.w3.org/2001/XMLSchema}group'))\n",
    "\n",
    "        for event, elem in context:\n",
    "        # Check if the parent is the root element (first-level element)\n",
    "            parent = elem.getparent()\n",
    "            if parent is not None and etree.QName(parent.tag).localname == \"schema\":\n",
    "                # Process the element since it is at the first level\n",
    "                tag = etree.QName(elem.tag).localname\n",
    "                name = elem.attrib.get(\"name\")\n",
    "                if len(elem) > 1:\n",
    "                    seq = etree.QName(elem[1]).localname\n",
    "                    children = elem[1].getchildren()\n",
    "                    for e in children:\n",
    "                        elt_xml = etree.tostring(e).decode('utf-8') \n",
    "                        rows.append({'tag': tag, 'name':name,'seq':seq,'elt_xml': elt_xml})\n",
    "                else:\n",
    "                    seq =''\n",
    "                    elt_xml = ''\n",
    "                elem.clear()\n",
    "    df = pd.DataFrame(rows,columns=['tag','name','seq','elt_xml'])\n",
    "    return df"
   ]
  },
  {
   "cell_type": "code",
   "execution_count": null,
   "id": "7dcc22e4-c488-49b7-bbad-3c80ddf15ed7",
   "metadata": {
    "jupyter": {
     "source_hidden": true
    }
   },
   "outputs": [],
   "source": [
    "# create a dataframe containing first level children of s5000f xsd file\n",
    "df = complexType(xsd_isf)\n",
    "\n",
    "# prepare namespaces string to clean dataframe\n",
    "ns = {'xsd':\"http://www.w3.org/2001/XMLSchema\",'xsig':\"http://www.w3.org/2000/09/xmldsig#\",'s5f':\"http://www.asd-europe.org/s-series/s5000f\",\n",
    "'vc':\"http://www.w3.org/2007/XMLSchema-versioning\",'value':\"http://www.asd-europe.org/s-series/s5000f/validValues\", \n",
    "'unit':\"http://www.asd-europe.org/s-series/s5000f/validValues\"}\n",
    "namespace_str = ' '.join(\n",
    "    [f'xmlns:{key}=\"{value}\"' if key != 's5f' else f'xmlns=\"{value}\"' for key, value in ns.items()])\n",
    "\n",
    "# clean dataframe column elt_xml\n",
    "df['elt_xml'] = df['elt_xml'].str.replace(namespace_str, '').replace(r'\\s+', ' ', regex=True)\n",
    "#df.head(10)\n",
    "\n",
    "# save dataframe in excel file\n",
    "df.to_excel(\"Resultats/xsd_1st_level.xlsx\")"
   ]
  },
  {
   "cell_type": "markdown",
   "id": "bc99fe42-c448-4145-9b3e-fad642b5ac78",
   "metadata": {},
   "source": [
    "## thecustomprofile and UML_Profile_003-00"
   ]
  },
  {
   "cell_type": "code",
   "execution_count": null,
   "id": "4989e858-1eb0-497d-816d-8f4f9791533e",
   "metadata": {
    "jupyter": {
     "source_hidden": true
    }
   },
   "outputs": [],
   "source": [
    "from lxml import etree"
   ]
  },
  {
   "cell_type": "code",
   "execution_count": null,
   "id": "3a9a921d-9942-4b34-abcc-312e849f6b5a",
   "metadata": {
    "jupyter": {
     "source_hidden": true
    }
   },
   "outputs": [],
   "source": [
    "cdm = \"S5000F_4-0/Model/SX002D_Data_model.xml\"\n",
    "cdm_tree = etree.parse(cdm)\n",
    "cdm_root = cdm_tree.getroot()\n",
    "\n",
    "s5f = \"S5000F_4-0/Model/S5000F_Data_model.xml\"\n",
    "s5f_tree = etree.parse(s5f)\n",
    "s5f_root = s5f_tree.getroot()"
   ]
  },
  {
   "cell_type": "code",
   "execution_count": null,
   "id": "ec4eb25b-9820-4033-b903-56942b65aaba",
   "metadata": {
    "jupyter": {
     "source_hidden": true
    }
   },
   "outputs": [],
   "source": [
    "def customprofile(*files):\n",
    "    if not files:\n",
    "        raise ValueError(\"At least one file must be provided.\")\n",
    "\n",
    "    rows = []\n",
    "    for file in files:\n",
    "        source = file.split('/')[-1]\n",
    "\n",
    "        _tree = etree.parse(file)\n",
    "        _root = _tree.getroot()\n",
    "        namespaces = _root.nsmap      # extract all namespaces\n",
    "\n",
    "        uml_elements = s5f_root.xpath('//*[namespace-uri()=\"http://www.sparxsystems.com/profiles/thecustomprofile/1.0\"]')\n",
    "\n",
    "        for element in uml_elements:\n",
    "            tag_name = etree.QName(element).localname     # Remove namespace from the tag\n",
    "        \n",
    "            # Collect attributes and text content\n",
    "            attributes = element.attrib\n",
    "            attributes['text'] = element.text  # Add text content as a separate column\n",
    "        \n",
    "            # Add the tag name as a column\n",
    "            attributes['tag'] = tag_name\n",
    "        \n",
    "            # Append to the data list\n",
    "            row.append(attributes)\n",
    "\n",
    "        df = pd.DataFrame(data)\n",
    "    return df"
   ]
  },
  {
   "cell_type": "code",
   "execution_count": null,
   "id": "205fc9c3-6c0c-4a61-9ba0-98796b76e052",
   "metadata": {
    "jupyter": {
     "source_hidden": true
    }
   },
   "outputs": [],
   "source": [
    "df = customprofile(s5f,cdm)\n",
    "df.head(10)"
   ]
  },
  {
   "cell_type": "code",
   "execution_count": null,
   "id": "3e108be5-faf9-40e4-9029-afea00c58f2f",
   "metadata": {
    "jupyter": {
     "source_hidden": true
    }
   },
   "outputs": [],
   "source": [
    "from lxml import etree\n",
    "import pandas as pd\n",
    "\n",
    "def customprofile(*files):\n",
    "    if not files:\n",
    "        raise ValueError(\"At least one file must be provided.\")\n",
    "\n",
    "    rows = []  # List to store row data for the DataFrame\n",
    "\n",
    "    for file in files:\n",
    "        source = file.split('/')[-1]  # Extract file name\n",
    "\n",
    "        _tree = etree.parse(file)\n",
    "        _root = _tree.getroot()\n",
    "        namespaces = _root.nsmap  # Extract all namespaces\n",
    "\n",
    "        # Find elements in the specific namespace\n",
    "        uml_elements = _root.xpath('//*[namespace-uri()=\"http://www.sparxsystems.com/profiles/thecustomprofile/1.0\"]')\n",
    "\n",
    "        for element in uml_elements:\n",
    "            tag_name = etree.QName(element).localname  # Remove namespace from the tag\n",
    "\n",
    "            # Convert attributes to a standard dictionary and handle missing text content\n",
    "            attributes = dict(element.attrib)  # Convert _Attrib to a standard dictionary\n",
    "            attributes['text'] = element.text if element.text is not None else ''  # Safely add text content\n",
    "            attributes['tag'] = tag_name  # Add the tag name as a column\n",
    "            attributes['source'] = source  # Add the source file name as a column\n",
    "\n",
    "            # Append attributes as a row\n",
    "            rows.append(attributes)\n",
    "\n",
    "    # Convert rows to a DataFrame\n",
    "    df = pd.DataFrame(rows)\n",
    "    return df\n",
    "\n",
    "# Example usage\n",
    "cdm = \"S5000F_4-0/Model/SX002D_Data_model.xml\"\n",
    "s5f = \"S5000F_4-0/Model/S5000F_Data_model.xml\"\n",
    "df = customprofile(s5f, cdm)\n",
    "\n",
    "df.to_excel(\"Resultats/customprofile.xlsx\")\n",
    "\n",
    "# Display the DataFrame\n",
    "df.head()\n"
   ]
  },
  {
   "cell_type": "code",
   "execution_count": null,
   "id": "0b8222d8-8c3c-4cf9-b15a-0f62512c1aac",
   "metadata": {
    "jupyter": {
     "source_hidden": true
    }
   },
   "outputs": [],
   "source": [
    "from lxml import etree\n",
    "import pandas as pd\n",
    "\n",
    "# Parse the XML file\n",
    "xsd_isf = \"S5000F_4-0/XSD/s5000f_4-0_isfDataset.xsd\"\n",
    "isf_tree = etree.parse(xsd_isf)\n",
    "isf_root = isf_tree.getroot()\n",
    "\n",
    "# Find all elements in the specific namespace\n",
    "namespace_uri = \"http://www.sparxsystems.com/profiles/thecustomprofile/1.0\"\n",
    "uml_elements = isf_root.xpath(f'//*[namespace-uri()=\"{namespace_uri}\"]')\n",
    "\n",
    "# List to store the extracted data\n",
    "data = []\n",
    "\n",
    "# Process each element\n",
    "for element in uml_elements:\n",
    "    # Remove namespace from the tag\n",
    "    tag_name = etree.QName(element).localname\n",
    "    \n",
    "    # Collect attributes and text content\n",
    "    attributes = element.attrib\n",
    "    attributes['text'] = element.text  # Add text content as a separate column\n",
    "    \n",
    "    # Add the tag name as a column\n",
    "    attributes['tag'] = tag_name\n",
    "    \n",
    "    # Append to the data list\n",
    "    data.append(attributes)\n",
    "\n",
    "# Convert to DataFrame\n",
    "df = pd.DataFrame(data)\n",
    "\n",
    "# Display the DataFrame\n",
    "print(df)\n"
   ]
  },
  {
   "cell_type": "code",
   "execution_count": null,
   "id": "088dc811-a485-4b7d-8c8c-e902b3eba410",
   "metadata": {
    "jupyter": {
     "source_hidden": true
    }
   },
   "outputs": [],
   "source": [
    "xsd_isf = \"S5000F_4-0/XSD/s5000f_4-0_isfDataset.xsd\"\n",
    "isf_tree = etree.parse(xsd_isf)\n",
    "isf_root = isf_tree.getroot()\n",
    "\n",
    "# Define namespaces\n",
    "namespaces = {\n",
    "    'thecustomprofile': \"http://www.sparxsystems.com/profiles/thecustomprofile/1.0\"\n",
    "}\n",
    "\n",
    "# Find all elements in the UML_Profile_003-00 namespace\n",
    "uml_elements = isf_root.xpath('//*[namespace-uri()=\"http://www.sparxsystems.com/profiles/thecustomprofile/1.0\"]')\n",
    "\n",
    "# Print the elements\n",
    "for element in uml_elements:\n",
    "    print(f\"Tag: {element.tag}, Text: {element.text}\")"
   ]
  },
  {
   "cell_type": "code",
   "execution_count": null,
   "id": "ecab6f8e-42c1-4f1d-9c02-4754b21c4f27",
   "metadata": {
    "jupyter": {
     "source_hidden": true
    }
   },
   "outputs": [],
   "source": [
    "from lxml import etree\n",
    "\n",
    "# Parse the XML file\n",
    "xsd_isf = \"S5000F_4-0/XSD/s5000f_4-0_isfDataset.xsd\"\n",
    "isf_tree = etree.parse(xsd_isf)\n",
    "isf_root = isf_tree.getroot()\n",
    "\n",
    "# Inspect the root tag and its namespaces\n",
    "print(f\"Root tag: {isf_root.tag}\")\n",
    "print(f\"Namespaces: {isf_root.nsmap}\")\n",
    "\n",
    "# Define namespaces based on nsmap (inspect it to ensure correctness)\n",
    "namespaces = isf_root.nsmap  # This extracts all namespaces automatically\n",
    "\n",
    "# Find all elements in the specific namespace\n",
    "uml_elements = isf_root.xpath('//*[namespace-uri()=\"http://www.sparxsystems.com/profiles/thecustomprofile/1.0\"]')\n",
    "\n",
    "# Print the elements and their attributes as dictionaries\n",
    "if uml_elements:\n",
    "    for element in uml_elements:\n",
    "        attributes = element.attrib  # Extract attributes as a dictionary\n",
    "        print(f\"Tag: {element.tag}, Text: {element.text}, Attributes: {attributes}\")\n",
    "else:\n",
    "    print(\"No elements found in the specified namespace.\")"
   ]
  },
  {
   "cell_type": "markdown",
   "id": "33d476b0-398e-4c10-97a1-36ebe4174c34",
   "metadata": {},
   "source": [
    "## List of elements by type of UML object"
   ]
  },
  {
   "cell_type": "code",
   "execution_count": null,
   "id": "fc8fed72-796e-4b47-84b7-c521c193109a",
   "metadata": {
    "jupyter": {
     "source_hidden": true
    }
   },
   "outputs": [],
   "source": [
    "def list_complexType(start,end):\n",
    "    xsd_isf = \"S5000F_4-0/XSD/s5000f_4-0_isfDataset.xsd\"\n",
    "    isf_tree = etree.parse(xsd_isf)\n",
    "    isf_root = isf_tree.getroot()\n",
    "\n",
    "    # Find all xsd:complexType elements\n",
    "    complex_types = isf_tree.xpath('/xsd:schema/xsd:complexType', namespaces={\"xsd\": \"http://www.w3.org/2001/XMLSchema\"})\n",
    "\n",
    "    # Collect `@name` attributes between the indices 2356 and 2417\n",
    "    start_index = start\n",
    "    end_index = end\n",
    "    selected_names = [\n",
    "        elem.get('name') for elem in complex_types[start_index:end_index]]\n",
    "    list_elt_name = sorted(selected_names)\n",
    "    return list_elt_name\n",
    "    \n",
    "def list_group(start,end):\n",
    "    xsd_isf = \"S5000F_4-0/XSD/s5000f_4-0_isfDataset.xsd\"\n",
    "    isf_tree = etree.parse(xsd_isf)\n",
    "    isf_root = isf_tree.getroot()\n",
    "\n",
    "    # Find all xsd:complexType elements\n",
    "    complex_types = isf_tree.xpath('./xsd:group', namespaces={\"xsd\": \"http://www.w3.org/2001/XMLSchema\"})\n",
    "\n",
    "    # Collect `@name` attributes between the indices 2356 and 2417\n",
    "    start_index = start\n",
    "    end_index = end\n",
    "    selected_names = [\n",
    "        elem.get('name') for elem in complex_types[start_index:end_index]]\n",
    "    list_elt_name = sorted(selected_names)\n",
    "    return list_elt_name"
   ]
  },
  {
   "cell_type": "code",
   "execution_count": null,
   "id": "62817854-7dd1-4ab3-95a4-3359f10ec052",
   "metadata": {
    "jupyter": {
     "source_hidden": true
    }
   },
   "outputs": [],
   "source": [
    "UML_Message = list_complexType(1,619)\n",
    "UML_Attributes = list_complexType(619,1770)\n",
    "UML_Attribute_groups = list_complexType(1770,1792)\n",
    "UML_Class_reference_utility_classes = list_complexType(1792,2284)\n",
    "UML_select_interface_reference_utility_classes = list_complexType(2284,2355)\n",
    "UML_extend_interface_reference_utility_classes = list_complexType(2355,2417)\n",
    "UML_extend_specialization_utility_classes = list_group(2,41)"
   ]
  },
  {
   "cell_type": "code",
   "execution_count": null,
   "id": "f208aae8-00b0-4fac-a670-dc5783343775",
   "metadata": {
    "jupyter": {
     "source_hidden": true
    }
   },
   "outputs": [],
   "source": [
    "print(f\"There are {len(UML_Message)} xsd:complexType in UML Message\")\n",
    "print(f\"There are {len(UML_Attributes)} xsd:complexType in UML Attributes\")\n",
    "print(f\"There are {len(UML_Attribute_groups)} xsd:complexType in UML Attribute groups\")\n",
    "print(f\"There are {len(UML_Class_reference_utility_classes)} xsd:complexType in UML Class reference utility classes\")\n",
    "print(f\"There are {len(UML_select_interface_reference_utility_classes)} xsd:complexType in UML select interface reference utility classes\")\n",
    "print(f\"There are {len(UML_extend_interface_reference_utility_classes)} xsd:complexType in UML extend interface reference utility classes\")\n",
    "print(f\"There are {len(UML_extend_specialization_utility_classes)} xsd:group in UML extend specialization utility classes\")"
   ]
  },
  {
   "cell_type": "markdown",
   "id": "1aed35a3-9ff2-4305-bb56-8935730662bc",
   "metadata": {},
   "source": [
    "## XSD Root Element"
   ]
  },
  {
   "cell_type": "code",
   "execution_count": null,
   "id": "40d0a7aa-2572-4717-a82f-81fe3313e9b3",
   "metadata": {
    "jupyter": {
     "source_hidden": true
    }
   },
   "outputs": [],
   "source": [
    "root_str = \"\"\"\n",
    "<xsd:schema xmlns:xsd=\"http://www.w3.org/2001/XMLSchema\" xmlns:xsig=\"http://www.w3.org/2000/09/xmldsig#\" xmlns=\"http://www.asd-europe.org/s-series/s5000f\" xmlns:vc=\"http://www.w3.org/2007/XMLSchema-versioning\" xmlns:value=\"http://www.asd-europe.org/s-series/s5000f/validValues\" xmlns:unit=\"http://www.asd-europe.org/s-series/s5000f/validValues\" targetNamespace=\"http://www.asd-europe.org/s-series/s5000f\" version=\"004-00\" vc:minVersion=\"1.1\">\n",
    "\t<!-- ________________________________________________________________________________________________________________ -->\n",
    "\t<xsd:import namespace=\"http://www.w3.org/2000/09/xmldsig#\" schemaLocation=\"http://www.w3.org/TR/2008/REC-xmldsig-core-20080610/xmldsig-core-schema.xsd\"/>\n",
    "\t<!-- ________________________________________________________________________________________________________________ -->\n",
    "\t<xsd:annotation>\n",
    "\t\t<xsd:documentation>Specification: </xsd:documentation>\n",
    "\t\t<xsd:documentation>Issue number: 4.0</xsd:documentation>\n",
    "\t\t<xsd:documentation>Issue date: 2024-09-30</xsd:documentation>\n",
    "\t\t<xsd:documentation>Data model file: S5000F_4-0_Data_model_000-85.EAP</xsd:documentation>\n",
    "\t\t<xsd:documentation>XML schema release number: 004-00</xsd:documentation>\n",
    "\t\t<xsd:documentation>XML schema release date: 2024-09-30</xsd:documentation>\n",
    "\t\t<xsd:documentation>URL: http://www.s5000f.org</xsd:documentation>\n",
    "\t\t<xsd:documentation>Root element: isfDataset</xsd:documentation>\n",
    "\t\t<xsd:documentation>XSD generator version: DMEWG_GEN_2-0_002-43</xsd:documentation>\n",
    "\t\t<xsd:documentation>Copyright:\n",
    "   Copyright (c) 2016-2024 by AeroSpace, Security and Defence Industries Association of Europe (ASD).\n",
    "   \n",
    "   Limitations of Liability:\n",
    "   \n",
    "   1. This material is provided 'As Is' and neither ASD nor any person who has contributed to the creation, revision or maintenance of\n",
    "      the material makes any representations or warranties, express or implied, including but not limited to, warranties of\n",
    "      merchantability or fitness for any particular purpose.\n",
    "   2. Neither ASD nor any person who has contributed to the creation, revision or maintenance of this material shall be liable for any\n",
    "      direct, indirect, special or consequential damages or any other liability arising from any use of this material.\n",
    "   3. Revisions to this document may occur after its issuance. The user is responsible for determining if revisions to the material\n",
    "      contained in this document have occurred and are applicable.\n",
    "   \n",
    "  </xsd:documentation>\n",
    "\t</xsd:annotation>\n",
    "\t<!-- ________________________________________________________________________________________________________________ -->\n",
    "\t<xsd:import namespace=\"http://www.asd-europe.org/s-series/s5000f/validValues\" schemaLocation=\"s5000f_4-0_valid_values.xsd\"/>\n",
    "\t<!-- ________________________________________________________________________________________________________________ -->\n",
    "\t<xsd:include schemaLocation=\"s5000f_4-0_project_specific_exchanges.xsd\"/>\n",
    "\t<!-- ________________________________________________________________________________________________________________ -->\n",
    "\t<xsd:element name=\"isfDataset\" type=\"message\"/></xsd:schema>\n",
    " \"\"\"\n",
    "xsd = etree.fromstring(root_str)"
   ]
  },
  {
   "cell_type": "markdown",
   "id": "8c101d68-642b-489f-98ea-cc6f0e6b5ecf",
   "metadata": {},
   "source": [
    "## UML Message: 618 complexType"
   ]
  },
  {
   "cell_type": "code",
   "execution_count": null,
   "id": "981698a4-9b28-4b92-996e-38afc1893187",
   "metadata": {
    "jupyter": {
     "source_hidden": true
    }
   },
   "outputs": [],
   "source": [
    "print(f\"{len(UML_Message)} elements:\\n{UML_Message}\")"
   ]
  },
  {
   "cell_type": "markdown",
   "id": "f310d468-3ac3-43cf-a932-1a26d5996faa",
   "metadata": {},
   "source": [
    "## UML Attribute: 1151 complexType"
   ]
  },
  {
   "cell_type": "code",
   "execution_count": null,
   "id": "4c89d619-f5ce-4d4c-89c1-5e58b37e292d",
   "metadata": {
    "jupyter": {
     "source_hidden": true
    }
   },
   "outputs": [],
   "source": [
    "print(f\"{len(UML_Attributes)} elements:\\n{UML_Attributes}\")"
   ]
  },
  {
   "cell_type": "markdown",
   "id": "f6a220ab-3ee5-4373-88f6-9a15e774c7c3",
   "metadata": {},
   "source": [
    "## UML Attribute group: 22 complexType"
   ]
  },
  {
   "cell_type": "code",
   "execution_count": null,
   "id": "22fd819b-ad08-4779-a96f-4fbc41af34af",
   "metadata": {
    "jupyter": {
     "source_hidden": true
    }
   },
   "outputs": [],
   "source": [
    "print(f\"There are {len(UML_Attribute_groups)} attribute groups in s5000f XSD file:\\n{UML_Attribute_groups}\")"
   ]
  },
  {
   "cell_type": "code",
   "execution_count": null,
   "id": "c2ecb381-1ee2-429c-94db-24f8d497287d",
   "metadata": {
    "jupyter": {
     "source_hidden": true
    }
   },
   "outputs": [],
   "source": [
    "# Locate UML-AttributeGroups in XMI S5000F and Common Data Model files\n",
    "xpath = \"(//*[contains(@documentation, 'attributeGroup')]/../@name)\"\n",
    "# 11 elements in S5000F common data model\n",
    "result1 = [\"EquipmentStatus\",\"Calibration\",\"CalibrationMeasurement\",\"ItemDemilitarizationData\",\"OpeningTimes\",\n",
    "          \"OperationalModeStatus\",\"MaintenanceActivityPlan\",\"MaintenanceActivityRecord\",\"PriceBreakData\",\n",
    "          \"AllowedProductConfigurationPhysicalData\",\"OperationalTime\"]\n",
    "# 15 elements in S-Series common data model \n",
    "result2 = [\"AnalysisCandidateItemSelectionData\",\"MeasuringPointDegradedStateDefinition\",\n",
    "           \"MeasuringPointFaultStateDefinition\",\"HardwarePartDefinitionDesignData\",\"HardwarePartDefinitionSupportData\",\n",
    "           \"PartDefinitionControlledItemData\",\"PartyContactData\",\"PerformanceParameterValueGroup\",\"NonConformanceData\",\n",
    "           \"Remark\",\"AuthorityDrivenTaskRequirement\",\"AdditionalTrainingNeed\",\"TaskFrequency\",\"SamplingDefinition\",\n",
    "           \"TimeOffset\"]\n",
    "result = result1 + result2\n",
    "l_result = [e[0].lower()+e[1:] for e in result]\n",
    "result = sorted(l_result)\n",
    "print(f\"There are {len(result)} attribute group in XMI s5000f and cdm file:\\n{result}\")"
   ]
  },
  {
   "cell_type": "code",
   "execution_count": null,
   "id": "8ed51d2d-1a5d-4fa8-9260-04a644b72939",
   "metadata": {
    "jupyter": {
     "source_hidden": true
    }
   },
   "outputs": [],
   "source": [
    "difference = list(set(result) - set(UML_Attribute_groups))\n",
    "print(f\"{len(difference)} Attribute group which are in XMI file and not in s5000f XSD file:\\n{sorted(difference)}\")"
   ]
  },
  {
   "cell_type": "code",
   "execution_count": null,
   "id": "3b59eec7-1121-469b-a3f7-b20dfeb771fe",
   "metadata": {
    "jupyter": {
     "source_hidden": true
    }
   },
   "outputs": [],
   "source": [
    "delta = list(set(UML_Attribute_groups)-set(result))\n",
    "print(f\"{len(delta)} Attribute group which are in XMI file and not in s5000f XSD file:\\n{sorted(delta)}\")"
   ]
  },
  {
   "cell_type": "markdown",
   "id": "65c7693c-a545-4389-92ea-efb2c331a76f",
   "metadata": {},
   "source": [
    "## UML Class Reference Utility Classes: 492 complexType"
   ]
  },
  {
   "cell_type": "code",
   "execution_count": null,
   "id": "e5034cb6-1b08-4feb-ad42-9b3164c45fb5",
   "metadata": {
    "jupyter": {
     "source_hidden": true
    }
   },
   "outputs": [],
   "source": [
    "print(f\"{len(UML_Class_reference_utility_classes)} elements:\\n{UML_Class_reference_utility_classes}\")"
   ]
  },
  {
   "cell_type": "code",
   "execution_count": null,
   "id": "d1655b1b-c69c-4120-a931-8ba9c4da6fa6",
   "metadata": {
    "jupyter": {
     "source_hidden": true
    }
   },
   "outputs": [],
   "source": [
    "# get /xmi:XMI/uml:Model/thecustomprofile:ref/@ref in XMI S5000F file\n",
    "ns=get_namespaces(s5f)\n",
    "s5f_reference = s5f_root.xpath('/xmi:XMI/uml:Model/thecustomprofile:ref/@ref',namespaces=ns)\n",
    "cdm_reference = cdm_root.xpath('/xmi:XMI/uml:Model/thecustomprofile:ref/@ref',namespaces=ns)\n",
    "print(f\"There are {len(s5f_reference)} reference element in XMI S5000F data model\")\n",
    "print(f\"There are {len(cdm_reference)} reference element in XMI common data model\")\n",
    "print(s5f_reference)"
   ]
  },
  {
   "cell_type": "code",
   "execution_count": null,
   "id": "703d86eb-c33e-4760-8a21-30ab66560609",
   "metadata": {
    "jupyter": {
     "source_hidden": true
    }
   },
   "outputs": [],
   "source": [
    "# comparaison\n",
    "#       XMI reference:     s5f_reference and cdm_reference\n",
    "# vs    XSD reference:    UML_Class_reference_utility_classes \n",
    "\n",
    "result = s5f_reference + cdm_reference\n",
    "l_result = [e[0].lower()+e[1:]+'Ref' for e in result]\n",
    "result = sorted(l_result)\n",
    "print(f\"There are {len(result)} complexType reference in XMI s5000f and cdm file:\\n{result}\")"
   ]
  },
  {
   "cell_type": "code",
   "execution_count": null,
   "id": "0172f6bc-b8e4-420a-911e-d3377d30d1b7",
   "metadata": {
    "jupyter": {
     "source_hidden": true
    }
   },
   "outputs": [],
   "source": [
    "difference = list(set(result) - set(UML_Class_reference_utility_classes))\n",
    "print(f\"{len(difference)} reference complexType are in XMI file and not in s5000f XSD file:\\n{sorted(difference)}\")"
   ]
  },
  {
   "cell_type": "code",
   "execution_count": null,
   "id": "a7b2cbbc-c078-4cb7-92a8-a6f041b68e96",
   "metadata": {
    "jupyter": {
     "source_hidden": true
    }
   },
   "outputs": [],
   "source": [
    "delta = list(set(UML_Class_reference_utility_classes)-set(result))\n",
    "print(f\"{len(delta)} reference complexType are in s5000f XSD file and not in XMI file :\\n{sorted(delta)}\")"
   ]
  },
  {
   "cell_type": "markdown",
   "id": "7aea8c0c-af85-4db2-81a1-0acb593bdcc3",
   "metadata": {},
   "source": [
    "## UML Select Interface Reference Utility Classes: 71 complexType"
   ]
  },
  {
   "cell_type": "code",
   "execution_count": null,
   "id": "0eb8a12a-7689-4568-a4bf-2b1b2d7ce083",
   "metadata": {
    "jupyter": {
     "source_hidden": true
    }
   },
   "outputs": [],
   "source": [
    "print(f\"There are {len(UML_select_interface_reference_utility_classes)} complexType in S5000F XSD file:\\n{UML_select_interface_reference_utility_classes}\")"
   ]
  },
  {
   "cell_type": "markdown",
   "id": "6a6eb729-649c-472f-b3d7-207ab5d03887",
   "metadata": {},
   "source": [
    "## UML Extend Interface Reference Utility Classes: 62 complexType"
   ]
  },
  {
   "cell_type": "code",
   "execution_count": null,
   "id": "62ead8c6-191e-4cca-b4ba-57d969277851",
   "metadata": {
    "jupyter": {
     "source_hidden": true
    }
   },
   "outputs": [],
   "source": [
    "print(f\"There are {len(UML_extend_interface_reference_utility_classes)} 'extend interface' complexType in S5000F XSD files:\\n\")\n",
    "print(f\"{UML_extend_interface_reference_utility_classes}\")"
   ]
  },
  {
   "cell_type": "code",
   "execution_count": null,
   "id": "ffbdcb44-4d45-45fe-b200-f167a2b105dd",
   "metadata": {
    "jupyter": {
     "source_hidden": true
    }
   },
   "outputs": [],
   "source": [
    "comment = \"======================== UML <<EXTEND>> INTERFACE REFERENCE UTILITY CLASSES ========================\"\n",
    "xsd.append(etree.Comment(comment))"
   ]
  },
  {
   "cell_type": "raw",
   "id": "3485c49a-4ac9-462c-ae02-fb8cfb2786bd",
   "metadata": {},
   "source": [
    "<packagedElement xmi:type=\"uml:Interface\" xmi:id=\"EAID_C9874B60_5719_4752_98C2_4D2F8F03F466\" name=\"AllowedProductConfiguration\" visibility=\"public\" isAbstract=\"true\">\n",
    "\n",
    "    <ownedAttribute xmi:type=\"uml:Property\" xmi:id=\"EAID_dstFA83BC_9169_441a_B2D8_91A3305475E8\" name=\"can\" visibility=\"public\" association=\"EAID_0FFA83BC_9169_441a_B2D8_91A3305475E8\" isStatic=\"false\" isReadOnly=\"false\" isDerived=\"false\" isOrdered=\"false\" isUnique=\"true\" isDerivedUnion=\"false\" aggregation=\"none\">\n",
    "    \t<type xmi:idref=\"EAID_149AEB7D_7FF0_47ec_B353_B6D05A7E7B49\"/>\n",
    "    \t<lowerValue xmi:type=\"uml:LiteralInteger\" xmi:id=\"EAID_LI002409__9169_441a_B2D8_91A3305475E8\" value=\"0\"/>\n",
    "\t\t<upperValue xmi:type=\"uml:LiteralUnlimitedNatural\" xmi:id=\"EAID_LI002410__9169_441a_B2D8_91A3305475E8\" value=\"-1\"/>\n",
    "\t</ownedAttribute>\n",
    "\n",
    "\t<ownedAttribute xmi:type=\"uml:Property\" xmi:id=\"EAID_dst5B4885_019C_4547_A1D7_DB580FFA9C41\" name=\"include\" visibility=\"public\" association=\"EAID_925B4885_019C_4547_A1D7_DB580FFA9C41\" isStatic=\"false\" isReadOnly=\"false\" isDerived=\"false\" isOrdered=\"false\" isUnique=\"true\" isDerivedUnion=\"false\" aggregation=\"none\">\n",
    "\t\t<type xmi:idref=\"EAID_5B9C1A63_C6A1_4292_A3CA_4788ECAA93FC\"/>\n",
    "\t\t<lowerValue xmi:type=\"uml:LiteralInteger\" xmi:id=\"EAID_LI002413__019C_4547_A1D7_DB580FFA9C41\" value=\"0\"/>\n",
    "\t\t<upperValue xmi:type=\"uml:LiteralUnlimitedNatural\" xmi:id=\"EAID_LI002414__019C_4547_A1D7_DB580FFA9C41\" value=\"-1\"/>\n",
    "\t</ownedAttribute>\n",
    "\n",
    "\t<ownedAttribute xmi:type=\"uml:Property\" xmi:id=\"EAID_dstD6DCB2_AC17_48fa_8538_2FF800FE2EBD\" name=\"definedFor\" visibility=\"public\" association=\"EAID_B5D6DCB2_AC17_48fa_8538_2FF800FE2EBD\" isStatic=\"false\" isReadOnly=\"false\" isDerived=\"false\" isOrdered=\"false\" isUnique=\"true\" isDerivedUnion=\"false\" aggregation=\"none\">\n",
    "\t\t<type xmi:idref=\"EAID_373B40BB_27D8_48b8_BF6D_8F9A323B78DD\"/>\n",
    "\t\t<lowerValue xmi:type=\"uml:LiteralInteger\" xmi:id=\"EAID_LI002415__AC17_48fa_8538_2FF800FE2EBD\" value=\"1\"/>\n",
    "\t\t<upperValue xmi:type=\"uml:LiteralInteger\" xmi:id=\"EAID_LI002416__AC17_48fa_8538_2FF800FE2EBD\" value=\"1\"/>\n",
    "\t</ownedAttribute>\n",
    "</packagedElement>\n",
    "\n",
    "\n",
    "<packagedElement xmi:type=\"uml:Interface\" xmi:id=\"EAID_C0FB8C3B_010B_48f6_B477_AA7DEC14F4DD\" name=\"WorkBreakdownContext\" visibility=\"public\" isAbstract=\"true\"/>\n"
   ]
  },
  {
   "cell_type": "markdown",
   "id": "0c35423f-1798-4be7-9054-b515605820d4",
   "metadata": {},
   "source": [
    "## UML Extend Specialization Utility Classes: 39 xsd:group"
   ]
  },
  {
   "cell_type": "code",
   "execution_count": null,
   "id": "ea1aa90d-23ac-43e4-9f05-315f7f473b9c",
   "metadata": {
    "jupyter": {
     "source_hidden": true
    }
   },
   "outputs": [],
   "source": [
    "print(f\"{len(UML_extend_specialization_utility_classes)} elements:\\n{UML_extend_specialization_utility_classes}\")"
   ]
  },
  {
   "cell_type": "code",
   "execution_count": null,
   "id": "d34bf931-c8d2-4ad2-b526-a258281d5473",
   "metadata": {
    "jupyter": {
     "source_hidden": true
    }
   },
   "outputs": [],
   "source": [
    "comment = \"============================== UML SPECIALIZATION UTILITY CLASSES ==================================\"\n",
    "xsd.append(etree.Comment(comment))\n",
    "\n",
    "print(etree.tostring(xsd, pretty_print=True, xml_declaration=True, encoding=\"UTF-8\").decode(\"utf-8\"))"
   ]
  },
  {
   "cell_type": "raw",
   "id": "f4c45293-9f7f-41f8-8481-3fe4d0ab0c27",
   "metadata": {},
   "source": [
    "EXAMPLE OF ELEMENT TO BE INSERTED\n",
    "<!-- ________________________________________________________________________________________________________________ -->\n",
    "\t<xsd:group name=\"actionNonAbstractClasses\">\n",
    "\t\t<xsd:annotation>\n",
    "\t\t\t<xsd:documentation>\n",
    "    Action is a [class] that specifies measures to be taken.\n",
    "   </xsd:documentation>\n",
    "\t\t\t<xsd:appinfo>\n",
    "\t\t\t\t<source>SX001G:Action</source>\n",
    "\t\t\t</xsd:appinfo>\n",
    "\t\t</xsd:annotation>\n",
    "\t\t<xsd:choice>\n",
    "\t\t\t<xsd:element name=\"action\" type=\"action\"/>\n",
    "\t\t\t<xsd:element name=\"reqsa\" type=\"requiredSafetyAction\"/>\n",
    "\t\t</xsd:choice>\n",
    "\t</xsd:group>"
   ]
  },
  {
   "cell_type": "code",
   "execution_count": null,
   "id": "6a6f2ba6-198f-452d-abb2-6598c92f4872",
   "metadata": {
    "jupyter": {
     "source_hidden": true
    }
   },
   "outputs": [],
   "source": [
    "line = \"________________________________________________________________________________________________________________\"\n",
    "grp = \"<xsd:group><xsd:annotation><xsd:documentation/><xsd:appinfo/></xsd:annotation><xsd:choice/></xsd:group>\""
   ]
  },
  {
   "cell_type": "raw",
   "id": "6c589778-eb65-4dfe-9175-bb0f716eb0cc",
   "metadata": {},
   "source": [
    "<thecustomprofile:xmlName base_Class=\"EAID_B549A9E1_4E6C_4a67_877C_08C35D224763\" xmlName=\"reqsa\"/>\n",
    "<UML_Profile_003-00:class base_Class=\"EAID_B549A9E1_4E6C_4a67_877C_08C35D224763\"/>\n",
    "<thecustomprofile:ref base_Class=\"EAID_B549A9E1_4E6C_4a67_877C_08C35D224763\" ref=\"Action\"/>\n",
    "\n",
    "<thecustomprofile:xmlName base_Class=\"EAID_2006C3A2_3427_4514_9006_AAFC9DDF89A0\" xmlName=\"area\"/>\n",
    "<UML_Profile_003-00:compoundAttribute base_Class=\"EAID_2006C3A2_3427_4514_9006_AAFC9DDF89A0\"/>\n",
    "\n",
    "<thecustomprofile:xmlName base_Class=\"EAID_27965FB9_DA21_43b8_8885_530C69D44AC1\" xmlName=\"baseline\"/>\n",
    "<thecustomprofile:xmlRefName base_Class=\"EAID_27965FB9_DA21_43b8_8885_530C69D44AC1\" xmlRefName=\"baselineRef\"/>\n",
    "<UML_Profile_003-00:class base_Class=\"EAID_27965FB9_DA21_43b8_8885_530C69D44AC1\"/>\n",
    "<thecustomprofile:uidPattern base_Class=\"EAID_27965FB9_DA21_43b8_8885_530C69D44AC1\" uidPattern=\"baseline\"/>"
   ]
  },
  {
   "cell_type": "raw",
   "id": "86ce8863-68d2-459a-8a42-bf0366344282",
   "metadata": {},
   "source": [
    "<element xmi:idref=\"EAID_F5A3AA45_3549_4ce7_A074_E285A3D29689\" xmi:type=\"uml:Class\" name=\"Action\" scope=\"public\">\n",
    "<model package=\"EAPK_3D049FE0_E80F_4c1d_8E86_F079DF2BB878\" tpos=\"4\" ea_localid=\"7518\" ea_eleType=\"element\"/>\n",
    "<properties documentation=\"Action is a &amp;lt;&amp;lt;class&amp;gt;&amp;gt; that specifies measures to be taken.\" isSpecification=\"false\" sType=\"Class\" nType=\"0\" scope=\"public\" stereotype=\"class\" isRoot=\"false\" isLeaf=\"false\" isAbstract=\"false\" isActive=\"false\"/>\n",
    "<project author=\"DMEWG\" version=\"001-00\" phase=\"1.0\" created=\"2021-05-21 15:15:25\" modified=\"2024-02-08 15:59:52\" complexity=\"1\" status=\"Proposed\"/>\n",
    "<code gentype=\"&lt;none&gt;\"/>\n",
    "<style appearance=\"BackColor=-1;BorderColor=-1;BorderWidth=-1;FontColor=-1;VSwimLanes=1;HSwimLanes=1;BorderStyle=0;\"/>\n",
    "<tags>\n",
    "<tag xmi:id=\"EAID_60261F19_8974_49cc_AB52_B0C553088403\" name=\"uidPattern\" value=\"action\" modelElement=\"EAID_F5A3AA45_3549_4ce7_A074_E285A3D29689\"/>\n",
    "<tag xmi:id=\"EAID_96005E90_03A0_4d2b_A0A5_C9E16E3DA941\" name=\"xmlName\" value=\"action\" modelElement=\"EAID_F5A3AA45_3549_4ce7_A074_E285A3D29689\"/>\n",
    "<tag xmi:id=\"EAID_4FCB792C_94C5_40bc_BB6B_7D2C0A2385C9\" name=\"xmlRefName\" value=\"actionRef\" modelElement=\"EAID_F5A3AA45_3549_4ce7_A074_E285A3D29689\"/>\n",
    "</tags>\n",
    "<xrefs value=\"$XREFPROP=$XID={027668FB-C1C8-40f2-A907-FD6694DECC18}$XID;$NAM=Stereotypes$NAM;$TYP=element property$TYP;$VIS=Public$VIS;$PAR=0$PAR;$DES=@STEREO;Name=class;GUID={60B91E5D-705E-4926-9A97-01C61724B132};@ENDSTEREO;$DES;$CLT={F5A3AA45-3549-4ce7-A074-E285A3D29689}$CLT;$SUP=&lt;none&gt;$SUP;$ENDXREF;\"/>\n",
    "<extendedProperties tagged=\"0\" package_name=\"CDM Action\"/>\n",
    "<attributes>"
   ]
  },
  {
   "cell_type": "markdown",
   "id": "aa8948ed-801a-4599-b629-32b3ba2ed3c6",
   "metadata": {},
   "source": [
    "# CONNECTORS"
   ]
  },
  {
   "cell_type": "markdown",
   "id": "37491213-c9e3-4b0b-a87a-c8a18cf332a1",
   "metadata": {},
   "source": [
    "|    Var      |           Description             |                            Location (X-path)                                        \n",
    "|:-----------:|:----------------------------------|:-------------------------------------------------------------------------------------|\n",
    "| con_idref   | Connector identifier reference    | /xmi:XMI/xmi:Extension/connectors/connector/@xmi:idref                               |\n",
    "| sou_idref   | Source identifier reference       | /xmi:XMI/xmi:Extension/connectors/connector/source/@xmi:idref                        |\n",
    "| sou_name    | Source name                       | /xmi:XMI/xmi:Extension/connectors/connector/source/model/@name                       |\n",
    "| sou_mul     | Source multiplicity               | /xmi:XMI/xmi:Extension/connectors/connector/source/type/@multiplicity                |\n",
    "| sou_type    | Source type                       | /xmi:XMI/xmi:Extension/connectors/connector/source/model/@type                       |\n",
    "| tar_idref   | Target identifier reference       | /xmi:XMI/xmi:Extension/connectors/connector/target/@xmi:idref                        |\n",
    "| tar_name    | Target name                       | /xmi:XMI/xmi:Extension/connectors/connector/target/model/@name                       |\n",
    "| tar_mul     | Target multiplicity               | /xmi:XMI/xmi:Extension/connectors/connector/target/type/@multiplicity                |\n",
    "| tar_type    | Target type                       | /xmi:XMI/xmi:Extension/connectors/connector/target/model/@type                       |\n",
    "| con_type    | Connector type                    | /xmi:XMI/xmi:Extension/connectors/connector/properties/@ea_type                      |\n"
   ]
  },
  {
   "cell_type": "code",
   "execution_count": null,
   "id": "4f59c4e3-5c4c-4a32-8a03-299721e11068",
   "metadata": {
    "jupyter": {
     "source_hidden": true
    }
   },
   "outputs": [],
   "source": [
    "def get_connectors(*files):\n",
    "    \"\"\" \n",
    "    Function which collect information of uml connectors extracted from Enterprise Architect using OMG XMI Version 2.1 format.\n",
    "    Input: list of XMI file to be analyzed\n",
    "    Output:\n",
    "    Dataframe with following information connector identifier and type,\n",
    "                                         source identifier, name, type and multiplicity\n",
    "                                         target identifier, name, type and multiplicity\n",
    "                                         source of information\n",
    "    \"\"\"\n",
    "    if not files:\n",
    "        raise ValueError(\"At least one file must be provided.\")\n",
    "\n",
    "    rows = []\n",
    "    \n",
    "    for file in files:\n",
    "        tree = etree.parse(file)\n",
    "        root = tree.getroot()\n",
    "        ns = get_namespaces(file)\n",
    "\n",
    "        source = file.split('/')[-1]\n",
    "\n",
    "        connector = root.xpath(\"/xmi:XMI/xmi:Extension/connectors/connector\",namespaces=ns)\n",
    "\n",
    "        for c in connector:\n",
    "            con_idref = c.xpath(\"string(./@xmi:idref)\",namespaces=ns)\n",
    "            con_type = c.xpath(\"string(./properties/@ea_type)\",namespaces=ns)\n",
    "            sou_idref = c.xpath(\"string(./source/@xmi:idref)\",namespaces=ns)\n",
    "            sou_name = c.xpath(\"string(./source/model/@name)\",namespaces=ns)\n",
    "            sou_mul = c.xpath(\"string(./source/type/@multiplicity)\",namespaces=ns)\n",
    "            sou_type = c.xpath(\"string(./source/model/@type)\",namespaces=ns)\n",
    "            tar_idref = c.xpath(\"string(./target/@xmi:idref)\",namespaces=ns)\n",
    "            tar_name = c.xpath(\"string(./target/model/@name)\",namespaces=ns)\n",
    "            tar_mul = c.xpath(\"string(./target/type/@multiplicity)\",namespaces=ns)\n",
    "            tar_type = c.xpath(\"string(./target/model/@type)\",namespaces=ns)\n",
    "\n",
    "            rows.append({'connector idref':con_idref,'connector type':con_type,\n",
    "                         'source idref':sou_idref,'source name':sou_name,'source type':sou_type,'source mult':sou_mul,\n",
    "                         'target idref':tar_idref,'target name':tar_name,'target type':tar_type,'target mult':tar_mul,\n",
    "                         'source':source})\n",
    "\n",
    "        df = pd.DataFrame(rows,columns=['connector idref','connector type',\n",
    "                                        'source idref','source name','source type','source mult',\n",
    "                                        'target idref','target name','target type','target mult',\n",
    "                                        'source'])\n",
    "        return df"
   ]
  },
  {
   "cell_type": "code",
   "execution_count": null,
   "id": "d4aa27b6-b30e-4776-b12a-bdba989b39cf",
   "metadata": {
    "jupyter": {
     "source_hidden": true
    }
   },
   "outputs": [],
   "source": [
    "df_connectors = get_connectors(s5f,cdm)\n",
    "df_connectors.to_excel('Resultats/connectors.xlsx', index=False)\n",
    "\n",
    "num_connectors = df_connectors['connector idref'].nunique()                       # Count the number of connectors\n",
    "print(f\"There are {num_connectors} connectors. Result is stored in Resultats/Connectors.xlsx\")\n",
    "df_connectors.head() "
   ]
  },
  {
   "cell_type": "markdown",
   "id": "a0c20699-3b15-45a2-b9ad-4afaeaaefe6a",
   "metadata": {},
   "source": [
    "# ELEMENTS"
   ]
  },
  {
   "cell_type": "markdown",
   "id": "1467bab0-148d-4898-9eb3-d8015086272f",
   "metadata": {},
   "source": [
    "|    Var      |           Description             |                            Location (X-path)                                        \n",
    "|:-----------:|:----------------------------------|:-------------------------------------------------------------------------------------|\n",
    "| elt_idref   | Element identifier reference      | /xmi:XMI/xmi:Extension/elements/element/@xmi:idref                                   |\n",
    "| elt_type    | Element type                      | /xmi:XMI/xmi:Extension/elements/element/@xmi:type                                    |\n",
    "| elt_name    | Element name                      | /xmi:XMI/xmi:Extension/elements/element/@name                                        |\n",
    "| elt_doc     | Element documentation             | /xmi:XMI/xmi:Extension/elements/element/properties/@documentation                    |\n",
    "| tag_name    | Tag name                          | /xmi:XMI/xmi:Extension/elements/element/tags/tag/@name                               |\n",
    "| tag_value   | Tag value                         | /xmi:XMI/xmi:Extension/elements/element/tags/tag/@value                              |\n",
    "| lnk_type    | Link type                         | /xmi:XMI/xmi:Extension/elements/element/links/element().tag                          |\n",
    "| lnk_id      | Link identifier                   | /xmi:XMI/xmi:Extension/elements/element/links/element()/@xmi:id                      |\n",
    "| lnk_start   | Link start identifier             | /xmi:XMI/xmi:Extension/elements/element/links/element()/@start                       |\n",
    "| lnk_end     | Link end identifier               | /xmi:XMI/xmi:Extension/elements/element/links/element()/@end                         |"
   ]
  },
  {
   "cell_type": "code",
   "execution_count": null,
   "id": "b89adacb-13a7-4a60-a5c3-74a439454beb",
   "metadata": {
    "jupyter": {
     "source_hidden": true
    }
   },
   "outputs": [],
   "source": [
    "def get_elements(*files):\n",
    "    \"\"\" \n",
    "    Function which collect information of uml elements extracted from Enterprise Architect using OMG XMI Version 2.1 format.\n",
    "    Input: list of XMI file to be analyzed\n",
    "    Output:\n",
    "    Dataframe with following information connector identifier and type,\n",
    "                                         source identifier, name, type and multiplicity\n",
    "                                         target identifier, name, type and multiplicity\n",
    "                                         source of information\n",
    "    \"\"\"\n",
    "    if not files:\n",
    "        raise ValueError(\"At least one file must be provided.\")\n",
    "\n",
    "    rows = []\n",
    "    \n",
    "    for file in files:\n",
    "        tree = etree.parse(file)\n",
    "        root = tree.getroot()\n",
    "        ns = get_namespaces(file)\n",
    "\n",
    "        source = file.split('/')[-1]\n",
    "\n",
    "        element = root.xpath(\"/xmi:XMI/xmi:Extension/elements/element[@xmi:type='uml:Class']\",namespaces=ns)\n",
    "\n",
    "        for e in element:\n",
    "            elt_idref = e.xpath(\"string(./@xmi:idref)\",namespaces=ns)\n",
    "            elt_type = e.xpath(\"string(./@xmi:type )\",namespaces=ns)\n",
    "            elt_name = e.xpath(\"string(./@name)\",namespaces=ns)\n",
    "            #elt_doc = e.xpath(\"string(./properties/@documentation)\",namespaces=ns)\n",
    "            elt_doc =\"\"\n",
    "            \n",
    "            # Process tags\n",
    "            elt_xmlName = e.xpath(\"string(./tags/tag[@name = 'xmlName']/@value)\", namespaces=ns)\n",
    "            elt_ref = e.xpath(\"string(./tags/tag[@name = 'ref']/@value)\", namespaces=ns)\n",
    "            elt_uidPattern = e.xpath(\"string(./tags/tag[@name = 'uidPattern']/@value)\", namespaces=ns)\n",
    "\n",
    "            elt_lnks = e.xpath(\"/xmi:XMI/xmi:Extension/elements/element/links/link\",namespaces=ns)\n",
    "            if len(elt_lnks) != 0:\n",
    "                for l in elt_lnks:\n",
    "                    print(l)\n",
    "                    lnk_type = ''\n",
    "                    lnk_id = ''\n",
    "                    lnk_start = ''\n",
    "                    lnk_end = ''\n",
    "            else:\n",
    "                lnk_type, lnk_id, lnk_start, lnk_end = '','','',''\n",
    "\n",
    "            rows.append({'element identifer ref':elt_idref, 'element type': elt_type, 'element name': elt_name, 'documentation': elt_doc,\n",
    "                        'xmlName': elt_xmlName,'uidPattern':elt_uidPattern, 'ref':elt_ref,\n",
    "                        'link type':lnk_type ,'link identifier': lnk_id,'link start':lnk_start,'link end':lnk_end,\n",
    "                        'source':source})\n",
    "        \n",
    "        df = pd.DataFrame(rows,columns=['element identifer ref', 'element type','element name','documentation',\n",
    "                        'xmlName','uidPattern', 'ref',\n",
    "                        'link type','link identifier','link start','link end',\n",
    "                        'source'])\n",
    "        return df"
   ]
  },
  {
   "cell_type": "code",
   "execution_count": null,
   "id": "fed77ddf-ae49-4d52-bd63-4cdc0bf23da0",
   "metadata": {
    "jupyter": {
     "source_hidden": true
    }
   },
   "outputs": [],
   "source": [
    "df_elements = get_elements(s5f,cdm)\n",
    "df_elements.to_excel('Resultats/elt_classes.xlsx', index=False)\n",
    "\n",
    "num_elements = df_elements['element identifer ref'].nunique()                       # Count the number of connectors\n",
    "print(f\"There are {num_elements} elements. Result is stored in Resultats/elt_classes.xlsx\")\n",
    "df_elements.head() "
   ]
  },
  {
   "cell_type": "markdown",
   "id": "5fadfd48-b758-4e0c-8787-0fbee9ad01e2",
   "metadata": {},
   "source": [
    "## Comparison uidPattern in XMI files and XSD"
   ]
  },
  {
   "cell_type": "markdown",
   "id": "7152c232-eac8-4fd3-a1eb-af13be3f9f41",
   "metadata": {},
   "source": [
    "**Hypothesis**<br>\n",
    "/xmi:XMI/xmi:Extension/elements/element[@xmi:type='uml:Class']/tags/tag[@name = 'uidPattern']/@value\n",
    "\n"
   ]
  },
  {
   "cell_type": "code",
   "execution_count": null,
   "id": "efb345b5-24a0-40a0-8030-ea4ed82a4df8",
   "metadata": {
    "jupyter": {
     "source_hidden": true
    }
   },
   "outputs": [],
   "source": [
    "# extract columns\n",
    "df_uidPattern = df_elements[['element name', 'uidPattern', 'source']]\n",
    "# remove rows having an empty uidPattern\n",
    "df_uidPattern = df_uidPattern[df_uidPattern['uidPattern'].notna() & (df_uidPattern['uidPattern'] != '')]\n",
    "# Group by 'uidPattern' and filter for duplicates\n",
    "duplicate_uidPattern_rows = df_uidPattern[df_uidPattern.duplicated(subset='uidPattern', keep=False)]\n",
    "print(duplicate_uidPattern_rows.sort_values(['uidPattern','source']))"
   ]
  },
  {
   "cell_type": "markdown",
   "id": "9a4f28b5-6dc9-4b5a-a8a0-f7e573152acb",
   "metadata": {},
   "source": [
    "## Get identifier of class element"
   ]
  },
  {
   "cell_type": "code",
   "execution_count": null,
   "id": "132db58e-3b48-4859-baea-4a68d694d655",
   "metadata": {
    "jupyter": {
     "source_hidden": true
    }
   },
   "outputs": [],
   "source": [
    "def UML_Profile_class(*files):\n",
    "    \"\"\" \n",
    "\n",
    "    \"\"\"\n",
    "    if not files:\n",
    "        raise ValueError(\"At least one file must be provided.\")\n",
    "\n",
    "    rows = []\n",
    "    \n",
    "    for file in files:\n",
    "        tree = etree.parse(file)\n",
    "        root = tree.getroot()\n",
    "        ns = get_namespaces(file)\n",
    "        ns = {'uml':\"http://schema.omg.org/spec/UML/2.1\",\n",
    "              'xmi': \"http://schema.omg.org/spec/XMI/2.1\",\n",
    "              'thecustomprofile': \"http://www.sparxsystems.com/profiles/thecustomprofile/1.0\",\n",
    "              'UML_Profile_003-00' : \"http://www.sparxsystems.com/profiles/UML_Profile_003-00/000-01\"}\n",
    "\n",
    "        source = file.split('/')[-1]\n",
    "\n",
    "        element = root.xpath(\"/xmi:XMI/uml:Model/UML_Profile_003-00:class\",namespaces=ns)\n",
    "\n",
    "        for c in element:\n",
    "            class_id = c.xpath(\"string(./@base_Class)\",namespaces=ns)\n",
    "            \n",
    "            p = f'/xmi:XMI/uml:Model/thecustomprofile:xmlName[@base_Class=\"{class_id}\"]/@xmlName'\n",
    "            class_xmlname = root.xpath(f\"string({p})\",namespaces=ns)\n",
    "            rows.append({'class identifier':class_id,'class xmlName':class_xmlname,'source':source})\n",
    "\n",
    "    df = pd.DataFrame(rows,columns=['class identifier','class xmlName','source'])\n",
    "\n",
    "    return df"
   ]
  },
  {
   "cell_type": "code",
   "execution_count": null,
   "id": "67b0bd2e-1135-4b99-872e-3ba16e89381b",
   "metadata": {
    "jupyter": {
     "source_hidden": true
    }
   },
   "outputs": [],
   "source": [
    "df_uml_profile = UML_Profile_class(s5f,cdm)\n",
    "df_uml_profile.to_excel('Resultats/df_uml_profile.xlsx', index=False)\n",
    "\n",
    "num_classes = df_uml_profile['class identifier'].nunique()                       # Count the number of connectors\n",
    "print(f\"There are {num_classes} classes. Result is stored in Resultats/uml_profile.xlsx\")"
   ]
  },
  {
   "cell_type": "code",
   "execution_count": null,
   "id": "653a1cfe-4a71-4a41-a0a7-f4a92b839071",
   "metadata": {
    "jupyter": {
     "source_hidden": true
    }
   },
   "outputs": [],
   "source": [
    "# remove rows having an empty uidPattern\n",
    "df_uml_profile = df_uml_profile[df_uml_profile['class xmlName'].notna() & (df_uml_profile['class xmlName'] != '')]\n",
    "# Group by 'uidPattern' and filter for duplicates\n",
    "duplicate_uml_profile_rows = df_uml_profile[df_uml_profile.duplicated(subset='class xmlName', keep=False)]\n",
    "\n",
    "print(\"CLASSES WHICH ARE DEFINED TWO TIMES\")\n",
    "duplicate_uml_profile_rows.sort_values(['class xmlName','source']).head(18)"
   ]
  },
  {
   "cell_type": "markdown",
   "id": "8c86041f-209b-4f4a-9fe5-b735bbcee342",
   "metadata": {},
   "source": [
    "## Remarks / Anomalies / Explanation"
   ]
  },
  {
   "cell_type": "markdown",
   "id": "bfdaba9e-d484-4e47-afdb-82708d19de78",
   "metadata": {},
   "source": [
    "<ul><li><b>Infrastructure</b> (infr) and <b>MaintenanceFacility</b> (maintFclty) are defined two times in S5000F XMI</li>\n",
    "<li><b>OperationalRole</b> (opRole), <b>Person</b> (pers), <b>Report</b> (rpt), <b>Service</b> (serv), <b>WorkBreakdown</b> (wbs) and <b>Warehouse</b> (wh) are defined one time in S5000F and one time in CDM</li></ul>\n",
    "\n",
    "Class \"ServiceRequestCancellation\" and class \"ServiceRequest\" have an identical uidPattern \"servreq\"     "
   ]
  },
  {
   "cell_type": "code",
   "execution_count": null,
   "id": "5caccbce-1d02-4060-9928-b827a70a8696",
   "metadata": {
    "jupyter": {
     "source_hidden": true
    }
   },
   "outputs": [],
   "source": []
  },
  {
   "cell_type": "markdown",
   "id": "9b68005f-d171-4297-b8d2-60c622692f13",
   "metadata": {},
   "source": [
    "# ComplexType from  XSD S5000"
   ]
  },
  {
   "cell_type": "markdown",
   "id": "988ff9cb-0161-4b2f-9a9c-a89a0fd08261",
   "metadata": {},
   "source": [
    "## Function xsd_complexType"
   ]
  },
  {
   "cell_type": "code",
   "execution_count": null,
   "id": "8b527df3-b07d-4dad-86e0-d837498e3f44",
   "metadata": {
    "jupyter": {
     "source_hidden": true
    }
   },
   "outputs": [],
   "source": [
    "def find_xsd_element(row):\n",
    "    \"\"\" Using class name and attribute name collect XSD information. For example using:\n",
    "                      class name:         TechnicalOrder\n",
    "                      attribute xmlName:  toPri\n",
    "    access in S5000F XSD:\n",
    "            <xsd:complexType name=\"technicalOrder\">\n",
    "                ...<xsd:sequence>\n",
    "                    ...<xsd:element name=\"toPri\" type=\"technicalOrderPriority\" nillable=\"true\" minOccurs=\"0\"/>\n",
    "    to extract fields:\n",
    "        <xsd:element name=\"toPri\" type=\"technicalOrderPriority\" nillable=\"true\" minOccurs=\"0\"/>\n",
    "        nillable,\n",
    "        minOccurs,\n",
    "        maxOccurs\n",
    "    \"\"\"\n",
    "    class_name = row['class_name']\n",
    "    class_name = class_name[0].lower() + class_name[1:]  # Downcase first letter\n",
    "    attr_xmlname = row['att_xmlname']\n",
    "    \n",
    "    # XPath to find the element\n",
    "    xpath_expr = f\"/xsd:schema/xsd:complexType[@name='{class_name}']/*/xsd:element[@name='{attr_xmlname}']\"\n",
    "    \n",
    "    # Define namespace mapping for XSD\n",
    "    ns = {'xsd': 'http://www.w3.org/2001/XMLSchema'}\n",
    "    tree = etree.parse(isfDataset)  # isfDataset should be defined\n",
    "    root = tree.getroot()\n",
    "    \n",
    "    matches = root.xpath(xpath_expr, namespaces=ns)\n",
    "\n",
    "    attributes_dict = {}  # Default empty dictionary\n",
    "    converted_xml = np.nan # Default empty XML string\n",
    "\n",
    "    if matches:\n",
    "        xml_data = etree.tostring(matches[0], pretty_print=True, encoding='unicode')\n",
    "\n",
    "        element = etree.fromstring(xml_data)\n",
    "        local_name = etree.QName(element).localname  # Get local name\n",
    "        new_element = etree.Element(local_name)  # Create a new element with the local name\n",
    "\n",
    "        # Extract attributes\n",
    "        attributes_dict = {name: value for name, value in element.attrib.items()}\n",
    "        \n",
    "        # Copy attributes to new element\n",
    "        for name, value in attributes_dict.items():\n",
    "            new_element.set(name, value)\n",
    "\n",
    "        # Convert to XML string\n",
    "        converted_xml = etree.tostring(new_element, pretty_print=True).decode()\n",
    "    \n",
    "    # Return dictionary containing attributes and XML element\n",
    "    return {**attributes_dict, 'element': converted_xml}"
   ]
  },
  {
   "cell_type": "markdown",
   "id": "c936af54-fc50-47be-8600-ce9c9208665e",
   "metadata": {},
   "source": [
    "## Get xsd_complexType"
   ]
  },
  {
   "cell_type": "code",
   "execution_count": null,
   "id": "9dcd941d-70de-4025-a375-e1ecf821f2ba",
   "metadata": {
    "jupyter": {
     "source_hidden": true
    }
   },
   "outputs": [],
   "source": [
    "# drop potential existing XSD column\n",
    "xmi_df = xmi_df.drop(columns=['name', 'type', 'nillable', 'minOccurs', 'element', 'maxOccurs'], errors='ignore')\n",
    "xmi_df['class_attr'] = xmi_df['class_name']+xmi_df['att_name']\n",
    "\n",
    "# Apply function 'find_xsd_element' and expand returned dictionary into separate columns\n",
    "xmi_df = xmi_df.join(xmi_df.apply(find_xsd_element, axis=1).apply(pd.Series))\n",
    "\n",
    "# sort dataframe based on \n",
    "xmi_df.sort_values(by=['class_name','att_name','element'],inplace=True)\n",
    "\n",
    "# store joined XMI/XSD dataframe in an EXCEL file\n",
    "xmi_df.to_excel(\"xmi_df.xlsx\")\n",
    "\n",
    "# Print resulting DataFrame\n",
    "xmi_df.info()"
   ]
  },
  {
   "cell_type": "markdown",
   "id": "cb1d61b3-f77a-4f4e-9092-8e9122356b99",
   "metadata": {},
   "source": [
    "## Analysis of XMI versus XSD information"
   ]
  },
  {
   "cell_type": "code",
   "execution_count": null,
   "id": "8044c19f-55a8-4430-8238-fc0d1496e8d9",
   "metadata": {
    "jupyter": {
     "source_hidden": true
    }
   },
   "outputs": [],
   "source": [
    "# Identify number of XSD complexType by type of source\n",
    "xsd_element = xmi_df.loc[~xmi_df['element'].isna(), ['class_name', 'att_name','source']]\n",
    "print(f\"\\033[1mNUMBER of XSD matching complexType by SOURCE:\\033[0m\\n\\t{xsd_element.groupby(['source']).size()}\")"
   ]
  },
  {
   "cell_type": "code",
   "execution_count": null,
   "id": "ef393c22-9fe7-4450-94ee-93b3f42ea356",
   "metadata": {
    "jupyter": {
     "source_hidden": true
    }
   },
   "outputs": [],
   "source": [
    "# Common classes/attributes within XMI S5000F and SX002G\n",
    "common_s5f_cdm = xmi_df[xmi_df.groupby(['class_name', 'att_name'])['class_name'].transform('size') == 2]\n",
    "print(f\"\\033[1mThere are {len(common_s5f_cdm)/2} Classes/Attributes which are identical in XMI S5000F and SX002G.\\033[0m\")"
   ]
  },
  {
   "cell_type": "code",
   "execution_count": null,
   "id": "6e14e628-7a4b-4a12-98a8-cfc1bce287bf",
   "metadata": {
    "jupyter": {
     "source_hidden": true
    }
   },
   "outputs": [],
   "source": [
    "# Identify list of name common_s5f_cdm.groupby(['source']).size()\n",
    "filtered_df = common_s5f_cdm[~common_s5f_cdm['element'].isna()]\n",
    "print(f\"\\033[1mNUMBER OF XSD complexType associated to both XMI S5F and XMI CDM by source:\\n\\t{filtered_df.groupby(['source']).size()}.\\033[0m\")"
   ]
  },
  {
   "cell_type": "code",
   "execution_count": null,
   "id": "24704c1e-f59f-441a-8fa3-f9781cdc6bef",
   "metadata": {
    "jupyter": {
     "source_hidden": true
    }
   },
   "outputs": [],
   "source": [
    "# List S5000F XMI class names and attributes corresponding to XSD elements\n",
    "print(f\"\\033[1mS5000F XMI classes and attributes correponding to XSD elements:\\033[0m\")\n",
    "print(filtered_df.loc[filtered_df['source'] == 'S5000F_Data_model_75BR', ['class_name', 'att_name']].to_string(index=False))"
   ]
  },
  {
   "cell_type": "code",
   "execution_count": null,
   "id": "ed7f1fe8-4a64-408f-a315-d78833e43598",
   "metadata": {
    "jupyter": {
     "source_hidden": true
    }
   },
   "outputs": [],
   "source": [
    "# List S5000F XMI class names and attributes corresponding to XSD elements\n",
    "print(f\"\\033[1mSX002G XMI classes and attributes correponding to XSD elements:\\033[0m\")\n",
    "print(filtered_df.loc[filtered_df['source'] == 'SX002D_Data_model', ['class_name', 'att_name']].to_string(index=False))"
   ]
  },
  {
   "cell_type": "code",
   "execution_count": null,
   "id": "ca5373d2-21bd-4891-9bbd-8506b13dd4ac",
   "metadata": {
    "jupyter": {
     "source_hidden": true
    }
   },
   "outputs": [],
   "source": [
    "# Find duplicate rows based on 'class_name' and 'att_name'\n",
    "common_rows = xmi_df[xmi_df.duplicated(subset=['class_name', 'att_name'], keep=False)]\n",
    "common_rows = common_rows.sort_values(by=['class_name', 'att_name'])     # Sort by 'class_name' and 'att_name'\n",
    "# store result in excel file\n",
    "result = common_rows[['class_name', 'att_name','class_xmlName','att_xmlname','source','name']]\n",
    "result.to_excel(\"Class-Attrib in both XMI.xlsx\")\n",
    "# Print only the relevant columns without index\n",
    "print(result.to_string(index=False))   "
   ]
  }
 ],
 "metadata": {
  "kernelspec": {
   "display_name": "base",
   "language": "python",
   "name": "python3"
  },
  "language_info": {
   "codemirror_mode": {
    "name": "ipython",
    "version": 3
   },
   "file_extension": ".py",
   "mimetype": "text/x-python",
   "name": "python",
   "nbconvert_exporter": "python",
   "pygments_lexer": "ipython3",
   "version": "3.11.5"
  }
 },
 "nbformat": 4,
 "nbformat_minor": 5
}
